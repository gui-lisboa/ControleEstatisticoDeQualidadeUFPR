{
 "cells": [
  {
   "cell_type": "markdown",
   "metadata": {},
   "source": [
    "# Atividade 2\n",
    "\n",
    "```{admonition} Atividade\n",
    "Ajuste do modelo de regressão linear simples\n",
    "\n",
    "Considerando o conjunto de dados da atividade da semana passada (disponível http://leg.ufpr.br/~walmes/data/digital-cameras.txt).\n",
    "\n",
    "1) Escolha três potenciais covariáveis e obtenha as estimativas de minimos quadrados dos coeficientes de regressão (sem usar a função lm) usando apenas a aritmética básica do R. Note que você vai estimar três modelos de regressão linear simples, ou seja, apenas um covariável em cada modelo.\n",
    "\n",
    "2) Para cada modelo calcule os erros padrões e estatística t interprete as estimativas e os testes de hipóteses associados.\n",
    "3) Confira os resultados obtidos em 1) e 2) usando a função lm do R.\n",
    "\n",
    "4) Se vc tivesse que escolher apenas um entre os três modelos que ajustou qual você escolheria? Justifique sua resposta.\n",
    "```"
   ]
  },
  {
   "cell_type": "code",
   "execution_count": 1,
   "metadata": {},
   "outputs": [],
   "source": [
    "import numpy as np\n",
    "import pandas as pd\n",
    "import scipy.stats as scypy_stats\n",
    "\n",
    "from IPython.display import display, Markdown\n",
    "from utils import read_cameras_dataset\n",
    "\n",
    "cameras_dataframe = read_cameras_dataset()"
   ]
  },
  {
   "cell_type": "markdown",
   "metadata": {},
   "source": [
    "Funções necessárias para definir o modelo, erros, estatísticas de teste e p-valores:"
   ]
  },
  {
   "cell_type": "code",
   "execution_count": 2,
   "metadata": {},
   "outputs": [],
   "source": [
    "def get_parametros_regressao_linear(x: pd.Series, y: pd.Series) -> tuple[np.number, np.number]:\n",
    "    media_x: np.number = x.mean()\n",
    "    media_y: np.number = y.mean()\n",
    "    diff_x_media_x: pd.Series = x - media_x\n",
    "\n",
    "    beta_um: np.number = (diff_x_media_x * y).sum() / (diff_x_media_x ** 2).sum()\n",
    "    beta_zero: np.number = media_y - beta_um * media_x\n",
    "    \n",
    "    return (beta_zero, beta_um)\n",
    "\n",
    "def get_variancia_dos_parametros(x: pd.Series, y: pd.Series, beta_zero: np.number, beta_um: np.number) -> tuple[np.number, np.number]:\n",
    "    n = len(y)\n",
    "    media_x = x.mean()\n",
    "    soma_diff_x_media_x_quadrado: pd.Series = ((x - media_x) ** 2).sum()\n",
    "    y_estimado: pd.Series = beta_zero - beta_um * x\n",
    "    sigma_quadrado = ((y - y_estimado) ** 2).sum() / (n - 2)\n",
    "\n",
    "    variancia_beta_um: np.number = sigma_quadrado / soma_diff_x_media_x_quadrado\n",
    "    variancia_beta_zero: np.number = sigma_quadrado * ( (1/n) + (( media_x ** 2 ) / (soma_diff_x_media_x_quadrado)) )\n",
    "\n",
    "    return (variancia_beta_zero, variancia_beta_um)\n",
    "\n",
    "def get_estatisticas_de_teste_t(parametro: np.number, variancia_parametro: np.number) -> np.number:\n",
    "    return parametro / np.sqrt(variancia_parametro)\n",
    "\n",
    "def get_pvalor(estatistica_de_teste_t: np.number) -> np.number:\n",
    "    return 2 * scypy_stats.t.cdf(estatistica_de_teste_t)"
   ]
  },
  {
   "cell_type": "markdown",
   "metadata": {},
   "source": [
    "## 1. Escolher três potenciais covariáveis\n",
    "\n",
    "Usando correlação entre colunas numéricas, temos:"
   ]
  },
  {
   "cell_type": "code",
   "execution_count": 3,
   "metadata": {},
   "outputs": [
    {
     "data": {
      "text/plain": [
       "id                      0.057812\n",
       "price                   1.000000\n",
       "popularity             -1.000000\n",
       "needs_update           -0.084738\n",
       "aperture_max           -0.121661\n",
       "display_size            0.291625\n",
       "dslr_camera             0.186358\n",
       "focal_35mm_max         -0.203198\n",
       "focal_35mm_min          0.222650\n",
       "focal_length_max        0.045267\n",
       "focal_length_min        0.630558\n",
       "fps                     0.058083\n",
       "iso_max                 0.209055\n",
       "iso_min                 0.115017\n",
       "lens_interchangeable    0.311255\n",
       "optical_zoom           -0.170697\n",
       "sensor_resolution       0.611263\n",
       "video_resolution_x      0.320733\n",
       "video_resolution_y      0.317396\n",
       "weight                  0.613811\n",
       "weight_body             0.646057\n",
       "weight_lens             0.750130\n",
       "Name: price, dtype: float64"
      ]
     },
     "execution_count": 3,
     "metadata": {},
     "output_type": "execute_result"
    }
   ],
   "source": [
    "correlacoes_dataframe = cameras_dataframe.select_dtypes(include=[np.number]).corr()\n",
    "\n",
    "correlacoes_dataframe['price']"
   ]
  },
  {
   "cell_type": "markdown",
   "metadata": {},
   "source": [
    "Selecionando as 3 maiores correlações em relação ao preço, temos:"
   ]
  },
  {
   "cell_type": "code",
   "execution_count": 4,
   "metadata": {},
   "outputs": [
    {
     "data": {
      "text/html": [
       "<div>\n",
       "<style scoped>\n",
       "    .dataframe tbody tr th:only-of-type {\n",
       "        vertical-align: middle;\n",
       "    }\n",
       "\n",
       "    .dataframe tbody tr th {\n",
       "        vertical-align: top;\n",
       "    }\n",
       "\n",
       "    .dataframe thead th {\n",
       "        text-align: right;\n",
       "    }\n",
       "</style>\n",
       "<table border=\"1\" class=\"dataframe\">\n",
       "  <thead>\n",
       "    <tr style=\"text-align: right;\">\n",
       "      <th></th>\n",
       "      <th>id</th>\n",
       "      <th>price</th>\n",
       "      <th>popularity</th>\n",
       "      <th>needs_update</th>\n",
       "      <th>aperture_max</th>\n",
       "      <th>display_size</th>\n",
       "      <th>dslr_camera</th>\n",
       "      <th>focal_35mm_max</th>\n",
       "      <th>focal_35mm_min</th>\n",
       "      <th>focal_length_max</th>\n",
       "      <th>...</th>\n",
       "      <th>iso_max</th>\n",
       "      <th>iso_min</th>\n",
       "      <th>lens_interchangeable</th>\n",
       "      <th>optical_zoom</th>\n",
       "      <th>sensor_resolution</th>\n",
       "      <th>video_resolution_x</th>\n",
       "      <th>video_resolution_y</th>\n",
       "      <th>weight</th>\n",
       "      <th>weight_body</th>\n",
       "      <th>weight_lens</th>\n",
       "    </tr>\n",
       "  </thead>\n",
       "  <tbody>\n",
       "    <tr>\n",
       "      <th>weight_lens</th>\n",
       "      <td>-0.083297</td>\n",
       "      <td>0.750130</td>\n",
       "      <td>NaN</td>\n",
       "      <td>-0.188701</td>\n",
       "      <td>0.034703</td>\n",
       "      <td>0.292348</td>\n",
       "      <td>0.328275</td>\n",
       "      <td>0.424556</td>\n",
       "      <td>0.122022</td>\n",
       "      <td>0.694221</td>\n",
       "      <td>...</td>\n",
       "      <td>0.123798</td>\n",
       "      <td>-0.197003</td>\n",
       "      <td>NaN</td>\n",
       "      <td>0.345937</td>\n",
       "      <td>0.505139</td>\n",
       "      <td>0.104763</td>\n",
       "      <td>0.094170</td>\n",
       "      <td>0.933686</td>\n",
       "      <td>0.738124</td>\n",
       "      <td>NaN</td>\n",
       "    </tr>\n",
       "    <tr>\n",
       "      <th>weight_body</th>\n",
       "      <td>-0.072638</td>\n",
       "      <td>0.646057</td>\n",
       "      <td>NaN</td>\n",
       "      <td>-0.244261</td>\n",
       "      <td>0.088251</td>\n",
       "      <td>0.355524</td>\n",
       "      <td>0.530048</td>\n",
       "      <td>0.137298</td>\n",
       "      <td>0.091488</td>\n",
       "      <td>0.426577</td>\n",
       "      <td>...</td>\n",
       "      <td>0.330939</td>\n",
       "      <td>-0.366212</td>\n",
       "      <td>0.030904</td>\n",
       "      <td>0.129500</td>\n",
       "      <td>0.494293</td>\n",
       "      <td>0.102874</td>\n",
       "      <td>0.092422</td>\n",
       "      <td>0.928907</td>\n",
       "      <td>NaN</td>\n",
       "      <td>0.738124</td>\n",
       "    </tr>\n",
       "    <tr>\n",
       "      <th>focal_length_min</th>\n",
       "      <td>0.126567</td>\n",
       "      <td>0.630558</td>\n",
       "      <td>1.0</td>\n",
       "      <td>-0.048524</td>\n",
       "      <td>0.006691</td>\n",
       "      <td>0.319863</td>\n",
       "      <td>0.425264</td>\n",
       "      <td>-0.381107</td>\n",
       "      <td>0.667781</td>\n",
       "      <td>-0.074130</td>\n",
       "      <td>...</td>\n",
       "      <td>0.239187</td>\n",
       "      <td>0.181179</td>\n",
       "      <td>0.609192</td>\n",
       "      <td>-0.357779</td>\n",
       "      <td>0.558159</td>\n",
       "      <td>0.170194</td>\n",
       "      <td>0.167264</td>\n",
       "      <td>0.593483</td>\n",
       "      <td>0.440516</td>\n",
       "      <td>0.379422</td>\n",
       "    </tr>\n",
       "  </tbody>\n",
       "</table>\n",
       "<p>3 rows × 22 columns</p>\n",
       "</div>"
      ],
      "text/plain": [
       "                        id     price  popularity  needs_update  aperture_max  \\\n",
       "weight_lens      -0.083297  0.750130         NaN     -0.188701      0.034703   \n",
       "weight_body      -0.072638  0.646057         NaN     -0.244261      0.088251   \n",
       "focal_length_min  0.126567  0.630558         1.0     -0.048524      0.006691   \n",
       "\n",
       "                  display_size  dslr_camera  focal_35mm_max  focal_35mm_min  \\\n",
       "weight_lens           0.292348     0.328275        0.424556        0.122022   \n",
       "weight_body           0.355524     0.530048        0.137298        0.091488   \n",
       "focal_length_min      0.319863     0.425264       -0.381107        0.667781   \n",
       "\n",
       "                  focal_length_max  ...   iso_max   iso_min  \\\n",
       "weight_lens               0.694221  ...  0.123798 -0.197003   \n",
       "weight_body               0.426577  ...  0.330939 -0.366212   \n",
       "focal_length_min         -0.074130  ...  0.239187  0.181179   \n",
       "\n",
       "                  lens_interchangeable  optical_zoom  sensor_resolution  \\\n",
       "weight_lens                        NaN      0.345937           0.505139   \n",
       "weight_body                   0.030904      0.129500           0.494293   \n",
       "focal_length_min              0.609192     -0.357779           0.558159   \n",
       "\n",
       "                  video_resolution_x  video_resolution_y    weight  \\\n",
       "weight_lens                 0.104763            0.094170  0.933686   \n",
       "weight_body                 0.102874            0.092422  0.928907   \n",
       "focal_length_min            0.170194            0.167264  0.593483   \n",
       "\n",
       "                  weight_body  weight_lens  \n",
       "weight_lens          0.738124          NaN  \n",
       "weight_body               NaN     0.738124  \n",
       "focal_length_min     0.440516     0.379422  \n",
       "\n",
       "[3 rows x 22 columns]"
      ]
     },
     "execution_count": 4,
     "metadata": {},
     "output_type": "execute_result"
    }
   ],
   "source": [
    "# Remove 1s da diagonal principal\n",
    "np.fill_diagonal(correlacoes_dataframe.values, np.nan)\n",
    "\n",
    "maiores_correlacoes = correlacoes_dataframe.nlargest(3, 'price')\n",
    "\n",
    "\"\"\" maiores_correlacoes = pd.DataFrame(\n",
    "    correlacoes_dataframe.columns[np.argsort(-correlacoes_dataframe.values, axis=1)[:, :3]], \n",
    "    columns=['1', '2', '3'],\n",
    "    index=correlacoes_dataframe.index\n",
    ") \"\"\"\n",
    "\n",
    "maiores_correlacoes"
   ]
  },
  {
   "cell_type": "markdown",
   "metadata": {},
   "source": [
    "### 1.2 Equações para obter os estimadores $\\beta_{0}$ e $\\beta_{1}$"
   ]
  },
  {
   "cell_type": "code",
   "execution_count": 5,
   "metadata": {},
   "outputs": [
    {
     "data": {
      "text/plain": [
       "95.69535318947325"
      ]
     },
     "metadata": {},
     "output_type": "display_data"
    },
    {
     "data": {
      "text/plain": [
       "133.0490453715122"
      ]
     },
     "metadata": {},
     "output_type": "display_data"
    }
   ],
   "source": [
    "regressao = pd.DataFrame(\n",
    "    {\n",
    "        'covariavel': cameras_dataframe['weight_lens'],\n",
    "        'variavel_resposta': cameras_dataframe['price']\n",
    "    },\n",
    "    dtype=np.float64)\n",
    "\n",
    "regressao = regressao.dropna()\n",
    "\n",
    "beta_zero, beta_um = get_parametros_regressao_linear(regressao.covariavel, regressao.variavel_resposta)\n",
    "\n",
    "display(beta_um)\n",
    "display(beta_zero)\n",
    "\n",
    "lm = scypy_stats.linregress(regressao.values)\n"
   ]
  }
 ],
 "metadata": {
  "interpreter": {
   "hash": "a9c895529685f6a4dcda43bbbf9124848711d691a289e9363bf3fb81023d30d2"
  },
  "kernelspec": {
   "display_name": "Python 3.9.5 64-bit",
   "name": "python3"
  },
  "language_info": {
   "codemirror_mode": {
    "name": "ipython",
    "version": 3
   },
   "file_extension": ".py",
   "mimetype": "text/x-python",
   "name": "python",
   "nbconvert_exporter": "python",
   "pygments_lexer": "ipython3",
   "version": "3.10.2"
  },
  "orig_nbformat": 4
 },
 "nbformat": 4,
 "nbformat_minor": 2
}
