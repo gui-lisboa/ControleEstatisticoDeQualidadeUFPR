{
 "cells": [
  {
   "cell_type": "markdown",
   "metadata": {},
   "source": [
    "# Atividade 6"
   ]
  },
  {
   "cell_type": "code",
   "execution_count": 109,
   "metadata": {},
   "outputs": [],
   "source": [
    "# Imports\n",
    "\n",
    "import numpy as np\n",
    "import pandas as pd\n",
    "import seaborn as sns\n",
    "\n",
    "from statsmodels.formula.api import ols\n",
    "from IPython.display import display"
   ]
  },
  {
   "cell_type": "markdown",
   "metadata": {},
   "source": [
    "## Exercício 1"
   ]
  },
  {
   "cell_type": "code",
   "execution_count": 110,
   "metadata": {},
   "outputs": [
    {
     "data": {
      "image/png": "[encoded data removed]",
      "text/plain": [
       "<Figure size 432x288 with 1 Axes>"
      ]
     },
     "metadata": {
      "needs_background": "light"
     },
     "output_type": "display_data"
    }
   ],
   "source": [
    "dataset = pd.read_table(\n",
    "    'http://leg.ufpr.br/~walmes/data/business_economics_dataset/EXAMPLES/DELINQUE.DAT',\n",
    "    header=None,\n",
    "    sep='\\s+',\n",
    "    names=['dollars', 'groups'],\n",
    "    usecols=[0,1])\n",
    "\n",
    "sns.scatterplot(data=dataset, x='groups', y='dollars');"
   ]
  },
  {
   "cell_type": "code",
   "execution_count": 111,
   "metadata": {},
   "outputs": [
    {
     "data": {
      "text/html": [
       "<table class=\"simpletable\">\n",
       "<caption>OLS Regression Results</caption>\n",
       "<tr>\n",
       "  <th>Dep. Variable:</th>         <td>dollars</td>     <th>  R-squared:         </th> <td>   0.205</td>\n",
       "</tr>\n",
       "<tr>\n",
       "  <th>Model:</th>                   <td>OLS</td>       <th>  Adj. R-squared:    </th> <td>   0.146</td>\n",
       "</tr>\n",
       "<tr>\n",
       "  <th>Method:</th>             <td>Least Squares</td>  <th>  F-statistic:       </th> <td>   3.482</td>\n",
       "</tr>\n",
       "<tr>\n",
       "  <th>Date:</th>             <td>Mon, 22 Nov 2021</td> <th>  Prob (F-statistic):</th>  <td>0.0452</td> \n",
       "</tr>\n",
       "<tr>\n",
       "  <th>Time:</th>                 <td>15:27:00</td>     <th>  Log-Likelihood:    </th> <td> -194.88</td>\n",
       "</tr>\n",
       "<tr>\n",
       "  <th>No. Observations:</th>      <td>    30</td>      <th>  AIC:               </th> <td>   395.8</td>\n",
       "</tr>\n",
       "<tr>\n",
       "  <th>Df Residuals:</th>          <td>    27</td>      <th>  BIC:               </th> <td>   400.0</td>\n",
       "</tr>\n",
       "<tr>\n",
       "  <th>Df Model:</th>              <td>     2</td>      <th>                     </th>     <td> </td>   \n",
       "</tr>\n",
       "<tr>\n",
       "  <th>Covariance Type:</th>      <td>nonrobust</td>    <th>                     </th>     <td> </td>   \n",
       "</tr>\n",
       "</table>\n",
       "<table class=\"simpletable\">\n",
       "<tr>\n",
       "       <td></td>          <th>coef</th>     <th>std err</th>      <th>t</th>      <th>P>|t|</th>  <th>[0.025</th>    <th>0.975]</th>  \n",
       "</tr>\n",
       "<tr>\n",
       "  <th>Intercept</th>   <td>  229.6000</td> <td>   53.426</td> <td>    4.298</td> <td> 0.000</td> <td>  119.979</td> <td>  339.221</td>\n",
       "</tr>\n",
       "<tr>\n",
       "  <th>groups[T.M]</th> <td>   80.3000</td> <td>   75.556</td> <td>    1.063</td> <td> 0.297</td> <td>  -74.728</td> <td>  235.328</td>\n",
       "</tr>\n",
       "<tr>\n",
       "  <th>groups[T.U]</th> <td>  198.2000</td> <td>   75.556</td> <td>    2.623</td> <td> 0.014</td> <td>   43.172</td> <td>  353.228</td>\n",
       "</tr>\n",
       "</table>\n",
       "<table class=\"simpletable\">\n",
       "<tr>\n",
       "  <th>Omnibus:</th>       <td> 2.611</td> <th>  Durbin-Watson:     </th> <td>   2.758</td>\n",
       "</tr>\n",
       "<tr>\n",
       "  <th>Prob(Omnibus):</th> <td> 0.271</td> <th>  Jarque-Bera (JB):  </th> <td>   1.469</td>\n",
       "</tr>\n",
       "<tr>\n",
       "  <th>Skew:</th>          <td> 0.233</td> <th>  Prob(JB):          </th> <td>   0.480</td>\n",
       "</tr>\n",
       "<tr>\n",
       "  <th>Kurtosis:</th>      <td> 2.021</td> <th>  Cond. No.          </th> <td>    3.73</td>\n",
       "</tr>\n",
       "</table><br/><br/>Notes:<br/>[1] Standard Errors assume that the covariance matrix of the errors is correctly specified."
      ],
      "text/plain": [
       "<class 'statsmodels.iolib.summary.Summary'>\n",
       "\"\"\"\n",
       "                            OLS Regression Results                            \n",
       "==============================================================================\n",
       "Dep. Variable:                dollars   R-squared:                       0.205\n",
       "Model:                            OLS   Adj. R-squared:                  0.146\n",
       "Method:                 Least Squares   F-statistic:                     3.482\n",
       "Date:                Mon, 22 Nov 2021   Prob (F-statistic):             0.0452\n",
       "Time:                        15:27:00   Log-Likelihood:                -194.88\n",
       "No. Observations:                  30   AIC:                             395.8\n",
       "Df Residuals:                      27   BIC:                             400.0\n",
       "Df Model:                           2                                         \n",
       "Covariance Type:            nonrobust                                         \n",
       "===============================================================================\n",
       "                  coef    std err          t      P>|t|      [0.025      0.975]\n",
       "-------------------------------------------------------------------------------\n",
       "Intercept     229.6000     53.426      4.298      0.000     119.979     339.221\n",
       "groups[T.M]    80.3000     75.556      1.063      0.297     -74.728     235.328\n",
       "groups[T.U]   198.2000     75.556      2.623      0.014      43.172     353.228\n",
       "==============================================================================\n",
       "Omnibus:                        2.611   Durbin-Watson:                   2.758\n",
       "Prob(Omnibus):                  0.271   Jarque-Bera (JB):                1.469\n",
       "Skew:                           0.233   Prob(JB):                        0.480\n",
       "Kurtosis:                       2.021   Cond. No.                         3.73\n",
       "==============================================================================\n",
       "\n",
       "Notes:\n",
       "[1] Standard Errors assume that the covariance matrix of the errors is correctly specified.\n",
       "\"\"\""
      ]
     },
     "metadata": {},
     "output_type": "display_data"
    }
   ],
   "source": [
    "modelo = ols('dollars ~ groups', data=dataset)\n",
    "fit = modelo.fit()\n",
    "\n",
    "display(fit.summary())"
   ]
  },
  {
   "cell_type": "markdown",
   "metadata": {},
   "source": [
    "## Exercício 2"
   ]
  },
  {
   "cell_type": "code",
   "execution_count": 115,
   "metadata": {},
   "outputs": [
    {
     "data": {
      "image/png": "[encoded data removed]",
      "text/plain": [
       "<Figure size 432x288 with 1 Axes>"
      ]
     },
     "metadata": {
      "needs_background": "light"
     },
     "output_type": "display_data"
    }
   ],
   "source": [
    "dataset = pd.read_table(\n",
    "    'http://leg.ufpr.br/~walmes/data/business_economics_dataset/EXERCISE/REPELLEN.DAT',\n",
    "    header=None,\n",
    "    sep='\\s+',\n",
    "    names=['types', 'costs', 'maxprotection'])\n",
    "\n",
    "sns.scatterplot(data=dataset, x='costs', y='maxprotection', hue='types');"
   ]
  },
  {
   "cell_type": "code",
   "execution_count": 118,
   "metadata": {},
   "outputs": [
    {
     "name": "stderr",
     "output_type": "stream",
     "text": [
      "C:\\DEV\\Python39\\lib\\site-packages\\scipy\\stats\\stats.py:1541: UserWarning: kurtosistest only valid for n>=20 ... continuing anyway, n=14\n",
      "  warnings.warn(\"kurtosistest only valid for n>=20 ... continuing \"\n"
     ]
    },
    {
     "data": {
      "text/html": [
       "<table class=\"simpletable\">\n",
       "<caption>OLS Regression Results</caption>\n",
       "<tr>\n",
       "  <th>Dep. Variable:</th>          <td>costs</td>      <th>  R-squared:         </th> <td>   0.005</td>\n",
       "</tr>\n",
       "<tr>\n",
       "  <th>Model:</th>                   <td>OLS</td>       <th>  Adj. R-squared:    </th> <td>  -0.078</td>\n",
       "</tr>\n",
       "<tr>\n",
       "  <th>Method:</th>             <td>Least Squares</td>  <th>  F-statistic:       </th> <td> 0.05770</td>\n",
       "</tr>\n",
       "<tr>\n",
       "  <th>Date:</th>             <td>Mon, 22 Nov 2021</td> <th>  Prob (F-statistic):</th>  <td> 0.814</td> \n",
       "</tr>\n",
       "<tr>\n",
       "  <th>Time:</th>                 <td>15:40:24</td>     <th>  Log-Likelihood:    </th> <td> -16.370</td>\n",
       "</tr>\n",
       "<tr>\n",
       "  <th>No. Observations:</th>      <td>    14</td>      <th>  AIC:               </th> <td>   36.74</td>\n",
       "</tr>\n",
       "<tr>\n",
       "  <th>Df Residuals:</th>          <td>    12</td>      <th>  BIC:               </th> <td>   38.02</td>\n",
       "</tr>\n",
       "<tr>\n",
       "  <th>Df Model:</th>              <td>     1</td>      <th>                     </th>     <td> </td>   \n",
       "</tr>\n",
       "<tr>\n",
       "  <th>Covariance Type:</th>      <td>nonrobust</td>    <th>                     </th>     <td> </td>   \n",
       "</tr>\n",
       "</table>\n",
       "<table class=\"simpletable\">\n",
       "<tr>\n",
       "            <td></td>               <th>coef</th>     <th>std err</th>      <th>t</th>      <th>P>|t|</th>  <th>[0.025</th>    <th>0.975]</th>  \n",
       "</tr>\n",
       "<tr>\n",
       "  <th>Intercept</th>             <td>    0.7775</td> <td>    0.298</td> <td>    2.613</td> <td> 0.023</td> <td>    0.129</td> <td>    1.426</td>\n",
       "</tr>\n",
       "<tr>\n",
       "  <th>types[T.Lotion/Cream]</th> <td>    0.1092</td> <td>    0.454</td> <td>    0.240</td> <td> 0.814</td> <td>   -0.881</td> <td>    1.099</td>\n",
       "</tr>\n",
       "</table>\n",
       "<table class=\"simpletable\">\n",
       "<tr>\n",
       "  <th>Omnibus:</th>       <td> 7.888</td> <th>  Durbin-Watson:     </th> <td>   1.414</td>\n",
       "</tr>\n",
       "<tr>\n",
       "  <th>Prob(Omnibus):</th> <td> 0.019</td> <th>  Jarque-Bera (JB):  </th> <td>   4.708</td>\n",
       "</tr>\n",
       "<tr>\n",
       "  <th>Skew:</th>          <td> 1.383</td> <th>  Prob(JB):          </th> <td>  0.0950</td>\n",
       "</tr>\n",
       "<tr>\n",
       "  <th>Kurtosis:</th>      <td> 3.648</td> <th>  Cond. No.          </th> <td>    2.48</td>\n",
       "</tr>\n",
       "</table><br/><br/>Notes:<br/>[1] Standard Errors assume that the covariance matrix of the errors is correctly specified."
      ],
      "text/plain": [
       "<class 'statsmodels.iolib.summary.Summary'>\n",
       "\"\"\"\n",
       "                            OLS Regression Results                            \n",
       "==============================================================================\n",
       "Dep. Variable:                  costs   R-squared:                       0.005\n",
       "Model:                            OLS   Adj. R-squared:                 -0.078\n",
       "Method:                 Least Squares   F-statistic:                   0.05770\n",
       "Date:                Mon, 22 Nov 2021   Prob (F-statistic):              0.814\n",
       "Time:                        15:40:24   Log-Likelihood:                -16.370\n",
       "No. Observations:                  14   AIC:                             36.74\n",
       "Df Residuals:                      12   BIC:                             38.02\n",
       "Df Model:                           1                                         \n",
       "Covariance Type:            nonrobust                                         \n",
       "=========================================================================================\n",
       "                            coef    std err          t      P>|t|      [0.025      0.975]\n",
       "-----------------------------------------------------------------------------------------\n",
       "Intercept                 0.7775      0.298      2.613      0.023       0.129       1.426\n",
       "types[T.Lotion/Cream]     0.1092      0.454      0.240      0.814      -0.881       1.099\n",
       "==============================================================================\n",
       "Omnibus:                        7.888   Durbin-Watson:                   1.414\n",
       "Prob(Omnibus):                  0.019   Jarque-Bera (JB):                4.708\n",
       "Skew:                           1.383   Prob(JB):                       0.0950\n",
       "Kurtosis:                       3.648   Cond. No.                         2.48\n",
       "==============================================================================\n",
       "\n",
       "Notes:\n",
       "[1] Standard Errors assume that the covariance matrix of the errors is correctly specified.\n",
       "\"\"\""
      ]
     },
     "metadata": {},
     "output_type": "display_data"
    }
   ],
   "source": [
    "modelo = ols('costs ~ types', data=dataset)\n",
    "fit = modelo.fit()\n",
    "\n",
    "display(fit.summary())"
   ]
  },
  {
   "cell_type": "markdown",
   "metadata": {},
   "source": [
    "## Exercício 3"
   ]
  },
  {
   "cell_type": "code",
   "execution_count": 119,
   "metadata": {},
   "outputs": [
    {
     "data": {
      "image/png": "[encoded data removed]",
      "text/plain": [
       "<Figure size 432x288 with 1 Axes>"
      ]
     },
     "metadata": {
      "needs_background": "light"
     },
     "output_type": "display_data"
    }
   ],
   "source": [
    "dataset = pd.read_table(\n",
    "    'http://leg.ufpr.br/~walmes/data/business_economics_dataset/EXERCISE/DDT.DAT',\n",
    "    header=None,\n",
    "    sep='\\s+',\n",
    "    names=['river', 'mile', 'species', 'length', 'weight', 'ddt'])\n",
    "\n",
    "sns.scatterplot(data=dataset, x='species', y='ddt');"
   ]
  },
  {
   "cell_type": "code",
   "execution_count": 123,
   "metadata": {},
   "outputs": [
    {
     "data": {
      "text/html": [
       "<table class=\"simpletable\">\n",
       "<caption>OLS Regression Results</caption>\n",
       "<tr>\n",
       "  <th>Dep. Variable:</th>           <td>ddt</td>       <th>  R-squared:         </th> <td>   0.043</td>\n",
       "</tr>\n",
       "<tr>\n",
       "  <th>Model:</th>                   <td>OLS</td>       <th>  Adj. R-squared:    </th> <td>   0.008</td>\n",
       "</tr>\n",
       "<tr>\n",
       "  <th>Method:</th>             <td>Least Squares</td>  <th>  F-statistic:       </th> <td>   1.236</td>\n",
       "</tr>\n",
       "<tr>\n",
       "  <th>Date:</th>             <td>Mon, 22 Nov 2021</td> <th>  Prob (F-statistic):</th>  <td> 0.296</td> \n",
       "</tr>\n",
       "<tr>\n",
       "  <th>Time:</th>                 <td>15:47:31</td>     <th>  Log-Likelihood:    </th> <td> -861.46</td>\n",
       "</tr>\n",
       "<tr>\n",
       "  <th>No. Observations:</th>      <td>   144</td>      <th>  AIC:               </th> <td>   1735.</td>\n",
       "</tr>\n",
       "<tr>\n",
       "  <th>Df Residuals:</th>          <td>   138</td>      <th>  BIC:               </th> <td>   1753.</td>\n",
       "</tr>\n",
       "<tr>\n",
       "  <th>Df Model:</th>              <td>     5</td>      <th>                     </th>     <td> </td>   \n",
       "</tr>\n",
       "<tr>\n",
       "  <th>Covariance Type:</th>      <td>nonrobust</td>    <th>                     </th>     <td> </td>   \n",
       "</tr>\n",
       "</table>\n",
       "<table class=\"simpletable\">\n",
       "<tr>\n",
       "              <td></td>                 <th>coef</th>     <th>std err</th>      <th>t</th>      <th>P>|t|</th>  <th>[0.025</th>    <th>0.975]</th>  \n",
       "</tr>\n",
       "<tr>\n",
       "  <th>Intercept</th>                 <td> -147.2734</td> <td>   99.338</td> <td>   -1.483</td> <td> 0.140</td> <td> -343.695</td> <td>   49.148</td>\n",
       "</tr>\n",
       "<tr>\n",
       "  <th>species[T.LARGEMOUTHBASS]</th> <td>   29.0383</td> <td>   49.743</td> <td>    0.584</td> <td> 0.560</td> <td>  -69.319</td> <td>  127.396</td>\n",
       "</tr>\n",
       "<tr>\n",
       "  <th>species[T.SMALLMOUTHBUFF]</th> <td>   -3.8763</td> <td>   27.128</td> <td>   -0.143</td> <td> 0.887</td> <td>  -57.516</td> <td>   49.763</td>\n",
       "</tr>\n",
       "<tr>\n",
       "  <th>mile</th>                      <td>    0.0876</td> <td>    0.083</td> <td>    1.051</td> <td> 0.295</td> <td>   -0.077</td> <td>    0.252</td>\n",
       "</tr>\n",
       "<tr>\n",
       "  <th>length</th>                    <td>    4.6739</td> <td>    2.760</td> <td>    1.693</td> <td> 0.093</td> <td>   -0.784</td> <td>   10.132</td>\n",
       "</tr>\n",
       "<tr>\n",
       "  <th>weight</th>                    <td>   -0.0509</td> <td>    0.041</td> <td>   -1.231</td> <td> 0.220</td> <td>   -0.133</td> <td>    0.031</td>\n",
       "</tr>\n",
       "</table>\n",
       "<table class=\"simpletable\">\n",
       "<tr>\n",
       "  <th>Omnibus:</th>       <td>275.571</td> <th>  Durbin-Watson:     </th> <td>   1.943</td> \n",
       "</tr>\n",
       "<tr>\n",
       "  <th>Prob(Omnibus):</th> <td> 0.000</td>  <th>  Jarque-Bera (JB):  </th> <td>58220.268</td>\n",
       "</tr>\n",
       "<tr>\n",
       "  <th>Skew:</th>          <td> 9.313</td>  <th>  Prob(JB):          </th> <td>    0.00</td> \n",
       "</tr>\n",
       "<tr>\n",
       "  <th>Kurtosis:</th>      <td>99.729</td>  <th>  Cond. No.          </th> <td>1.51e+04</td> \n",
       "</tr>\n",
       "</table><br/><br/>Notes:<br/>[1] Standard Errors assume that the covariance matrix of the errors is correctly specified.<br/>[2] The condition number is large, 1.51e+04. This might indicate that there are<br/>strong multicollinearity or other numerical problems."
      ],
      "text/plain": [
       "<class 'statsmodels.iolib.summary.Summary'>\n",
       "\"\"\"\n",
       "                            OLS Regression Results                            \n",
       "==============================================================================\n",
       "Dep. Variable:                    ddt   R-squared:                       0.043\n",
       "Model:                            OLS   Adj. R-squared:                  0.008\n",
       "Method:                 Least Squares   F-statistic:                     1.236\n",
       "Date:                Mon, 22 Nov 2021   Prob (F-statistic):              0.296\n",
       "Time:                        15:47:31   Log-Likelihood:                -861.46\n",
       "No. Observations:                 144   AIC:                             1735.\n",
       "Df Residuals:                     138   BIC:                             1753.\n",
       "Df Model:                           5                                         \n",
       "Covariance Type:            nonrobust                                         \n",
       "=============================================================================================\n",
       "                                coef    std err          t      P>|t|      [0.025      0.975]\n",
       "---------------------------------------------------------------------------------------------\n",
       "Intercept                  -147.2734     99.338     -1.483      0.140    -343.695      49.148\n",
       "species[T.LARGEMOUTHBASS]    29.0383     49.743      0.584      0.560     -69.319     127.396\n",
       "species[T.SMALLMOUTHBUFF]    -3.8763     27.128     -0.143      0.887     -57.516      49.763\n",
       "mile                          0.0876      0.083      1.051      0.295      -0.077       0.252\n",
       "length                        4.6739      2.760      1.693      0.093      -0.784      10.132\n",
       "weight                       -0.0509      0.041     -1.231      0.220      -0.133       0.031\n",
       "==============================================================================\n",
       "Omnibus:                      275.571   Durbin-Watson:                   1.943\n",
       "Prob(Omnibus):                  0.000   Jarque-Bera (JB):            58220.268\n",
       "Skew:                           9.313   Prob(JB):                         0.00\n",
       "Kurtosis:                      99.729   Cond. No.                     1.51e+04\n",
       "==============================================================================\n",
       "\n",
       "Notes:\n",
       "[1] Standard Errors assume that the covariance matrix of the errors is correctly specified.\n",
       "[2] The condition number is large, 1.51e+04. This might indicate that there are\n",
       "strong multicollinearity or other numerical problems.\n",
       "\"\"\""
      ]
     },
     "metadata": {},
     "output_type": "display_data"
    }
   ],
   "source": [
    "modelo = ols('ddt ~ mile + length + weight + species', data=dataset)\n",
    "fit = modelo.fit()\n",
    "\n",
    "display(fit.summary())"
   ]
  }
 ],
 "metadata": {
  "interpreter": {
   "hash": "611588c76f6fd03b6401d3250cf98333a32fd2da6383086543225bae3e7bd090"
  },
  "kernelspec": {
   "display_name": "Python 3.9.5 64-bit",
   "language": "python",
   "name": "python3"
  },
  "language_info": {
   "codemirror_mode": {
    "name": "ipython",
    "version": 3
   },
   "file_extension": ".py",
   "mimetype": "text/x-python",
   "name": "python",
   "nbconvert_exporter": "python",
   "pygments_lexer": "ipython3",
   "version": "3.9.5"
  },
  "orig_nbformat": 4
 },
 "nbformat": 4,
 "nbformat_minor": 2
}
