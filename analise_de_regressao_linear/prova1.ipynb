{
 "cells": [
  {
   "cell_type": "markdown",
   "metadata": {},
   "source": [
    "# Avaliação 1"
   ]
  },
  {
   "cell_type": "markdown",
   "metadata": {},
   "source": [
    "## 1. Considere o modelo de regressão linear simples com a variável independente x centrada:\n",
    "\n",
    "$$\n",
    "y_{i} = \\beta_{0} + \\beta_{1}(x_{i} − \\bar{x}) + \\epsilon_{i} \\quad , i = 1, . . . , n.\n",
    "$$\n",
    "\n",
    "em que $\\bar{x} = \\frac{1}{n} \\sum_{i=1}^{n} x_{i}$ e $\\epsilon_{i} \\tt N(0, \\sigma^{2})$"
   ]
  },
  {
   "cell_type": "markdown",
   "metadata": {},
   "source": [
    "### a. Qual a interpretação dos parâmetros β0 e β1? Justifique\n",
    "\n",
    "$\\beta_{0}$ é deslocado para o ponto das médias $x_{1} = \\bar{x_{1}}, x_{2} = \\bar{x_{2}} ... x_{k} = \\bar{x_{k}}$. Já $\\beta_{1}$ deve ser interpretado levando-se em consideração os valores escalonados das variáveis originais."
   ]
  },
  {
   "cell_type": "markdown",
   "metadata": {},
   "source": [
    "### b. Derive os estimadores de mínimos quadrados de β0 e β1. Não é necessário provar que a solução encontrada corresponde a um ponto de mínimo.\n",
    "\n"
   ]
  },
  {
   "cell_type": "markdown",
   "metadata": {},
   "source": [
    "### c. Qual a relação matemática entre os estimadores de β0 e β1 encontrados em relação aos correspondentes estimadores do modelo de regressão linear simples usual, definido por $y_{i} = \\beta_{0} + \\beta_{1}x_{i} + \\epsilon_{i}$?\n",
    "\n"
   ]
  },
  {
   "cell_type": "markdown",
   "metadata": {},
   "source": [
    "### d. Discuta em que tipos de situação pode ser preferível usar o modelo centrado ao invés do modelo usual.\n",
    "\n",
    "Usar o modelo centrado ao invés do modelo usual é preferível quando há variáveis explicativas com valores muito altos, que podem distorcer o modelo. Essa diferença de valores pode ocorrer, por exemplo, devido a unidades de medida."
   ]
  },
  {
   "cell_type": "markdown",
   "metadata": {},
   "source": [
    "## 2. A figura seguinte representa os resultados de $n = 100$ realizações de uma reação química. O objetivo é ajustar um modelo de regressão capaz de explicar a velocidade da reação ($y$) em função da quantidade utilizada de certo reagente ($x$).\n"
   ]
  },
  {
   "cell_type": "markdown",
   "metadata": {},
   "source": [
    "### a) O modelo especificado configura um modelo de regressão linear? Justifique.\n",
    "\n",
    "Sim, pois é possível escrever o modelo usando operadores como $Y = \\beta_{0} + \\beta_{1}x + \\epsilon_{i}$ com $\\epsilon_{i} \\tt N(0, \\sigma^{2})$"
   ]
  },
  {
   "cell_type": "markdown",
   "metadata": {},
   "source": [
    "### b )Apresente a expressão do modelo ajustado. Qual a estimativa da velocidade média de reação para quantidade de reagente igual a 1.5? Considere a saída do modelo seguinte\n",
    "\n",
    "```{r}\n",
    "ajuste <- lm(y ~ I(1/x))\n",
    "```\n",
    "\n",
    "\n",
    "|         | Estimate | Std Error | t-Statistics | p-value|\n",
    "|---|---|---|---|---|\n",
    "|Intecept | 10.061   | 0.055     | 182.059      | < 0.001|\n",
    "|I(1/x )  | -2.088   | 0.066     | -31.503      | < 0.001|"
   ]
  },
  {
   "cell_type": "code",
   "execution_count": 6,
   "metadata": {},
   "outputs": [
    {
     "data": {
      "text/latex": [
       "\\hat{y} = 8.669"
      ],
      "text/plain": [
       "<IPython.core.display.Latex object>"
      ]
     },
     "metadata": {},
     "output_type": "display_data"
    }
   ],
   "source": [
    "from IPython.display import display, HTML, Latex\n",
    "\n",
    "beta_0 = 10.061\n",
    "beta_1 = -2.088\n",
    "x = 1.5\n",
    "\n",
    "y_estimado = beta_0 + beta_1/x\n",
    "\n",
    "display(Latex(r'\\hat{y} = ' + str(y_estimado)))"
   ]
  },
  {
   "cell_type": "markdown",
   "metadata": {},
   "source": [
    "### c) Complete o quadro de análise de variância e forneça uma estimativa para $\\sigma^{2}$\n",
    "\n",
    "| Fonte de variação | Graus de liberdade | Soma de Quadrados | Quadrado Médio | F |\n",
    "|---|---|---|---|---|\n",
    "| Regressão| | 74.868 | | |\n",
    "| Residual | |        | | |\n",
    "| Total    | | 82.412 | | |"
   ]
  },
  {
   "cell_type": "code",
   "execution_count": 7,
   "metadata": {},
   "outputs": [
    {
     "data": {
      "text/html": [
       "<table border=\"1\" class=\"dataframe\">\n",
       "  <thead>\n",
       "    <tr style=\"text-align: right;\">\n",
       "      <th></th>\n",
       "      <th>Fonte de Variação</th>\n",
       "      <th>GL</th>\n",
       "      <th>SQ</th>\n",
       "      <th>QM</th>\n",
       "      <th>F</th>\n",
       "    </tr>\n",
       "  </thead>\n",
       "  <tbody>\n",
       "    <tr>\n",
       "      <th>0</th>\n",
       "      <td>Regressão</td>\n",
       "      <td>1</td>\n",
       "      <td>74.868</td>\n",
       "      <td>74.868</td>\n",
       "      <td>0.90846</td>\n",
       "    </tr>\n",
       "    <tr>\n",
       "      <th>1</th>\n",
       "      <td>Residual</td>\n",
       "      <td>98</td>\n",
       "      <td>8076.376</td>\n",
       "      <td>82.412</td>\n",
       "      <td></td>\n",
       "    </tr>\n",
       "    <tr>\n",
       "      <th>2</th>\n",
       "      <td>Total</td>\n",
       "      <td>99</td>\n",
       "      <td>8151.244</td>\n",
       "      <td></td>\n",
       "      <td></td>\n",
       "    </tr>\n",
       "  </tbody>\n",
       "</table>"
      ],
      "text/plain": [
       "<IPython.core.display.HTML object>"
      ]
     },
     "metadata": {},
     "output_type": "display_data"
    },
    {
     "data": {
      "text/latex": [
       "\\hat_{\\sigma^{2}} = 82.336"
      ],
      "text/plain": [
       "<IPython.core.display.Latex object>"
      ]
     },
     "metadata": {},
     "output_type": "display_data"
    }
   ],
   "source": [
    "import pandas as pd\n",
    "import scipy.stats as stats\n",
    "\n",
    "n = 100\n",
    "qm_regressao = 74.868\n",
    "qm_residual = 82.412\n",
    "\n",
    "# graus de liberdade\n",
    "gl_regressao = 1\n",
    "gl_residual = n - 2\n",
    "gl_total = n - 1\n",
    "\n",
    "# soma de quadrados\n",
    "sq_regressao = qm_regressao * 1\n",
    "sq_residual = qm_residual * (n - 2)\n",
    "sq_total = sq_regressao + sq_residual\n",
    "\n",
    "# estatística F\n",
    "estatistica_f = qm_regressao/qm_residual\n",
    "\n",
    "variancia = sq_total / (n - 1)\n",
    "\n",
    "anova = pd.DataFrame({\n",
    "    'Fonte de Variação': ['Regressão', 'Residual', 'Total'],\n",
    "    'GL': [gl_regressao, gl_residual, gl_total],\n",
    "    'SQ': [sq_regressao, sq_residual, sq_total],\n",
    "    'QM': [qm_regressao, qm_residual, ''],\n",
    "    'F': [estatistica_f, '', '']\n",
    "})\n",
    "\n",
    "display(HTML(anova.to_html(index=False)))\n"
   ]
  },
  {
   "cell_type": "code",
   "execution_count": 11,
   "metadata": {},
   "outputs": [
    {
     "data": {
      "text/latex": [
       "\\hat_{\\sigma^{2}} = 82.33579797979799"
      ],
      "text/plain": [
       "<IPython.core.display.Latex object>"
      ]
     },
     "metadata": {},
     "output_type": "display_data"
    }
   ],
   "source": [
    "display(Latex(r'\\hat_{\\sigma^{2}} = ' + str(variancia)))"
   ]
  },
  {
   "cell_type": "markdown",
   "metadata": {},
   "source": [
    "### d) Descreve as hipóteses nula e alternativa da ANOVA e conclua o teste. Interprete o resultado no contexto do exercício.\n",
    "\n",
    "$$\n",
    "H0: \\beta_{1} = 0 \\\\\n",
    "H1: \\beta_{1} \\ne 0\n",
    "$$"
   ]
  },
  {
   "cell_type": "code",
   "execution_count": 8,
   "metadata": {},
   "outputs": [
    {
     "data": {
      "text/latex": [
       "\\text{p-valor} = 0.343"
      ],
      "text/plain": [
       "<IPython.core.display.Latex object>"
      ]
     },
     "metadata": {},
     "output_type": "display_data"
    }
   ],
   "source": [
    "p_valor = 1 - stats.f.cdf(estatistica_f, gl_regressao, gl_residual)\n",
    "display(Latex(r'\\text{p-valor} = ' + f'{p_valor:.3f}'))"
   ]
  },
  {
   "cell_type": "markdown",
   "metadata": {},
   "source": [
    "p-Valor encontrado é menor que o nível de significancia usual (5%), portanto, há forte evidência contra a hipótese nula, assim, rejeita-se $H0$ e aceita-se $H1$."
   ]
  },
  {
   "cell_type": "markdown",
   "metadata": {},
   "source": [
    "### e) Calcule e interprete o valor do coeficiente de determinação (R2).\n",
    "\n",
    "R² é o percentual da variabilidade da resposta do modelo:"
   ]
  },
  {
   "cell_type": "code",
   "execution_count": 9,
   "metadata": {},
   "outputs": [
    {
     "data": {
      "text/latex": [
       "R^{2} = 0.0092"
      ],
      "text/plain": [
       "<IPython.core.display.Latex object>"
      ]
     },
     "metadata": {},
     "output_type": "display_data"
    }
   ],
   "source": [
    "r_quadrado = sq_regressao / sq_total\n",
    "\n",
    "display(Latex(r'R^{2} = ' + f'{r_quadrado:.4f}'))"
   ]
  },
  {
   "cell_type": "markdown",
   "metadata": {},
   "source": [
    "## 3. A qualidade do vinho Pinot Noir é supostamente relacionada às seguintes propriedades sensoriais: clareza, aroma, consistência, sabor e textura. Trinta e oito marcas de vinho Pinot Noir foram avaliadas. As seis primeiras linhas da base de dados resultante são apresentadas na sequência.\n"
   ]
  },
  {
   "cell_type": "markdown",
   "metadata": {},
   "source": [
    "## 4. Crie uma situação em que um modelo de regressão linear múltipla seja adequado. Explique qual é a variável resposta e as covariáveis (use duas covariáveis)."
   ]
  },
  {
   "cell_type": "markdown",
   "metadata": {},
   "source": [
    "### a) Descreva e explique quais suposições você deve fazer para que o modelo de regressão linear múltipla seja adequado. E discuta como elas se aplicam no contexto que você criou.\n",
    "\n",
    "Modelo para cálculo de peso em Kg ($y$) em função de altura em metros ($x_{1}$) e quantas Kcal são ingeridas por dia ($x_{2}$).\n",
    "\n",
    "É esperado que tanto a altura quanto o total de Kcal tenham relação direta com o peso"
   ]
  },
  {
   "cell_type": "markdown",
   "metadata": {},
   "source": [
    "### b) Escreva a equação do modelo e interprete os coeficientes de regressão no contexto do problema que você criou.\n",
    "\n",
    "$$\n",
    "\\beta_{0} = 20 \\text{: Valor base para o peso, mas não útil na realidade (altura e Kcal = 0)} \\\\\n",
    "\\beta_{1} = 20 \\text{: Parâmetro multiplicador para a altura)} \\\\\n",
    "\\beta_{2} = 0,002 \\text{: Parâmetro multiplicador para a quantidade de calorias} \\\\\n",
    "$$"
   ]
  },
  {
   "cell_type": "code",
   "execution_count": 21,
   "metadata": {},
   "outputs": [],
   "source": [
    "beta_0 = 20\n",
    "beta_1 = 30\n",
    "beta_2 = 0.002"
   ]
  },
  {
   "cell_type": "markdown",
   "metadata": {},
   "source": [
    "### c)  Simule um conjunto de dados de tamanho 100. Lembre-se para isto você deve especificar os coeficientes de regressão e o valor das covariáveis."
   ]
  },
  {
   "cell_type": "code",
   "execution_count": 32,
   "metadata": {},
   "outputs": [
    {
     "data": {
      "text/html": [
       "<div>\n",
       "<style scoped>\n",
       "    .dataframe tbody tr th:only-of-type {\n",
       "        vertical-align: middle;\n",
       "    }\n",
       "\n",
       "    .dataframe tbody tr th {\n",
       "        vertical-align: top;\n",
       "    }\n",
       "\n",
       "    .dataframe thead th {\n",
       "        text-align: right;\n",
       "    }\n",
       "</style>\n",
       "<table border=\"1\" class=\"dataframe\">\n",
       "  <thead>\n",
       "    <tr style=\"text-align: right;\">\n",
       "      <th></th>\n",
       "      <th>x1</th>\n",
       "      <th>x2</th>\n",
       "      <th>y</th>\n",
       "    </tr>\n",
       "  </thead>\n",
       "  <tbody>\n",
       "    <tr>\n",
       "      <th>0</th>\n",
       "      <td>1.430930</td>\n",
       "      <td>1718.812848</td>\n",
       "      <td>68.630132</td>\n",
       "    </tr>\n",
       "    <tr>\n",
       "      <th>1</th>\n",
       "      <td>1.617543</td>\n",
       "      <td>1772.953419</td>\n",
       "      <td>71.120976</td>\n",
       "    </tr>\n",
       "    <tr>\n",
       "      <th>2</th>\n",
       "      <td>1.637624</td>\n",
       "      <td>2339.465229</td>\n",
       "      <td>70.570856</td>\n",
       "    </tr>\n",
       "    <tr>\n",
       "      <th>3</th>\n",
       "      <td>1.497036</td>\n",
       "      <td>1152.315339</td>\n",
       "      <td>62.967402</td>\n",
       "    </tr>\n",
       "    <tr>\n",
       "      <th>4</th>\n",
       "      <td>1.269466</td>\n",
       "      <td>1743.392937</td>\n",
       "      <td>55.673016</td>\n",
       "    </tr>\n",
       "    <tr>\n",
       "      <th>...</th>\n",
       "      <td>...</td>\n",
       "      <td>...</td>\n",
       "      <td>...</td>\n",
       "    </tr>\n",
       "    <tr>\n",
       "      <th>95</th>\n",
       "      <td>1.669231</td>\n",
       "      <td>1798.192886</td>\n",
       "      <td>69.298462</td>\n",
       "    </tr>\n",
       "    <tr>\n",
       "      <th>96</th>\n",
       "      <td>1.530129</td>\n",
       "      <td>1457.719274</td>\n",
       "      <td>69.280081</td>\n",
       "    </tr>\n",
       "    <tr>\n",
       "      <th>97</th>\n",
       "      <td>2.071805</td>\n",
       "      <td>1832.758768</td>\n",
       "      <td>92.137092</td>\n",
       "    </tr>\n",
       "    <tr>\n",
       "      <th>98</th>\n",
       "      <td>1.493699</td>\n",
       "      <td>1709.443810</td>\n",
       "      <td>71.881878</td>\n",
       "    </tr>\n",
       "    <tr>\n",
       "      <th>99</th>\n",
       "      <td>1.642231</td>\n",
       "      <td>1945.487835</td>\n",
       "      <td>75.768989</td>\n",
       "    </tr>\n",
       "  </tbody>\n",
       "</table>\n",
       "<p>100 rows × 3 columns</p>\n",
       "</div>"
      ],
      "text/plain": [
       "          x1           x2          y\n",
       "0   1.430930  1718.812848  68.630132\n",
       "1   1.617543  1772.953419  71.120976\n",
       "2   1.637624  2339.465229  70.570856\n",
       "3   1.497036  1152.315339  62.967402\n",
       "4   1.269466  1743.392937  55.673016\n",
       "..       ...          ...        ...\n",
       "95  1.669231  1798.192886  69.298462\n",
       "96  1.530129  1457.719274  69.280081\n",
       "97  2.071805  1832.758768  92.137092\n",
       "98  1.493699  1709.443810  71.881878\n",
       "99  1.642231  1945.487835  75.768989\n",
       "\n",
       "[100 rows x 3 columns]"
      ]
     },
     "execution_count": 32,
     "metadata": {},
     "output_type": "execute_result"
    }
   ],
   "source": [
    "n = 100\n",
    "\n",
    "# simulando valores de altura e calorias consumidas\n",
    "x1 = stats.norm.rvs(1.7, .3, size= n)\n",
    "x2 = stats.norm.rvs(2000, 500, size= n)\n",
    "\n",
    "#simulando variação dos estimadores dos betas 1 e 2\n",
    "beta_1_simulados = stats.norm.rvs(beta_1, beta_1/10, size= n)\n",
    "beta_2_simulados = stats.norm.rvs(beta_2, beta_2/10, size= n)\n",
    "\n",
    "y = beta_0 + beta_1_simulados * x1 + beta_2_simulados * x2\n",
    "\n",
    "dados = pd.DataFrame({'x1': x1,'x2': x2,'y': y})\n",
    "\n",
    "dados\n",
    "\n"
   ]
  },
  {
   "cell_type": "markdown",
   "metadata": {},
   "source": [
    "### d. Estime os parâmetros do modelo, seus erros padrões e faça teste de hipóteses adequados. Explique quais são os testes e dê a sua conclusão com 95% de confiança. Você pode usar as funções residentes do R para estas tarefas."
   ]
  },
  {
   "cell_type": "code",
   "execution_count": 34,
   "metadata": {},
   "outputs": [
    {
     "data": {
      "text/html": [
       "<table class=\"simpletable\">\n",
       "<caption>OLS Regression Results</caption>\n",
       "<tr>\n",
       "  <th>Dep. Variable:</th>            <td>y</td>        <th>  R-squared:         </th> <td>   0.742</td>\n",
       "</tr>\n",
       "<tr>\n",
       "  <th>Model:</th>                   <td>OLS</td>       <th>  Adj. R-squared:    </th> <td>   0.736</td>\n",
       "</tr>\n",
       "<tr>\n",
       "  <th>Method:</th>             <td>Least Squares</td>  <th>  F-statistic:       </th> <td>   139.3</td>\n",
       "</tr>\n",
       "<tr>\n",
       "  <th>Date:</th>             <td>Fri, 05 Nov 2021</td> <th>  Prob (F-statistic):</th> <td>3.03e-29</td>\n",
       "</tr>\n",
       "<tr>\n",
       "  <th>Time:</th>                 <td>21:06:02</td>     <th>  Log-Likelihood:    </th> <td> -301.17</td>\n",
       "</tr>\n",
       "<tr>\n",
       "  <th>No. Observations:</th>      <td>   100</td>      <th>  AIC:               </th> <td>   608.3</td>\n",
       "</tr>\n",
       "<tr>\n",
       "  <th>Df Residuals:</th>          <td>    97</td>      <th>  BIC:               </th> <td>   616.2</td>\n",
       "</tr>\n",
       "<tr>\n",
       "  <th>Df Model:</th>              <td>     2</td>      <th>                     </th>     <td> </td>   \n",
       "</tr>\n",
       "<tr>\n",
       "  <th>Covariance Type:</th>      <td>nonrobust</td>    <th>                     </th>     <td> </td>   \n",
       "</tr>\n",
       "</table>\n",
       "<table class=\"simpletable\">\n",
       "<tr>\n",
       "    <td></td>       <th>coef</th>     <th>std err</th>      <th>t</th>      <th>P>|t|</th>  <th>[0.025</th>    <th>0.975]</th>  \n",
       "</tr>\n",
       "<tr>\n",
       "  <th>const</th> <td>   24.3829</td> <td>    3.476</td> <td>    7.015</td> <td> 0.000</td> <td>   17.484</td> <td>   31.282</td>\n",
       "</tr>\n",
       "<tr>\n",
       "  <th>x1</th>    <td>   29.2292</td> <td>    1.766</td> <td>   16.551</td> <td> 0.000</td> <td>   25.724</td> <td>   32.734</td>\n",
       "</tr>\n",
       "<tr>\n",
       "  <th>x2</th>    <td>   -0.0001</td> <td>    0.001</td> <td>   -0.108</td> <td> 0.915</td> <td>   -0.002</td> <td>    0.002</td>\n",
       "</tr>\n",
       "</table>\n",
       "<table class=\"simpletable\">\n",
       "<tr>\n",
       "  <th>Omnibus:</th>       <td> 3.665</td> <th>  Durbin-Watson:     </th> <td>   1.909</td>\n",
       "</tr>\n",
       "<tr>\n",
       "  <th>Prob(Omnibus):</th> <td> 0.160</td> <th>  Jarque-Bera (JB):  </th> <td>   2.988</td>\n",
       "</tr>\n",
       "<tr>\n",
       "  <th>Skew:</th>          <td> 0.370</td> <th>  Prob(JB):          </th> <td>   0.225</td>\n",
       "</tr>\n",
       "<tr>\n",
       "  <th>Kurtosis:</th>      <td> 3.413</td> <th>  Cond. No.          </th> <td>1.51e+04</td>\n",
       "</tr>\n",
       "</table><br/><br/>Notes:<br/>[1] Standard Errors assume that the covariance matrix of the errors is correctly specified.<br/>[2] The condition number is large, 1.51e+04. This might indicate that there are<br/>strong multicollinearity or other numerical problems."
      ],
      "text/plain": [
       "<class 'statsmodels.iolib.summary.Summary'>\n",
       "\"\"\"\n",
       "                            OLS Regression Results                            \n",
       "==============================================================================\n",
       "Dep. Variable:                      y   R-squared:                       0.742\n",
       "Model:                            OLS   Adj. R-squared:                  0.736\n",
       "Method:                 Least Squares   F-statistic:                     139.3\n",
       "Date:                Fri, 05 Nov 2021   Prob (F-statistic):           3.03e-29\n",
       "Time:                        21:06:02   Log-Likelihood:                -301.17\n",
       "No. Observations:                 100   AIC:                             608.3\n",
       "Df Residuals:                      97   BIC:                             616.2\n",
       "Df Model:                           2                                         \n",
       "Covariance Type:            nonrobust                                         \n",
       "==============================================================================\n",
       "                 coef    std err          t      P>|t|      [0.025      0.975]\n",
       "------------------------------------------------------------------------------\n",
       "const         24.3829      3.476      7.015      0.000      17.484      31.282\n",
       "x1            29.2292      1.766     16.551      0.000      25.724      32.734\n",
       "x2            -0.0001      0.001     -0.108      0.915      -0.002       0.002\n",
       "==============================================================================\n",
       "Omnibus:                        3.665   Durbin-Watson:                   1.909\n",
       "Prob(Omnibus):                  0.160   Jarque-Bera (JB):                2.988\n",
       "Skew:                           0.370   Prob(JB):                        0.225\n",
       "Kurtosis:                       3.413   Cond. No.                     1.51e+04\n",
       "==============================================================================\n",
       "\n",
       "Notes:\n",
       "[1] Standard Errors assume that the covariance matrix of the errors is correctly specified.\n",
       "[2] The condition number is large, 1.51e+04. This might indicate that there are\n",
       "strong multicollinearity or other numerical problems.\n",
       "\"\"\""
      ]
     },
     "execution_count": 34,
     "metadata": {},
     "output_type": "execute_result"
    }
   ],
   "source": [
    "import numpy as np\n",
    "import statsmodels.api as sm\n",
    "\n",
    "Y = dados.y\n",
    "\n",
    "BETA_0 = np.ones(n)\n",
    "X = np.vstack((BETA_0, dados[['x1', 'x2']].values.T)).T\n",
    "\n",
    "fit = sm.OLS(Y, X).fit()\n",
    "fit.summary()"
   ]
  }
 ],
 "metadata": {
  "interpreter": {
   "hash": "a9c895529685f6a4dcda43bbbf9124848711d691a289e9363bf3fb81023d30d2"
  },
  "kernelspec": {
   "display_name": "Python 3.9.5 64-bit",
   "name": "python3"
  },
  "language_info": {
   "codemirror_mode": {
    "name": "ipython",
    "version": 3
   },
   "file_extension": ".py",
   "mimetype": "text/x-python",
   "name": "python",
   "nbconvert_exporter": "python",
   "pygments_lexer": "ipython3",
   "version": "3.9.5"
  },
  "orig_nbformat": 4
 },
 "nbformat": 4,
 "nbformat_minor": 2
}
