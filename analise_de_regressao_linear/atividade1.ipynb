{
 "cells": [
  {
   "cell_type": "markdown",
   "metadata": {},
   "source": [
    "# Atividade 1\n",
    "\n",
    "A atividade consiste em importar a base de dados e realizar uma análise exploratória com a finalidade de:\n",
    "- Inspecionar as variáveis quanto a anomalias ou necessidade de curadoria.\n",
    "- Examinar a relação entre as variáveis por meio de gráficos e medidas resumo.\n"
   ]
  },
  {
   "cell_type": "code",
   "execution_count": 1,
   "metadata": {},
   "outputs": [],
   "source": [
    "# Imports \n",
    "import pandas\n",
    "import matplotlib.pyplot as plot\n",
    "from utils import read_cameras_dataset\n",
    "from IPython.display import display, Markdown\n",
    "\n",
    "cameras_dataframe = read_cameras_dataset()"
   ]
  },
  {
   "cell_type": "markdown",
   "metadata": {},
   "source": [
    "## Resumo dos dados"
   ]
  },
  {
   "cell_type": "code",
   "execution_count": 2,
   "metadata": {},
   "outputs": [
    {
     "data": {
      "text/markdown": [
       "- Número de linhas: 256\n",
       "- Número de colunas: 256\n"
      ],
      "text/plain": [
       "<IPython.core.display.Markdown object>"
      ]
     },
     "metadata": {},
     "output_type": "display_data"
    }
   ],
   "source": [
    "colunas = cameras_dataframe.columns\n",
    "display(Markdown(\n",
    "    f'- Número de linhas: {len(cameras_dataframe)}\\n'\n",
    "    f'- Número de colunas: {len(cameras_dataframe)}\\n'\n",
    "))\n"
   ]
  },
  {
   "cell_type": "code",
   "execution_count": 11,
   "metadata": {},
   "outputs": [
    {
     "data": {
      "text/html": [
       "<div>\n",
       "<style scoped>\n",
       "    .dataframe tbody tr th:only-of-type {\n",
       "        vertical-align: middle;\n",
       "    }\n",
       "\n",
       "    .dataframe tbody tr th {\n",
       "        vertical-align: top;\n",
       "    }\n",
       "\n",
       "    .dataframe thead th {\n",
       "        text-align: right;\n",
       "    }\n",
       "</style>\n",
       "<table border=\"1\" class=\"dataframe\">\n",
       "  <thead>\n",
       "    <tr style=\"text-align: right;\">\n",
       "      <th></th>\n",
       "      <th>Tipo</th>\n",
       "      <th>Não Null</th>\n",
       "    </tr>\n",
       "  </thead>\n",
       "  <tbody>\n",
       "    <tr>\n",
       "      <th>id</th>\n",
       "      <td>Int64</td>\n",
       "      <td>256</td>\n",
       "    </tr>\n",
       "    <tr>\n",
       "      <th>name</th>\n",
       "      <td>string</td>\n",
       "      <td>256</td>\n",
       "    </tr>\n",
       "    <tr>\n",
       "      <th>price</th>\n",
       "      <td>Float64</td>\n",
       "      <td>256</td>\n",
       "    </tr>\n",
       "    <tr>\n",
       "      <th>last_update</th>\n",
       "      <td>datetime64[ns]</td>\n",
       "      <td>256</td>\n",
       "    </tr>\n",
       "    <tr>\n",
       "      <th>url</th>\n",
       "      <td>string</td>\n",
       "      <td>256</td>\n",
       "    </tr>\n",
       "    <tr>\n",
       "      <th>popularity</th>\n",
       "      <td>Int64</td>\n",
       "      <td>2</td>\n",
       "    </tr>\n",
       "    <tr>\n",
       "      <th>needs_update</th>\n",
       "      <td>Int64</td>\n",
       "      <td>256</td>\n",
       "    </tr>\n",
       "    <tr>\n",
       "      <th>aperture_max</th>\n",
       "      <td>Float64</td>\n",
       "      <td>250</td>\n",
       "    </tr>\n",
       "    <tr>\n",
       "      <th>base_name</th>\n",
       "      <td>string</td>\n",
       "      <td>256</td>\n",
       "    </tr>\n",
       "    <tr>\n",
       "      <th>brand</th>\n",
       "      <td>string</td>\n",
       "      <td>255</td>\n",
       "    </tr>\n",
       "    <tr>\n",
       "      <th>display_size</th>\n",
       "      <td>Float64</td>\n",
       "      <td>245</td>\n",
       "    </tr>\n",
       "    <tr>\n",
       "      <th>dslr_camera</th>\n",
       "      <td>Int64</td>\n",
       "      <td>256</td>\n",
       "    </tr>\n",
       "    <tr>\n",
       "      <th>focal_35mm_max</th>\n",
       "      <td>Float64</td>\n",
       "      <td>228</td>\n",
       "    </tr>\n",
       "    <tr>\n",
       "      <th>focal_35mm_min</th>\n",
       "      <td>Float64</td>\n",
       "      <td>228</td>\n",
       "    </tr>\n",
       "    <tr>\n",
       "      <th>focal_length_max</th>\n",
       "      <td>Float64</td>\n",
       "      <td>240</td>\n",
       "    </tr>\n",
       "    <tr>\n",
       "      <th>focal_length_min</th>\n",
       "      <td>Float64</td>\n",
       "      <td>240</td>\n",
       "    </tr>\n",
       "    <tr>\n",
       "      <th>fps</th>\n",
       "      <td>Float64</td>\n",
       "      <td>209</td>\n",
       "    </tr>\n",
       "    <tr>\n",
       "      <th>iso_max</th>\n",
       "      <td>Int64</td>\n",
       "      <td>240</td>\n",
       "    </tr>\n",
       "    <tr>\n",
       "      <th>iso_min</th>\n",
       "      <td>Int64</td>\n",
       "      <td>240</td>\n",
       "    </tr>\n",
       "    <tr>\n",
       "      <th>lens_interchangeable</th>\n",
       "      <td>Int64</td>\n",
       "      <td>256</td>\n",
       "    </tr>\n",
       "    <tr>\n",
       "      <th>optical_zoom</th>\n",
       "      <td>Float64</td>\n",
       "      <td>250</td>\n",
       "    </tr>\n",
       "    <tr>\n",
       "      <th>release_date</th>\n",
       "      <td>datetime64[ns]</td>\n",
       "      <td>256</td>\n",
       "    </tr>\n",
       "    <tr>\n",
       "      <th>sensor_resolution</th>\n",
       "      <td>Float64</td>\n",
       "      <td>256</td>\n",
       "    </tr>\n",
       "    <tr>\n",
       "      <th>sensor_size</th>\n",
       "      <td>string</td>\n",
       "      <td>229</td>\n",
       "    </tr>\n",
       "    <tr>\n",
       "      <th>sensor_type</th>\n",
       "      <td>string</td>\n",
       "      <td>245</td>\n",
       "    </tr>\n",
       "    <tr>\n",
       "      <th>video_resolution_x</th>\n",
       "      <td>Int64</td>\n",
       "      <td>249</td>\n",
       "    </tr>\n",
       "    <tr>\n",
       "      <th>video_resolution_y</th>\n",
       "      <td>Int64</td>\n",
       "      <td>249</td>\n",
       "    </tr>\n",
       "    <tr>\n",
       "      <th>viewfinder_type</th>\n",
       "      <td>string</td>\n",
       "      <td>256</td>\n",
       "    </tr>\n",
       "    <tr>\n",
       "      <th>weight</th>\n",
       "      <td>Float64</td>\n",
       "      <td>245</td>\n",
       "    </tr>\n",
       "    <tr>\n",
       "      <th>weight_body</th>\n",
       "      <td>Float64</td>\n",
       "      <td>100</td>\n",
       "    </tr>\n",
       "    <tr>\n",
       "      <th>weight_lens</th>\n",
       "      <td>Float64</td>\n",
       "      <td>99</td>\n",
       "    </tr>\n",
       "    <tr>\n",
       "      <th>release_month</th>\n",
       "      <td>datetime64[ns]</td>\n",
       "      <td>256</td>\n",
       "    </tr>\n",
       "  </tbody>\n",
       "</table>\n",
       "</div>"
      ],
      "text/plain": [
       "                                Tipo  Não Null\n",
       "id                             Int64       256\n",
       "name                          string       256\n",
       "price                        Float64       256\n",
       "last_update           datetime64[ns]       256\n",
       "url                           string       256\n",
       "popularity                     Int64         2\n",
       "needs_update                   Int64       256\n",
       "aperture_max                 Float64       250\n",
       "base_name                     string       256\n",
       "brand                         string       255\n",
       "display_size                 Float64       245\n",
       "dslr_camera                    Int64       256\n",
       "focal_35mm_max               Float64       228\n",
       "focal_35mm_min               Float64       228\n",
       "focal_length_max             Float64       240\n",
       "focal_length_min             Float64       240\n",
       "fps                          Float64       209\n",
       "iso_max                        Int64       240\n",
       "iso_min                        Int64       240\n",
       "lens_interchangeable           Int64       256\n",
       "optical_zoom                 Float64       250\n",
       "release_date          datetime64[ns]       256\n",
       "sensor_resolution            Float64       256\n",
       "sensor_size                   string       229\n",
       "sensor_type                   string       245\n",
       "video_resolution_x             Int64       249\n",
       "video_resolution_y             Int64       249\n",
       "viewfinder_type               string       256\n",
       "weight                       Float64       245\n",
       "weight_body                  Float64       100\n",
       "weight_lens                  Float64        99\n",
       "release_month         datetime64[ns]       256"
      ]
     },
     "execution_count": 11,
     "metadata": {},
     "output_type": "execute_result"
    }
   ],
   "source": [
    "colunas_dtypes = cameras_dataframe.dtypes\n",
    "colunas_not_null = cameras_dataframe.count()\n",
    "colunas_info = pandas.concat({\"Tipo\": colunas_dtypes, \"Não Null\": colunas_not_null}, axis=1)\n",
    "\n",
    "colunas_info"
   ]
  },
  {
   "cell_type": "markdown",
   "metadata": {},
   "source": [
    "## Variável Resposta\n",
    "\n",
    "- Preço (price)\n",
    "\n",
    "## Possíveis variáveis preditoras\n",
    "\n",
    "- Resolução do Sensor (sensor_resolution)\n",
    "- Zoom Óptico (optical_zoom)\n",
    "- Tamanho do Display (display_size)\n",
    "\n",
    "## Correlação entre possíveis variáveis preditoras e a variável resposta\n"
   ]
  },
  {
   "cell_type": "code",
   "execution_count": 4,
   "metadata": {},
   "outputs": [
    {
     "data": {
      "text/markdown": [
       "| Coluna            |   Correlação |\n",
       "|:------------------|-------------:|\n",
       "| sensor_resolution |     0.611263 |\n",
       "| optical_zoom      |    -0.170697 |\n",
       "| display_size      |     0.291625 |"
      ],
      "text/plain": [
       "<IPython.core.display.Markdown object>"
      ]
     },
     "metadata": {},
     "output_type": "display_data"
    },
    {
     "data": {
      "text/plain": [
       "<AxesSubplot:>"
      ]
     },
     "execution_count": 4,
     "metadata": {},
     "output_type": "execute_result"
    },
    {
     "data": {
      "image/png": "[encoded data removed]",
      "text/plain": [
       "<Figure size 432x288 with 1 Axes>"
      ]
     },
     "metadata": {
      "needs_background": "light"
     },
     "output_type": "display_data"
    }
   ],
   "source": [
    "colunas_preditivas = ['sensor_resolution', 'optical_zoom', 'display_size']\n",
    "precos = cameras_dataframe.price.astype('float64')\n",
    "correlacoes = []\n",
    "\n",
    "for coluna_preditiva in colunas_preditivas:\n",
    "    coluna_preditiva_valores = cameras_dataframe[coluna_preditiva].dropna().astype('float64')\n",
    "    correlacoes.append(precos.corr(coluna_preditiva_valores))\n",
    "\n",
    "correlacoes_dataframe = pandas.DataFrame(correlacoes, columns=[\"correlacao\"], index=colunas_preditivas)\n",
    "display(Markdown(correlacoes_dataframe.to_markdown(headers= [\"Coluna\", \"Correlação\"])))\n",
    "correlacoes_dataframe.plot.bar()"
   ]
  },
  {
   "cell_type": "code",
   "execution_count": null,
   "metadata": {},
   "outputs": [],
   "source": []
  }
 ],
 "metadata": {
  "interpreter": {
   "hash": "a9c895529685f6a4dcda43bbbf9124848711d691a289e9363bf3fb81023d30d2"
  },
  "kernelspec": {
   "display_name": "Python 3.9.5 64-bit",
   "name": "python3"
  },
  "language_info": {
   "codemirror_mode": {
    "name": "ipython",
    "version": 3
   },
   "file_extension": ".py",
   "mimetype": "text/x-python",
   "name": "python",
   "nbconvert_exporter": "python",
   "pygments_lexer": "ipython3",
   "version": "3.9.5"
  }
 },
 "nbformat": 4,
 "nbformat_minor": 4
}
