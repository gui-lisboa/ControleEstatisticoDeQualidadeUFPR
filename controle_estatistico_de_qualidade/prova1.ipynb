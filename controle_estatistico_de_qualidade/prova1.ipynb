{
 "cells": [
  {
   "cell_type": "code",
   "execution_count": 5,
   "metadata": {},
   "outputs": [],
   "source": [
    "# Imports\n",
    "from IPython.display import display, HTML\n",
    "import numpy as np\n",
    "import pandas as pd\n",
    "import scipy.stats as stats\n",
    "import matplotlib.pyplot as plt\n",
    "import seaborn as sns\n"
   ]
  },
  {
   "cell_type": "code",
   "execution_count": 14,
   "metadata": {},
   "outputs": [
    {
     "data": {
      "text/plain": [
       "(36.4, array([36.975, 37.1  , 37.3  ]), 37.8)"
      ]
     },
     "metadata": {},
     "output_type": "display_data"
    },
    {
     "data": {
      "text/plain": [
       "0.293807855560021"
      ]
     },
     "metadata": {},
     "output_type": "display_data"
    },
    {
     "data": {
      "text/plain": [
       "array([0.23214286])"
      ]
     },
     "metadata": {},
     "output_type": "display_data"
    }
   ],
   "source": [
    "# questão 1\n",
    "\n",
    "dados = [37.2, 37.2, 37.8, 36.8, 37.2, 37.5, 37.4, 37.0, 36.9, 37.2,\n",
    "         37.4, 37.4, 37.1, 37.1, 37.2, 37.2, 36.9, 36.8, 36.8, 37.3,\n",
    "         37.5, 36.8, 36.4, 37.3, 37.4, 37.3, 37.3, 36.9, 37.1, 37.2,\n",
    "         37.0, 37.5, 37.1, 37.6, 37.0, 37.3, 36.7, 37.6, 36.7, 36.5,\n",
    "         37.1, 36.8, 37.1, 36.5, 37.1, 37.3, 36.8, 37.1, 37.3, 37.1,\n",
    "         37.0, 37.7, 37.1, 37.5, 37.2, 37.3, 37.1, 37.1, 37.1, 36.8]\n",
    "\n",
    "media = np.mean(dados)\n",
    "desvio = np.std(dados)\n",
    "mediana = np.median(dados)\n",
    "quartis = np.percentile(dados, [25, 50, 75])\n",
    "minimo, maximo = np.min(dados), np.max(dados)\n",
    "\n",
    "display((minimo, quartis, maximo))\n",
    "\n",
    "assimetria = 3*(media - mediana)/desvio\n",
    "display(assimetria)\n",
    "\n",
    "curtose = (quartis[2] - quartis[0])/(2 *(np.percentile(dados, [90]) - np.percentile(dados, [10])))\n",
    "\n",
    "display(curtose)"
   ]
  },
  {
   "cell_type": "code",
   "execution_count": 18,
   "metadata": {},
   "outputs": [
    {
     "data": {
      "text/plain": [
       "(2.0000000000000284, 0.022750131948177654)"
      ]
     },
     "metadata": {},
     "output_type": "display_data"
    }
   ],
   "source": [
    "# questão 2\n",
    "\n",
    "n=100\n",
    "media_amostral = 74.2\n",
    "desvio_padrao = 1\n",
    "desvio_padrao_media = .1\n",
    "media = 74\n",
    "\n",
    "estatistica_de_teste = (media_amostral - media) / desvio_padrao_media\n",
    "pvalor = 1- stats.norm.cdf(abs(estatistica_de_teste))\n",
    "\n",
    "display((estatistica_de_teste, pvalor))"
   ]
  },
  {
   "cell_type": "code",
   "execution_count": 35,
   "metadata": {},
   "outputs": [
    {
     "data": {
      "text/html": [
       "<div>\n",
       "<style scoped>\n",
       "    .dataframe tbody tr th:only-of-type {\n",
       "        vertical-align: middle;\n",
       "    }\n",
       "\n",
       "    .dataframe tbody tr th {\n",
       "        vertical-align: top;\n",
       "    }\n",
       "\n",
       "    .dataframe thead th {\n",
       "        text-align: right;\n",
       "    }\n",
       "</style>\n",
       "<table border=\"1\" class=\"dataframe\">\n",
       "  <thead>\n",
       "    <tr style=\"text-align: right;\">\n",
       "      <th></th>\n",
       "      <th>a</th>\n",
       "      <th>b</th>\n",
       "      <th>medias</th>\n",
       "      <th>amplitudes</th>\n",
       "      <th>variancias</th>\n",
       "      <th>desvios_padrao</th>\n",
       "    </tr>\n",
       "  </thead>\n",
       "  <tbody>\n",
       "    <tr>\n",
       "      <th>0</th>\n",
       "      <td>2</td>\n",
       "      <td>2</td>\n",
       "      <td>2.0</td>\n",
       "      <td>0</td>\n",
       "      <td>0.444444</td>\n",
       "      <td>0.666667</td>\n",
       "    </tr>\n",
       "    <tr>\n",
       "      <th>1</th>\n",
       "      <td>2</td>\n",
       "      <td>3</td>\n",
       "      <td>2.5</td>\n",
       "      <td>1</td>\n",
       "      <td>0.250000</td>\n",
       "      <td>0.500000</td>\n",
       "    </tr>\n",
       "    <tr>\n",
       "      <th>2</th>\n",
       "      <td>2</td>\n",
       "      <td>7</td>\n",
       "      <td>4.5</td>\n",
       "      <td>5</td>\n",
       "      <td>0.027778</td>\n",
       "      <td>0.166667</td>\n",
       "    </tr>\n",
       "    <tr>\n",
       "      <th>3</th>\n",
       "      <td>3</td>\n",
       "      <td>2</td>\n",
       "      <td>2.5</td>\n",
       "      <td>1</td>\n",
       "      <td>0.250000</td>\n",
       "      <td>0.500000</td>\n",
       "    </tr>\n",
       "    <tr>\n",
       "      <th>4</th>\n",
       "      <td>3</td>\n",
       "      <td>3</td>\n",
       "      <td>3.0</td>\n",
       "      <td>0</td>\n",
       "      <td>0.111111</td>\n",
       "      <td>0.333333</td>\n",
       "    </tr>\n",
       "    <tr>\n",
       "      <th>5</th>\n",
       "      <td>3</td>\n",
       "      <td>7</td>\n",
       "      <td>5.0</td>\n",
       "      <td>4</td>\n",
       "      <td>0.111111</td>\n",
       "      <td>0.333333</td>\n",
       "    </tr>\n",
       "    <tr>\n",
       "      <th>6</th>\n",
       "      <td>7</td>\n",
       "      <td>2</td>\n",
       "      <td>4.5</td>\n",
       "      <td>5</td>\n",
       "      <td>0.027778</td>\n",
       "      <td>0.166667</td>\n",
       "    </tr>\n",
       "    <tr>\n",
       "      <th>7</th>\n",
       "      <td>7</td>\n",
       "      <td>3</td>\n",
       "      <td>5.0</td>\n",
       "      <td>4</td>\n",
       "      <td>0.111111</td>\n",
       "      <td>0.333333</td>\n",
       "    </tr>\n",
       "    <tr>\n",
       "      <th>8</th>\n",
       "      <td>7</td>\n",
       "      <td>7</td>\n",
       "      <td>7.0</td>\n",
       "      <td>0</td>\n",
       "      <td>1.000000</td>\n",
       "      <td>1.000000</td>\n",
       "    </tr>\n",
       "  </tbody>\n",
       "</table>\n",
       "</div>"
      ],
      "text/plain": [
       "   a  b  medias  amplitudes  variancias  desvios_padrao\n",
       "0  2  2     2.0           0    0.444444        0.666667\n",
       "1  2  3     2.5           1    0.250000        0.500000\n",
       "2  2  7     4.5           5    0.027778        0.166667\n",
       "3  3  2     2.5           1    0.250000        0.500000\n",
       "4  3  3     3.0           0    0.111111        0.333333\n",
       "5  3  7     5.0           4    0.111111        0.333333\n",
       "6  7  2     4.5           5    0.027778        0.166667\n",
       "7  7  3     5.0           4    0.111111        0.333333\n",
       "8  7  7     7.0           0    1.000000        1.000000"
      ]
     },
     "metadata": {},
     "output_type": "display_data"
    },
    {
     "data": {
      "text/plain": [
       "4.0"
      ]
     },
     "metadata": {},
     "output_type": "display_data"
    },
    {
     "data": {
      "text/plain": [
       "4.0"
      ]
     },
     "metadata": {},
     "output_type": "display_data"
    },
    {
     "data": {
      "text/plain": [
       "4.5"
      ]
     },
     "metadata": {},
     "output_type": "display_data"
    }
   ],
   "source": [
    "# questão 3\n",
    "\n",
    "amostras = pd.DataFrame({\n",
    "    'a': [2, 2, 2, 3, 3, 3, 7, 7, 7],\n",
    "    'b': [2, 3, 7, 2, 3, 7, 2, 3, 7]\n",
    "})\n",
    "\n",
    "amostras['medias'] = (amostras.a + amostras.b)/2\n",
    "amostras['amplitudes'] = abs(amostras.a - amostras.b)\n",
    "amostras['variancias'] = ((amostras.medias - amostras.medias.mean())**2)/len(amostras)\n",
    "amostras['desvios_padrao'] = np.sqrt(amostras.variancias)\n",
    "\n",
    "media = (amostras.a + amostras.b).sum()/(len(amostras)*2)\n",
    "media_das_medias = amostras.medias.mean()\n",
    "mediana_medias = amostras.medias.median()\n",
    "display(amostras, media, media_das_medias, mediana_medias)"
   ]
  }
 ],
 "metadata": {
  "interpreter": {
   "hash": "a9c895529685f6a4dcda43bbbf9124848711d691a289e9363bf3fb81023d30d2"
  },
  "kernelspec": {
   "display_name": "Python 3.9.5 64-bit",
   "language": "python",
   "name": "python3"
  },
  "language_info": {
   "codemirror_mode": {
    "name": "ipython",
    "version": 3
   },
   "file_extension": ".py",
   "mimetype": "text/x-python",
   "name": "python",
   "nbconvert_exporter": "python",
   "pygments_lexer": "ipython3",
   "version": "3.9.5"
  },
  "orig_nbformat": 4
 },
 "nbformat": 4,
 "nbformat_minor": 2
}
