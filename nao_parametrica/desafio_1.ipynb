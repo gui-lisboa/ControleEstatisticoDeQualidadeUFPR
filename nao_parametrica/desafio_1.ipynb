{
 "cells": [
  {
   "cell_type": "markdown",
   "metadata": {},
   "source": [
    "# Teste Não-Paramétrico de Alternativas Ordenadas de Jonckheere-Terpstra\n",
    "\n",
    "*** RASCUNHO ***\n",
    "\n",
    "https://www.real-statistics.com/one-way-analysis-of-variance-anova/jonckheere-terpstre-test/\n",
    "\n",
    "https://www.lexjansen.com/pharmasug/1997/STAT_PK/st04.pdf\n",
    "\n",
    "https://math.montana.edu/jobo/thainp/twosampb.pdf\n"
   ]
  },
  {
   "cell_type": "markdown",
   "metadata": {},
   "source": [
    "## Estatística Mann-Whitney $U_{ij}$"
   ]
  },
  {
   "cell_type": "code",
   "execution_count": 1,
   "metadata": {},
   "outputs": [],
   "source": [
    "import numpy as np\n",
    "import pandas as pd\n",
    "\n",
    "class UijStatistics:\n",
    "\n",
    "    __statistics_matrix: np.ndarray\n",
    "\n",
    "    def __init__(self, data: pd.DataFrame):\n",
    "        self.__statistics_matrix = self.__calculate_u_ij_statistics(data)\n",
    "\n",
    "    @property\n",
    "    def values(self):\n",
    "        return self.__statistics_matrix\n",
    "        \n",
    "    def __calculate_u_ij_statistics(self, data: pd.DataFrame) -> np.ndarray:\n",
    "        treatments_count = len(data.columns)\n",
    "        statistics = np.ndarray(shape=(treatments_count, treatments_count))\n",
    "        values_matrix = data.T.to_numpy()\n",
    "\n",
    "        for (i, j), _ in np.ndenumerate(statistics):\n",
    "            if i >= j:\n",
    "                statistics[i, j] = 0\n",
    "                continue\n",
    "            statistics[i, j] = self.__calculate_ij_pair_score(values_matrix[i], values_matrix[j])\n",
    "        \n",
    "        return statistics\n",
    "\n",
    "    def __calculate_ij_pair_score(self, a_values: np.ndarray, b_values: np.ndarray) -> np.number:\n",
    "        score = 0\n",
    "        for a_value in a_values:\n",
    "            for b_value in b_values:\n",
    "                if a_value <= b_value:\n",
    "                    score += 1 if a_value < b_value else 0.5\n",
    "        return score"
   ]
  },
  {
   "cell_type": "markdown",
   "metadata": {},
   "source": [
    "## Teste de Jonckheere-Terpstra"
   ]
  },
  {
   "cell_type": "code",
   "execution_count": 2,
   "metadata": {},
   "outputs": [],
   "source": [
    "import scipy.stats as scipy_stats\n",
    "\n",
    "class JonckheereTerpstraTest:\n",
    "\n",
    "    __data: pd.DataFrame\n",
    "    __N: np.number\n",
    "    __n_i: np.ndarray\n",
    "    __u_ij_statistics: np.ndarray\n",
    "\n",
    "    def __init__(self, data: pd.DataFrame):\n",
    "        self.__data = data\n",
    "        self.__n_i = data.count(\"columns\")\n",
    "        self.__N = self.__n_i.sum()\n",
    "        self.__u_ij_statistics = UijStatistics(data).values\n",
    "\n",
    "    @property\n",
    "    def data(self) -> pd.DataFrame:\n",
    "        return self.__data\n",
    "\n",
    "    @property\n",
    "    def e0_j(self) -> np.number:\n",
    "        N_squared = self.__N**2\n",
    "        n_squared_sum = np.sum(self.__n_i**2)\n",
    "        return (N_squared - n_squared_sum) / 4\n",
    "\n",
    "    # TODO: usar cálculo completo conforme p2 do https://www.lexjansen.com/pharmasug/1997/STAT_PK/st04.pdf e doc do SAS https://v8doc.sas.com/sashtml/stat/chap28/sect25.htm\n",
    "    @property\n",
    "    def var0_j(self) -> np.number:\n",
    "        N = self.__N\n",
    "        n = self.__n_i\n",
    "        return ((N**2) * (2 * N + 3) - np.sum((n**2) * (2 * n + 3))) / 72\n",
    "\n",
    "    @property\n",
    "    def u_ij_statistics(self) -> np.ndarray:\n",
    "        return self.__u_ij_statistics\n",
    "\n",
    "    @property\n",
    "    def j_statistic(self) -> np.number:\n",
    "        return np.sum(self.__u_ij_statistics)\n",
    "\n",
    "    @property\n",
    "    def z_statistic(self) -> np.number:\n",
    "        return (self.j_statistic - self.e0_j) / np.sqrt(self.var0_j)\n",
    "\n",
    "    @property\n",
    "    def p_value(self) -> np.number:\n",
    "        return 1 - scipy_stats.norm.cdf(abs(self.z_statistic))"
   ]
  },
  {
   "cell_type": "markdown",
   "metadata": {},
   "source": [
    "## Exemplo\n",
    "\n",
    "exemplo 1 do https://www.lexjansen.com/pharmasug/1997/STAT_PK/st04.pdf"
   ]
  },
  {
   "cell_type": "code",
   "execution_count": 3,
   "metadata": {},
   "outputs": [
    {
     "data": {
      "text/html": [
       "<div>\n",
       "<style scoped>\n",
       "    .dataframe tbody tr th:only-of-type {\n",
       "        vertical-align: middle;\n",
       "    }\n",
       "\n",
       "    .dataframe tbody tr th {\n",
       "        vertical-align: top;\n",
       "    }\n",
       "\n",
       "    .dataframe thead th {\n",
       "        text-align: right;\n",
       "    }\n",
       "</style>\n",
       "<table border=\"1\" class=\"dataframe\">\n",
       "  <thead>\n",
       "    <tr style=\"text-align: right;\">\n",
       "      <th></th>\n",
       "      <th>I</th>\n",
       "      <th>II</th>\n",
       "      <th>III</th>\n",
       "      <th>IV</th>\n",
       "    </tr>\n",
       "  </thead>\n",
       "  <tbody>\n",
       "    <tr>\n",
       "      <th>0</th>\n",
       "      <td>19</td>\n",
       "      <td>21</td>\n",
       "      <td>40</td>\n",
       "      <td>49</td>\n",
       "    </tr>\n",
       "    <tr>\n",
       "      <th>1</th>\n",
       "      <td>20</td>\n",
       "      <td>61</td>\n",
       "      <td>99</td>\n",
       "      <td>110</td>\n",
       "    </tr>\n",
       "    <tr>\n",
       "      <th>2</th>\n",
       "      <td>60</td>\n",
       "      <td>80</td>\n",
       "      <td>100</td>\n",
       "      <td>151</td>\n",
       "    </tr>\n",
       "    <tr>\n",
       "      <th>3</th>\n",
       "      <td>130</td>\n",
       "      <td>129</td>\n",
       "      <td>149</td>\n",
       "      <td>160</td>\n",
       "    </tr>\n",
       "  </tbody>\n",
       "</table>\n",
       "</div>"
      ],
      "text/plain": [
       "     I   II  III   IV\n",
       "0   19   21   40   49\n",
       "1   20   61   99  110\n",
       "2   60   80  100  151\n",
       "3  130  129  149  160"
      ]
     },
     "execution_count": 3,
     "metadata": {},
     "output_type": "execute_result"
    }
   ],
   "source": [
    "from IPython.display import display, Latex\n",
    "\n",
    "teste_data = pd.DataFrame(\n",
    "    {\n",
    "        \"I\": [19, 20, 60, 130],\n",
    "        \"II\": [21, 61, 80, 129],\n",
    "        \"III\": [40, 99, 100, 149],\n",
    "        \"IV\": [49, 110, 151, 160],\n",
    "    },\n",
    "    dtype=int,\n",
    ")\n",
    "\n",
    "exemplo_1 = JonckheereTerpstraTest(teste_data)\n",
    "\n",
    "exemplo_1.data"
   ]
  },
  {
   "cell_type": "code",
   "execution_count": 4,
   "metadata": {},
   "outputs": [
    {
     "data": {
      "text/latex": [
       "E_{0}(J) =48.0"
      ],
      "text/plain": [
       "<IPython.core.display.Latex object>"
      ]
     },
     "execution_count": 4,
     "metadata": {},
     "output_type": "execute_result"
    }
   ],
   "source": [
    "Latex(r'E_{0}(J) =' + f'{exemplo_1.e0_j}')"
   ]
  },
  {
   "cell_type": "code",
   "execution_count": 5,
   "metadata": {},
   "outputs": [
    {
     "data": {
      "text/latex": [
       "Var_{0}(J) =114.66666666666667"
      ],
      "text/plain": [
       "<IPython.core.display.Latex object>"
      ]
     },
     "execution_count": 5,
     "metadata": {},
     "output_type": "execute_result"
    }
   ],
   "source": [
    "Latex(r'Var_{0}(J) =' + f'{exemplo_1.var0_j}')"
   ]
  },
  {
   "cell_type": "code",
   "execution_count": 12,
   "metadata": {},
   "outputs": [
    {
     "data": {
      "text/latex": [
       "\\sqrt{Var_{0}(J)} =10.708252269472673"
      ],
      "text/plain": [
       "<IPython.core.display.Latex object>"
      ]
     },
     "execution_count": 12,
     "metadata": {},
     "output_type": "execute_result"
    }
   ],
   "source": [
    "Latex(r'\\sqrt{Var_{0}(J)} =' + f'{np.sqrt(exemplo_1.var0_j)}')"
   ]
  },
  {
   "cell_type": "code",
   "execution_count": 15,
   "metadata": {},
   "outputs": [
    {
     "data": {
      "text/latex": [
       "\\begin{gather}U_{ij} =\n",
       "\\begin{bmatrix}\n",
       "  0. & 11. & 12. & 13.\\\\\n",
       "  0. & 0. & 11. & 12.\\\\\n",
       "  0. & 0. & 0. & 12.\\\\\n",
       "  0. & 0. & 0. & 0.\\\\\n",
       "\\end{bmatrix}\\end{gather}"
      ],
      "text/plain": [
       "<IPython.core.display.Latex object>"
      ]
     },
     "execution_count": 15,
     "metadata": {},
     "output_type": "execute_result"
    }
   ],
   "source": [
    "import utils\n",
    "\n",
    "Latex(r'\\begin{gather}' +\n",
    "      utils.array_to_latex(exemplo_1.u_ij_statistics, r'U_{ij} =') +\n",
    "      r'\\end{gather}')"
   ]
  },
  {
   "cell_type": "code",
   "execution_count": 8,
   "metadata": {},
   "outputs": [
    {
     "data": {
      "text/latex": [
       "J =48.0"
      ],
      "text/plain": [
       "<IPython.core.display.Latex object>"
      ]
     },
     "execution_count": 8,
     "metadata": {},
     "output_type": "execute_result"
    }
   ],
   "source": [
    "Latex(r'J =' + f'{exemplo_1.e0_j}')"
   ]
  },
  {
   "cell_type": "code",
   "execution_count": 9,
   "metadata": {},
   "outputs": [
    {
     "data": {
      "text/latex": [
       "Z =2.1478761819581815"
      ],
      "text/plain": [
       "<IPython.core.display.Latex object>"
      ]
     },
     "execution_count": 9,
     "metadata": {},
     "output_type": "execute_result"
    }
   ],
   "source": [
    "Latex(r'Z =' + f'{exemplo_1.z_statistic}')"
   ]
  },
  {
   "cell_type": "code",
   "execution_count": 10,
   "metadata": {},
   "outputs": [
    {
     "data": {
      "text/latex": [
       "pvalor =0.01586179648596653"
      ],
      "text/plain": [
       "<IPython.core.display.Latex object>"
      ]
     },
     "execution_count": 10,
     "metadata": {},
     "output_type": "execute_result"
    }
   ],
   "source": [
    "Latex(r'pvalor =' + f'{exemplo_1.p_value}')"
   ]
  }
 ],
 "metadata": {
  "interpreter": {
   "hash": "72b0bf3133a604a4d451aee3766310d35bbeb619e39a38225d6544be89c49642"
  },
  "kernelspec": {
   "display_name": "Python 3.10.2 ('venv': venv)",
   "language": "python",
   "name": "python3"
  },
  "language_info": {
   "codemirror_mode": {
    "name": "ipython",
    "version": 3
   },
   "file_extension": ".py",
   "mimetype": "text/x-python",
   "name": "python",
   "nbconvert_exporter": "python",
   "pygments_lexer": "ipython3",
   "version": "3.10.2"
  },
  "orig_nbformat": 4
 },
 "nbformat": 4,
 "nbformat_minor": 2
}
