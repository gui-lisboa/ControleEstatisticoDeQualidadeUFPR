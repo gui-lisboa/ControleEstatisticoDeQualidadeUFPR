{
 "cells": [
  {
   "cell_type": "markdown",
   "metadata": {},
   "source": [
    "# Teste Não-Paramétrico de Alternativas Ordenadas de Jonckheere-Terpstra\n",
    "\n",
    "*** RASCUNHO ***\n",
    "\n",
    "https://www.real-statistics.com/one-way-analysis-of-variance-anova/jonckheere-terpstre-test/\n",
    "\n",
    "https://www.lexjansen.com/pharmasug/1997/STAT_PK/st04.pdf\n",
    "\n",
    "https://math.montana.edu/jobo/thainp/twosampb.pdf\n"
   ]
  },
  {
   "cell_type": "markdown",
   "metadata": {},
   "source": [
    "## Estatística Mann-Whitney $U_{ij}$"
   ]
  },
  {
   "cell_type": "code",
   "execution_count": 147,
   "metadata": {},
   "outputs": [],
   "source": [
    "import numpy as np\n",
    "import pandas as pd\n",
    "\n",
    "class UijStatistics:\n",
    "\n",
    "    __statistics_matrix: np.ndarray\n",
    "\n",
    "    def __init__(self, data: pd.DataFrame):\n",
    "        self.__statistics_matrix = self.__calculate_u_ij_statistics(data)\n",
    "\n",
    "    @property\n",
    "    def values(self) -> np.ndarray:\n",
    "        return self.__statistics_matrix\n",
    "        \n",
    "    def __calculate_u_ij_statistics(self, data: pd.DataFrame) -> np.ndarray:\n",
    "        treatments_count = len(data.columns)\n",
    "        statistics = np.ndarray(shape=(treatments_count, treatments_count))\n",
    "        values_matrix = data.T.to_numpy()\n",
    "\n",
    "        for (i, j), _ in np.ndenumerate(statistics):\n",
    "            if i >= j:\n",
    "                statistics[i, j] = 0\n",
    "                continue\n",
    "            statistics[i, j] = self.__calculate_ij_pair_score(values_matrix[i], values_matrix[j])\n",
    "        \n",
    "        return statistics\n",
    "\n",
    "    def __calculate_ij_pair_score(self, a_values: np.ndarray, b_values: np.ndarray) -> np.number:\n",
    "        score = 0\n",
    "        for a_value in a_values:\n",
    "            for b_value in b_values:\n",
    "                if a_value <= b_value:\n",
    "                    score += 1 if a_value < b_value else 0.5\n",
    "        return score"
   ]
  },
  {
   "cell_type": "markdown",
   "metadata": {},
   "source": [
    "## Teste de Jonckheere-Terpstra"
   ]
  },
  {
   "cell_type": "code",
   "execution_count": 148,
   "metadata": {},
   "outputs": [],
   "source": [
    "import scipy.stats as scipy_stats\n",
    "\n",
    "class JonckheereTerpstraTest:\n",
    "\n",
    "    __data: pd.DataFrame\n",
    "    __N: np.number\n",
    "    __n_i: np.ndarray\n",
    "    __u_ij_statistics: np.ndarray\n",
    "\n",
    "    def __init__(self, data: pd.DataFrame):\n",
    "        self.__data = data\n",
    "        self.__n_i = data.count(\"rows\")\n",
    "        self.__N = self.__n_i.sum()\n",
    "        self.__u_ij_statistics = UijStatistics(data).values\n",
    "\n",
    "    @property\n",
    "    def data(self) -> pd.DataFrame:\n",
    "        return self.__data\n",
    "\n",
    "    @property\n",
    "    def e0_j(self) -> np.number:\n",
    "        N_squared = self.__N**2\n",
    "        n_squared_sum = np.sum(self.__n_i**2)\n",
    "        return (N_squared - n_squared_sum) / 4\n",
    "\n",
    "    # TODO: usar cálculo completo conforme p2 do https://www.lexjansen.com/pharmasug/1997/STAT_PK/st04.pdf ou\n",
    "    #       doc do SAS https://v8doc.sas.com/sashtml/stat/chap28/sect25.htm\n",
    "    @property\n",
    "    def var0_j(self) -> np.number:\n",
    "        N = self.__N\n",
    "        n = self.__n_i\n",
    "        return ((N**2) * (2 * N + 3) - np.sum((n**2) * (2 * n + 3))) / 72\n",
    "\n",
    "    @property\n",
    "    def u_ij_statistics(self) -> np.ndarray:\n",
    "        return self.__u_ij_statistics\n",
    "\n",
    "    @property\n",
    "    def j_statistic(self) -> np.number:\n",
    "        return np.sum(self.__u_ij_statistics)\n",
    "\n",
    "    @property\n",
    "    def z_statistic(self) -> np.number:\n",
    "        return (self.j_statistic - self.e0_j) / np.sqrt(self.var0_j)\n",
    "\n",
    "    @property\n",
    "    def p_value(self) -> np.number:\n",
    "        return 1 - scipy_stats.norm.cdf(abs(self.z_statistic))\n",
    "    \n",
    "    @property\n",
    "    def summary(self) -> str:\n",
    "        return f'E0(J) = {self.e0_j}, Var0(J) = {self.var0_j} ' + \\\n",
    "               '\\n' + \\\n",
    "               f'J = {self.j_statistic}, Z = {self.z_statistic}, p-value = {self.p_value}'"
   ]
  },
  {
   "cell_type": "markdown",
   "metadata": {},
   "source": [
    "## Exemplo\n",
    "\n",
    "exemplo 1 do https://www.lexjansen.com/pharmasug/1997/STAT_PK/st04.pdf"
   ]
  },
  {
   "cell_type": "code",
   "execution_count": 149,
   "metadata": {},
   "outputs": [
    {
     "name": "stdout",
     "output_type": "stream",
     "text": [
      "E0(J) = 48.0, Var0(J) = 114.66666666666667 \n",
      "J = 71.0, Z = 2.1478761819581815, p-value = 0.01586179648596653\n"
     ]
    }
   ],
   "source": [
    "from IPython.display import display, Latex\n",
    "\n",
    "teste_data = pd.DataFrame(\n",
    "    {\n",
    "        \"I\": [19, 20, 60, 130],\n",
    "        \"II\": [21, 61, 80, 129],\n",
    "        \"III\": [40, 99, 100, 149],\n",
    "        \"IV\": [49, 110, 151, 160],\n",
    "    },\n",
    "    dtype=int,\n",
    ")\n",
    "\n",
    "exemplo_1 = JonckheereTerpstraTest(teste_data)\n",
    "\n",
    "print(exemplo_1.summary)"
   ]
  },
  {
   "cell_type": "code",
   "execution_count": 150,
   "metadata": {},
   "outputs": [
    {
     "data": {
      "text/latex": [
       "E_{0}(J) =48.0"
      ],
      "text/plain": [
       "<IPython.core.display.Latex object>"
      ]
     },
     "execution_count": 150,
     "metadata": {},
     "output_type": "execute_result"
    }
   ],
   "source": [
    "Latex(r'E_{0}(J) =' + f'{exemplo_1.e0_j}')"
   ]
  },
  {
   "cell_type": "code",
   "execution_count": 151,
   "metadata": {},
   "outputs": [
    {
     "data": {
      "text/latex": [
       "Var_{0}(J) =114.66666666666667"
      ],
      "text/plain": [
       "<IPython.core.display.Latex object>"
      ]
     },
     "execution_count": 151,
     "metadata": {},
     "output_type": "execute_result"
    }
   ],
   "source": [
    "Latex(r'Var_{0}(J) =' + f'{exemplo_1.var0_j}')"
   ]
  },
  {
   "cell_type": "code",
   "execution_count": 152,
   "metadata": {},
   "outputs": [
    {
     "data": {
      "text/latex": [
       "\\sqrt{Var_{0}(J)} =10.708252269472673"
      ],
      "text/plain": [
       "<IPython.core.display.Latex object>"
      ]
     },
     "execution_count": 152,
     "metadata": {},
     "output_type": "execute_result"
    }
   ],
   "source": [
    "Latex(r'\\sqrt{Var_{0}(J)} =' + f'{np.sqrt(exemplo_1.var0_j)}')"
   ]
  },
  {
   "cell_type": "code",
   "execution_count": 153,
   "metadata": {},
   "outputs": [
    {
     "data": {
      "text/latex": [
       "\\begin{gather}U_{ij} =\n",
       "\\begin{bmatrix}\n",
       "  0. & 11. & 12. & 13.\\\\\n",
       "  0. & 0. & 11. & 12.\\\\\n",
       "  0. & 0. & 0. & 12.\\\\\n",
       "  0. & 0. & 0. & 0.\\\\\n",
       "\\end{bmatrix}\\end{gather}"
      ],
      "text/plain": [
       "<IPython.core.display.Latex object>"
      ]
     },
     "execution_count": 153,
     "metadata": {},
     "output_type": "execute_result"
    }
   ],
   "source": [
    "import utils\n",
    "\n",
    "Latex(r'\\begin{gather}' +\n",
    "      utils.array_to_latex(exemplo_1.u_ij_statistics, r'U_{ij} =') +\n",
    "      r'\\end{gather}')"
   ]
  },
  {
   "cell_type": "code",
   "execution_count": 154,
   "metadata": {},
   "outputs": [
    {
     "data": {
      "text/latex": [
       "J =48.0"
      ],
      "text/plain": [
       "<IPython.core.display.Latex object>"
      ]
     },
     "execution_count": 154,
     "metadata": {},
     "output_type": "execute_result"
    }
   ],
   "source": [
    "Latex(r'J =' + f'{exemplo_1.e0_j}')"
   ]
  },
  {
   "cell_type": "code",
   "execution_count": 155,
   "metadata": {},
   "outputs": [
    {
     "data": {
      "text/latex": [
       "Z =2.1478761819581815"
      ],
      "text/plain": [
       "<IPython.core.display.Latex object>"
      ]
     },
     "execution_count": 155,
     "metadata": {},
     "output_type": "execute_result"
    }
   ],
   "source": [
    "Latex(r'Z =' + f'{exemplo_1.z_statistic}')"
   ]
  },
  {
   "cell_type": "code",
   "execution_count": 156,
   "metadata": {},
   "outputs": [
    {
     "data": {
      "text/latex": [
       "pvalor =0.01586179648596653"
      ],
      "text/plain": [
       "<IPython.core.display.Latex object>"
      ]
     },
     "execution_count": 156,
     "metadata": {},
     "output_type": "execute_result"
    }
   ],
   "source": [
    "Latex(r'pvalor =' + f'{exemplo_1.p_value}')"
   ]
  },
  {
   "cell_type": "markdown",
   "metadata": {},
   "source": [
    "exemplo 2 - https://www.real-statistics.com/one-way-analysis-of-variance-anova/jonckheere-terpstre-test/\n"
   ]
  },
  {
   "cell_type": "code",
   "execution_count": 157,
   "metadata": {},
   "outputs": [
    {
     "name": "stdout",
     "output_type": "stream",
     "text": [
      "E0(J) = 90.5, Var0(J) = 291.9166666666667 \n",
      "J = 133.5, Z = 2.5167438147457135, p-value = 0.005922245869211973\n"
     ]
    }
   ],
   "source": [
    "teste_data = pd.DataFrame(\n",
    "    {\n",
    "        \"D\": [45, 35, 51, 31, 62, np.NaN],\n",
    "        \"A\": [59, 53, 31, 47, 42, 59],\n",
    "        \"V\": [49, 69, 52, 55, 63, np.NaN],\n",
    "        \"B\": [72, 55, 65, 58, 61, 51],\n",
    "    },\n",
    ")\n",
    "\n",
    "exemplo_2 = JonckheereTerpstraTest(teste_data)\n",
    "print(exemplo_2.summary)"
   ]
  },
  {
   "cell_type": "markdown",
   "metadata": {},
   "source": [
    "exemplo 3 - https://math.montana.edu/jobo/thainp/twosampb.pdf"
   ]
  },
  {
   "cell_type": "code",
   "execution_count": 158,
   "metadata": {},
   "outputs": [
    {
     "name": "stdout",
     "output_type": "stream",
     "text": [
      "E0(J) = 80.5, Var0(J) = 275.9166666666667 \n",
      "J = 2.0, Z = -4.72585823225903, p-value = 1.145727396067997e-06\n"
     ]
    }
   ],
   "source": [
    "teste_data = pd.DataFrame(\n",
    "    {\n",
    "        \"N\": [98.6, 99.5, 95.8, 93.3, 98.9, 91.1, 94.5, np.NaN],\n",
    "        \"U\": [79.8, 82.0, 88.8, 79.6, 85.7, 81.7, 88.5, np.NaN],\n",
    "        \"S\": [54.0, 67.0, 47.2, 71.1, 62.7, 44.8, 67.4, 80.2],\n",
    "    },\n",
    ")\n",
    "\n",
    "exemplo_3 = JonckheereTerpstraTest(teste_data)\n",
    "\n",
    "print(exemplo_3.summary)"
   ]
  }
 ],
 "metadata": {
  "interpreter": {
   "hash": "72b0bf3133a604a4d451aee3766310d35bbeb619e39a38225d6544be89c49642"
  },
  "kernelspec": {
   "display_name": "Python 3.10.2 ('venv': venv)",
   "language": "python",
   "name": "python3"
  },
  "language_info": {
   "codemirror_mode": {
    "name": "ipython",
    "version": 3
   },
   "file_extension": ".py",
   "mimetype": "text/x-python",
   "name": "python",
   "nbconvert_exporter": "python",
   "pygments_lexer": "ipython3",
   "version": "3.10.2"
  },
  "orig_nbformat": 4
 },
 "nbformat": 4,
 "nbformat_minor": 2
}
