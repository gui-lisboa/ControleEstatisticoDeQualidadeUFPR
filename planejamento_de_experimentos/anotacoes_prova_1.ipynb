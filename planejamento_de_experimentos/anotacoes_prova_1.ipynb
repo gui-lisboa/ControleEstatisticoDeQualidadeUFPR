{
 "cells": [
  {
   "cell_type": "markdown",
   "metadata": {},
   "source": [
    "# Anotações - Prova 1\n",
    "\n",
    "```r\n",
    "#-----------------------------------------------------------------------\n",
    "#                                            Prof. Dr. Walmes M. Zeviani\n",
    "#                                leg.ufpr.br/~walmes · github.com/walmes\n",
    "#                                        walmes@ufpr.br · @walmeszeviani\n",
    "#                      Laboratory of Statistics and Geoinformation (LEG)\n",
    "#                Department of Statistics · Federal University of Paraná\n",
    "#                                       2021-out-21 · Curitiba/PR/Brazil\n",
    "#-----------------------------------------------------------------------\n",
    "\n",
    "#-----------------------------------------------------------------------\n",
    "\n",
    "sache <- factor(rep(c(\"A\", \"B\", \"C\"), each = 4))\n",
    "y <- c(18, 23, 21, 17,\n",
    "       17, 21, 20, 19,\n",
    "       23, 21, 25, 24)\n",
    "\n",
    "plot(y ~ as.integer(sache))\n",
    "\n",
    "X <- matrix(c(1, 0, 0,\n",
    "              1, 0, 0,\n",
    "              1, 0, 0,\n",
    "              1, 0, 0,\n",
    "              0, 1, 0,\n",
    "              0, 1, 0,\n",
    "              0, 1, 0,\n",
    "              0, 1, 0,\n",
    "              0, 0, 1,\n",
    "              0, 0, 1,\n",
    "              0, 0, 1,\n",
    "              0, 0, 1), ncol = 3, byrow = TRUE)\n",
    "X\n",
    "\n",
    "Y <- cbind(y)\n",
    "Y\n",
    "\n",
    "solve(t(X) %*% X)\n",
    "t(X) %*% Y\n",
    "\n",
    "solve(t(X) %*% X) %*% t(X) %*% Y\n",
    "\n",
    "\n",
    "tapply(y, sache, mean)\n",
    "\n",
    "m0 <- lm(y ~ 0 + sache)\n",
    "coef(m0)\n",
    "\n",
    "m0 <- lm(y ~ sache)\n",
    "coef(m0)\n",
    "\n",
    "X <- matrix(c(1, 0, 0,\n",
    "              1, 0, 0,\n",
    "              1, 0, 0,\n",
    "              1, 0, 0,\n",
    "              1, 1, 0,\n",
    "              1, 1, 0,\n",
    "              1, 1, 0,\n",
    "              1, 1, 0,\n",
    "              1, 0, 1,\n",
    "              1, 0, 1,\n",
    "              1, 0, 1,\n",
    "              1, 0, 1), ncol = 3, byrow = TRUE)\n",
    "X\n",
    "\n",
    "solve(t(X) %*% X) %*% t(X) %*% Y\n",
    "\n",
    "anova(m0)\n",
    "\n",
    "#-----------------------------------------------------------------------\n",
    "\n",
    "# \\mu + e_{ij}\n",
    "X0 <- model.matrix(~1, data = data.frame(sache = sache))\n",
    "X0\n",
    "\n",
    "# \\mu_i + e_{ij} ou \\mu + \\tau_i + e_{ij}\n",
    "X1 <- model.matrix(~0 + sache, data = data.frame(sache = sache))\n",
    "X1\n",
    "\n",
    "I <- diag(length(y))\n",
    "I %*% I # Indepotente: é simétrica e ela vezes ela é ela.\n",
    "\n",
    "H0 <- X0 %*% solve(t(X0) %*% X0) %*% t(X0)\n",
    "MASS::fractions(H0)\n",
    "\n",
    "H1 <- X1 %*% solve(t(X1) %*% X1) %*% t(X1)\n",
    "MASS::fractions(H1)\n",
    "\n",
    "# Fator de correção C = sum y_{..}^2/n\n",
    "sum(y)^2/length(y)\n",
    "t(Y) %*% H0 %*% Y\n",
    "\n",
    "# sum y_{i.}^2/r    - C\n",
    "(t(Y) %*% H1 %*% Y) - (t(Y) %*% H0 %*% Y)\n",
    "\n",
    "t(Y) %*% H0 %*% Y\n",
    "t(Y) %*% H1 %*% Y\n",
    "\n",
    "t(Y) %*% (I - H1) %*% Y\n",
    "t(Y) %*% (I - H0) %*% Y\n",
    "\n",
    "t(Y) %*% (H1 - H0) %*% Y\n",
    "(t(Y) %*% H1 %*% Y) - (t(Y) %*% H0 %*% Y)\n",
    "\n",
    "t(Y) %*% (H1 - H0) %*% Y # SQtratamento\n",
    "t(Y) %*% (I - H1) %*% Y  # SQresiduo\n",
    "\n",
    "traco <- function(A) sum(diag(A))\n",
    "traco(H1 - H0)\n",
    "traco(I - H1)\n",
    "\n",
    "anova(lm(y ~ sache))\n",
    "\n",
    "SQTotal <- sum((y - mean(y))^2)\n",
    "\n",
    "t(Y) %*% Y\n",
    "\n",
    "pf(4.2484, df1 = 2, df2 = 9, lower.tail = FALSE)\n",
    "\n",
    "#-----------------------------------------------------------------------\n",
    "```"
   ]
  },
  {
   "cell_type": "markdown",
   "metadata": {},
   "source": [
    "Implementação em python"
   ]
  },
  {
   "cell_type": "code",
   "execution_count": 11,
   "metadata": {},
   "outputs": [],
   "source": [
    "# Imports\n",
    "from IPython.display import display, Latex\n",
    "import numpy as np\n",
    "import pandas as pd\n",
    "import scipy.stats as stats\n",
    "import statsmodels.api as sm\n",
    "import utils\n",
    "\n",
    "from statsmodels.formula.api import ols"
   ]
  },
  {
   "cell_type": "markdown",
   "metadata": {},
   "source": [
    "Definindo os tratamentos, repetições e arbitrando resultados das observações, temos:"
   ]
  },
  {
   "cell_type": "code",
   "execution_count": 24,
   "metadata": {},
   "outputs": [
    {
     "data": {
      "text/html": [
       "<div>\n",
       "<style scoped>\n",
       "    .dataframe tbody tr th:only-of-type {\n",
       "        vertical-align: middle;\n",
       "    }\n",
       "\n",
       "    .dataframe tbody tr th {\n",
       "        vertical-align: top;\n",
       "    }\n",
       "\n",
       "    .dataframe thead th {\n",
       "        text-align: right;\n",
       "    }\n",
       "</style>\n",
       "<table border=\"1\" class=\"dataframe\">\n",
       "  <thead>\n",
       "    <tr style=\"text-align: right;\">\n",
       "      <th></th>\n",
       "      <th>0</th>\n",
       "      <th>1</th>\n",
       "      <th>2</th>\n",
       "      <th>3</th>\n",
       "      <th>4</th>\n",
       "      <th>5</th>\n",
       "      <th>6</th>\n",
       "      <th>7</th>\n",
       "      <th>8</th>\n",
       "      <th>9</th>\n",
       "      <th>10</th>\n",
       "      <th>11</th>\n",
       "    </tr>\n",
       "  </thead>\n",
       "  <tbody>\n",
       "    <tr>\n",
       "      <th>y</th>\n",
       "      <td>18</td>\n",
       "      <td>23</td>\n",
       "      <td>21</td>\n",
       "      <td>17</td>\n",
       "      <td>17</td>\n",
       "      <td>21</td>\n",
       "      <td>20</td>\n",
       "      <td>19</td>\n",
       "      <td>23</td>\n",
       "      <td>21</td>\n",
       "      <td>25</td>\n",
       "      <td>24</td>\n",
       "    </tr>\n",
       "    <tr>\n",
       "      <th>tratamentos</th>\n",
       "      <td>A</td>\n",
       "      <td>A</td>\n",
       "      <td>A</td>\n",
       "      <td>A</td>\n",
       "      <td>B</td>\n",
       "      <td>B</td>\n",
       "      <td>B</td>\n",
       "      <td>B</td>\n",
       "      <td>C</td>\n",
       "      <td>C</td>\n",
       "      <td>C</td>\n",
       "      <td>C</td>\n",
       "    </tr>\n",
       "  </tbody>\n",
       "</table>\n",
       "</div>"
      ],
      "text/plain": [
       "             0   1   2   3   4   5   6   7   8   9   10  11\n",
       "y            18  23  21  17  17  21  20  19  23  21  25  24\n",
       "tratamentos   A   A   A   A   B   B   B   B   C   C   C   C"
      ]
     },
     "metadata": {},
     "output_type": "display_data"
    },
    {
     "data": {
      "image/png": "[encoded data removed]",
      "text/plain": [
       "<Figure size 432x288 with 1 Axes>"
      ]
     },
     "metadata": {
      "needs_background": "light"
     },
     "output_type": "display_data"
    }
   ],
   "source": [
    "tratamentos = [\"A\", \"B\", \"C\"]\n",
    "numero_de_repeticoes = 4\n",
    "observado = [18, 23, 21, 17, 17, 21, 20, 19, 23, 21, 25, 24]\n",
    "\n",
    "observacoes_dataframe = pd.DataFrame({'y': observado, 'tratamentos': np.repeat(tratamentos, numero_de_repeticoes)})\n",
    "display(observacoes_dataframe.T)\n",
    "observacoes_dataframe.plot.scatter('tratamentos', 'y');"
   ]
  },
  {
   "cell_type": "markdown",
   "metadata": {},
   "source": [
    "Na forma matricial, temos um vetor de observações Y:"
   ]
  },
  {
   "cell_type": "code",
   "execution_count": 21,
   "metadata": {},
   "outputs": [
    {
     "data": {
      "text/latex": [
       "Y =\n",
       "\\begin{bmatrix}\n",
       "  18\\\\\n",
       "  23\\\\\n",
       "  21\\\\\n",
       "  17\\\\\n",
       "  17\\\\\n",
       "  21\\\\\n",
       "  20\\\\\n",
       "  19\\\\\n",
       "  23\\\\\n",
       "  21\\\\\n",
       "  25\\\\\n",
       "  24\\\\\n",
       "\\end{bmatrix}"
      ],
      "text/plain": [
       "<IPython.core.display.Latex object>"
      ]
     },
     "execution_count": 21,
     "metadata": {},
     "output_type": "execute_result"
    }
   ],
   "source": [
    "Y = np.vstack(observacoes_dataframe['y'])\n",
    "Latex(utils.array_to_latex(Y, 'Y ='))"
   ]
  },
  {
   "cell_type": "markdown",
   "metadata": {},
   "source": [
    "Partimos de 2 hipóteses:\n",
    "\n",
    "$$\n",
    "    H_0: \\mu_A = \\mu_B = \\mu_C \\\\\n",
    "    H_1: \\mu_i \\neq \\mu_j \\quad para \\quad i \\neq j\n",
    "$$\n",
    "\n",
    "Destas hipóteses, formulamos um modelo para cada hipótese:\n",
    "\n",
    "Para H0 assumimos que existe apenas uma média $\\mu$ e assim temos a matriz X0 como matriz de delineamento para H0."
   ]
  },
  {
   "cell_type": "code",
   "execution_count": 14,
   "metadata": {},
   "outputs": [
    {
     "data": {
      "text/latex": [
       "X0 =\n",
       "\\begin{bmatrix}\n",
       "  1\\\\\n",
       "  1\\\\\n",
       "  1\\\\\n",
       "  1\\\\\n",
       "  1\\\\\n",
       "  1\\\\\n",
       "  1\\\\\n",
       "  1\\\\\n",
       "  1\\\\\n",
       "  1\\\\\n",
       "  1\\\\\n",
       "  1\\\\\n",
       "\\end{bmatrix}"
      ],
      "text/plain": [
       "<IPython.core.display.Latex object>"
      ]
     },
     "execution_count": 14,
     "metadata": {},
     "output_type": "execute_result"
    }
   ],
   "source": [
    "X0 = np.vstack(np.ones(len(Y), dtype=int))\n",
    "Latex(utils.array_to_latex(X0, 'X0 ='))"
   ]
  },
  {
   "cell_type": "markdown",
   "metadata": {},
   "source": [
    "Para a hipótese H1 assumimos que as médias $\\mu_i$ são diferentes para cada um dos 3 tratamentos, para este modelo temos a matriz de delineamento X1."
   ]
  },
  {
   "cell_type": "code",
   "execution_count": 15,
   "metadata": {},
   "outputs": [
    {
     "data": {
      "text/latex": [
       "X1 =\n",
       "\\begin{bmatrix}\n",
       "  1 & 0 & 0\\\\\n",
       "  1 & 0 & 0\\\\\n",
       "  1 & 0 & 0\\\\\n",
       "  1 & 0 & 0\\\\\n",
       "  0 & 1 & 0\\\\\n",
       "  0 & 1 & 0\\\\\n",
       "  0 & 1 & 0\\\\\n",
       "  0 & 1 & 0\\\\\n",
       "  0 & 0 & 1\\\\\n",
       "  0 & 0 & 1\\\\\n",
       "  0 & 0 & 1\\\\\n",
       "  0 & 0 & 1\\\\\n",
       "\\end{bmatrix}"
      ],
      "text/plain": [
       "<IPython.core.display.Latex object>"
      ]
     },
     "execution_count": 15,
     "metadata": {},
     "output_type": "execute_result"
    }
   ],
   "source": [
    "X1 = np.repeat(np.matrix('1 0 0; 0 1 0; 0 0 1'), repeats=numero_de_repeticoes, axis=0)\n",
    "Latex(utils.array_to_latex(X1, 'X1 ='))"
   ]
  },
  {
   "cell_type": "markdown",
   "metadata": {},
   "source": [
    "Dados X0 e X1, podemos encontrar as matrizes de projeção H0 e H1"
   ]
  },
  {
   "cell_type": "code",
   "execution_count": 16,
   "metadata": {},
   "outputs": [
    {
     "data": {
      "text/latex": [
       "H0 =\n",
       "\\begin{bmatrix}\n",
       "  0.08333333 & 0.08333333 & 0.08333333 & 0.08333333 & 0.08333333 & 0.08333333\\\\\n",
       "  0.08333333 & 0.08333333 & 0.08333333 & 0.08333333 & 0.08333333 & 0.08333333\\\\\n",
       "  0.08333333 & 0.08333333 & 0.08333333 & 0.08333333 & 0.08333333 & 0.08333333\\\\\n",
       "  0.08333333 & 0.08333333 & 0.08333333 & 0.08333333 & 0.08333333 & 0.08333333\\\\\n",
       "  0.08333333 & 0.08333333 & 0.08333333 & 0.08333333 & 0.08333333 & 0.08333333\\\\\n",
       "  0.08333333 & 0.08333333 & 0.08333333 & 0.08333333 & 0.08333333 & 0.08333333\\\\\n",
       "  0.08333333 & 0.08333333 & 0.08333333 & 0.08333333 & 0.08333333 & 0.08333333\\\\\n",
       "  0.08333333 & 0.08333333 & 0.08333333 & 0.08333333 & 0.08333333 & 0.08333333\\\\\n",
       "  0.08333333 & 0.08333333 & 0.08333333 & 0.08333333 & 0.08333333 & 0.08333333\\\\\n",
       "  0.08333333 & 0.08333333 & 0.08333333 & 0.08333333 & 0.08333333 & 0.08333333\\\\\n",
       "  0.08333333 & 0.08333333 & 0.08333333 & 0.08333333 & 0.08333333 & 0.08333333\\\\\n",
       "  0.08333333 & 0.08333333 & 0.08333333 & 0.08333333 & 0.08333333 & 0.08333333\\\\\n",
       "  0.08333333 & 0.08333333 & 0.08333333 & 0.08333333 & 0.08333333 & 0.08333333\\\\\n",
       "  0.08333333 & 0.08333333 & 0.08333333 & 0.08333333 & 0.08333333 & 0.08333333\\\\\n",
       "  0.08333333 & 0.08333333 & 0.08333333 & 0.08333333 & 0.08333333 & 0.08333333\\\\\n",
       "  0.08333333 & 0.08333333 & 0.08333333 & 0.08333333 & 0.08333333 & 0.08333333\\\\\n",
       "  0.08333333 & 0.08333333 & 0.08333333 & 0.08333333 & 0.08333333 & 0.08333333\\\\\n",
       "  0.08333333 & 0.08333333 & 0.08333333 & 0.08333333 & 0.08333333 & 0.08333333\\\\\n",
       "  0.08333333 & 0.08333333 & 0.08333333 & 0.08333333 & 0.08333333 & 0.08333333\\\\\n",
       "  0.08333333 & 0.08333333 & 0.08333333 & 0.08333333 & 0.08333333 & 0.08333333\\\\\n",
       "  0.08333333 & 0.08333333 & 0.08333333 & 0.08333333 & 0.08333333 & 0.08333333\\\\\n",
       "  0.08333333 & 0.08333333 & 0.08333333 & 0.08333333 & 0.08333333 & 0.08333333\\\\\n",
       "  0.08333333 & 0.08333333 & 0.08333333 & 0.08333333 & 0.08333333 & 0.08333333\\\\\n",
       "  0.08333333 & 0.08333333 & 0.08333333 & 0.08333333 & 0.08333333 & 0.08333333\\\\\n",
       "\\end{bmatrix}"
      ],
      "text/plain": [
       "<IPython.core.display.Latex object>"
      ]
     },
     "metadata": {},
     "output_type": "display_data"
    },
    {
     "data": {
      "text/latex": [
       "H1 =\n",
       "\\begin{bmatrix}\n",
       "  0.25 & 0.25 & 0.25 & 0.25 & 0. & 0. & 0. & 0. & 0. & 0. & 0. & 0.\\\\\n",
       "  0.25 & 0.25 & 0.25 & 0.25 & 0. & 0. & 0. & 0. & 0. & 0. & 0. & 0.\\\\\n",
       "  0.25 & 0.25 & 0.25 & 0.25 & 0. & 0. & 0. & 0. & 0. & 0. & 0. & 0.\\\\\n",
       "  0.25 & 0.25 & 0.25 & 0.25 & 0. & 0. & 0. & 0. & 0. & 0. & 0. & 0.\\\\\n",
       "  0. & 0. & 0. & 0. & 0.25 & 0.25 & 0.25 & 0.25 & 0. & 0. & 0. & 0.\\\\\n",
       "  0. & 0. & 0. & 0. & 0.25 & 0.25 & 0.25 & 0.25 & 0. & 0. & 0. & 0.\\\\\n",
       "  0. & 0. & 0. & 0. & 0.25 & 0.25 & 0.25 & 0.25 & 0. & 0. & 0. & 0.\\\\\n",
       "  0. & 0. & 0. & 0. & 0.25 & 0.25 & 0.25 & 0.25 & 0. & 0. & 0. & 0.\\\\\n",
       "  0. & 0. & 0. & 0. & 0. & 0. & 0. & 0. & 0.25 & 0.25 & 0.25 & 0.25\\\\\n",
       "  0. & 0. & 0. & 0. & 0. & 0. & 0. & 0. & 0.25 & 0.25 & 0.25 & 0.25\\\\\n",
       "  0. & 0. & 0. & 0. & 0. & 0. & 0. & 0. & 0.25 & 0.25 & 0.25 & 0.25\\\\\n",
       "  0. & 0. & 0. & 0. & 0. & 0. & 0. & 0. & 0.25 & 0.25 & 0.25 & 0.25\\\\\n",
       "\\end{bmatrix}"
      ],
      "text/plain": [
       "<IPython.core.display.Latex object>"
      ]
     },
     "metadata": {},
     "output_type": "display_data"
    }
   ],
   "source": [
    "H0 = X0.dot(np.linalg.inv(X0.T.dot(X0))).dot(X0.T)\n",
    "display(Latex(utils.array_to_latex(H0, r'H0 =')))\n",
    "\n",
    "H1 = X1.dot(np.linalg.inv(X1.T.dot(X1))).dot(X1.T)\n",
    "display(Latex(utils.array_to_latex(H1, r'H1 =')))"
   ]
  },
  {
   "cell_type": "markdown",
   "metadata": {},
   "source": [
    "Com as matrizes de projeção para H0 e H1, podemos contruir o quadro ANOVA"
   ]
  },
  {
   "cell_type": "code",
   "execution_count": 17,
   "metadata": {},
   "outputs": [
    {
     "data": {
      "text/plain": [
       "'GL Tratamentos: 2'"
      ]
     },
     "metadata": {},
     "output_type": "display_data"
    },
    {
     "data": {
      "text/plain": [
       "'GL Resíduos: 9'"
      ]
     },
     "metadata": {},
     "output_type": "display_data"
    },
    {
     "data": {
      "text/plain": [
       "'SQ Tratamentos: 38.00'"
      ]
     },
     "metadata": {},
     "output_type": "display_data"
    },
    {
     "data": {
      "text/plain": [
       "'SQ Resíduos: 40.25'"
      ]
     },
     "metadata": {},
     "output_type": "display_data"
    },
    {
     "data": {
      "text/plain": [
       "'Média SQ Tratamentos: 19.00'"
      ]
     },
     "metadata": {},
     "output_type": "display_data"
    },
    {
     "data": {
      "text/plain": [
       "'Média SQ Resíduos: 4.47'"
      ]
     },
     "metadata": {},
     "output_type": "display_data"
    },
    {
     "data": {
      "text/plain": [
       "'Estatística de Teste: 4.248'"
      ]
     },
     "metadata": {},
     "output_type": "display_data"
    },
    {
     "data": {
      "text/plain": [
       "'P-Valor: 0.050'"
      ]
     },
     "metadata": {},
     "output_type": "display_data"
    }
   ],
   "source": [
    "I = np.identity(len(Y))\n",
    "\n",
    "graus_de_liberadade_tratamentos = (H1 - H0).trace().item()\n",
    "display(f'GL Tratamentos: {graus_de_liberadade_tratamentos:.0f}')\n",
    "graus_de_liberadade_residuos = (I - H1).trace().item()\n",
    "display(f'GL Resíduos: {graus_de_liberadade_residuos:.0f}')\n",
    "\n",
    "soma_quadrados_tratamentos = Y.T.dot((H1 - H0)).dot(Y).item()\n",
    "display(f'SQ Tratamentos: {soma_quadrados_tratamentos:.2f}')\n",
    "soma_quadrados_residuos = Y.T.dot((I - H1)).dot(Y).item()\n",
    "display(f'SQ Resíduos: {soma_quadrados_residuos:.2f}')\n",
    "\n",
    "media_soma_quadrados_tratamento = soma_quadrados_tratamentos / graus_de_liberadade_tratamentos\n",
    "display(f'Média SQ Tratamentos: {media_soma_quadrados_tratamento:.2f}')\n",
    "media_soma_quadrados_residuos = soma_quadrados_residuos / graus_de_liberadade_residuos\n",
    "display(f'Média SQ Resíduos: {media_soma_quadrados_residuos:.2f}')\n",
    "\n",
    "estatistica_de_teste = media_soma_quadrados_tratamento / media_soma_quadrados_residuos\n",
    "display(f'Estatística de Teste: {estatistica_de_teste:.3f}')\n",
    "\n",
    "p_valor = 1 - stats.f.cdf(estatistica_de_teste, graus_de_liberadade_tratamentos, graus_de_liberadade_residuos)\n",
    "display(f'P-Valor: {p_valor:.3f}')"
   ]
  },
  {
   "cell_type": "markdown",
   "metadata": {},
   "source": [
    "Comparando os resultados com ANOVA:"
   ]
  },
  {
   "cell_type": "code",
   "execution_count": 18,
   "metadata": {},
   "outputs": [
    {
     "data": {
      "text/html": [
       "<div>\n",
       "<style scoped>\n",
       "    .dataframe tbody tr th:only-of-type {\n",
       "        vertical-align: middle;\n",
       "    }\n",
       "\n",
       "    .dataframe tbody tr th {\n",
       "        vertical-align: top;\n",
       "    }\n",
       "\n",
       "    .dataframe thead th {\n",
       "        text-align: right;\n",
       "    }\n",
       "</style>\n",
       "<table border=\"1\" class=\"dataframe\">\n",
       "  <thead>\n",
       "    <tr style=\"text-align: right;\">\n",
       "      <th></th>\n",
       "      <th>df</th>\n",
       "      <th>sum_sq</th>\n",
       "      <th>mean_sq</th>\n",
       "      <th>F</th>\n",
       "      <th>PR(&gt;F)</th>\n",
       "    </tr>\n",
       "  </thead>\n",
       "  <tbody>\n",
       "    <tr>\n",
       "      <th>C(tratamentos)</th>\n",
       "      <td>2.0</td>\n",
       "      <td>38.00</td>\n",
       "      <td>19.000000</td>\n",
       "      <td>4.248447</td>\n",
       "      <td>0.050207</td>\n",
       "    </tr>\n",
       "    <tr>\n",
       "      <th>Residual</th>\n",
       "      <td>9.0</td>\n",
       "      <td>40.25</td>\n",
       "      <td>4.472222</td>\n",
       "      <td>NaN</td>\n",
       "      <td>NaN</td>\n",
       "    </tr>\n",
       "  </tbody>\n",
       "</table>\n",
       "</div>"
      ],
      "text/plain": [
       "                 df  sum_sq    mean_sq         F    PR(>F)\n",
       "C(tratamentos)  2.0   38.00  19.000000  4.248447  0.050207\n",
       "Residual        9.0   40.25   4.472222       NaN       NaN"
      ]
     },
     "execution_count": 18,
     "metadata": {},
     "output_type": "execute_result"
    }
   ],
   "source": [
    "fit = ols('y ~ C(tratamentos)', data=observacoes_dataframe).fit()\n",
    "anova = sm.stats.anova_lm(fit)\n",
    "anova"
   ]
  }
 ],
 "metadata": {
  "interpreter": {
   "hash": "a9c895529685f6a4dcda43bbbf9124848711d691a289e9363bf3fb81023d30d2"
  },
  "kernelspec": {
   "display_name": "Python 3.9.5 64-bit",
   "name": "python3"
  },
  "language_info": {
   "codemirror_mode": {
    "name": "ipython",
    "version": 3
   },
   "file_extension": ".py",
   "mimetype": "text/x-python",
   "name": "python",
   "nbconvert_exporter": "python",
   "pygments_lexer": "ipython3",
   "version": "3.9.5"
  },
  "orig_nbformat": 4
 },
 "nbformat": 4,
 "nbformat_minor": 2
}
