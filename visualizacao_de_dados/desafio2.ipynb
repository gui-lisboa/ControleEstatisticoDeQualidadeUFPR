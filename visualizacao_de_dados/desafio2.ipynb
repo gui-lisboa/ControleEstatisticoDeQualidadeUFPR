{
 "cells": [
  {
   "cell_type": "markdown",
   "metadata": {},
   "source": [
    "# Desafio 2\n",
    "\n",
    "```{admonition} Desafio\n",
    ":class: tip\n",
    "\n",
    "Com um conjunto de dados da sua escolha, crie um gráfico não simplista e ainda não visto na disciplina utilizando em ggplot2.\n",
    "Gráficos já contruídos na avaliação 1 não poderão ser utilizados.\n",
    "```\n",
    "\n",
    "## Diagrama de Gantt\n",
    "\n",
    "Gráfico eficiente para mostrar a realização de atividades ou eventos em função do tempo. Cada item é inserido como uma barra que cobre o ponto incial até o ponto final e de forma bastante direta mostra qual a duração da atividade ou quais atividades ocorrem em um determinado intervalo.\n",
    "\n",
    "## Desafio: Popularidade dos Presidentes do Brasil (1987 - 2016)\n",
    "\n",
    "O diagrama construído para este desafio mostra a duração dos mandatos dos presidentes do Brasil de 1987 a 2016, adicionando um gradiente a cor de cada barra que mostra a evolução da popularidade em função do percentual da população que avaliou o mandato como Ótimo ou Bom."
   ]
  },
  {
   "cell_type": "code",
   "execution_count": 10,
   "metadata": {},
   "outputs": [
    {
     "data": {
      "text/html": [
       "<style>\n",
       ".list-inline {list-style: none; margin:0; padding: 0}\n",
       ".list-inline>li {display: inline-block}\n",
       ".list-inline>li:not(:last-child)::after {content: \"\\00b7\"; padding: 0 .5ex}\n",
       "</style>\n",
       "<ol class=list-inline><li>Dilma</li><li>Lula</li><li>FHC</li><li>Itamar</li><li>Collor</li><li>Sarney</li></ol>\n",
       "\n",
       "<details>\n",
       "\t<summary style=display:list-item;cursor:pointer>\n",
       "\t\t<strong>Levels</strong>:\n",
       "\t</summary>\n",
       "\t<style>\n",
       "\t.list-inline {list-style: none; margin:0; padding: 0}\n",
       "\t.list-inline>li {display: inline-block}\n",
       "\t.list-inline>li:not(:last-child)::after {content: \"\\00b7\"; padding: 0 .5ex}\n",
       "\t</style>\n",
       "\t<ol class=list-inline><li>'Dilma'</li><li>'Lula'</li><li>'FHC'</li><li>'Itamar'</li><li>'Collor'</li><li>'Sarney'</li></ol>\n",
       "</details>"
      ],
      "text/latex": [
       "\\begin{enumerate*}\n",
       "\\item Dilma\n",
       "\\item Lula\n",
       "\\item FHC\n",
       "\\item Itamar\n",
       "\\item Collor\n",
       "\\item Sarney\n",
       "\\end{enumerate*}\n",
       "\n",
       "\\emph{Levels}: \\begin{enumerate*}\n",
       "\\item 'Dilma'\n",
       "\\item 'Lula'\n",
       "\\item 'FHC'\n",
       "\\item 'Itamar'\n",
       "\\item 'Collor'\n",
       "\\item 'Sarney'\n",
       "\\end{enumerate*}\n"
      ],
      "text/markdown": [
       "1. Dilma\n",
       "2. Lula\n",
       "3. FHC\n",
       "4. Itamar\n",
       "5. Collor\n",
       "6. Sarney\n",
       "\n",
       "\n",
       "\n",
       "**Levels**: 1. 'Dilma'\n",
       "2. 'Lula'\n",
       "3. 'FHC'\n",
       "4. 'Itamar'\n",
       "5. 'Collor'\n",
       "6. 'Sarney'\n",
       "\n",
       "\n"
      ],
      "text/plain": [
       "[1] Dilma  Lula   FHC    Itamar Collor Sarney\n",
       "Levels: Dilma Lula FHC Itamar Collor Sarney"
      ]
     },
     "metadata": {},
     "output_type": "display_data"
    }
   ],
   "source": [
    "library(ggplot2)\n",
    "library(ggthemes)\n",
    "library(dplyr)\n",
    "\n",
    "presidentes_ordem <- c(\"Dilma\", \"Lula\", \"FHC\", \"Itamar\", \"Collor\", \"Sarney\")\n",
    "presidentes <- factor(presidentes_ordem, levels = presidentes_ordem)\n",
    "\n",
    "presidentes"
   ]
  },
  {
   "cell_type": "code",
   "execution_count": 11,
   "metadata": {},
   "outputs": [
    {
     "data": {
      "text/html": [
       "<table class=\"dataframe\">\n",
       "<caption>A data.frame: 6 × 7</caption>\n",
       "<thead>\n",
       "\t<tr><th></th><th scope=col>Data</th><th scope=col>OtimoBom</th><th scope=col>Regular</th><th scope=col>RuimPessimo</th><th scope=col>NaoSabe</th><th scope=col>Presidente</th><th scope=col>FimData</th></tr>\n",
       "\t<tr><th></th><th scope=col>&lt;date&gt;</th><th scope=col>&lt;int&gt;</th><th scope=col>&lt;int&gt;</th><th scope=col>&lt;int&gt;</th><th scope=col>&lt;int&gt;</th><th scope=col>&lt;fct&gt;</th><th scope=col>&lt;date&gt;</th></tr>\n",
       "</thead>\n",
       "<tbody>\n",
       "\t<tr><th scope=row>1</th><td>2016-04-01</td><td>13</td><td>24</td><td>63</td><td>1</td><td>Dilma</td><td>NA</td></tr>\n",
       "\t<tr><th scope=row>2</th><td>2016-03-01</td><td>10</td><td>21</td><td>69</td><td>1</td><td>Dilma</td><td>2016-04-01</td></tr>\n",
       "\t<tr><th scope=row>3</th><td>2016-02-01</td><td>11</td><td>25</td><td>64</td><td>1</td><td>Dilma</td><td>2016-03-01</td></tr>\n",
       "\t<tr><th scope=row>4</th><td>2015-12-01</td><td>12</td><td>22</td><td>65</td><td>1</td><td>Dilma</td><td>2016-02-01</td></tr>\n",
       "\t<tr><th scope=row>5</th><td>2015-11-01</td><td>10</td><td>22</td><td>67</td><td>1</td><td>Dilma</td><td>2015-12-01</td></tr>\n",
       "\t<tr><th scope=row>6</th><td>2015-08-01</td><td> 8</td><td>20</td><td>71</td><td>1</td><td>Dilma</td><td>2015-11-01</td></tr>\n",
       "</tbody>\n",
       "</table>\n"
      ],
      "text/latex": [
       "A data.frame: 6 × 7\n",
       "\\begin{tabular}{r|lllllll}\n",
       "  & Data & OtimoBom & Regular & RuimPessimo & NaoSabe & Presidente & FimData\\\\\n",
       "  & <date> & <int> & <int> & <int> & <int> & <fct> & <date>\\\\\n",
       "\\hline\n",
       "\t1 & 2016-04-01 & 13 & 24 & 63 & 1 & Dilma & NA\\\\\n",
       "\t2 & 2016-03-01 & 10 & 21 & 69 & 1 & Dilma & 2016-04-01\\\\\n",
       "\t3 & 2016-02-01 & 11 & 25 & 64 & 1 & Dilma & 2016-03-01\\\\\n",
       "\t4 & 2015-12-01 & 12 & 22 & 65 & 1 & Dilma & 2016-02-01\\\\\n",
       "\t5 & 2015-11-01 & 10 & 22 & 67 & 1 & Dilma & 2015-12-01\\\\\n",
       "\t6 & 2015-08-01 &  8 & 20 & 71 & 1 & Dilma & 2015-11-01\\\\\n",
       "\\end{tabular}\n"
      ],
      "text/markdown": [
       "\n",
       "A data.frame: 6 × 7\n",
       "\n",
       "| <!--/--> | Data &lt;date&gt; | OtimoBom &lt;int&gt; | Regular &lt;int&gt; | RuimPessimo &lt;int&gt; | NaoSabe &lt;int&gt; | Presidente &lt;fct&gt; | FimData &lt;date&gt; |\n",
       "|---|---|---|---|---|---|---|---|\n",
       "| 1 | 2016-04-01 | 13 | 24 | 63 | 1 | Dilma | NA |\n",
       "| 2 | 2016-03-01 | 10 | 21 | 69 | 1 | Dilma | 2016-04-01 |\n",
       "| 3 | 2016-02-01 | 11 | 25 | 64 | 1 | Dilma | 2016-03-01 |\n",
       "| 4 | 2015-12-01 | 12 | 22 | 65 | 1 | Dilma | 2016-02-01 |\n",
       "| 5 | 2015-11-01 | 10 | 22 | 67 | 1 | Dilma | 2015-12-01 |\n",
       "| 6 | 2015-08-01 |  8 | 20 | 71 | 1 | Dilma | 2015-11-01 |\n",
       "\n"
      ],
      "text/plain": [
       "  Data       OtimoBom Regular RuimPessimo NaoSabe Presidente FimData   \n",
       "1 2016-04-01 13       24      63          1       Dilma      <NA>      \n",
       "2 2016-03-01 10       21      69          1       Dilma      2016-04-01\n",
       "3 2016-02-01 11       25      64          1       Dilma      2016-03-01\n",
       "4 2015-12-01 12       22      65          1       Dilma      2016-02-01\n",
       "5 2015-11-01 10       22      67          1       Dilma      2015-12-01\n",
       "6 2015-08-01  8       20      71          1       Dilma      2015-11-01"
      ]
     },
     "metadata": {},
     "output_type": "display_data"
    },
    {
     "data": {
      "text/html": [
       "<table class=\"dataframe\">\n",
       "<caption>A data.frame: 6 × 7</caption>\n",
       "<thead>\n",
       "\t<tr><th></th><th scope=col>Data</th><th scope=col>OtimoBom</th><th scope=col>Regular</th><th scope=col>RuimPessimo</th><th scope=col>NaoSabe</th><th scope=col>Presidente</th><th scope=col>FimData</th></tr>\n",
       "\t<tr><th></th><th scope=col>&lt;date&gt;</th><th scope=col>&lt;int&gt;</th><th scope=col>&lt;int&gt;</th><th scope=col>&lt;int&gt;</th><th scope=col>&lt;int&gt;</th><th scope=col>&lt;fct&gt;</th><th scope=col>&lt;date&gt;</th></tr>\n",
       "</thead>\n",
       "<tbody>\n",
       "\t<tr><th scope=row>139</th><td>1989-03-01</td><td> 7</td><td>28</td><td>62</td><td>3</td><td>Sarney</td><td>1989-09-01</td></tr>\n",
       "\t<tr><th scope=row>140</th><td>1988-12-01</td><td> 8</td><td>25</td><td>65</td><td>2</td><td>Sarney</td><td>1989-03-01</td></tr>\n",
       "\t<tr><th scope=row>141</th><td>1988-10-01</td><td> 7</td><td>24</td><td>65</td><td>4</td><td>Sarney</td><td>1988-12-01</td></tr>\n",
       "\t<tr><th scope=row>142</th><td>1988-03-01</td><td>10</td><td>23</td><td>65</td><td>2</td><td>Sarney</td><td>1988-10-01</td></tr>\n",
       "\t<tr><th scope=row>143</th><td>1987-11-01</td><td>11</td><td>29</td><td>58</td><td>2</td><td>Sarney</td><td>1988-03-01</td></tr>\n",
       "\t<tr><th scope=row>144</th><td>1987-05-01</td><td> 9</td><td>35</td><td>54</td><td>2</td><td>Sarney</td><td>1987-11-01</td></tr>\n",
       "</tbody>\n",
       "</table>\n"
      ],
      "text/latex": [
       "A data.frame: 6 × 7\n",
       "\\begin{tabular}{r|lllllll}\n",
       "  & Data & OtimoBom & Regular & RuimPessimo & NaoSabe & Presidente & FimData\\\\\n",
       "  & <date> & <int> & <int> & <int> & <int> & <fct> & <date>\\\\\n",
       "\\hline\n",
       "\t139 & 1989-03-01 &  7 & 28 & 62 & 3 & Sarney & 1989-09-01\\\\\n",
       "\t140 & 1988-12-01 &  8 & 25 & 65 & 2 & Sarney & 1989-03-01\\\\\n",
       "\t141 & 1988-10-01 &  7 & 24 & 65 & 4 & Sarney & 1988-12-01\\\\\n",
       "\t142 & 1988-03-01 & 10 & 23 & 65 & 2 & Sarney & 1988-10-01\\\\\n",
       "\t143 & 1987-11-01 & 11 & 29 & 58 & 2 & Sarney & 1988-03-01\\\\\n",
       "\t144 & 1987-05-01 &  9 & 35 & 54 & 2 & Sarney & 1987-11-01\\\\\n",
       "\\end{tabular}\n"
      ],
      "text/markdown": [
       "\n",
       "A data.frame: 6 × 7\n",
       "\n",
       "| <!--/--> | Data &lt;date&gt; | OtimoBom &lt;int&gt; | Regular &lt;int&gt; | RuimPessimo &lt;int&gt; | NaoSabe &lt;int&gt; | Presidente &lt;fct&gt; | FimData &lt;date&gt; |\n",
       "|---|---|---|---|---|---|---|---|\n",
       "| 139 | 1989-03-01 |  7 | 28 | 62 | 3 | Sarney | 1989-09-01 |\n",
       "| 140 | 1988-12-01 |  8 | 25 | 65 | 2 | Sarney | 1989-03-01 |\n",
       "| 141 | 1988-10-01 |  7 | 24 | 65 | 4 | Sarney | 1988-12-01 |\n",
       "| 142 | 1988-03-01 | 10 | 23 | 65 | 2 | Sarney | 1988-10-01 |\n",
       "| 143 | 1987-11-01 | 11 | 29 | 58 | 2 | Sarney | 1988-03-01 |\n",
       "| 144 | 1987-05-01 |  9 | 35 | 54 | 2 | Sarney | 1987-11-01 |\n",
       "\n"
      ],
      "text/plain": [
       "    Data       OtimoBom Regular RuimPessimo NaoSabe Presidente FimData   \n",
       "139 1989-03-01  7       28      62          3       Sarney     1989-09-01\n",
       "140 1988-12-01  8       25      65          2       Sarney     1989-03-01\n",
       "141 1988-10-01  7       24      65          4       Sarney     1988-12-01\n",
       "142 1988-03-01 10       23      65          2       Sarney     1988-10-01\n",
       "143 1987-11-01 11       29      58          2       Sarney     1988-03-01\n",
       "144 1987-05-01  9       35      54          2       Sarney     1987-11-01"
      ]
     },
     "metadata": {},
     "output_type": "display_data"
    }
   ],
   "source": [
    "popularidades_df <- data.frame(\n",
    "    Presidente = character(),\n",
    "    Data = as.Date(character()),\n",
    "    FimData = as.Date(character()),\n",
    "    OtimoBom = integer(),\n",
    "    Regular = integer(),\n",
    "    RuimPessimo = integer(),\n",
    "    NaoSabe = integer())\n",
    "\n",
    "for(presidente in presidentes) {\n",
    "    popularidade <- read.table(paste(\"./dados/popularidade_\",\n",
    "                                     presidente,\n",
    "                                     \".txt\",\n",
    "                                     sep = \"\"),\n",
    "                                header = TRUE)\n",
    "    popularidade$Data <- as.Date(popularidade$Data, \"%d.%m.%Y\")\n",
    "    popularidade$Presidente <- rep(presidente, nrow(popularidade))\n",
    "    popularidades_df <- rbind(popularidades_df, popularidade)\n",
    "}\n",
    "\n",
    "popularidades_df$FimData <- lag(popularidades_df$Data)\n",
    "popularidades_df$Presidente <- factor(popularidades_df$Presidente,\n",
    "                                      levels = presidentes)\n",
    "\n",
    "head(popularidades_df)\n",
    "tail(popularidades_df)"
   ]
  },
  {
   "cell_type": "code",
   "execution_count": 12,
   "metadata": {},
   "outputs": [
    {
     "name": "stderr",
     "output_type": "stream",
     "text": [
      "Warning message:\n",
      "\"Removed 1 rows containing missing values (geom_segment).\"\n"
     ]
    },
    {
     "data": {
      "image/png": "[encoded data removed]",
      "text/plain": [
       "plot without title"
      ]
     },
     "metadata": {
      "image/png": {
       "height": 420,
       "width": 420
      }
     },
     "output_type": "display_data"
    }
   ],
   "source": [
    "ggplot(popularidades_df) +\n",
    "geom_segment(size = 12, aes(x = Data,\n",
    "                            xend = FimData,\n",
    "                            y = Presidente,\n",
    "                            yend = Presidente,\n",
    "                            color = OtimoBom)) +\n",
    "scale_color_gradient2(low = \"red\",\n",
    "                      mid = \"yellow\",\n",
    "                      high = \"green\",\n",
    "                      midpoint = 33) +\n",
    "labs(title = \"Popularidade\", x = \"Período\", y = \"Presidente\") +\n",
    "theme_wsj() +\n",
    "theme(axis.title = element_text())"
   ]
  },
  {
   "cell_type": "markdown",
   "metadata": {},
   "source": [
    "## Refêrencias\n",
    "\n",
    "Dados: [Tabelas popularidade_<nome_presidente>.txt](https://github.com/gui-lisboa/estatisticaufpr/tree/main/visualizacao_de_dados/dados)\n",
    "\n",
    "Fonte dos dados: [Acervo Antigo, Poder360](https://www.poder360.com.br/arquivo/)\n",
    " \n",
    "Tutorial de referência: [How to Create a Gantt Chart in R Using ggplot2](https://www.statology.org/gantt-chart-r-ggplot2/)"
   ]
  }
 ],
 "metadata": {
  "interpreter": {
   "hash": "611588c76f6fd03b6401d3250cf98333a32fd2da6383086543225bae3e7bd090"
  },
  "kernelspec": {
   "display_name": "R",
   "language": "R",
   "name": "ir"
  },
  "language_info": {
   "codemirror_mode": "r",
   "file_extension": ".r",
   "mimetype": "text/x-r-source",
   "name": "R",
   "pygments_lexer": "r",
   "version": "4.1.2"
  },
  "orig_nbformat": 4
 },
 "nbformat": 4,
 "nbformat_minor": 2
}
