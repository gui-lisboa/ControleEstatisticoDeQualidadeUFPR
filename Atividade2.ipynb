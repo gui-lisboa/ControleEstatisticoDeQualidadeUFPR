{
 "cells": [
  {
   "cell_type": "markdown",
   "source": [
    "# Atividade 2\r\n",
    "## Revisão de probabilidade"
   ],
   "metadata": {}
  },
  {
   "cell_type": "code",
   "execution_count": 1,
   "source": [
    "# Imports\r\n",
    "from IPython.display import display, Markdown\r\n",
    "import statsmodels.api as sm\r\n",
    "import pandas as pd\r\n",
    "import statistics\r\n",
    "import collections"
   ],
   "outputs": [],
   "metadata": {}
  },
  {
   "cell_type": "markdown",
   "source": [
    "---\r\n",
    "### 1. Os diâmetros de oito mancais selecionados ao acaso são os seguintes (em mm): <br>\r\n",
    "    50,001 50,002 49,998 50,006 50,005 49,996 50,003 50,004\r\n",
    "### a.  Calcule a média amostral. <br>\r\n",
    "### b.  Calcule o desvio-padrão amostral. <br>"
   ],
   "metadata": {}
  },
  {
   "cell_type": "code",
   "execution_count": 2,
   "source": [
    "diametros_mancais = [50.001, 50.002, 49.998, 50.006, 50.005, 49.996, 50.003, 50.004]\r\n",
    "media = statistics.mean(diametros_mancais)\r\n",
    "desvio_padrao = statistics.stdev(diametros_mancais)\r\n",
    "\r\n",
    "display(Markdown(\r\n",
    "    f'a. Média amostral é {media:.4f} <br>'\r\n",
    "    f'b. Desvio-padrão amostral é {desvio_padrao:.4f}'\r\n",
    "    ))"
   ],
   "outputs": [
    {
     "output_type": "display_data",
     "data": {
      "text/markdown": [
       "a. Média amostral é 50.0019 <br>b. Desvio-padrão amostral é 0.0034"
      ],
      "text/plain": [
       "<IPython.core.display.Markdown object>"
      ]
     },
     "metadata": {}
    }
   ],
   "metadata": {}
  },
  {
   "cell_type": "markdown",
   "source": [
    "---\r\n",
    "### 2. O tempo de vida até falhar em horas de um componente eletrônico sujeito a um teste de durabilidade acelerado é mostrado abaixo para uma amostra com tamanho n = 40. Para acelerar a falha no teste, as unidades experimentais são testadas sob uma temperatura elevada.\r\n",
    "        127 125 131 124 129 121 142 151 160 125\r\n",
    "        124 123 120 119 128 133 137 124 142 123\r\n",
    "        121 136 140 137 125 124 128 129 130 122\r\n",
    "        118 131 125 133 141 125 140 132 129 126\r\n",
    "### a. Calcule a média amostral e o desvio-padrão.\r\n",
    "### b. Construa o histograma.\r\n",
    "### c. Ache a mediana e os quartis. "
   ],
   "metadata": {}
  },
  {
   "cell_type": "code",
   "execution_count": 3,
   "source": [
    "tempos_de_vida = pd.Series([127, 125, 131, 124, 129, 121, 142, 151, 160, 125, 124, 123, 120, 119, 128, 133, 137, 124, 142, 123, 121, 136, 140, 137, 125, 124, 128, 129, 130, 122, 118, 131, 125, 133, 141, 125, 140, 132, 129, 126])\r\n",
    "media = tempos_de_vida.mean()\r\n",
    "desvio_padrao = tempos_de_vida.std()\r\n",
    "\r\n",
    "display(Markdown(\r\n",
    "    f'a. A média amostral é {media:.2f} horas e o desvio padrão é {desvio_padrao:.2f} horas <br>'\r\n",
    "    f'b. Histograma: <br>'\r\n",
    "))\r\n",
    "tempos_de_vida.plot.hist(ec=\"black\");"
   ],
   "outputs": [
    {
     "output_type": "display_data",
     "data": {
      "text/markdown": [
       "a. A média amostral é 130.00 horas e o desvio padrão é 8.92 horas <br>b. Histograma: <br>"
      ],
      "text/plain": [
       "<IPython.core.display.Markdown object>"
      ]
     },
     "metadata": {}
    },
    {
     "output_type": "display_data",
     "data": {
      "image/png": "[encoded data removed]",
      "text/plain": [
       "<Figure size 432x288 with 1 Axes>"
      ]
     },
     "metadata": {
      "needs_background": "light"
     }
    }
   ],
   "metadata": {}
  },
  {
   "cell_type": "code",
   "execution_count": 4,
   "source": [
    "quartis = tempos_de_vida.quantile([.25, .5, .75])\r\n",
    "display(Markdown(f'c. Quartis são:'))\r\n",
    "display(Markdown(quartis.to_markdown(headers=[\"Quartil\", \"Tempo de Vida (hr)\"])))"
   ],
   "outputs": [
    {
     "output_type": "display_data",
     "data": {
      "text/markdown": [
       "c. Quartis são:"
      ],
      "text/plain": [
       "<IPython.core.display.Markdown object>"
      ]
     },
     "metadata": {}
    },
    {
     "output_type": "display_data",
     "data": {
      "text/markdown": [
       "|   Quartil |   Tempo de Vida (hr) |\n",
       "|----------:|---------------------:|\n",
       "|      0.25 |               124    |\n",
       "|      0.5  |               128    |\n",
       "|      0.75 |               133.75 |"
      ],
      "text/plain": [
       "<IPython.core.display.Markdown object>"
      ]
     },
     "metadata": {}
    }
   ],
   "metadata": {}
  },
  {
   "cell_type": "markdown",
   "source": [
    "---\r\n",
    "\r\n",
    "### 3) Os dados abaixo são leituras do rendimento de um processo químico em dias sucessivos (leia da esquerda para a direita). Faça o histograma dos dados, comente o aspecto do histograma e verifique se o histograma lembra alguma distribuição de probabilidade conhecida.\r\n",
    "    94,1 87,3 94,1 92,4 84,6 85,4 93,2 84,1 92,1 90,6\r\n",
    "    83,6 86,6 90,6 90,1 96,4 89,1 85,4 91,7 91,4 95,2\r\n",
    "    88,2 88,8 89,7 87,5 88,2 86,1 86,4 86,4 87,6 84,2\r\n",
    "    86,1 94,3 85,0 85,1 85,1 85,1 95,1 93,2 84,9 84,0\r\n",
    "    89,6 90,5 90,0 86,7 87,3 93,7 90,0 95,6 92,4 83,0\r\n",
    "    89,6 87,7 90,1 88,3 87,3 95,3 90,3 90,6 94,3 84,1\r\n",
    "    86,6 94,1 93,1 89,4 97,3 83,7 91,2 97,8 94,6 88,6\r\n",
    "    96,8 82,9 86,1 93,1 96,3 84,1 94,4 87,3 90,4 86,4\r\n",
    "    94,7 82,6 96,1 86,4 89,1 87,6 91,1 83,1 98,0 84,5\r\n"
   ],
   "metadata": {}
  },
  {
   "cell_type": "code",
   "execution_count": 5,
   "source": [
    "arquivo_dataset = \"datasets/Atividade2-Excercicio3.txt\"\r\n",
    "rendimentos_dataframe = pd.read_csv(arquivo_dataset, sep='\\s+', header=None, decimal=\",\")\r\n",
    "rendimentos_series = pd.Series([rendimento for rendimentos_linha in rendimentos_dataframe.values for rendimento in rendimentos_linha])\r\n",
    "rendimentos_series.plot.hist(ec='black');\r\n"
   ],
   "outputs": [
    {
     "output_type": "execute_result",
     "data": {
      "text/plain": [
       "<AxesSubplot:ylabel='Frequency'>"
      ]
     },
     "metadata": {},
     "execution_count": 5
    },
    {
     "output_type": "display_data",
     "data": {
      "image/png": "[encoded data removed]",
      "text/plain": [
       "<Figure size 432x288 with 1 Axes>"
      ]
     },
     "metadata": {
      "needs_background": "light"
     }
    }
   ],
   "metadata": {}
  },
  {
   "cell_type": "markdown",
   "source": [
    "---\r\n",
    "### 4) Considere o rendimento do processo químico do exercício anterior. Calcule a média amostral e o desvio padrão."
   ],
   "metadata": {}
  },
  {
   "cell_type": "code",
   "execution_count": 6,
   "source": [
    "media = rendimentos_series.mean()\r\n",
    "desvio_padrao = rendimentos_series.std()\r\n",
    "\r\n",
    "display(Markdown(f'A média é {media:.2f} e o desvio padrão é {desvio_padrao:.2f}'))"
   ],
   "outputs": [
    {
     "output_type": "display_data",
     "data": {
      "text/markdown": [
       "A média é 89.48 e o desvio padrão é 4.16"
      ],
      "text/plain": [
       "<IPython.core.display.Markdown object>"
      ]
     },
     "metadata": {}
    }
   ],
   "metadata": {}
  },
  {
   "cell_type": "markdown",
   "source": [
    "---\r\n",
    "### 5) Suponha que dois dados não-viciados são lançados e uma variável aleatória observada, digamos X, que corresponde a soma das duas faces superiores. Descreva o espaço amostral do experimento e determine a função de probabilidade da v.a. X."
   ],
   "metadata": {}
  },
  {
   "cell_type": "code",
   "execution_count": 7,
   "source": [
    "faces_dado = range(1,7)\r\n",
    "dadoA = pd.DataFrame({\"a\": faces_dado, 'key': 1})\r\n",
    "dadoB = pd.DataFrame({\"b\": faces_dado, 'key': 1})\r\n",
    "combinacoes = pd.merge(dadoA, dadoB, on=\"key\").drop(columns='key')\r\n",
    "combinacoes[\"a,b\"] = \"(\" + combinacoes.a.astype(\"str\") + \",\" + combinacoes.b.astype(\"str\") + \")\"\r\n",
    "combinacoes[\"soma\"] = combinacoes.a + combinacoes.b\r\n",
    "\r\n",
    "display(Markdown(\r\n",
    "    f'O espaço amostral é: <br>'\r\n",
    "    f'$$\\Omega=\\{{{combinacoes[\"a,b\"].to_string(index=False)}\\}}$$'\r\n",
    "))\r\n"
   ],
   "outputs": [
    {
     "output_type": "display_data",
     "data": {
      "text/markdown": [
       "O espaço amostral é: <br>$$\\Omega=\\{(1,1)\n",
       "(1,2)\n",
       "(1,3)\n",
       "(1,4)\n",
       "(1,5)\n",
       "(1,6)\n",
       "(2,1)\n",
       "(2,2)\n",
       "(2,3)\n",
       "(2,4)\n",
       "(2,5)\n",
       "(2,6)\n",
       "(3,1)\n",
       "(3,2)\n",
       "(3,3)\n",
       "(3,4)\n",
       "(3,5)\n",
       "(3,6)\n",
       "(4,1)\n",
       "(4,2)\n",
       "(4,3)\n",
       "(4,4)\n",
       "(4,5)\n",
       "(4,6)\n",
       "(5,1)\n",
       "(5,2)\n",
       "(5,3)\n",
       "(5,4)\n",
       "(5,5)\n",
       "(5,6)\n",
       "(6,1)\n",
       "(6,2)\n",
       "(6,3)\n",
       "(6,4)\n",
       "(6,5)\n",
       "(6,6)\\}$$"
      ],
      "text/plain": [
       "<IPython.core.display.Markdown object>"
      ]
     },
     "metadata": {}
    }
   ],
   "metadata": {}
  },
  {
   "cell_type": "code",
   "execution_count": 10,
   "source": [
    "quantidade_combinacoes = len(combinacoes)\r\n",
    "possiveis_somas = combinacoes[\"soma\"].unique()\r\n",
    "quantidades_somas = combinacoes.groupby(\"soma\").count()\r\n",
    "distribuicao = pd.DataFrame({\"X=x\": possiveis_somas, \"P(X=x)\": quantidades_somas[\"a,b\"] / quantidade_combinacoes})\r\n",
    "distribuicao[\"P(X<=x)\"] = distribuicao[\"P(X=x)\"].cumsum()\r\n",
    "\r\n",
    "display(Markdown(distribuicao.to_markdown(index=False)))"
   ],
   "outputs": [
    {
     "output_type": "display_data",
     "data": {
      "text/markdown": [
       "|   X=x |    P(X=x) |   P(X<=x) |\n",
       "|------:|----------:|----------:|\n",
       "|     2 | 0.0277778 | 0.0277778 |\n",
       "|     3 | 0.0555556 | 0.0833333 |\n",
       "|     4 | 0.0833333 | 0.166667  |\n",
       "|     5 | 0.111111  | 0.277778  |\n",
       "|     6 | 0.138889  | 0.416667  |\n",
       "|     7 | 0.166667  | 0.583333  |\n",
       "|     8 | 0.138889  | 0.722222  |\n",
       "|     9 | 0.111111  | 0.833333  |\n",
       "|    10 | 0.0833333 | 0.916667  |\n",
       "|    11 | 0.0555556 | 0.972222  |\n",
       "|    12 | 0.0277778 | 1         |"
      ],
      "text/plain": [
       "<IPython.core.display.Markdown object>"
      ]
     },
     "metadata": {}
    }
   ],
   "metadata": {}
  },
  {
   "cell_type": "markdown",
   "source": [
    "---\r\n",
    "### 6) Ache a média e a variância da v.a. do exercício anterior."
   ],
   "metadata": {}
  },
  {
   "cell_type": "code",
   "execution_count": 17,
   "source": [
    "media = sum(distribuicao[\"X=x\"] * distribuicao[\"P(X=x)\"])\r\n",
    "variancia = sum( ((distribuicao[\"X=x\"] ** 2) * distribuicao[\"P(X=x)\"]) ) - (media ** 2)\r\n",
    "\r\n",
    "display(Markdown(f'A média é {media:.2f} e a variância é {variancia:.2f}'))"
   ],
   "outputs": [
    {
     "output_type": "display_data",
     "data": {
      "text/markdown": [
       "A média é 7.00 e a variância é 5.83"
      ],
      "text/plain": [
       "<IPython.core.display.Markdown object>"
      ]
     },
     "metadata": {}
    }
   ],
   "metadata": {}
  }
 ],
 "metadata": {
  "orig_nbformat": 4,
  "language_info": {
   "name": "python",
   "version": "3.9.5",
   "mimetype": "text/x-python",
   "codemirror_mode": {
    "name": "ipython",
    "version": 3
   },
   "pygments_lexer": "ipython3",
   "nbconvert_exporter": "python",
   "file_extension": ".py"
  },
  "kernelspec": {
   "name": "python3",
   "display_name": "Python 3.9.5 64-bit"
  },
  "interpreter": {
   "hash": "a9c895529685f6a4dcda43bbbf9124848711d691a289e9363bf3fb81023d30d2"
  }
 },
 "nbformat": 4,
 "nbformat_minor": 2
}