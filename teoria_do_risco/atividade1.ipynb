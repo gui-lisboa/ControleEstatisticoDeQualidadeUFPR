{
 "cells": [
  {
   "cell_type": "markdown",
   "metadata": {},
   "source": [
    "# Atividade 1\n",
    "\n",
    "```{admonition} Questão\n",
    "\n",
    "Considere que uma seguradora vai assumir os riscos A e B na sua carteira. Para tanto precisa fixar o prêmio de risco e o prêmio puro para este negócio.\n",
    "\n",
    "O valor da importância segurada do item A é 100 unidades monetárias e esta importância para o item B corresponde a 200 u.m.\n",
    "\n",
    "No item A a probabilidade de ocorrência de sinistro no período de um ano é igual a $p_{1}$ enquanto que no item B esta probabilidade é $p_{2}$.\n",
    "\n",
    "Na ocorrência de sinistro no item A o valor da indenização segue uma distribuição de probabilidade definida por:\n",
    "\n",
    "$$\n",
    "f_{Z_{1}}(z_{1}) = \\frac{z_{1}}{200}; \\quad  0 < z_{1} < 20 \\\\\n",
    "0; \\quad \\text{caso contrário}\n",
    "$$\n",
    "\n",
    "Já na ocorrência de sinistro no item B o valor da indenização segue uma distribuição de probabilidade definida por:\n",
    "\n",
    "$$\n",
    "f_{Z_{2}}(z_{2}) = \\frac{1}{20}; \\quad  0 < z_{2} < 20 \\\\\n",
    "0; \\quad \\text{caso contrário}\n",
    "$$\n",
    "\n",
    "```"
   ]
  },
  {
   "cell_type": "markdown",
   "metadata": {},
   "source": [
    "## 1. Estabeleça a função densidade de $X_{2} = Z_{1} + Z_{2}$"
   ]
  },
  {
   "cell_type": "markdown",
   "metadata": {},
   "source": [
    "A função densidade de probabilidade $X_{2} = Z_{1} + Z_{2}$ é definida como:\n",
    "\n",
    "$$\n",
    "f_{X_{2}}(x) = \\int_{Z_{2}} f_{Z_{1}}(x - z_{2}) f_{Z_{2}}(z_{2}) dz_{2} \\text{ para }\n",
    "0 \\le x - z_{2} \\le 20 \\text{ e }\n",
    "0 \\le z_{2} \\le 20\n",
    "$$\n",
    "\n",
    "Utilizando as funções densidade de probabilidade de $Z_{1} e Z_{2}$, temos:\n",
    "\n",
    "$$\n",
    "f_{X_{2}}(x) = \\int_{Z_{2}} \\frac{x - z_{2}}{4000} dz_{2}\n",
    "$$\n",
    "\n",
    "Considerando $z_{2}$, temos os seguintes limites de integração:\n",
    "\n",
    "$$\n",
    "0 \\le x - z_{2} \\le 20 \\rightarrow z_{2} \\le x \\le 20 + z_{2} \\\\\n",
    "0 \\le z_{2} \\le 20\n",
    "$$\n",
    "\n",
    "Esboçando as regiões de integração $R1: z_{2} \\le x$ e $R2: x \\le 20 + z_{2}$, temos:"
   ]
  },
  {
   "cell_type": "code",
   "execution_count": 1,
   "metadata": {},
   "outputs": [
    {
     "data": {
      "image/png": "[encoded data removed]",
      "text/plain": [
       "<Figure size 432x288 with 1 Axes>"
      ]
     },
     "metadata": {
      "needs_background": "light"
     },
     "output_type": "display_data"
    }
   ],
   "source": [
    "import numpy as np\n",
    "import matplotlib.pyplot as plt\n",
    "from matplotlib.patches import Polygon\n",
    "\n",
    "# Cria plot e adiciona nomes dos eixos (z2, X2)\n",
    "fig, ax = plt.subplots()\n",
    "fig.text(0.9, 0.05, r'$z_{2}$')\n",
    "fig.text(0.1, 0.9, r'$X_{2}$')\n",
    "\n",
    "class RegiaoIntegracao:\n",
    "    def __init__(self, nome, x, y, area_inferior_y = True,):\n",
    "        self.nome = nome\n",
    "        self.x = x\n",
    "        self.y = y\n",
    "        self.vertices = [ *zip(x, y), (x[-1], y[0]) if area_inferior_y else (x[0], y[-1])]\n",
    "        self.area = Polygon(self.vertices, facecolor='0.9', edgecolor='0.5')\n",
    "\n",
    "x = np.linspace(0, 20)\n",
    "r1 = RegiaoIntegracao('R1', x, x, area_inferior_y=False)\n",
    "r2 = RegiaoIntegracao('R2', x, 20 + x)\n",
    "\n",
    "regioes = [r1, r2]\n",
    "\n",
    "for regiao in regioes:\n",
    "    ax.plot(regiao.x, regiao.y, 'r', linewidth=2)\n",
    "    ax.add_patch(regiao.area)\n",
    "    ax.text(regiao.x.mean(), regiao.y.mean(), regiao.nome, fontsize=20)\n",
    "\n",
    "plt.show()"
   ]
  },
  {
   "cell_type": "markdown",
   "metadata": {},
   "source": [
    "Logo, temos que a função densidade de probabilidade de $X_{2}$ como:\n",
    "\n",
    "$$\n",
    "f_{X_{2}}(x) =\n",
    "\\begin{cases}\n",
    "    \\int_{0}^{x} \\frac{x - z_{2}}{4000} dz_{2} & \\quad \\text{para } 0 \\le x \\le 20 \\\\\n",
    "    \\int_{x - 20}^{20} \\frac{x - z_{2}}{4000} dz_{2} & \\quad \\text{para } 20 \\le x \\le 40\n",
    "\\end{cases}\n",
    "$$\n",
    "\n",
    "Resolvendo as integrais, temos:\n",
    "\n",
    "$$\n",
    "f_{X_{2}}(x) =\n",
    "\\begin{cases}\n",
    "    \\frac{x^{2}}{8000} & \\quad \\text{para } 0 \\le x \\le 20 \\\\\n",
    "    \\frac{-x^{2} + 40x}{8000} &  \\quad \\text{para } 20 \\le x \\le 40\n",
    "\\end{cases}\n",
    "$$"
   ]
  },
  {
   "cell_type": "markdown",
   "metadata": {},
   "source": [
    "## 2. Prove que esta é uma função densidade de probabilidade"
   ]
  },
  {
   "cell_type": "markdown",
   "metadata": {},
   "source": [
    "Seja $F_{X_{2}}(x)$ a função acumulada de probabilidade de $X_{2}$, temos que:\n",
    "\n",
    "$$\n",
    "F_{X_{2}}(x) = 1\n",
    "$$\n",
    "\n",
    "Definimos $F_{X_{2}}(x)$ como:\n",
    "\n",
    "$$\n",
    "F_{X_{2}}(x) = \\int_{0}^{40} f_{X_{2}}(x) dx = 1\n",
    "$$\n",
    "\n",
    "Aplicando os limites de integração encontrados no ítem 1, temos:\n",
    "\n",
    "$$\n",
    "\\int_{0}^{20} \\frac{x^{2}}{8000} dx + \\int_{20}^{40} \\frac{-x^{2} + 40x}{8000 } dx\n",
    "$$\n",
    "\n",
    "Resolvendo as itegrais:"
   ]
  },
  {
   "cell_type": "code",
   "execution_count": 2,
   "metadata": {},
   "outputs": [
    {
     "data": {
      "text/latex": [
       "F_{X_{2}} =1.0"
      ],
      "text/plain": [
       "<IPython.core.display.Latex object>"
      ]
     },
     "metadata": {},
     "output_type": "display_data"
    }
   ],
   "source": [
    "import scipy.integrate as integrate\n",
    "from IPython.display import display, Latex\n",
    "\n",
    "def fx2_r1(x):\n",
    "    return x**2 / 8000\n",
    "\n",
    "def fx2_r2(x):\n",
    "    return (-x**2 + 40*x) / 8000\n",
    "\n",
    "# [0] porque integrate.quad() retorna tuple com o valor em [0] e o erro em [1]\n",
    "F = integrate.quad(fx2_r1, 0, 20)[0] + integrate.quad(fx2_r2, 20, 40)[0]\n",
    "\n",
    "display(Latex(r'F_{X_{2}} =' + str(F)))"
   ]
  },
  {
   "cell_type": "markdown",
   "metadata": {},
   "source": [
    "## 3. Faça o gráfico de função densidade de probabilidade de $X_{2}$"
   ]
  },
  {
   "cell_type": "code",
   "execution_count": 3,
   "metadata": {},
   "outputs": [
    {
     "data": {
      "image/png": "[encoded data removed]",
      "text/plain": [
       "<Figure size 432x288 with 1 Axes>"
      ]
     },
     "metadata": {
      "needs_background": "light"
     },
     "output_type": "display_data"
    }
   ],
   "source": [
    "fig, ax = plt.subplots()\n",
    "fig.text(0.9, 0.05, r'$x$')\n",
    "fig.text(0.1, 0.9, r'$f_{X_{2}}$')\n",
    "\n",
    "class Regiao:\n",
    "    def __init__(self, nome, x, fx, area_inferior_y = True):\n",
    "        self.nome = nome\n",
    "        self.x = x\n",
    "        self.y = fx(x)\n",
    "        self.vertices = [*zip(x, self.y), (x[-1], self.y[0]) if area_inferior_y else (x[0], self.y[-1])]\n",
    "        self.area = Polygon(self.vertices, facecolor='0.9', edgecolor='0.5')\n",
    "\n",
    "r1 = Regiao('R1', np.linspace(0, 20), fx2_r1)\n",
    "r2 = Regiao('R2', np.linspace(20, 40), fx2_r2, area_inferior_y= False)\n",
    "\n",
    "regioes = [r1, r2]\n",
    "\n",
    "for regiao in regioes:\n",
    "    ax.plot(regiao.x, regiao.y, 'r', linewidth=2)\n",
    "    ax.add_patch(regiao.area)\n",
    "    ax.text(regiao.x.mean(), regiao.y.mean(), regiao.nome, fontsize=20)\n",
    "\n",
    "plt.show()"
   ]
  },
  {
   "cell_type": "markdown",
   "metadata": {},
   "source": [
    "## 4. Qual o valor esperado de $X_{2}$"
   ]
  },
  {
   "cell_type": "markdown",
   "metadata": {},
   "source": [
    "O valor esperado de $X_{2}$ é dado por:\n",
    "\n",
    "$$\n",
    "E[X_{2}] = \\int x f_{X_{2}}(x) dx\n",
    "$$\n",
    "\n",
    "Desmembrando a integral para cada região, temos:\n",
    "\n",
    "$$\n",
    "\\int_{0}^{20} \\frac{x^{3}}{8000} dx + \\int_{20}^{40} \\frac{-x^{3} + 40x^{2}}{8000} dx\n",
    "$$\n",
    "\n",
    "Desenvolvendo as integrais com os limites de integração:\n",
    "\n",
    "$$\n",
    "\n",
    "$$"
   ]
  },
  {
   "cell_type": "code",
   "execution_count": 4,
   "metadata": {},
   "outputs": [
    {
     "data": {
      "text/latex": [
       "E[X_{2}] = 23.333333333333336"
      ],
      "text/plain": [
       "<IPython.core.display.Latex object>"
      ]
     },
     "metadata": {},
     "output_type": "display_data"
    }
   ],
   "source": [
    "def xfx2_r1(x):\n",
    "    return x**3 / 8000\n",
    "\n",
    "def xfx2_r2(x):\n",
    "    return - (x**3 - 40*x**2)/8000\n",
    "\n",
    "# [0] porque integrate.quad() retorna tuple com o valor em [0] e o erro em [1]\n",
    "esperanca_X2 = integrate.quad(xfx2_r1, 0, 20)[0] + integrate.quad(xfx2_r2, 20, 40)[0]\n",
    "\n",
    "display(Latex(r'E[X_{2}] = ' + str(esperanca_X2)))"
   ]
  },
  {
   "cell_type": "markdown",
   "metadata": {},
   "source": [
    "## 5. Considerando que um sinistro ocorre no risco A com probabilidade $p_{1}$ e um sinistro ocorre no risco B com probabilidade $p_{2}$ estabeleça a função densidade de probabilidade do montante agregado de sinistros ($X$)."
   ]
  },
  {
   "cell_type": "markdown",
   "metadata": {},
   "source": [
    "A função densidade de $X$ é dada por:\n",
    "\n",
    "$$\n",
    "f_{X}(x) = \\sum_{i=0}^{3} f_{X/I}(x/I=i).P[I=i]\n",
    "$$\n",
    "\n",
    "onde $i={0, 1, 2, 3}$ representam, respectivamente: 0 sinistros, sinistro A, sinistro B e sinistro em ambos. Substituindo pelas probabilidades para cada região, temos:\n",
    "\n",
    "$$\n",
    "f_{X}(x) =\n",
    "\\begin{cases}\n",
    "    (1-p_{1})(1-p_{2}) & \\quad x=0 \\\\\n",
    "    \\frac{x}{200}p_{1}(1-p_{2}) + \\frac{1}{20}p_{2}(1-p_{1}) + \\frac{x^{2}}{8000}p_{1}p_{2} & \\quad x\\in(0, 20) \\\\\n",
    "    \\frac{-x^{2} + 40x}{8000} & \\quad x\\in(20, 40) \\\\\n",
    "    0 & \\quad \\text{caso contrário}\n",
    "\\end{cases}\n",
    "$$\n",
    "\n",
    "A função densidade de $X$ ($f_{X}(x)$) acima pode ser validada calculando a função acumulada de $X$ ($F_{X}(x) = 1$):"
   ]
  },
  {
   "cell_type": "code",
   "execution_count": 22,
   "metadata": {},
   "outputs": [
    {
     "data": {
      "text/latex": [
       "F_{X}(x) = 1.0"
      ],
      "text/plain": [
       "<IPython.core.display.Latex object>"
      ]
     },
     "metadata": {},
     "output_type": "display_data"
    }
   ],
   "source": [
    "# Gera p1 e p2 aleatóriamente entre 0 e 1\n",
    "p1 = np.random.rand()\n",
    "p2 = np.random.rand()\n",
    "\n",
    "def px0():\n",
    "    return (1-p1) * (1 - p2)\n",
    "\n",
    "def px0_20(x):\n",
    "    return (x/200)*p1*(1-p2) + (1/20)*p2*(1-p1) + ((x**2)/8000)*p1*p2\n",
    "\n",
    "def px20_40(x):\n",
    "    return ((-x**2 + 40*x)/8000) * p1 * p2\n",
    "\n",
    "# [0] porque integrate.quad() retorna tuple com o valor em [0] e o erro em [1]\n",
    "acumulada = px0() + integrate.quad(px0_20, 0, 20)[0] + integrate.quad(px20_40, 20, 40)[0]\n",
    "display(Latex(r'F_{X}(x) = ' + str(acumulada)))"
   ]
  },
  {
   "cell_type": "markdown",
   "metadata": {},
   "source": [
    "## 6. Qual a probabilidade de que a seguradora tenha que pagar indenização no período de um ano ($P[X>0]$)"
   ]
  },
  {
   "cell_type": "markdown",
   "metadata": {},
   "source": [
    "$$\n",
    "P[X>0] = \\int_{0}^{40} f_{X}(x) dx\n",
    "$$\n",
    "\n",
    "Desmembrando a integral para as regiões de $x$, temos:\n",
    "\n",
    "$$\n",
    "P[X>0] = \n",
    "    \\int_{0}^{20} \\frac{x}{200}p_{1}(1-p_{2}) dx + \n",
    "    \\int_{0}^{20} \\frac{1}{20}p_{2}(1-p_{1}) dx +\n",
    "    \\int_{0}^{20} \\frac{x^{2}}{8000}p_{1}p_{2} dx +\n",
    "    \\int_{20}^{40} \\frac{-x^{2} + 40x}{8000}p_{1}p_{2} dx\n",
    "$$\n",
    "\n",
    "Desenvolvendo as integrais, temos:\n",
    "\n",
    "$$\n",
    "P[X>0] = \n",
    "    p_{1} - p_{1}p_{2} +\n",
    "    p_{2} - p_{1}p_{2} +\n",
    "    \\frac{p_{1}p_{2}}{3} +\n",
    "    \\frac{2p_{1}p_{2}}{3}\n",
    "$$\n",
    "\n",
    "Simplificando, temos:\n",
    "\n",
    "$$\n",
    "P[X>0] = p_{1} + p_{2} - p_{1}p_{2}\n",
    "$$"
   ]
  },
  {
   "cell_type": "markdown",
   "metadata": {},
   "source": [
    "## 7. Qual a probabilidade de que a seguradora tenha que pagar mais do que t unidades monetárias em um ano – resolva para t pertencente ao intervalo (20;40)"
   ]
  },
  {
   "cell_type": "markdown",
   "metadata": {},
   "source": [
    "$$\n",
    "P[X>t] = \\int_{t}^{40} \\frac{-x^{2} + 40x}{8000}p_{1}p_{2} dx\n",
    "$$\n",
    "\n",
    "Desenvolvendo a integral, temos:\n",
    "\n",
    "$$\n",
    "P[X>t] = \\frac{p_{1}p_{2}(t^3 - 60t^2 + 32000)}{24000}\n",
    "$$"
   ]
  },
  {
   "cell_type": "markdown",
   "metadata": {},
   "source": [
    "## 8. Para probabilidades de sinistro $p_{1}=0,1$ e $p_{2}=0,3$ qual a probabilidade de $X>20$"
   ]
  },
  {
   "cell_type": "code",
   "execution_count": 5,
   "metadata": {},
   "outputs": [
    {
     "data": {
      "text/latex": [
       "P[X > 20] = 0.02"
      ],
      "text/plain": [
       "<IPython.core.display.Latex object>"
      ]
     },
     "metadata": {},
     "output_type": "display_data"
    }
   ],
   "source": [
    "p1 = .1\n",
    "p2 = .3\n",
    "\n",
    "def px(x):\n",
    "    return ((-x**2 + 40*x)/8000) * p1 * p2\n",
    "\n",
    "# [0] porque integrate.quad() retorna tuple com o valor em [0] e o erro em [1]\n",
    "PX_maior_20 = integrate.quad(px, 20, 40)[0]\n",
    "\n",
    "display(Latex(r'P[X > 20] = ' + str(PX_maior_20)))"
   ]
  },
  {
   "cell_type": "markdown",
   "metadata": {},
   "source": [
    "## 9. Qual o valor esperado de $X$ (prêmio de risco) ($E[X]$)? (determine a fórmula genérica para diferentes valores de $p_{1}$ e $p_{2}$)\n",
    "\n",
    "### Para probabilidades de sinistro $p_{1}$=0,1 e $p_{2}$=0,3 qual o valor esperado de $X$?\n",
    "\n",
    "### Para probabilidades de sinistro $p_{1}$=0,01 e $p_{2}$=0,03 qual o valor esperado de $X$?\n"
   ]
  },
  {
   "cell_type": "markdown",
   "metadata": {},
   "source": [
    "$E[X]$ para dois riscos com probabilidades de sinistro $p_{1}$ e $p_{2}$ é dado por:\n",
    "\n",
    "$$\n",
    "E[X] = p_{1} E[Z_{1}] + p_{2} E[Z_{2}]\n",
    "$$\n"
   ]
  },
  {
   "cell_type": "code",
   "execution_count": 6,
   "metadata": {},
   "outputs": [
    {
     "data": {
      "text/latex": [
       "E[X] = 13.33p_{1} +10.00p_{2}"
      ],
      "text/plain": [
       "<IPython.core.display.Latex object>"
      ]
     },
     "metadata": {},
     "output_type": "display_data"
    }
   ],
   "source": [
    "# E[Z1] = integral z1 * z1/200\n",
    "esperanca_Z1 = integrate.quad(lambda z1: z1**2/200, 0, 20)[0]\n",
    "\n",
    "# Z2 segue uma Uniforme(0, 20)\n",
    "esperanca_Z2 = (0 + 20)/2\n",
    "\n",
    "def esperanca_X(p1, p2):\n",
    "    return p1*esperanca_Z1 + p2*esperanca_Z2\n",
    "\n",
    "display(Latex(\n",
    "    r'E[X] = '\n",
    "    f'{esperanca_Z1:.2f}' + 'p_{1} +'\n",
    "    f'{esperanca_Z2:.2f}' + 'p_{2}'))"
   ]
  },
  {
   "cell_type": "markdown",
   "metadata": {},
   "source": [
    "Para $p_{1} = 0,1$ e $p_{2} = 0,3$:"
   ]
  },
  {
   "cell_type": "code",
   "execution_count": 7,
   "metadata": {},
   "outputs": [
    {
     "data": {
      "text/plain": [
       "4.333333333333333"
      ]
     },
     "metadata": {},
     "output_type": "display_data"
    }
   ],
   "source": [
    "x = esperanca_X(.1, .3)\n",
    "display(x)"
   ]
  },
  {
   "cell_type": "markdown",
   "metadata": {},
   "source": [
    "Para $p_{1} = 0,01$ e $p_{2} = 0,03$:"
   ]
  },
  {
   "cell_type": "code",
   "execution_count": 8,
   "metadata": {},
   "outputs": [
    {
     "data": {
      "text/plain": [
       "0.43333333333333335"
      ]
     },
     "metadata": {},
     "output_type": "display_data"
    }
   ],
   "source": [
    "x = esperanca_X(.01, .03)\n",
    "display(x)"
   ]
  },
  {
   "cell_type": "markdown",
   "metadata": {},
   "source": [
    "## 10. \tSimule 20.000 repetições de $X$ para $p_{1}=0,6$ e $p_{2}=0,6$ e calcule:"
   ]
  },
  {
   "cell_type": "markdown",
   "metadata": {},
   "source": [
    "### a. A distribuição de frequência das simulações estabelecendo a frequência percentual de 0’s e das classes definidas por 0,0001 a 4; 4,0001 a 8; ... ; 36,0001 a 40"
   ]
  },
  {
   "cell_type": "code",
   "execution_count": 146,
   "metadata": {},
   "outputs": [],
   "source": [
    "from scipy.stats import uniform\n",
    "from IPython.display import Markdown\n",
    "import pandas as pd\n",
    "\n",
    "n = 20000\n",
    "p1 = .6\n",
    "p2 = .6\n",
    "classes = [0, 0.0001, 4, 8, 12, 16, 20, 24, 28, 32, 36, 40]\n",
    "uniforme = uniform(0, 20)\n",
    "\n",
    "def z1():\n",
    "    return uniforme.rvs()**3/600\n",
    "\n",
    "def z2():\n",
    "    return uniforme.rvs()\n",
    "\n",
    "simulacoes = []\n",
    "\n",
    "for simulacao in range(0, n):\n",
    "    sinistro_a = int(np.random.rand() >= p1)\n",
    "    sinistro_b = int(np.random.rand() >= p2)\n",
    "    x = sinistro_a * z1() + sinistro_b * z2()\n",
    "    simulacoes.append(x)\n",
    "\n",
    "simulacoes = pd.DataFrame({'X': simulacoes,'classes': pd.cut(simulacoes, classes)})\n",
    "#simulacoes.classes.value_counts().plot.bar();\n",
    "distribuicao_frequencias = simulacoes['classes'].value_counts(normalize=True)\n",
    "#distribuicao_frequencias.sort_index().plot.bar(width=1);\n"
   ]
  },
  {
   "cell_type": "code",
   "execution_count": 154,
   "metadata": {},
   "outputs": [
    {
     "data": {
      "text/markdown": [
       "|               |     classes |\n",
       "|:--------------|------------:|\n",
       "| (0.0001, 4.0] | 0.343232    |\n",
       "| (4.0, 8.0]    | 0.182742    |\n",
       "| (8.0, 12.0]   | 0.16708     |\n",
       "| (12.0, 16.0]  | 0.132811    |\n",
       "| (16.0, 20.0]  | 0.127462    |\n",
       "| (20.0, 24.0]  | 0.0241898   |\n",
       "| (24.0, 28.0]  | 0.0102341   |\n",
       "| (0.0, 0.0001] | 0.00736548  |\n",
       "| (28.0, 32.0]  | 0.00457435  |\n",
       "| (32.0, 36.0]  | 0.000310126 |\n",
       "| (36.0, 40.0]  | 0           |"
      ],
      "text/plain": [
       "<IPython.core.display.Markdown object>"
      ]
     },
     "metadata": {},
     "output_type": "display_data"
    }
   ],
   "source": [
    "display(Markdown(distribuicao_frequencias.to_markdown()))"
   ]
  }
 ],
 "metadata": {
  "interpreter": {
   "hash": "a9c895529685f6a4dcda43bbbf9124848711d691a289e9363bf3fb81023d30d2"
  },
  "kernelspec": {
   "display_name": "Python 3.9.5 64-bit",
   "name": "python3"
  },
  "language_info": {
   "codemirror_mode": {
    "name": "ipython",
    "version": 3
   },
   "file_extension": ".py",
   "mimetype": "text/x-python",
   "name": "python",
   "nbconvert_exporter": "python",
   "pygments_lexer": "ipython3",
   "version": "3.9.5"
  },
  "orig_nbformat": 4
 },
 "nbformat": 4,
 "nbformat_minor": 2
}
