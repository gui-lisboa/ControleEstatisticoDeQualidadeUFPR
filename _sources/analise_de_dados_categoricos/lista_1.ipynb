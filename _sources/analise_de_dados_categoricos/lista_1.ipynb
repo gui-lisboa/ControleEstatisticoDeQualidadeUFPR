{
 "cells": [
  {
   "cell_type": "markdown",
   "metadata": {},
   "source": [
    "# 1º Lista de Exercícios\n",
    "\n",
    "- Disciplina: Análise de Dados Categóricos\n",
    "- Professora: Nívea da Silva Matuda Machado\n",
    "- Aluno: Guilherme Lisboa de Oliveira (GRR20170414)"
   ]
  },
  {
   "cell_type": "markdown",
   "metadata": {},
   "source": [
    "```{admonition} Questão 1\n",
    "\n",
    "Defina duas formas distintas de mensurar/observar cada uma das variáveis listadas a seguir; em seguida, da forma mais adequada, classifique as variáveis como dicotômica, politômica (nominal ou ordinal) ou quantitativa (contínua ou discreta):\n",
    "\n",
    "**a)** Partido político;\n",
    "\n",
    "**b)** Escolaridade;\n",
    "\n",
    "**c)** Tempo de sobrevida do paciente;\n",
    "\n",
    "**d)** Condição clínica do paciente;\n",
    "\n",
    "**e)** Salário.\n",
    "\n",
    "Observação: a distinção não podem ser só pela troca da unidade de medida, por exemplo, de dias para anos; de reais para dólares; etc.\n",
    "\n",
    "```"
   ]
  },
  {
   "cell_type": "markdown",
   "metadata": {},
   "source": [
    "(a) Partido político:\n",
    "  - Ideologia\n",
    "    - Possíveis valores: Esquerda, Direita\n",
    "    - Classificação da variável: Dicotômica\n",
    "  - Presença no congresso\n",
    "    - Possíveis valores: inteiros de 0 até o número de vagas para deputados federais\n",
    "    - Classificação da variável: Quantitativa Discreta\n",
    "\n",
    "(b) Escolaridade:\n",
    "  - Grau de escolaridade\n",
    "    - Possíveis valores: Analfabeto, Fundamental Incompleto, Fundamental Completo, Médio Incompleto, Médio Completo, Superior Incompleto, Superior Completo, Mestrado, Doutorado\n",
    "    - Classificação da variável: Politômica Ordinal\n",
    "  - Tempo matrículado em uma instituição de ensino\n",
    "    - Possíveis valores: valores contínuos a partir de 0\n",
    "    - Classificação da variável: Quantitativa Contínua\n",
    "\n",
    "(c) Tempo de sobrevida do paciente:\n",
    "  - Acima ou abaixo do esperado\n",
    "    - Possíveis valores: Acima, Abaixo\n",
    "    - Classificação da variável: Dicotômica\n",
    "  - Tempo de sobrevida a partir do diagnóstico\n",
    "    - Possíveis valores: valores contínuos a partir de 0\n",
    "    - Classificação da variável: Quantitativa Contínua\n",
    "\n",
    "(d) Condição clínica do paciente:\n",
    "  - Sintomas\n",
    "    - Possíveis valores: Apresenta, Não Apresenta\n",
    "    - Classificação da variável: Dicotômica\n",
    "  - Severidade\n",
    "    - Possíveis valores: Baixa, Média, Alta\n",
    "    - Classificação da variável: Politômica Ordinal\n",
    "\n",
    "(e) Salário:\n",
    "  - Valor\n",
    "    - Possíveis valores: valores contínuos a partir de 0\n",
    "    - Classificação da variável: Quantitativa Contínua\n",
    "  - Em comparação com média nacional\n",
    "    - Possíveis valores: Abaixo ou na média, Acima da média\n",
    "    - Classificação da variável: Dicotômica"
   ]
  },
  {
   "cell_type": "markdown",
   "metadata": {},
   "source": [
    "```{admonition} Questão 2\n",
    "\n",
    "A abordagem adotada para tratar os problemas apresentados nesta disciplina, de forma geral, envolve os seguintes passos:\n",
    "\n",
    "**a)** Destacar as questões de interesse;\n",
    "\n",
    "**b)** Identificar o delineamento amostral ou experimental usado para obteção dos dados;\n",
    "\n",
    "**c)** Escolher o modelo associado aos dados, de acordo com o delineamento especificado em (b);\n",
    "\n",
    "**d)** Traduzir as questões de interesse em termos dos parâmetros do modelo escolhido;\n",
    "\n",
    "**e)** Analisar adequadamente os dados;\n",
    "\n",
    "**f)** Converter as conclusões em termos das questões originais\n",
    "\n",
    "Diante da importância do item (b) relate de forma resumida, os delineamentos que foram estudados. Descreva, com suas palavras, as diferenças entre eles, com relação a obtenção dos dados.\n",
    "\n",
    "```"
   ]
  },
  {
   "cell_type": "markdown",
   "metadata": {},
   "source": [
    "Os delineamentos estudados diferem quanto a quais valores marginais são fixados. Em estudos onde as marginais linhas ($n_{i+}$) são fixadas, já é conhecida a separação das observações em função da variável explicativa, restando saber qual será a proporção de observações sob as categorias da variável resposta ($N_{+j}$) e associar probabilidades para $N_{ij}$. Exemplos de estudos que seguem este delineamento são os estudos de coorte e ensaios clínicos aleatorizados.\n",
    "\n",
    "De maneira análoga, é possível fixar valores observados em cada categoria da variável resposta ($n_{+j}$), buscando assim identificar como a amostra se distribui entre as categorias da variável explicativa sugerida. Este delineamento é seugido por estudos de caso-controle.\n",
    "\n",
    "Em estudos transversais, não é possível fixar as marginais linhas ou colunas, apenas o total de observações ($n$), assim, mesmo as marginais são tratadas como variáveis aleatórias.\n",
    "\n",
    "Ainda existe a possibilidade de o estudo coletar dados em um intervalo de tempo conhecido, mas apenas após a coleta conhecer o total de observações ($n$) e como estas se dividem entre linhas e colunas na tabela de contingência.\n",
    "\n",
    "Diferenças em relação aos modelos estatísticos:\n",
    "\n",
    "Caso as marginais fixadas pelo pesquisador sejam as marginais linha, opta-se pelo modelo produto de binomiais (Y dicotômica) ou produto de multinomiais (Y politômica). Caso o valor fixado seja o total de ensaios, fazendo com que as marginais sejam tratadas também como variáveis aleatórias, faz-se o uso do modelo multinomial. Há ainda a possibilidade de não ter qualquer valor fixado, ficando este sujeito a um intervalo de tempo para captação das observações. Nestes casos, utiliza-se o modelo produto de distribuições de Poisson."
   ]
  },
  {
   "cell_type": "markdown",
   "metadata": {},
   "source": [
    "```{admonition} Questão 3\n",
    "\n",
    "Selecione 3 dos delineamentos relatados na Questão 2 e apresente o modelo associado a cada dos 3 delineamentos selecionados. Dentre estes 3, escolha um delineamento e formule a hipótese nula, $H_0$, de ausência de associação, em termos dos parâmetros do modelo associado.\n",
    "\n",
    "```"
   ]
  },
  {
   "cell_type": "markdown",
   "metadata": {},
   "source": [
    "- Delineamento com marginais linhas fixados: modelo produto de binomiais independentes\n",
    "- Delineamento com total de observações fixado: modelo multinomial\n",
    "- Delineamento com intervalo de tempo para coleta de observações fixado: modelo produto de distribuições Poisson\n",
    "\n",
    "Modelo escolhido para formulação de $H_0$: modelo produto de binomiais independentes\n",
    "\n",
    "$$\n",
    "\\begin{cases}\n",
    "    H_0: p_{(1)1} = p_{(2)1}    \\\\\n",
    "    H_A: p_{(1)1} \\neq p_{(2)1} \\\\\n",
    "\\end{cases}\n",
    "$$"
   ]
  },
  {
   "cell_type": "markdown",
   "metadata": {},
   "source": [
    "```{admonition} Questão 4\n",
    "\n",
    "Completar os Exercícios 2 e 4 do Capítulo 2 (livro texto), resolvidos parcialmente em aula. Ou seja: é solicitado, nos dois exercícios, voltar para os Exercícios 4 a 8 do Capítulo 1; para completar os exercícios, você deve voltar aos Exercícios 6 a 8 do Capítulo 1, da mesma forma como voltamos aos Exercícios 4 e 5 do Capítulo 1 em aula.\n",
    "\n",
    "**Exercício 2, Capítulo 2**: Faça o mesmo (identificar o modelo probabilístico associado ao estudo) para os estudos dos exercícios 4 a 8 do capítulo 1.\n",
    "\n",
    "**Exercício 4, Capítulo 2**: Faça o mesmo (representar graficamente os dados do estudo descrito) para os estudos dos exercícios 4 a 8 do capítulo 1.\n",
    "\n",
    "```"
   ]
  },
  {
   "cell_type": "markdown",
   "metadata": {},
   "source": [
    "***Exercício 4, Capítulo 1***: Com o objetivo de investigar a associação entre tabaco e câncer de pulmão, 2000 pessoas (800 fumantes e 1200 não fumantes) foram acompanhadas por 20 anos obtendo-se os dados da Tabela 1.10:\n",
    "\n",
    "![Tabela 1.10](./imagens/tabela_exercicio_4_capitulo_1.PNG)\n",
    "\n",
    "Como o estudo foi planejado de modo que a população alvo foi dividida entre fumantes e não fumantes e amostradas após um longo período, isso caracteriza um estudo de coorte que, como tem marginais linhas fixadas, tem como modelo associado o produto de binomiais.\n"
   ]
  },
  {
   "cell_type": "code",
   "execution_count": 79,
   "metadata": {},
   "outputs": [
    {
     "data": {
      "text/html": [
       "<div>\n",
       "<style scoped>\n",
       "    .dataframe tbody tr th:only-of-type {\n",
       "        vertical-align: middle;\n",
       "    }\n",
       "\n",
       "    .dataframe tbody tr th {\n",
       "        vertical-align: top;\n",
       "    }\n",
       "\n",
       "    .dataframe thead th {\n",
       "        text-align: right;\n",
       "    }\n",
       "</style>\n",
       "<table border=\"1\" class=\"dataframe\">\n",
       "  <thead>\n",
       "    <tr style=\"text-align: right;\">\n",
       "      <th></th>\n",
       "      <th>Sim</th>\n",
       "      <th>Não</th>\n",
       "    </tr>\n",
       "  </thead>\n",
       "  <tbody>\n",
       "    <tr>\n",
       "      <th>Fumante</th>\n",
       "      <td>0.112500</td>\n",
       "      <td>0.887500</td>\n",
       "    </tr>\n",
       "    <tr>\n",
       "      <th>Não Fumante</th>\n",
       "      <td>0.008333</td>\n",
       "      <td>0.991667</td>\n",
       "    </tr>\n",
       "  </tbody>\n",
       "</table>\n",
       "</div>"
      ],
      "text/plain": [
       "                  Sim       Não\n",
       "Fumante      0.112500  0.887500\n",
       "Não Fumante  0.008333  0.991667"
      ]
     },
     "metadata": {},
     "output_type": "display_data"
    },
    {
     "data": {
      "image/png": "[encoded data removed]",
      "text/plain": [
       "<Figure size 432x288 with 1 Axes>"
      ]
     },
     "metadata": {},
     "output_type": "display_data"
    }
   ],
   "source": [
    "%matplotlib inline\n",
    "import pandas as pd\n",
    "import matplotlib.pyplot as plt\n",
    "plt.style.use(\"ggplot\")\n",
    "\n",
    "tabela1_10_dados = pd.DataFrame(\n",
    "    {\"Sim\": [90, 10], \"Não\": [710, 1190]}, index=[\"Fumante\", \"Não Fumante\"]\n",
    ")\n",
    "\n",
    "tabela1_10_proporcoes = tabela1_10_dados.transform( lambda x: x / tabela1_10_dados.sum(axis=1))\n",
    "display(tabela1_10_proporcoes)\n",
    "\n",
    "grafico = tabela1_10_proporcoes.plot(kind=\"bar\", stacked=True, rot=0)\n",
    "grafico.legend(title='Ocorrência Câncer de Pulmão', bbox_to_anchor=(1.02, 1))\n",
    "\n",
    "grafico;"
   ]
  },
  {
   "cell_type": "markdown",
   "metadata": {},
   "source": [
    "***Exercício 5, Capítulo 1***: Com o objetivo de investigar se o histórico familiar é fator de risco para o câncer de mama, dois grupos de mulheres (um com a doença e outro sem) foram comparados. Os dados estão na Tabela 1.11:\n",
    "\n",
    "![Tabela 1.11](./imagens/tabela_exercicio_5_capitulo_1.PNG)\n",
    "\n",
    "Estudo caso-controle com modelo produto de binomiais.\n"
   ]
  },
  {
   "cell_type": "code",
   "execution_count": 80,
   "metadata": {},
   "outputs": [
    {
     "data": {
      "text/html": [
       "<div>\n",
       "<style scoped>\n",
       "    .dataframe tbody tr th:only-of-type {\n",
       "        vertical-align: middle;\n",
       "    }\n",
       "\n",
       "    .dataframe tbody tr th {\n",
       "        vertical-align: top;\n",
       "    }\n",
       "\n",
       "    .dataframe thead th {\n",
       "        text-align: right;\n",
       "    }\n",
       "</style>\n",
       "<table border=\"1\" class=\"dataframe\">\n",
       "  <thead>\n",
       "    <tr style=\"text-align: right;\">\n",
       "      <th></th>\n",
       "      <th>Sim</th>\n",
       "      <th>Não</th>\n",
       "    </tr>\n",
       "  </thead>\n",
       "  <tbody>\n",
       "    <tr>\n",
       "      <th>Com Histórico</th>\n",
       "      <td>0.320755</td>\n",
       "      <td>0.679245</td>\n",
       "    </tr>\n",
       "    <tr>\n",
       "      <th>Sem Histórico</th>\n",
       "      <td>0.072727</td>\n",
       "      <td>0.927273</td>\n",
       "    </tr>\n",
       "  </tbody>\n",
       "</table>\n",
       "</div>"
      ],
      "text/plain": [
       "                    Sim       Não\n",
       "Com Histórico  0.320755  0.679245\n",
       "Sem Histórico  0.072727  0.927273"
      ]
     },
     "metadata": {},
     "output_type": "display_data"
    },
    {
     "data": {
      "image/png": "[encoded data removed]",
      "text/plain": [
       "<Figure size 432x288 with 1 Axes>"
      ]
     },
     "metadata": {},
     "output_type": "display_data"
    }
   ],
   "source": [
    "tabela1_11_dados = pd.DataFrame(\n",
    "    {\"Sim\": [17, 8], \"Não\": [36, 102]}, index=[\"Com Histórico\", \"Sem Histórico\"]\n",
    ")\n",
    "\n",
    "tabela1_11_proporcoes = tabela1_11_dados.transform( lambda x: x / tabela1_11_dados.sum(axis=1))\n",
    "display(tabela1_11_proporcoes)\n",
    "\n",
    "grafico = tabela1_11_proporcoes.plot(kind=\"bar\", stacked=True, rot=0)\n",
    "grafico.legend(title='Ocorrência Câncer de Mama', bbox_to_anchor=(1.02, 1))\n",
    "\n",
    "grafico;"
   ]
  },
  {
   "cell_type": "markdown",
   "metadata": {},
   "source": [
    "***Exercício 6, Capítulo 1***: Um estudo conduzido para investigar o efeito da vitamina C em uma desordem renal genética (denominada nephropathic cystosis) produzziu os dados mostrados na Tabela 1.12:\n",
    "\n",
    "![Tabela 1.12](./imagens/tabela_exercicio_6_capitulo_1.PNG)\n",
    "\n",
    "Ensaio clínico aleatorizado - produto de binomiais\n"
   ]
  },
  {
   "cell_type": "code",
   "execution_count": 81,
   "metadata": {},
   "outputs": [
    {
     "data": {
      "text/html": [
       "<div>\n",
       "<style scoped>\n",
       "    .dataframe tbody tr th:only-of-type {\n",
       "        vertical-align: middle;\n",
       "    }\n",
       "\n",
       "    .dataframe tbody tr th {\n",
       "        vertical-align: top;\n",
       "    }\n",
       "\n",
       "    .dataframe thead th {\n",
       "        text-align: right;\n",
       "    }\n",
       "</style>\n",
       "<table border=\"1\" class=\"dataframe\">\n",
       "  <thead>\n",
       "    <tr style=\"text-align: right;\">\n",
       "      <th></th>\n",
       "      <th>Melhora</th>\n",
       "      <th>Não Melhora</th>\n",
       "    </tr>\n",
       "  </thead>\n",
       "  <tbody>\n",
       "    <tr>\n",
       "      <th>Vitamica C</th>\n",
       "      <td>0.75000</td>\n",
       "      <td>0.25000</td>\n",
       "    </tr>\n",
       "    <tr>\n",
       "      <th>Sem Vitamina C</th>\n",
       "      <td>0.90625</td>\n",
       "      <td>0.09375</td>\n",
       "    </tr>\n",
       "  </tbody>\n",
       "</table>\n",
       "</div>"
      ],
      "text/plain": [
       "                Melhora  Não Melhora\n",
       "Vitamica C      0.75000      0.25000\n",
       "Sem Vitamina C  0.90625      0.09375"
      ]
     },
     "metadata": {},
     "output_type": "display_data"
    },
    {
     "data": {
      "image/png": "[encoded data removed]",
      "text/plain": [
       "<Figure size 432x288 with 1 Axes>"
      ]
     },
     "metadata": {},
     "output_type": "display_data"
    }
   ],
   "source": [
    "tabela1_12_dados = pd.DataFrame(\n",
    "    {\"Melhora\": [24, 29], \"Não Melhora\": [8, 3]}, index=[\"Vitamica C\", \"Sem Vitamina C\"]\n",
    ")\n",
    "\n",
    "tabela1_12_proporcoes = tabela1_12_dados.transform( lambda x: x / tabela1_12_dados.sum(axis=1))\n",
    "display(tabela1_12_proporcoes)\n",
    "\n",
    "grafico = tabela1_12_proporcoes.plot(kind=\"bar\", stacked=True, rot=0)\n",
    "grafico.legend(title='Melhora Clínica', bbox_to_anchor=(1.02, 1))\n",
    "\n",
    "grafico;"
   ]
  },
  {
   "cell_type": "markdown",
   "metadata": {},
   "source": [
    "***Exercício 7, Capítulo 1***: Os dados exibidos na Tabela 1.13 são de um estudo realizado para investigar a associação entre câncer de esôfago e consumo de álcool:\n",
    "\n",
    "![Tabela 1.13](./imagens/tabela_exercicio_7_capitulo_1.PNG)\n",
    "\n",
    "Caso-controle - produto de binomiais\n"
   ]
  },
  {
   "cell_type": "code",
   "execution_count": 82,
   "metadata": {},
   "outputs": [
    {
     "data": {
      "text/html": [
       "<div>\n",
       "<style scoped>\n",
       "    .dataframe tbody tr th:only-of-type {\n",
       "        vertical-align: middle;\n",
       "    }\n",
       "\n",
       "    .dataframe tbody tr th {\n",
       "        vertical-align: top;\n",
       "    }\n",
       "\n",
       "    .dataframe thead th {\n",
       "        text-align: right;\n",
       "    }\n",
       "</style>\n",
       "<table border=\"1\" class=\"dataframe\">\n",
       "  <thead>\n",
       "    <tr style=\"text-align: right;\">\n",
       "      <th></th>\n",
       "      <th>Sim</th>\n",
       "      <th>Não</th>\n",
       "    </tr>\n",
       "  </thead>\n",
       "  <tbody>\n",
       "    <tr>\n",
       "      <th>Consome Álcool</th>\n",
       "      <td>0.468293</td>\n",
       "      <td>0.531707</td>\n",
       "    </tr>\n",
       "    <tr>\n",
       "      <th>Não Consome Álcool</th>\n",
       "      <td>0.135065</td>\n",
       "      <td>0.864935</td>\n",
       "    </tr>\n",
       "  </tbody>\n",
       "</table>\n",
       "</div>"
      ],
      "text/plain": [
       "                         Sim       Não\n",
       "Consome Álcool      0.468293  0.531707\n",
       "Não Consome Álcool  0.135065  0.864935"
      ]
     },
     "metadata": {},
     "output_type": "display_data"
    },
    {
     "data": {
      "image/png": "[encoded data removed]",
      "text/plain": [
       "<Figure size 432x288 with 1 Axes>"
      ]
     },
     "metadata": {},
     "output_type": "display_data"
    }
   ],
   "source": [
    "tabela1_13_dados = pd.DataFrame(\n",
    "    {\"Sim\": [96, 104], \"Não\": [109, 666]}, index=[\"Consome Álcool\", \"Não Consome Álcool\"]\n",
    ")\n",
    "\n",
    "tabela1_13_proporcoes = tabela1_13_dados.transform( lambda x: x / tabela1_13_dados.sum(axis=1))\n",
    "display(tabela1_13_proporcoes)\n",
    "\n",
    "grafico = tabela1_13_proporcoes.plot(kind=\"bar\", stacked=True, rot=0)\n",
    "grafico.legend(title='Câncer de Esôfago', bbox_to_anchor=(1.02, 1))\n",
    "\n",
    "grafico;"
   ]
  },
  {
   "cell_type": "markdown",
   "metadata": {},
   "source": [
    "\n",
    "***Exercício 8, Capítulo 1***: Uma pesquisa foi conduzida para avaliar a opinião de homens e mulheres a respeito da legalização do aborto. Os dados dos 1.100 entrevistados estão na Tabela 1.14:\n",
    "\n",
    "![Tabela 1.14](./imagens/tabela_exercicio_8_capitulo_1.PNG)\n",
    "\n",
    "Estudo aleatorizado - multinomial"
   ]
  },
  {
   "cell_type": "code",
   "execution_count": 83,
   "metadata": {},
   "outputs": [
    {
     "data": {
      "text/html": [
       "<div>\n",
       "<style scoped>\n",
       "    .dataframe tbody tr th:only-of-type {\n",
       "        vertical-align: middle;\n",
       "    }\n",
       "\n",
       "    .dataframe tbody tr th {\n",
       "        vertical-align: top;\n",
       "    }\n",
       "\n",
       "    .dataframe thead th {\n",
       "        text-align: right;\n",
       "    }\n",
       "</style>\n",
       "<table border=\"1\" class=\"dataframe\">\n",
       "  <thead>\n",
       "    <tr style=\"text-align: right;\">\n",
       "      <th></th>\n",
       "      <th>Sim</th>\n",
       "      <th>Não</th>\n",
       "    </tr>\n",
       "  </thead>\n",
       "  <tbody>\n",
       "    <tr>\n",
       "      <th>Mulheres</th>\n",
       "      <td>0.618000</td>\n",
       "      <td>0.382000</td>\n",
       "    </tr>\n",
       "    <tr>\n",
       "      <th>Homens</th>\n",
       "      <td>0.531667</td>\n",
       "      <td>0.468333</td>\n",
       "    </tr>\n",
       "  </tbody>\n",
       "</table>\n",
       "</div>"
      ],
      "text/plain": [
       "               Sim       Não\n",
       "Mulheres  0.618000  0.382000\n",
       "Homens    0.531667  0.468333"
      ]
     },
     "metadata": {},
     "output_type": "display_data"
    },
    {
     "data": {
      "image/png": "[encoded data removed]",
      "text/plain": [
       "<Figure size 432x288 with 1 Axes>"
      ]
     },
     "metadata": {},
     "output_type": "display_data"
    }
   ],
   "source": [
    "tabela1_14_dados = pd.DataFrame(\n",
    "    {\"Sim\": [309, 319], \"Não\": [191, 281]}, index=[\"Mulheres\", \"Homens\"]\n",
    ")\n",
    "\n",
    "tabela1_14_proporcoes = tabela1_14_dados.transform( lambda x: x / tabela1_14_dados.sum(axis=1))\n",
    "display(tabela1_14_proporcoes)\n",
    "\n",
    "grafico = tabela1_14_proporcoes.plot(kind=\"bar\", stacked=True, rot=0)\n",
    "grafico.legend(title='Favorável à Legalização', bbox_to_anchor=(1.02, 1))\n",
    "\n",
    "grafico;"
   ]
  },
  {
   "cell_type": "markdown",
   "metadata": {},
   "source": [
    "```{admonition} Questão 5\n",
    "\n",
    "Ao trocar de posição as linhas de uma tabela de contingência com duas variáveis nominais, o que acontece com o valor de $Q_p$ , a estatística qui-quadrado de Pearson: muda com certeza, possivelmente muda ou permanece igual? Por que?\n",
    "\n",
    "```"
   ]
  },
  {
   "cell_type": "markdown",
   "metadata": {},
   "source": [
    "Permanece igual, porque as esperanças $E(N_{ij})$ são obtidas de forma idêntica à dos estudos com totais marginais-linha fixos. (ver p44 [59])."
   ]
  },
  {
   "cell_type": "markdown",
   "metadata": {},
   "source": [
    "```{admonition} Questão 6\n",
    "\n",
    "Os dados da Tabela 1, são de um estudo caso-controle sobre associação entre o consumo de pimenta e desenvolvimento de câncer gástrico, realizado no México.\n",
    "\n",
    "**a)** Podemos usar a medida Risco Relativo neste estudo? Justifique sua resposta.\n",
    "\n",
    "**b)** Calcule a odds ratio a favor de casos entre pessoas que consomem pimenta e a favor de casos entre pessoas que não consomem pimenta.\n",
    "\n",
    "**c)** Qual possui interpretação mais conveniente, a do item (a) ou do item (b)?\n",
    "\n",
    "**d)** Discuta os resultados sobre possível associação entre as variáveis, com base na conclusão do teste e da interpretação do intervalo de confiança da medida mais adequada.\n",
    "\n",
    "| Consumo de pimenta | Casos | Controle | Totais |\n",
    "| :----------------: | :---: | :------: | :----: |\n",
    "| Sim                | 211   | 607      | 818    |\n",
    "| Não                | 9     | 145      | 154    |\n",
    "| Totais             | 220   | 752      | 972    |\n",
    "\n",
    "```"
   ]
  },
  {
   "cell_type": "markdown",
   "metadata": {},
   "source": [
    "**a)** Sim, pois há sentido em buscar saber qual o risco de desenvolver câncer gástrico dado o consumo ou não de pimenta.\n",
    "\n",
    "Abaixo, seguem funções para calcular o risco relativo:"
   ]
  },
  {
   "cell_type": "code",
   "execution_count": 84,
   "metadata": {},
   "outputs": [],
   "source": [
    "import numpy as np\n",
    "import scipy.stats as st\n",
    "\n",
    "\n",
    "def estimador_p_i_j(N_i_j: np.number, soma_linha_i: np.number) -> np.number:\n",
    "    return N_i_j / soma_linha_i\n",
    "\n",
    "\n",
    "def estimador_risco_relativo(\n",
    "    estimador_p_i_j: np.number, estimador_p_i2_j: np.number\n",
    ") -> np.number:\n",
    "    return estimador_p_i_j / estimador_p_i2_j\n",
    "\n",
    "\n",
    "def f_risco_relativo(estimador_risco_relativo: np.number) -> np.number:\n",
    "    return np.log(estimador_risco_relativo)\n",
    "\n",
    "\n",
    "def variancia_f_risco_relativo(\n",
    "    estimador_p_i_j: np.number,\n",
    "    soma_linha_i: np.number,\n",
    "    estimador_p_i2_j: np.number,\n",
    "    soma_linha_i2: np.number,\n",
    ") -> np.number:\n",
    "    termo_p_i_j = (1 - estimador_p_i_j) / (soma_linha_i * estimador_p_i_j)\n",
    "    termo_p_i2_j = (1 - estimador_p_i2_j) / (soma_linha_i2 * estimador_p_i2_j)\n",
    "    return termo_p_i_j + termo_p_i2_j\n",
    "\n",
    "\n",
    "def intervalo_confianca_risco_relativo(\n",
    "    f_risco_relativo: np.number,\n",
    "    variancia_f_risco_relativo: np.number,\n",
    "    alpha: np.number = 0.05,\n",
    ") -> tuple[np.number, np.number]:\n",
    "    z_score = st.norm.ppf(1 - alpha / 2)\n",
    "    limite_inferior = f_risco_relativo - z_score * np.sqrt(variancia_f_risco_relativo)\n",
    "    limite_superior = f_risco_relativo + z_score * np.sqrt(variancia_f_risco_relativo)\n",
    "    return np.exp([limite_inferior, limite_superior])\n"
   ]
  },
  {
   "cell_type": "markdown",
   "metadata": {},
   "source": [
    "Aplicando os dados, temos:"
   ]
  },
  {
   "cell_type": "code",
   "execution_count": 85,
   "metadata": {},
   "outputs": [
    {
     "data": {
      "text/latex": [
       "\\hat{RR}_{Consome | Não Consome} = 4.41374626460201"
      ],
      "text/plain": [
       "<IPython.core.display.Latex object>"
      ]
     },
     "metadata": {},
     "output_type": "display_data"
    },
    {
     "data": {
      "text/latex": [
       "IC(RR)_{95\\%} = (2.3168607273527075; 8.408427773967997)"
      ],
      "text/plain": [
       "<IPython.core.display.Latex object>"
      ]
     },
     "execution_count": 85,
     "metadata": {},
     "output_type": "execute_result"
    }
   ],
   "source": [
    "from IPython.display import display, Latex\n",
    "\n",
    "q6_dados = pd.DataFrame(\n",
    "    {\"Casos\": [211, 9], \"Controle\": [607, 145]}, index=[\"Sim\", \"Nao\"]\n",
    ")\n",
    "\n",
    "soma_consumo_sim = q6_dados.loc[\"Sim\"].sum()\n",
    "soma_consumo_nao = q6_dados.loc[\"Nao\"].sum()\n",
    "casos_consumo_sim = q6_dados.loc[\"Sim\"][\"Casos\"]\n",
    "casos_consumo_nao = q6_dados.loc[\"Nao\"][\"Casos\"]\n",
    "p_estimado_caso_consumo_sim = estimador_p_i_j(casos_consumo_sim, soma_consumo_sim)\n",
    "p_estimado_caso_consumo_nao = estimador_p_i_j(casos_consumo_nao, soma_consumo_nao)\n",
    "\n",
    "risco_relativo_estimado = estimador_risco_relativo(\n",
    "    p_estimado_caso_consumo_sim, p_estimado_caso_consumo_nao\n",
    ")\n",
    "\n",
    "display(Latex(r\"\\hat{RR}_{Consome | Não Consome} = \" + str(risco_relativo_estimado)))\n",
    "\n",
    "risco_relativo_intervalo_confianca = intervalo_confianca_risco_relativo(\n",
    "    f_risco_relativo(risco_relativo_estimado),\n",
    "    variancia_f_risco_relativo(\n",
    "        p_estimado_caso_consumo_sim,\n",
    "        soma_consumo_sim,\n",
    "        p_estimado_caso_consumo_nao,\n",
    "        soma_consumo_nao,\n",
    "    ),\n",
    ")\n",
    "\n",
    "Latex(\n",
    "    r\"IC(RR)_{95\\%} = (\"\n",
    "    + str(risco_relativo_intervalo_confianca[0])\n",
    "    + \"; \"\n",
    "    + str(risco_relativo_intervalo_confianca[1])\n",
    "    + r\")\"\n",
    ")\n"
   ]
  },
  {
   "cell_type": "markdown",
   "metadata": {},
   "source": [
    "**b)** Abaixo, seguem as funções para calcular o ***odds ratio***"
   ]
  },
  {
   "cell_type": "code",
   "execution_count": 86,
   "metadata": {},
   "outputs": [],
   "source": [
    "def odds_ratio(\n",
    "    N_i1_j1: np.number,\n",
    "    N_i1_j2: np.number,\n",
    "    N_i2_j1: np.number,\n",
    "    N_i2_j2: np.number,\n",
    ") -> np.number:\n",
    "    return (N_i1_j1 * N_i2_j2) / (N_i2_j1 * N_i1_j2)\n",
    "\n",
    "\n",
    "def f_odds_ratio(odds_ratio_estimado: np.number) -> np.number:\n",
    "    return np.log(odds_ratio_estimado)\n",
    "\n",
    "\n",
    "def variancia_f_odds_ratio(\n",
    "    n_i1_j1: np.number, n_i1_j2: np.number, n_i2_j1: np.number, n_i2_j2: np.number\n",
    ") -> np.number:\n",
    "    return 1 / n_i1_j1 + 1 / n_i1_j2 + 1 / n_i2_j1 + 1 / n_i2_j2\n",
    "\n",
    "\n",
    "def intervalo_confianca_odds_ratio(\n",
    "    f_odds_ratio: np.number,\n",
    "    variancia_f_odds_ratio: np.number,\n",
    "    alpha: np.number = 0.05,\n",
    ") -> tuple[np.number, np.number]:\n",
    "    z_score = st.norm.ppf(1 - alpha / 2)\n",
    "    limite_inferior = f_odds_ratio - z_score * np.sqrt(variancia_f_odds_ratio)\n",
    "    limite_superior = f_odds_ratio + z_score * np.sqrt(variancia_f_odds_ratio)\n",
    "    return np.exp([limite_inferior, limite_superior])\n"
   ]
  },
  {
   "cell_type": "markdown",
   "metadata": {},
   "source": [
    "Aplicando os dados, temos:"
   ]
  },
  {
   "cell_type": "code",
   "execution_count": 87,
   "metadata": {},
   "outputs": [
    {
     "data": {
      "text/latex": [
       "\\hat{OR} = 5.600402709134175"
      ],
      "text/plain": [
       "<IPython.core.display.Latex object>"
      ]
     },
     "metadata": {},
     "output_type": "display_data"
    },
    {
     "data": {
      "text/latex": [
       "IC(OR)_{95\\%} = (2.805458862354059; 11.179814797982623)"
      ],
      "text/plain": [
       "<IPython.core.display.Latex object>"
      ]
     },
     "execution_count": 87,
     "metadata": {},
     "output_type": "execute_result"
    }
   ],
   "source": [
    "odds_ratio_estimado = odds_ratio(\n",
    "    q6_dados.loc[\"Sim\"][\"Casos\"],\n",
    "    q6_dados.loc[\"Sim\"][\"Controle\"],\n",
    "    q6_dados.loc[\"Nao\"][\"Casos\"],\n",
    "    q6_dados.loc[\"Nao\"][\"Controle\"],\n",
    ")\n",
    "\n",
    "display(Latex(r\"\\hat{OR} = \" + str(odds_ratio_estimado)))\n",
    "\n",
    "odds_ratio_intervalo_confianca = intervalo_confianca_odds_ratio(\n",
    "    f_odds_ratio(odds_ratio_estimado),\n",
    "    variancia_f_odds_ratio(\n",
    "        q6_dados.loc[\"Sim\"][\"Casos\"],\n",
    "        q6_dados.loc[\"Sim\"][\"Controle\"],\n",
    "        q6_dados.loc[\"Nao\"][\"Casos\"],\n",
    "        q6_dados.loc[\"Nao\"][\"Controle\"],\n",
    "    )\n",
    ")\n",
    "\n",
    "Latex(\n",
    "    r\"IC(OR)_{95\\%} = (\"\n",
    "    + str(odds_ratio_intervalo_confianca[0])\n",
    "    + \"; \"\n",
    "    + str(odds_ratio_intervalo_confianca[1])\n",
    "    + r\")\"\n",
    ")\n"
   ]
  },
  {
   "cell_type": "markdown",
   "metadata": {},
   "source": [
    "**c)** A que possuí interpetração mais conveniente é a odds ratio, pois faz mas sentido buscar entender a razão entre as proporções de expostos e desenvolver ou não a doença, uma vez que o desenvolvimento da doença as as ocorrências de exposição já aconteceram no passado."
   ]
  },
  {
   "cell_type": "markdown",
   "metadata": {},
   "source": [
    "**d)** Como $\\hat{OR} \\gt 1$ e 1 não pertencer ao $IC(OR)_{95\\%}$, podemos afirmar que o estudo indica que o consumo de pimenta é um fator de risco para o desenvolvimento de câncer gástrico."
   ]
  },
  {
   "cell_type": "markdown",
   "metadata": {},
   "source": [
    "```{admonition} Questão 7\n",
    "\n",
    "Em um estudo, 104 crianças assistiram a dois tipos de comerciais de TV sobre cereais para café da manhã. Após a exposição à propaganda, foi solicitado que cada criança indicasse qual comercial ela gostou mais. O que se deseja saber é se a escolha do comercial está relacionado ao sexo biológico da criança, pois suspeita-se de que o fato de ser menino ou menina pode estar influenciando na escolha do comercial preferido. Os dados do estudo são apresentados na Tabela 2. Realize um teste apropriado para verificar essa suspeita.\n",
    "\n",
    "| Sexo biológico | Comercial A | Comercial B | Totais |\n",
    "| :------------: | :---------: | :---------: | :----: |\n",
    "| Masculino      | 30          | 29          | 59     |\n",
    "| Feminino       | 12          | 33          | 45     |\n",
    "| Totais         | 42          | 62          | 104    |\n",
    "\n",
    "**a)** Defina primeiramente, com suas palavras e depois em função de parâmetros, qual é a hipótese a ser testada.\n",
    "\n",
    "**b)** Calcule as estatísticas de teste; baseado no p-valor discorra sobre suas conclusões.\n",
    "\n",
    "**c)** Relacione as restrições quanto ao uso das estatísticas de teste. Qual a alternativa, caso estas não sejam satisfeitas?\n",
    "\n",
    "```"
   ]
  },
  {
   "cell_type": "markdown",
   "metadata": {},
   "source": [
    "**a)** A hipótese a ser testada é se a escolha do comercial independe do sexo biológico da criança, ou seja, a probabilidade de um menino escolher o comercial A é igual a probabilidade de uma menina escolher A. Escrevendo em função do parâmetros, temos:\n",
    "\n",
    "$$\n",
    "\\begin{cases}\n",
    "    H_0: p_{(1)1} = p_{(2)1}   \\\\\n",
    "    H_A: p_{(1)1} \\neq p_{(2)1} \\\\\n",
    "\\end{cases}\n",
    "$$"
   ]
  },
  {
   "cell_type": "markdown",
   "metadata": {},
   "source": [
    "**b)** Para calcular as estatísticas de teste, usamos as seguintes funções:"
   ]
  },
  {
   "cell_type": "code",
   "execution_count": 88,
   "metadata": {},
   "outputs": [],
   "source": [
    "def esperanca_ij(\n",
    "    soma_linha_i: np.number, soma_coluna_j: np.number, n_total: np.number\n",
    ") -> np.number:\n",
    "    return (soma_linha_i * soma_coluna_j) / n_total\n",
    "\n",
    "\n",
    "def estatistica_Qp(matriz_tabela_contingencia: np.ndarray) -> np.number:\n",
    "    n_total = matriz_tabela_contingencia.sum()\n",
    "    soma_Qp = 0\n",
    "    for (i, j), n_ij in np.ndenumerate(matriz_tabela_contingencia):\n",
    "        soma_linha_i = matriz_tabela_contingencia[i].sum()\n",
    "        soma_coluna_j = matriz_tabela_contingencia.sum(axis=0)[j]\n",
    "        e_ij = esperanca_ij(soma_linha_i, soma_coluna_j, n_total)\n",
    "        soma_Qp += np.square(n_ij - e_ij) / e_ij\n",
    "    return soma_Qp\n",
    "\n",
    "\n",
    "def estatistica_Ql(matriz_tabela_contingencia: np.ndarray) -> np.number:\n",
    "    n_total = matriz_tabela_contingencia.sum()\n",
    "    soma_Ql = 0\n",
    "    for (i, j), n_ij in np.ndenumerate(matriz_tabela_contingencia):\n",
    "        soma_linha_i = matriz_tabela_contingencia[i].sum()\n",
    "        soma_coluna_j = matriz_tabela_contingencia.sum(axis=0)[j]\n",
    "        e_ij = esperanca_ij(soma_linha_i, soma_coluna_j, n_total)\n",
    "        soma_Ql += n_ij * np.log(n_ij / e_ij)\n",
    "    return 2 * soma_Ql\n",
    "\n",
    "\n",
    "def estatistica_Qn(matriz_tabela_contingencia: np.ndarray) -> np.number:\n",
    "    n_total = matriz_tabela_contingencia.sum()\n",
    "    soma_Qn = 0\n",
    "    for (i, j), n_ij in np.ndenumerate(matriz_tabela_contingencia):\n",
    "        soma_linha_i = matriz_tabela_contingencia[i].sum()\n",
    "        soma_coluna_j = matriz_tabela_contingencia.sum(axis=0)[j]\n",
    "        e_ij = esperanca_ij(soma_linha_i, soma_coluna_j, n_total)\n",
    "        soma_Qn += np.square(n_ij - e_ij) / n_ij\n",
    "    return soma_Qn\n",
    "\n",
    "\n",
    "def p_valor_qui_quadrado(estatistica: np.number, graus_liberdade=int) -> np.number:\n",
    "    return 1 - st.chi2.cdf(estatistica, graus_liberdade)\n"
   ]
  },
  {
   "cell_type": "markdown",
   "metadata": {},
   "source": [
    "Aplicando os dados, temos:"
   ]
  },
  {
   "cell_type": "code",
   "execution_count": 89,
   "metadata": {},
   "outputs": [
    {
     "data": {
      "text/latex": [
       "Q_P = 6.2001 \\rightarrow pvalor = 0.0128"
      ],
      "text/plain": [
       "<IPython.core.display.Latex object>"
      ]
     },
     "metadata": {},
     "output_type": "display_data"
    },
    {
     "data": {
      "text/latex": [
       "Q_L = 6.3376 \\rightarrow pvalor = 0.0118"
      ],
      "text/plain": [
       "<IPython.core.display.Latex object>"
      ]
     },
     "metadata": {},
     "output_type": "display_data"
    },
    {
     "data": {
      "text/latex": [
       "Q_N = 6.9146 \\rightarrow pvalor = 0.0085"
      ],
      "text/plain": [
       "<IPython.core.display.Latex object>"
      ]
     },
     "metadata": {},
     "output_type": "display_data"
    }
   ],
   "source": [
    "q7_dados = pd.DataFrame(\n",
    "    {\"A\": [30, 12], \"Nao\": [29, 33]}, index=[\"Masculino\", \"Feminino\"]\n",
    ")\n",
    "q7_matriz_tabela_contingencia = q7_dados.to_numpy()\n",
    "\n",
    "Qp = estatistica_Qp(q7_matriz_tabela_contingencia)\n",
    "p_valor_Qp = p_valor_qui_quadrado(Qp, 1)\n",
    "display(Latex(f\"Q_P = {Qp:.4f} \\\\rightarrow pvalor = {p_valor_Qp:.4f}\"))\n",
    "\n",
    "Ql = estatistica_Ql(q7_matriz_tabela_contingencia)\n",
    "p_valor_Ql = p_valor_qui_quadrado(Ql, 1)\n",
    "display(Latex(f\"Q_L = {Ql:.4f} \\\\rightarrow pvalor = {p_valor_Ql:.4f}\"))\n",
    "\n",
    "Qn = estatistica_Qn(q7_matriz_tabela_contingencia)\n",
    "p_valor_Qn = p_valor_qui_quadrado(Qn, 1)\n",
    "display(Latex(f\"Q_N = {Qn:.4f} \\\\rightarrow pvalor = {p_valor_Qn:.4f}\"))\n"
   ]
  },
  {
   "cell_type": "markdown",
   "metadata": {},
   "source": [
    "Portanto, dado o baixo pvalor em todos os testes, devemos rejeitar a hipóstese nula de que a escolha entre os comerciais A e B é independente do sexo biológico da criança."
   ]
  },
  {
   "cell_type": "markdown",
   "metadata": {},
   "source": [
    "**c)** Os testes apresentados tem como limitações a necessidade de amostras maiores, além de não fornecer a força da associação entre variável resposta e explicativa. Para resolver o problema de amostras pequenas, pode ser utlizado o teste exato de Fisher, já para obter um teste que indique a força de associação entre as variáveis, deve-se utilizar medidas de associação."
   ]
  },
  {
   "cell_type": "markdown",
   "metadata": {},
   "source": [
    "```{admonition} Questão 8\n",
    "\n",
    "Para uma comunidade rural nordestina, em um determinado ano, a população suscetível ao sarampo pertencente ao grupo etário recomendável para a vacinação anti-sarampo era de 2.000 crianças. No início daquele mesmo ano, foi instituída uma campanha geral de vacinação contra essa doença que resultou em 1.500 crianças vacinadas na comunidade. Durante o ano constataram-se 240 casos de sarampo, dos quais 160 ocorreram em crianças não vacinadas.\n",
    "\n",
    "**a)** Calcule a incidência de sarampo nos vacinados e interprete;\n",
    "\n",
    "**b)** Qual a diferença entre incidência e prevalência?\n",
    "\n",
    "```"
   ]
  },
  {
   "cell_type": "markdown",
   "metadata": {},
   "source": [
    "**a)** Construindo a tabela de contingência, temos:"
   ]
  },
  {
   "cell_type": "code",
   "execution_count": 90,
   "metadata": {},
   "outputs": [
    {
     "data": {
      "text/latex": [
       "\\text{Incidência em Vacinadas} = 0.0533 \\\\ \\text{Incidência em Não Vacinadas} = 0.3200"
      ],
      "text/plain": [
       "<IPython.core.display.Latex object>"
      ]
     },
     "execution_count": 90,
     "metadata": {},
     "output_type": "execute_result"
    }
   ],
   "source": [
    "q8_dados = pd.DataFrame(\n",
    "    {\"CasoSarampo\": [80, 160], \"LivreSarampo\": [1500 - 80, 500 - 160]},\n",
    "    index=[\"Vacinada\", \"NaoVacinada\"],\n",
    ")\n",
    "\n",
    "incidencia_vacinadas_sarampo = (\n",
    "    q8_dados.loc[\"Vacinada\"][\"CasoSarampo\"] / q8_dados.loc[\"Vacinada\"].sum()\n",
    ")\n",
    "\n",
    "incidencia_nao_vacinadas_sarampo = (\n",
    "    q8_dados.loc[\"NaoVacinada\"][\"CasoSarampo\"] / q8_dados.loc[\"NaoVacinada\"].sum()\n",
    ")\n",
    "\n",
    "Latex(\n",
    "    r\"\\text{Incidência em Vacinadas} = \"\n",
    "    + f\"{incidencia_vacinadas_sarampo:.4f}\"\n",
    "    + r\" \\\\ \\text{Incidência em Não Vacinadas} = \"\n",
    "    + f\"{incidencia_nao_vacinadas_sarampo:.4f}\"\n",
    ")\n"
   ]
  },
  {
   "cell_type": "markdown",
   "metadata": {},
   "source": [
    "Dada que a incidência de sarampo em crianças não vacinadas é aproximadamente seis vezes maior, o estudo indica que pode haver associação entre a vacina aplicada e imunidade a doença, cabendo ainda o cálculo de estatísticas de testes e medidas de associação."
   ]
  },
  {
   "cell_type": "markdown",
   "metadata": {},
   "source": [
    "\n",
    "\n",
    "**b)** Incidência é a razão entre novos casos no período de seguimento e o total de indíviduos no início do estudo, indicando a proporção de **novos casos** no população. Já a prevalência mede a proporção de casos em um ponto específico do tempo em relação ao total de indivíduos. Em estudos caso-controle onde os totais de casos e de controles são estabelecidos na fase de planejamento, não faz sentido mensurar incidência ou prevalência."
   ]
  },
  {
   "cell_type": "markdown",
   "metadata": {},
   "source": [
    "```{admonition} Questão 9\n",
    "\n",
    "A Tabela 3 apresenta o resultado de um estudo com o objetivo de verificar se o desempenho dos alunos na disciplina de Matemática (baixo ou médio; alto) estava associado a participação dos pais (ativa; fraca) nas atividades extracurriculares promovidas pela escola. No planejamento do estudo foi definido que seriam analisados 100 alunos com participação ativa dos pais e 200 alunos com participação fraca dos pais. Será que o nível de participação dos pais influencia no desempenho do filho? Responda esta pergunta com base nas análises dos itens (a) e (b).\n",
    "\n",
    "**a)** Realize um teste adequado para responder a pergunta (detalhar todos os elementos do teste);\n",
    "\n",
    "**b)** Usando a medida apropriada, estime a força de associação entre as variáveis.\n",
    "\n",
    "| Participação dos pais | Desempenho Baixo ou Médio | Desempenho Alto  | Totais |\n",
    "| :-------------------: | :-----------------------: | :--------------: | :----: |\n",
    "| Ativa                 | 30                        | 70               | 100    |\n",
    "| Fraca                 | 170                       | 30               | 200    |\n",
    "| Totais                | 200                       | 100              | 300    |\n",
    "\n",
    "```"
   ]
  },
  {
   "cell_type": "markdown",
   "metadata": {},
   "source": [
    "**a)** Utilizando a função que calcula $Q_P$ descrita na questão 7 (detalhes encontrados na implementação da função), temos:"
   ]
  },
  {
   "cell_type": "code",
   "execution_count": 91,
   "metadata": {},
   "outputs": [
    {
     "data": {
      "text/latex": [
       "Q_N = 90.7500 \\rightarrow pvalor = 0.0000"
      ],
      "text/plain": [
       "<IPython.core.display.Latex object>"
      ]
     },
     "metadata": {},
     "output_type": "display_data"
    }
   ],
   "source": [
    "q9_dados = pd.DataFrame(\n",
    "    {\"Baixo ou Médio\": [30, 170], \"Alto\": [70, 30]},\n",
    "    index=[\"Ativa\", \"Fraca\"],\n",
    ")\n",
    "\n",
    "Qp = estatistica_Qp(q9_dados.to_numpy())\n",
    "pvalor = p_valor_qui_quadrado(Qp, 1)\n",
    "display(Latex(f\"Q_N = {Qp:.4f} \\\\rightarrow pvalor = {pvalor:.4f}\"))"
   ]
  },
  {
   "cell_type": "markdown",
   "metadata": {},
   "source": [
    "Dada a estatística $Q_P$ muito alta, deve-se rejeitar a hipótese nula de que o rendimento dos alunos é independente da participação do pais."
   ]
  },
  {
   "cell_type": "markdown",
   "metadata": {},
   "source": [
    "**b)** Uma medida apropriada é a Razão de Chances (odds ratio). Utilizando as funções descritas no item B da questão 6, temos:"
   ]
  },
  {
   "cell_type": "code",
   "execution_count": 92,
   "metadata": {},
   "outputs": [
    {
     "data": {
      "text/latex": [
       "\\hat{OR} = 0.07563025210084033"
      ],
      "text/plain": [
       "<IPython.core.display.Latex object>"
      ]
     },
     "metadata": {},
     "output_type": "display_data"
    },
    {
     "data": {
      "text/latex": [
       "IC(OR)_{95\\%} = (0.04244883177946018; 0.13474893873532656)"
      ],
      "text/plain": [
       "<IPython.core.display.Latex object>"
      ]
     },
     "execution_count": 92,
     "metadata": {},
     "output_type": "execute_result"
    }
   ],
   "source": [
    "or_estimado = odds_ratio(\n",
    "    q9_dados.loc[\"Ativa\"][\"Baixo ou Médio\"],\n",
    "    q9_dados.loc[\"Ativa\"][\"Alto\"],\n",
    "    q9_dados.loc[\"Fraca\"][\"Baixo ou Médio\"],\n",
    "    q9_dados.loc[\"Fraca\"][\"Alto\"],\n",
    ")\n",
    "\n",
    "display(Latex(r\"\\hat{OR} = \" + str(or_estimado)))\n",
    "\n",
    "or_intervalo_confianca = intervalo_confianca_odds_ratio(\n",
    "    f_odds_ratio(or_estimado),\n",
    "    variancia_f_odds_ratio(\n",
    "        q9_dados.loc[\"Ativa\"][\"Baixo ou Médio\"],\n",
    "        q9_dados.loc[\"Ativa\"][\"Alto\"],\n",
    "        q9_dados.loc[\"Fraca\"][\"Baixo ou Médio\"],\n",
    "        q9_dados.loc[\"Fraca\"][\"Alto\"],\n",
    "    ),\n",
    ")\n",
    "\n",
    "Latex(\n",
    "    r\"IC(OR)_{95\\%} = (\"\n",
    "    + str(or_intervalo_confianca[0])\n",
    "    + \"; \"\n",
    "    + str(or_intervalo_confianca[1])\n",
    "    + r\")\"\n",
    ")\n"
   ]
  },
  {
   "cell_type": "markdown",
   "metadata": {},
   "source": [
    "Considerando $\\hat{OR}$ e o intervalo de confiaça muito abaixo de 1, o estudo indica que a participação ativa dos pais, utilizando um termo comum em análises na área de saúde, protege os os alunos de um desempenho baixo ou médio."
   ]
  },
  {
   "cell_type": "markdown",
   "metadata": {},
   "source": [
    "```{admonition} Questão 10\n",
    "\n",
    "Exercício 1 do Capítulo 3 (livro texto), voltando para os Exercícios 4 a 8 do Capítulo 1.\n",
    "\n",
    "**Exercício 1, Capítulo 3**: Para os dados apresentados nos exercícios 3 a 8 do Cap ́ıtulo 1:\n",
    "\n",
    "a) Forneça as proporções amostrais e as frequências esperadas.\n",
    "\n",
    "b) Estabeleça as hipóteses de interesse e teste-as.\n",
    "\n",
    "c) Obtenha uma medida de associação apropriada, bem como seu respectivo intervalo de 95% de confiança.\n",
    "\n",
    "```"
   ]
  },
  {
   "cell_type": "markdown",
   "metadata": {},
   "source": [
    "**Exercício 4**\n",
    "\n",
    "**a)** Proporções amostras e frequências esperadas:"
   ]
  },
  {
   "cell_type": "code",
   "execution_count": 93,
   "metadata": {},
   "outputs": [
    {
     "data": {
      "text/markdown": [
       "**Proporções:**"
      ],
      "text/plain": [
       "<IPython.core.display.Markdown object>"
      ]
     },
     "metadata": {},
     "output_type": "display_data"
    },
    {
     "data": {
      "text/html": [
       "<div>\n",
       "<style scoped>\n",
       "    .dataframe tbody tr th:only-of-type {\n",
       "        vertical-align: middle;\n",
       "    }\n",
       "\n",
       "    .dataframe tbody tr th {\n",
       "        vertical-align: top;\n",
       "    }\n",
       "\n",
       "    .dataframe thead th {\n",
       "        text-align: right;\n",
       "    }\n",
       "</style>\n",
       "<table border=\"1\" class=\"dataframe\">\n",
       "  <thead>\n",
       "    <tr style=\"text-align: right;\">\n",
       "      <th></th>\n",
       "      <th>Sim</th>\n",
       "      <th>Não</th>\n",
       "    </tr>\n",
       "  </thead>\n",
       "  <tbody>\n",
       "    <tr>\n",
       "      <th>Fumante</th>\n",
       "      <td>0.045</td>\n",
       "      <td>0.355</td>\n",
       "    </tr>\n",
       "    <tr>\n",
       "      <th>Não Fumante</th>\n",
       "      <td>0.005</td>\n",
       "      <td>0.595</td>\n",
       "    </tr>\n",
       "  </tbody>\n",
       "</table>\n",
       "</div>"
      ],
      "text/plain": [
       "               Sim    Não\n",
       "Fumante      0.045  0.355\n",
       "Não Fumante  0.005  0.595"
      ]
     },
     "metadata": {},
     "output_type": "display_data"
    },
    {
     "data": {
      "text/markdown": [
       "**Frequências esperadas:**"
      ],
      "text/plain": [
       "<IPython.core.display.Markdown object>"
      ]
     },
     "metadata": {},
     "output_type": "display_data"
    },
    {
     "data": {
      "text/html": [
       "<div>\n",
       "<style scoped>\n",
       "    .dataframe tbody tr th:only-of-type {\n",
       "        vertical-align: middle;\n",
       "    }\n",
       "\n",
       "    .dataframe tbody tr th {\n",
       "        vertical-align: top;\n",
       "    }\n",
       "\n",
       "    .dataframe thead th {\n",
       "        text-align: right;\n",
       "    }\n",
       "</style>\n",
       "<table border=\"1\" class=\"dataframe\">\n",
       "  <thead>\n",
       "    <tr style=\"text-align: right;\">\n",
       "      <th></th>\n",
       "      <th>Sim</th>\n",
       "      <th>Não</th>\n",
       "    </tr>\n",
       "  </thead>\n",
       "  <tbody>\n",
       "    <tr>\n",
       "      <th>Fumante</th>\n",
       "      <td>40.0</td>\n",
       "      <td>760.0</td>\n",
       "    </tr>\n",
       "    <tr>\n",
       "      <th>Não Fumante</th>\n",
       "      <td>60.0</td>\n",
       "      <td>1140.0</td>\n",
       "    </tr>\n",
       "  </tbody>\n",
       "</table>\n",
       "</div>"
      ],
      "text/plain": [
       "              Sim     Não\n",
       "Fumante      40.0   760.0\n",
       "Não Fumante  60.0  1140.0"
      ]
     },
     "metadata": {},
     "output_type": "display_data"
    }
   ],
   "source": [
    "from IPython.display import Markdown\n",
    "\n",
    "tabela1_10_total = tabela1_10_dados.values.sum()\n",
    "tabela1_10_proporcoes = tabela1_10_dados.transform(lambda x: x / tabela1_10_total)\n",
    "\n",
    "display(Markdown(\"**Proporções:**\"))\n",
    "display(tabela1_10_proporcoes)\n",
    "\n",
    "tabela1_10_teste_Qp = st.chi2_contingency(tabela1_10_dados.values, correction=False)\n",
    "\n",
    "display(Markdown(\"**Frequências esperadas:**\"))\n",
    "tabela1_10_freq_esperadas = pd.DataFrame(\n",
    "    tabela1_10_teste_Qp[3],\n",
    "    columns=tabela1_10_dados.columns,\n",
    "    index=tabela1_10_dados.index,\n",
    ")\n",
    "display(tabela1_10_freq_esperadas)\n"
   ]
  },
  {
   "cell_type": "markdown",
   "metadata": {},
   "source": [
    "**b)** Hipótese de interesse: \n",
    "\n"
   ]
  },
  {
   "cell_type": "markdown",
   "metadata": {},
   "source": [
    "**c)** Medida de associação: Risco Relativo"
   ]
  },
  {
   "cell_type": "code",
   "execution_count": 94,
   "metadata": {},
   "outputs": [
    {
     "data": {
      "text/latex": [
       "\\hat{RR}_{Fumante | Não Fumante} = 13.5"
      ],
      "text/plain": [
       "<IPython.core.display.Latex object>"
      ]
     },
     "metadata": {},
     "output_type": "display_data"
    },
    {
     "data": {
      "text/latex": [
       "IC(RR)_{95\\%} = (7.0676089597571785; 25.786655860238984)"
      ],
      "text/plain": [
       "<IPython.core.display.Latex object>"
      ]
     },
     "execution_count": 94,
     "metadata": {},
     "output_type": "execute_result"
    }
   ],
   "source": [
    "soma_fumantes = tabela1_10_dados.loc[\"Fumante\"].sum()\n",
    "soma_nao_fumantes = tabela1_10_dados.loc[\"Não Fumante\"].sum()\n",
    "cancer_fumantes = tabela1_10_dados.loc[\"Fumante\"][\"Sim\"]\n",
    "cancer_nao_fumantes = tabela1_10_dados.loc[\"Não Fumante\"][\"Sim\"]\n",
    "p_estimado_cancer_fumantes = estimador_p_i_j(cancer_fumantes, soma_fumantes)\n",
    "p_estimado_cancer_nao_fumantes = estimador_p_i_j(cancer_nao_fumantes, soma_nao_fumantes)\n",
    "\n",
    "risco_relativo_estimado = estimador_risco_relativo(\n",
    "    p_estimado_cancer_fumantes, p_estimado_cancer_nao_fumantes\n",
    ")\n",
    "\n",
    "display(Latex(r\"\\hat{RR}_{Fumante | Não Fumante} = \" + str(risco_relativo_estimado)))\n",
    "\n",
    "risco_relativo_intervalo_confianca = intervalo_confianca_risco_relativo(\n",
    "    f_risco_relativo(risco_relativo_estimado),\n",
    "    variancia_f_risco_relativo(\n",
    "        p_estimado_cancer_fumantes,\n",
    "        soma_fumantes,\n",
    "        p_estimado_cancer_nao_fumantes,\n",
    "        soma_nao_fumantes,\n",
    "    ),\n",
    ")\n",
    "\n",
    "Latex(\n",
    "    r\"IC(RR)_{95\\%} = (\"\n",
    "    + str(risco_relativo_intervalo_confianca[0])\n",
    "    + \"; \"\n",
    "    + str(risco_relativo_intervalo_confianca[1])\n",
    "    + r\")\"\n",
    ")\n"
   ]
  },
  {
   "cell_type": "markdown",
   "metadata": {},
   "source": [
    "**Exercício 5**\n",
    "\n",
    "**a)** Proporções amostras e frequências esperadas:"
   ]
  },
  {
   "cell_type": "code",
   "execution_count": 95,
   "metadata": {},
   "outputs": [
    {
     "data": {
      "text/markdown": [
       "**Proporções:**"
      ],
      "text/plain": [
       "<IPython.core.display.Markdown object>"
      ]
     },
     "metadata": {},
     "output_type": "display_data"
    },
    {
     "data": {
      "text/html": [
       "<div>\n",
       "<style scoped>\n",
       "    .dataframe tbody tr th:only-of-type {\n",
       "        vertical-align: middle;\n",
       "    }\n",
       "\n",
       "    .dataframe tbody tr th {\n",
       "        vertical-align: top;\n",
       "    }\n",
       "\n",
       "    .dataframe thead th {\n",
       "        text-align: right;\n",
       "    }\n",
       "</style>\n",
       "<table border=\"1\" class=\"dataframe\">\n",
       "  <thead>\n",
       "    <tr style=\"text-align: right;\">\n",
       "      <th></th>\n",
       "      <th>Sim</th>\n",
       "      <th>Não</th>\n",
       "    </tr>\n",
       "  </thead>\n",
       "  <tbody>\n",
       "    <tr>\n",
       "      <th>Com Histórico</th>\n",
       "      <td>0.104294</td>\n",
       "      <td>0.220859</td>\n",
       "    </tr>\n",
       "    <tr>\n",
       "      <th>Sem Histórico</th>\n",
       "      <td>0.049080</td>\n",
       "      <td>0.625767</td>\n",
       "    </tr>\n",
       "  </tbody>\n",
       "</table>\n",
       "</div>"
      ],
      "text/plain": [
       "                    Sim       Não\n",
       "Com Histórico  0.104294  0.220859\n",
       "Sem Histórico  0.049080  0.625767"
      ]
     },
     "metadata": {},
     "output_type": "display_data"
    },
    {
     "data": {
      "text/markdown": [
       "**Frequências esperadas:**"
      ],
      "text/plain": [
       "<IPython.core.display.Markdown object>"
      ]
     },
     "metadata": {},
     "output_type": "display_data"
    },
    {
     "data": {
      "text/html": [
       "<div>\n",
       "<style scoped>\n",
       "    .dataframe tbody tr th:only-of-type {\n",
       "        vertical-align: middle;\n",
       "    }\n",
       "\n",
       "    .dataframe tbody tr th {\n",
       "        vertical-align: top;\n",
       "    }\n",
       "\n",
       "    .dataframe thead th {\n",
       "        text-align: right;\n",
       "    }\n",
       "</style>\n",
       "<table border=\"1\" class=\"dataframe\">\n",
       "  <thead>\n",
       "    <tr style=\"text-align: right;\">\n",
       "      <th></th>\n",
       "      <th>Sim</th>\n",
       "      <th>Não</th>\n",
       "    </tr>\n",
       "  </thead>\n",
       "  <tbody>\n",
       "    <tr>\n",
       "      <th>Com Histórico</th>\n",
       "      <td>8.128834</td>\n",
       "      <td>44.871166</td>\n",
       "    </tr>\n",
       "    <tr>\n",
       "      <th>Sem Histórico</th>\n",
       "      <td>16.871166</td>\n",
       "      <td>93.128834</td>\n",
       "    </tr>\n",
       "  </tbody>\n",
       "</table>\n",
       "</div>"
      ],
      "text/plain": [
       "                     Sim        Não\n",
       "Com Histórico   8.128834  44.871166\n",
       "Sem Histórico  16.871166  93.128834"
      ]
     },
     "metadata": {},
     "output_type": "display_data"
    }
   ],
   "source": [
    "tabela1_11_total = tabela1_11_dados.values.sum()\n",
    "tabela1_11_proporcoes = tabela1_11_dados.transform(lambda x: x / tabela1_11_total)\n",
    "\n",
    "display(Markdown(\"**Proporções:**\"))\n",
    "display(tabela1_11_proporcoes)\n",
    "\n",
    "tabela1_11_teste_Qp = st.chi2_contingency(tabela1_11_dados.values, correction=False)\n",
    "\n",
    "display(Markdown(\"**Frequências esperadas:**\"))\n",
    "tabela1_11_freq_esperadas = pd.DataFrame(\n",
    "    tabela1_11_teste_Qp[3],\n",
    "    columns=tabela1_11_dados.columns,\n",
    "    index=tabela1_11_dados.index,\n",
    ")\n",
    "display(tabela1_11_freq_esperadas)"
   ]
  },
  {
   "cell_type": "markdown",
   "metadata": {},
   "source": [
    "**b)** Hipótese de interesse: "
   ]
  },
  {
   "cell_type": "markdown",
   "metadata": {},
   "source": [
    "**c)** Medida de associação:"
   ]
  },
  {
   "cell_type": "code",
   "execution_count": null,
   "metadata": {},
   "outputs": [],
   "source": []
  },
  {
   "cell_type": "markdown",
   "metadata": {},
   "source": [
    "**Exercício 6**\n",
    "\n",
    "**a)** Proporções amostras e frequências esperadas:"
   ]
  },
  {
   "cell_type": "code",
   "execution_count": 96,
   "metadata": {},
   "outputs": [
    {
     "data": {
      "text/markdown": [
       "**Proporções:**"
      ],
      "text/plain": [
       "<IPython.core.display.Markdown object>"
      ]
     },
     "metadata": {},
     "output_type": "display_data"
    },
    {
     "data": {
      "text/html": [
       "<div>\n",
       "<style scoped>\n",
       "    .dataframe tbody tr th:only-of-type {\n",
       "        vertical-align: middle;\n",
       "    }\n",
       "\n",
       "    .dataframe tbody tr th {\n",
       "        vertical-align: top;\n",
       "    }\n",
       "\n",
       "    .dataframe thead th {\n",
       "        text-align: right;\n",
       "    }\n",
       "</style>\n",
       "<table border=\"1\" class=\"dataframe\">\n",
       "  <thead>\n",
       "    <tr style=\"text-align: right;\">\n",
       "      <th></th>\n",
       "      <th>Melhora</th>\n",
       "      <th>Não Melhora</th>\n",
       "    </tr>\n",
       "  </thead>\n",
       "  <tbody>\n",
       "    <tr>\n",
       "      <th>Vitamica C</th>\n",
       "      <td>0.375000</td>\n",
       "      <td>0.125000</td>\n",
       "    </tr>\n",
       "    <tr>\n",
       "      <th>Sem Vitamina C</th>\n",
       "      <td>0.453125</td>\n",
       "      <td>0.046875</td>\n",
       "    </tr>\n",
       "  </tbody>\n",
       "</table>\n",
       "</div>"
      ],
      "text/plain": [
       "                 Melhora  Não Melhora\n",
       "Vitamica C      0.375000     0.125000\n",
       "Sem Vitamina C  0.453125     0.046875"
      ]
     },
     "metadata": {},
     "output_type": "display_data"
    },
    {
     "data": {
      "text/markdown": [
       "**Frequências esperadas:**"
      ],
      "text/plain": [
       "<IPython.core.display.Markdown object>"
      ]
     },
     "metadata": {},
     "output_type": "display_data"
    },
    {
     "data": {
      "text/html": [
       "<div>\n",
       "<style scoped>\n",
       "    .dataframe tbody tr th:only-of-type {\n",
       "        vertical-align: middle;\n",
       "    }\n",
       "\n",
       "    .dataframe tbody tr th {\n",
       "        vertical-align: top;\n",
       "    }\n",
       "\n",
       "    .dataframe thead th {\n",
       "        text-align: right;\n",
       "    }\n",
       "</style>\n",
       "<table border=\"1\" class=\"dataframe\">\n",
       "  <thead>\n",
       "    <tr style=\"text-align: right;\">\n",
       "      <th></th>\n",
       "      <th>Melhora</th>\n",
       "      <th>Não Melhora</th>\n",
       "    </tr>\n",
       "  </thead>\n",
       "  <tbody>\n",
       "    <tr>\n",
       "      <th>Vitamica C</th>\n",
       "      <td>26.5</td>\n",
       "      <td>5.5</td>\n",
       "    </tr>\n",
       "    <tr>\n",
       "      <th>Sem Vitamina C</th>\n",
       "      <td>26.5</td>\n",
       "      <td>5.5</td>\n",
       "    </tr>\n",
       "  </tbody>\n",
       "</table>\n",
       "</div>"
      ],
      "text/plain": [
       "                Melhora  Não Melhora\n",
       "Vitamica C         26.5          5.5\n",
       "Sem Vitamina C     26.5          5.5"
      ]
     },
     "metadata": {},
     "output_type": "display_data"
    }
   ],
   "source": [
    "tabela1_12_total = tabela1_12_dados.values.sum()\n",
    "tabela1_12_proporcoes = tabela1_12_dados.transform(lambda x: x / tabela1_12_total)\n",
    "\n",
    "display(Markdown(\"**Proporções:**\"))\n",
    "display(tabela1_12_proporcoes)\n",
    "\n",
    "tabela1_12_teste_Qp = st.chi2_contingency(tabela1_12_dados.values, correction=False)\n",
    "\n",
    "display(Markdown(\"**Frequências esperadas:**\"))\n",
    "tabela1_12_freq_esperadas = pd.DataFrame(\n",
    "    tabela1_12_teste_Qp[3],\n",
    "    columns=tabela1_12_dados.columns,\n",
    "    index=tabela1_12_dados.index,\n",
    ")\n",
    "display(tabela1_12_freq_esperadas)"
   ]
  },
  {
   "cell_type": "markdown",
   "metadata": {},
   "source": [
    "**b)** Hipótese de interesse: "
   ]
  },
  {
   "cell_type": "markdown",
   "metadata": {},
   "source": [
    "**c)** Medida de associação:"
   ]
  },
  {
   "cell_type": "code",
   "execution_count": null,
   "metadata": {},
   "outputs": [],
   "source": []
  },
  {
   "cell_type": "markdown",
   "metadata": {},
   "source": [
    "**Exercício 7**\n",
    "\n",
    "**a)** Proporções amostras e frequências esperadas:"
   ]
  },
  {
   "cell_type": "code",
   "execution_count": 97,
   "metadata": {},
   "outputs": [
    {
     "data": {
      "text/markdown": [
       "**Proporções:**"
      ],
      "text/plain": [
       "<IPython.core.display.Markdown object>"
      ]
     },
     "metadata": {},
     "output_type": "display_data"
    },
    {
     "data": {
      "text/html": [
       "<div>\n",
       "<style scoped>\n",
       "    .dataframe tbody tr th:only-of-type {\n",
       "        vertical-align: middle;\n",
       "    }\n",
       "\n",
       "    .dataframe tbody tr th {\n",
       "        vertical-align: top;\n",
       "    }\n",
       "\n",
       "    .dataframe thead th {\n",
       "        text-align: right;\n",
       "    }\n",
       "</style>\n",
       "<table border=\"1\" class=\"dataframe\">\n",
       "  <thead>\n",
       "    <tr style=\"text-align: right;\">\n",
       "      <th></th>\n",
       "      <th>Sim</th>\n",
       "      <th>Não</th>\n",
       "    </tr>\n",
       "  </thead>\n",
       "  <tbody>\n",
       "    <tr>\n",
       "      <th>Consome Álcool</th>\n",
       "      <td>0.098462</td>\n",
       "      <td>0.111795</td>\n",
       "    </tr>\n",
       "    <tr>\n",
       "      <th>Não Consome Álcool</th>\n",
       "      <td>0.106667</td>\n",
       "      <td>0.683077</td>\n",
       "    </tr>\n",
       "  </tbody>\n",
       "</table>\n",
       "</div>"
      ],
      "text/plain": [
       "                         Sim       Não\n",
       "Consome Álcool      0.098462  0.111795\n",
       "Não Consome Álcool  0.106667  0.683077"
      ]
     },
     "metadata": {},
     "output_type": "display_data"
    },
    {
     "data": {
      "text/markdown": [
       "**Frequências esperadas:**"
      ],
      "text/plain": [
       "<IPython.core.display.Markdown object>"
      ]
     },
     "metadata": {},
     "output_type": "display_data"
    },
    {
     "data": {
      "text/html": [
       "<div>\n",
       "<style scoped>\n",
       "    .dataframe tbody tr th:only-of-type {\n",
       "        vertical-align: middle;\n",
       "    }\n",
       "\n",
       "    .dataframe tbody tr th {\n",
       "        vertical-align: top;\n",
       "    }\n",
       "\n",
       "    .dataframe thead th {\n",
       "        text-align: right;\n",
       "    }\n",
       "</style>\n",
       "<table border=\"1\" class=\"dataframe\">\n",
       "  <thead>\n",
       "    <tr style=\"text-align: right;\">\n",
       "      <th></th>\n",
       "      <th>Sim</th>\n",
       "      <th>Não</th>\n",
       "    </tr>\n",
       "  </thead>\n",
       "  <tbody>\n",
       "    <tr>\n",
       "      <th>Consome Álcool</th>\n",
       "      <td>42.051282</td>\n",
       "      <td>162.948718</td>\n",
       "    </tr>\n",
       "    <tr>\n",
       "      <th>Não Consome Álcool</th>\n",
       "      <td>157.948718</td>\n",
       "      <td>612.051282</td>\n",
       "    </tr>\n",
       "  </tbody>\n",
       "</table>\n",
       "</div>"
      ],
      "text/plain": [
       "                           Sim         Não\n",
       "Consome Álcool       42.051282  162.948718\n",
       "Não Consome Álcool  157.948718  612.051282"
      ]
     },
     "metadata": {},
     "output_type": "display_data"
    }
   ],
   "source": [
    "tabela1_13_total = tabela1_13_dados.values.sum()\n",
    "tabela1_13_proporcoes = tabela1_13_dados.transform(lambda x: x / tabela1_13_total)\n",
    "\n",
    "display(Markdown(\"**Proporções:**\"))\n",
    "display(tabela1_13_proporcoes)\n",
    "\n",
    "tabela1_13_teste_Qp = st.chi2_contingency(tabela1_13_dados.values, correction=False)\n",
    "\n",
    "display(Markdown(\"**Frequências esperadas:**\"))\n",
    "tabela1_13_freq_esperadas = pd.DataFrame(\n",
    "    tabela1_13_teste_Qp[3],\n",
    "    columns=tabela1_13_dados.columns,\n",
    "    index=tabela1_13_dados.index,\n",
    ")\n",
    "display(tabela1_13_freq_esperadas)"
   ]
  },
  {
   "cell_type": "markdown",
   "metadata": {},
   "source": [
    "**b)** Hipótese de interesse: "
   ]
  },
  {
   "cell_type": "markdown",
   "metadata": {},
   "source": [
    "**c)** Medida de associação:"
   ]
  },
  {
   "cell_type": "code",
   "execution_count": null,
   "metadata": {},
   "outputs": [],
   "source": []
  },
  {
   "cell_type": "markdown",
   "metadata": {},
   "source": [
    "**Exercício 8**\n",
    "\n",
    "**a)** Proporções amostras e frequências esperadas:"
   ]
  },
  {
   "cell_type": "code",
   "execution_count": 98,
   "metadata": {},
   "outputs": [
    {
     "data": {
      "text/markdown": [
       "**Proporções:**"
      ],
      "text/plain": [
       "<IPython.core.display.Markdown object>"
      ]
     },
     "metadata": {},
     "output_type": "display_data"
    },
    {
     "data": {
      "text/html": [
       "<div>\n",
       "<style scoped>\n",
       "    .dataframe tbody tr th:only-of-type {\n",
       "        vertical-align: middle;\n",
       "    }\n",
       "\n",
       "    .dataframe tbody tr th {\n",
       "        vertical-align: top;\n",
       "    }\n",
       "\n",
       "    .dataframe thead th {\n",
       "        text-align: right;\n",
       "    }\n",
       "</style>\n",
       "<table border=\"1\" class=\"dataframe\">\n",
       "  <thead>\n",
       "    <tr style=\"text-align: right;\">\n",
       "      <th></th>\n",
       "      <th>Sim</th>\n",
       "      <th>Não</th>\n",
       "    </tr>\n",
       "  </thead>\n",
       "  <tbody>\n",
       "    <tr>\n",
       "      <th>Mulheres</th>\n",
       "      <td>0.280909</td>\n",
       "      <td>0.173636</td>\n",
       "    </tr>\n",
       "    <tr>\n",
       "      <th>Homens</th>\n",
       "      <td>0.290000</td>\n",
       "      <td>0.255455</td>\n",
       "    </tr>\n",
       "  </tbody>\n",
       "</table>\n",
       "</div>"
      ],
      "text/plain": [
       "               Sim       Não\n",
       "Mulheres  0.280909  0.173636\n",
       "Homens    0.290000  0.255455"
      ]
     },
     "metadata": {},
     "output_type": "display_data"
    },
    {
     "data": {
      "text/markdown": [
       "**Frequências esperadas:**"
      ],
      "text/plain": [
       "<IPython.core.display.Markdown object>"
      ]
     },
     "metadata": {},
     "output_type": "display_data"
    },
    {
     "data": {
      "text/html": [
       "<div>\n",
       "<style scoped>\n",
       "    .dataframe tbody tr th:only-of-type {\n",
       "        vertical-align: middle;\n",
       "    }\n",
       "\n",
       "    .dataframe tbody tr th {\n",
       "        vertical-align: top;\n",
       "    }\n",
       "\n",
       "    .dataframe thead th {\n",
       "        text-align: right;\n",
       "    }\n",
       "</style>\n",
       "<table border=\"1\" class=\"dataframe\">\n",
       "  <thead>\n",
       "    <tr style=\"text-align: right;\">\n",
       "      <th></th>\n",
       "      <th>Sim</th>\n",
       "      <th>Não</th>\n",
       "    </tr>\n",
       "  </thead>\n",
       "  <tbody>\n",
       "    <tr>\n",
       "      <th>Mulheres</th>\n",
       "      <td>285.454545</td>\n",
       "      <td>214.545455</td>\n",
       "    </tr>\n",
       "    <tr>\n",
       "      <th>Homens</th>\n",
       "      <td>342.545455</td>\n",
       "      <td>257.454545</td>\n",
       "    </tr>\n",
       "  </tbody>\n",
       "</table>\n",
       "</div>"
      ],
      "text/plain": [
       "                 Sim         Não\n",
       "Mulheres  285.454545  214.545455\n",
       "Homens    342.545455  257.454545"
      ]
     },
     "metadata": {},
     "output_type": "display_data"
    }
   ],
   "source": [
    "tabela1_14_total = tabela1_14_dados.values.sum()\n",
    "tabela1_14_proporcoes = tabela1_14_dados.transform(lambda x: x / tabela1_14_total)\n",
    "\n",
    "display(Markdown(\"**Proporções:**\"))\n",
    "display(tabela1_14_proporcoes)\n",
    "\n",
    "tabela1_14_teste_Qp = st.chi2_contingency(tabela1_14_dados.values, correction=False)\n",
    "\n",
    "display(Markdown(\"**Frequências esperadas:**\"))\n",
    "tabela1_14_freq_esperadas = pd.DataFrame(\n",
    "    tabela1_14_teste_Qp[3],\n",
    "    columns=tabela1_14_dados.columns,\n",
    "    index=tabela1_14_dados.index,\n",
    ")\n",
    "display(tabela1_14_freq_esperadas)"
   ]
  },
  {
   "cell_type": "markdown",
   "metadata": {},
   "source": [
    "**b)** Hipótese de interesse: "
   ]
  },
  {
   "cell_type": "markdown",
   "metadata": {},
   "source": [
    "**c)** Medida de associação:"
   ]
  },
  {
   "cell_type": "code",
   "execution_count": null,
   "metadata": {},
   "outputs": [],
   "source": []
  }
 ],
 "metadata": {
  "interpreter": {
   "hash": "72b0bf3133a604a4d451aee3766310d35bbeb619e39a38225d6544be89c49642"
  },
  "kernelspec": {
   "display_name": "Python 3.10.2 ('venv': venv)",
   "language": "python",
   "name": "python3"
  },
  "language_info": {
   "codemirror_mode": {
    "name": "ipython",
    "version": 3
   },
   "file_extension": ".py",
   "mimetype": "text/x-python",
   "name": "python",
   "nbconvert_exporter": "python",
   "pygments_lexer": "ipython3",
   "version": "3.10.2"
  },
  "orig_nbformat": 4
 },
 "nbformat": 4,
 "nbformat_minor": 2
}
