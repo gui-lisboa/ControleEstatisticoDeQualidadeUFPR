{
 "cells": [
  {
   "cell_type": "markdown",
   "metadata": {},
   "source": [
    "# Atividade 3\n",
    "## Resumo de Teste de Hipóteses"
   ]
  },
  {
   "cell_type": "code",
   "execution_count": 98,
   "metadata": {},
   "outputs": [],
   "source": [
    "# Imports\n",
    "from IPython.display import display, Markdown\n",
    "\n",
    "import numpy as np\n",
    "import scipy.stats as scipy_stats"
   ]
  },
  {
   "cell_type": "markdown",
   "metadata": {},
   "source": [
    "### 1. Teste sobre a média com variância conhecida"
   ]
  },
  {
   "cell_type": "markdown",
   "metadata": {},
   "source": [
    "1.1 \n",
    "\n",
    "$H_{0}: \\mu \\geq 500 \\\\ H_{1}: \\mu \\lt 500$\n",
    "\n",
    "$\\mu = 500g \\\\ \\sigma^{2} = 400g \\\\ \\bar{x} = 492g \\\\ n = 16$"
   ]
  },
  {
   "cell_type": "code",
   "execution_count": 77,
   "metadata": {},
   "outputs": [
    {
     "data": {
      "text/markdown": [
       "**Solução**: dada a estatística de teste z = -1.600 e p-valor = 0.0548, a evidência é insuficiente contra a hipótese nula"
      ],
      "text/plain": [
       "<IPython.core.display.Markdown object>"
      ]
     },
     "metadata": {},
     "output_type": "display_data"
    }
   ],
   "source": [
    "media = 500\n",
    "media_amostral = 492\n",
    "variancia = 400\n",
    "n = 16\n",
    "\n",
    "estatistica_de_teste = (media_amostral - media) / ( np.sqrt(variancia/n))\n",
    "pvalor = 1 - scipy_stats.norm.cdf(abs(estatistica_de_teste))\n",
    "\n",
    "display(Markdown(f'**Solução**: dada a estatística de teste z = {estatistica_de_teste:.3f} e p-valor = {pvalor:.4f}, a evidência é insuficiente contra a hipótese nula'))"
   ]
  },
  {
   "cell_type": "markdown",
   "metadata": {},
   "source": [
    "1.2\n",
    "\n",
    "$H_{0}: \\mu \\lt 23mg \\\\ H_{1}: \\mu \\geq 23mg$\n",
    "\n",
    "$\\mu = 23mg \\\\ x = \\{27, 24, 21, 25, 26, 22\\} \\\\ \\sigma^{2} = 4,86 mg^{2} \\\\ \\alpha = 10\\%$"
   ]
  },
  {
   "cell_type": "code",
   "execution_count": 78,
   "metadata": {},
   "outputs": [
    {
     "data": {
      "text/markdown": [
       "**Solução**: dada a estatística de teste z = 1.296 e p-valor = 0.0974, a evidência é insuficiente contra a hipótese nula"
      ],
      "text/plain": [
       "<IPython.core.display.Markdown object>"
      ]
     },
     "metadata": {},
     "output_type": "display_data"
    }
   ],
   "source": [
    "media = 23\n",
    "amostras = [27, 24, 21, 25, 26, 22]\n",
    "variancia = 4.86\n",
    "significancia = .1\n",
    "\n",
    "media_amostral = np.mean(amostras)\n",
    "n = len(amostras)\n",
    "\n",
    "estatistica_de_teste = (media_amostral - media) / ( np.sqrt(variancia/n))\n",
    "pvalor = 1 - scipy_stats.norm.cdf(abs(estatistica_de_teste))\n",
    "\n",
    "display(Markdown(f'**Solução**: dada a estatística de teste z = {estatistica_de_teste:.3f} e p-valor = {pvalor:.4f}, a evidência é insuficiente contra a hipótese nula'))"
   ]
  },
  {
   "cell_type": "markdown",
   "metadata": {},
   "source": [
    "### 2. Teste sobre a média com variância desconhecida"
   ]
  },
  {
   "cell_type": "markdown",
   "metadata": {},
   "source": [
    "$H_{0}: \\mu \\leq 30mg \\\\ H_{1}: \\mu \\gt 30mg$\n",
    "\n",
    "$\\mu = 30mg \\\\ \\bar{x} = 31,5mg \\\\ \\sigma = 3 mg \\\\ n = 25 \\\\ \\alpha = 5\\%$"
   ]
  },
  {
   "cell_type": "code",
   "execution_count": 79,
   "metadata": {},
   "outputs": [
    {
     "data": {
      "text/markdown": [
       "**Solução**: dada a estatística de teste t = 2.500 e p-valor = 0.0098, a evidência é suficiente contra a hipótese nula"
      ],
      "text/plain": [
       "<IPython.core.display.Markdown object>"
      ]
     },
     "metadata": {},
     "output_type": "display_data"
    }
   ],
   "source": [
    "media = 30\n",
    "media_amostral = 31.5\n",
    "desvio_padrao = 3\n",
    "n = 25\n",
    "significancia = .05\n",
    "\n",
    "estatistica_de_teste = (media_amostral - media) / (desvio_padrao / np.sqrt(n))\n",
    "pvalor = 1 - scipy_stats.t.cdf(abs(estatistica_de_teste), df=n-1)\n",
    "\n",
    "display(Markdown(f'**Solução**: dada a estatística de teste t = {estatistica_de_teste:.3f} e p-valor = {pvalor:.4f}, a evidência é suficiente contra a hipótese nula'))"
   ]
  },
  {
   "cell_type": "markdown",
   "metadata": {},
   "source": [
    "### 3. Comparação duas médias com variâncias conhecidas"
   ]
  },
  {
   "cell_type": "markdown",
   "metadata": {},
   "source": [
    "$H_{0}: \\mu_{A} = \\mu_{B} \\\\ H_{1}: \\mu_{A} \\neq \\mu_{B}$\n",
    "\n",
    "$\\bar{x}_{A} = 502,74g \\\\ \\bar{x}_{B} = 496,60g \\\\ n_{A} = 25 \\\\ n_{B} = 16 \\\\ \\alpha = 5\\%$"
   ]
  },
  {
   "cell_type": "code",
   "execution_count": 80,
   "metadata": {},
   "outputs": [
    {
     "data": {
      "text/markdown": [
       "**Solução**: dada a estatística de teste t = 1.918 e p-valor = 0.0312, a evidência é suficiente contra a hipótese nula"
      ],
      "text/plain": [
       "<IPython.core.display.Markdown object>"
      ]
     },
     "metadata": {},
     "output_type": "display_data"
    }
   ],
   "source": [
    "## REVER GABARITO\n",
    "\n",
    "desvio_padrao = 10\n",
    "media_amostral_a = 502.74\n",
    "n_a = 25\n",
    "media_amostral_b = 496.6\n",
    "n_b = 16\n",
    "significancia = .05\n",
    "\n",
    "estatistica_de_teste = (media_amostral_a - media_amostral_b) / (desvio_padrao * np.sqrt((1/n_a) + (1/n_b)))\n",
    "pvalor = 1 - scipy_stats.t.cdf(abs(estatistica_de_teste), df=n_a + n_b - 2)\n",
    "\n",
    "display(Markdown(f'**Solução**: dada a estatística de teste t = {estatistica_de_teste:.3f} e p-valor = {pvalor:.4f}, a evidência é suficiente contra a hipótese nula'))"
   ]
  },
  {
   "cell_type": "markdown",
   "metadata": {},
   "source": [
    "### 4. Variâncias iguais, desconhecidas"
   ]
  },
  {
   "cell_type": "markdown",
   "metadata": {},
   "source": [
    "$H_{0}: \\mu_{A} = \\mu_{B} \\\\ H_{1}: \\mu_{A} \\lt \\mu_{B}$\n",
    "\n",
    "$$\n",
    "\\begin{align}\n",
    "    \\bar{x}_{A}=68 \\quad \\bar{x}_{B} = 76 \\\\\n",
    "    \\sigma_{A}^{2}=50 \\quad \\sigma_{B}^{2} = 75 \\\\\n",
    "    n_{A} = 12 \\quad n_{B} = 15\n",
    "\\end{align}\n",
    "$$"
   ]
  },
  {
   "cell_type": "code",
   "execution_count": 81,
   "metadata": {},
   "outputs": [
    {
     "data": {
      "text/markdown": [
       "**Solução**: dada a estatística de teste t = -2.582 e p-valor = 0.0080, a evidência é muito forte contra a hipótese nula"
      ],
      "text/plain": [
       "<IPython.core.display.Markdown object>"
      ]
     },
     "metadata": {},
     "output_type": "display_data"
    }
   ],
   "source": [
    "media_amostral_a = 68\n",
    "variancia_amostral_a = 50\n",
    "n_a = 12\n",
    "media_amostral_b = 76\n",
    "variancia_amostral_b = 75\n",
    "n_b = 15\n",
    "significancia = .05\n",
    "\n",
    "sp = np.sqrt( ((n_a - 1)*variancia_amostral_a + (n_b - 1)*variancia_amostral_b) / (n_a + n_b - 2) )\n",
    "estatistica_de_teste = (media_amostral_a - media_amostral_b) / ( sp * np.sqrt( 1/n_a + 1/n_b ))\n",
    "pvalor = 1 - scipy_stats.t.cdf(abs(estatistica_de_teste), df=n_a + n_b - 2)\n",
    "\n",
    "display(Markdown(f'**Solução**: dada a estatística de teste t = {estatistica_de_teste:.3f} e p-valor = {pvalor:.4f}, a evidência é muito forte contra a hipótese nula'))"
   ]
  },
  {
   "cell_type": "markdown",
   "metadata": {},
   "source": [
    "### 5. Variancias desiguais, desconhecidas"
   ]
  },
  {
   "cell_type": "markdown",
   "metadata": {},
   "source": [
    "$H_{0}: \\mu_{A} = \\mu_{B} \\\\ H_{1}: \\mu_{A} \\lt \\mu_{B}$\n",
    "\n",
    "$$\n",
    "\\begin{align}\n",
    "    \\bar{x}_{A}=70.5 \\quad \\bar{x}_{B} = 84.3 \\\\\n",
    "    \\sigma_{A}^{2}=81.6 \\quad \\sigma_{B}^{2} = 120.5 \\\\\n",
    "    n_{A} = 15 \\quad n_{B} = 20\n",
    "\\end{align}\n",
    "$$"
   ]
  },
  {
   "cell_type": "code",
   "execution_count": 88,
   "metadata": {},
   "outputs": [
    {
     "data": {
      "text/markdown": [
       "**Solução**: dada a estatística de teste t = -4.076 e p-valor = 0.0003, a evidência é muito forte contra a hipótese nula"
      ],
      "text/plain": [
       "<IPython.core.display.Markdown object>"
      ]
     },
     "metadata": {},
     "output_type": "display_data"
    }
   ],
   "source": [
    "media_amostral_a = 70.5\n",
    "variancia_amostral_a = 81.6\n",
    "n_a = 15\n",
    "media_amostral_b = 84.3\n",
    "variancia_amostral_b = 120.5\n",
    "n_b = 20\n",
    "\n",
    "soma_variancias_sobre_ns = (variancia_amostral_a/n_a) + (variancia_amostral_b/n_b)\n",
    "graus_de_liberdade = (\n",
    "        (soma_variancias_sobre_ns ** 2) / \n",
    "        ( (np.square(variancia_amostral_a/n_a)/n_a + 1) + (np.square(variancia_amostral_b/n_b)/n_b + 1) )\n",
    "    ) -2\n",
    "\n",
    "estatistica_de_teste = (media_amostral_a - media_amostral_b) / np.sqrt(soma_variancias_sobre_ns)\n",
    "pvalor = 1 - scipy_stats.t.cdf(abs(estatistica_de_teste), df=graus_de_liberdade)\n",
    "\n",
    "display(Markdown(f'**Solução**: dada a estatística de teste t = {estatistica_de_teste:.3f} e p-valor = {pvalor:.4f}, a evidência é muito forte contra a hipótese nula'))"
   ]
  },
  {
   "cell_type": "markdown",
   "metadata": {},
   "source": [
    "### 6. Observações emparelhadas"
   ]
  },
  {
   "cell_type": "markdown",
   "metadata": {},
   "source": [
    "$H_{0}: \\mu_{d} = 0 \\\\ H_{1}: \\mu_{d} \\gt 0$\n",
    "\n",
    "$Amostra A = [80, 72, 65, 78, 85] \\\\ Amostra B = [75, 70, 60, 72, 78]$"
   ]
  },
  {
   "cell_type": "code",
   "execution_count": 83,
   "metadata": {},
   "outputs": [
    {
     "data": {
      "text/markdown": [
       "**Solução**: dada a estatística de teste t = 3.536 e p-valor = 0.0121, a evidência é insuficiente contra a hipótese nula"
      ],
      "text/plain": [
       "<IPython.core.display.Markdown object>"
      ]
     },
     "metadata": {},
     "output_type": "display_data"
    }
   ],
   "source": [
    "amostra_a = [80, 72, 65, 78, 85]\n",
    "amostra_b = [75, 70, 60, 72, 78]\n",
    "n = len(amostra_a)\n",
    "\n",
    "diff_medias_amostrais = np.mean(amostra_a) - np.mean(amostra_b)\n",
    "diff_variancias_amostrais = np.var(amostra_a) - np.var(amostra_b)\n",
    "estatistica_de_teste = diff_medias_amostrais / np.sqrt(diff_variancias_amostrais / n)\n",
    "pvalor = 1 - scipy_stats.t.cdf(abs(estatistica_de_teste), df=n-1)\n",
    "\n",
    "display(Markdown(f'**Solução**: dada a estatística de teste t = {estatistica_de_teste:.3f} e p-valor = {pvalor:.4f}, a evidência é insuficiente contra a hipótese nula'))"
   ]
  },
  {
   "cell_type": "markdown",
   "metadata": {},
   "source": [
    "### 7. Teste para a variância de uma distribuição normal $N(\\mu , \\sigma^{2})$"
   ]
  },
  {
   "cell_type": "markdown",
   "metadata": {},
   "source": [
    "$H_{0}: \\sigma^{2} = 100 \\\\ H_{1}: \\sigma^{2} = 100$\n",
    "\n",
    "$\\sigma^{2} = 100 \\\\ \\mu = 500 \\\\ s^{2} = 169 \\\\ n = 16$"
   ]
  },
  {
   "cell_type": "code",
   "execution_count": 99,
   "metadata": {},
   "outputs": [
    {
     "data": {
      "text/markdown": [
       "**Solução**: dada a estatística de teste X² = 0.254 e p-valor = 1.0000, a evidência é insuficiente contra a hipótese nula"
      ],
      "text/plain": [
       "<IPython.core.display.Markdown object>"
      ]
     },
     "metadata": {},
     "output_type": "display_data"
    }
   ],
   "source": [
    "variancia = 100\n",
    "media = 500\n",
    "variancia_amostral = 169\n",
    "n = 16\n",
    "\n",
    "estatistica_de_teste = ((n - 1) * variancia_amostral) / (variancia ** 2)\n",
    "pvalor = 1 - scipy_stats.chi2.cdf(abs(estatistica_de_teste), df=n-1)\n",
    "\n",
    "display(Markdown(f'**Solução**: dada a estatística de teste X² = {estatistica_de_teste:.3f} e p-valor = {pvalor:.4f}, a evidência é insuficiente contra a hipótese nula'))"
   ]
  },
  {
   "cell_type": "markdown",
   "metadata": {},
   "source": [
    "### 8. Comparação das variâncias de duas populações normais"
   ]
  },
  {
   "cell_type": "markdown",
   "metadata": {},
   "source": [
    "$H_{0}: \\sigma_{A}^{2} = \\sigma_{B}^{2} \\\\ H_{1}: \\sigma_{A}^{2} \\gt \\sigma_{B}^{2}$\n",
    "\n",
    "$Amostra A = [145, 127, 136, 142, 141, 137] \\\\ Amostra B = [143, 128, 132, 138, 142, 132]$"
   ]
  },
  {
   "cell_type": "code",
   "execution_count": 85,
   "metadata": {},
   "outputs": [
    {
     "data": {
      "text/markdown": [
       "**Solução**: dada a estatística de teste f = 1.082 e p-valor = 0.4666, a evidência é insuficiente contra a hipótese nula"
      ],
      "text/plain": [
       "<IPython.core.display.Markdown object>"
      ]
     },
     "metadata": {},
     "output_type": "display_data"
    }
   ],
   "source": [
    "amostra_a = [145, 127, 136, 142, 141, 137]\n",
    "amostra_b = [143, 128, 132, 138, 142, 132]\n",
    "n_a = len(amostra_a)\n",
    "n_b = len(amostra_b)\n",
    "\n",
    "estatistica_de_teste = (np.var(amostra_a)) / (np.var(amostra_b))\n",
    "pvalor = 1 - scipy_stats.f.cdf(abs(estatistica_de_teste), dfn= n_a -1, dfd= n_b -1)\n",
    "\n",
    "display(Markdown(f'**Solução**: dada a estatística de teste f = {estatistica_de_teste:.3f} e p-valor = {pvalor:.4f}, a evidência é insuficiente contra a hipótese nula'))"
   ]
  },
  {
   "cell_type": "markdown",
   "metadata": {},
   "source": [
    "### 9. Teste para a proporção"
   ]
  },
  {
   "cell_type": "markdown",
   "metadata": {},
   "source": [
    "$H_{0}: p = 0,6  \\\\ H_{1}: p \\lt 0,6$\n",
    "\n",
    "$\\hat{p} = 0,52 \\\\ n = 200$"
   ]
  },
  {
   "cell_type": "code",
   "execution_count": 86,
   "metadata": {},
   "outputs": [
    {
     "data": {
      "text/markdown": [
       "**Solução**: dada a estatística de teste z = -2.265 e p-valor = 0.0118, a evidência é adequada contra a hipótese nula"
      ],
      "text/plain": [
       "<IPython.core.display.Markdown object>"
      ]
     },
     "metadata": {},
     "output_type": "display_data"
    }
   ],
   "source": [
    "proporcao = .6\n",
    "proporcao_amostral = .52\n",
    "n = 200\n",
    "\n",
    "estatistica_de_teste = (proporcao_amostral - proporcao) / np.sqrt((proporcao_amostral * (1 - proporcao_amostral)) / n)\n",
    "pvalor = 1 - scipy_stats.norm.cdf(abs(estatistica_de_teste))\n",
    "\n",
    "display(Markdown(f'**Solução**: dada a estatística de teste z = {estatistica_de_teste:.3f} e p-valor = {pvalor:.4f}, a evidência é adequada contra a hipótese nula'))"
   ]
  },
  {
   "cell_type": "markdown",
   "metadata": {},
   "source": [
    "### 10. Comparação de duas proporções"
   ]
  },
  {
   "cell_type": "markdown",
   "metadata": {},
   "source": [
    "$H_{0}: p_{A} = p_{B} \\\\ H_{1}: p_{A} \\lt p_{B}$\n",
    "\n",
    "$$\n",
    "\\begin{align}\n",
    "    \\hat{p}_{A} = 0,40 \\quad \\hat{p}_{B} = 0,52 \\\\\n",
    "    n_{A} = 80 \\quad n_{B} = 50\n",
    "\\end{align}\n",
    "$$"
   ]
  },
  {
   "cell_type": "code",
   "execution_count": 87,
   "metadata": {},
   "outputs": [
    {
     "data": {
      "text/markdown": [
       "**Solução**: dada a estatística de teste z = -1.339 e p-valor = 0.0903, a evidência é insuficiente contra a hipótese nula"
      ],
      "text/plain": [
       "<IPython.core.display.Markdown object>"
      ]
     },
     "metadata": {},
     "output_type": "display_data"
    }
   ],
   "source": [
    "proporcao_a = .4\n",
    "n_a = 80\n",
    "proporcao_b = .52\n",
    "n_b = 50\n",
    "significancia = .05\n",
    "\n",
    "proporcao_combinada = (proporcao_a * n_a + proporcao_b * n_b) / (n_a + n_b)\n",
    "estatistica_de_teste = (proporcao_a - proporcao_b) / np.sqrt(proporcao_combinada * (1 - proporcao_combinada) * ((1/n_a) + (1/n_b)))\n",
    "pvalor = 1 - scipy_stats.norm.cdf(abs(estatistica_de_teste))\n",
    "\n",
    "display(Markdown(f'**Solução**: dada a estatística de teste z = {estatistica_de_teste:.3f} e p-valor = {pvalor:.4f}, a evidência é insuficiente contra a hipótese nula'))"
   ]
  }
 ],
 "metadata": {
  "interpreter": {
   "hash": "a9c895529685f6a4dcda43bbbf9124848711d691a289e9363bf3fb81023d30d2"
  },
  "kernelspec": {
   "display_name": "Python 3.9.5 64-bit",
   "name": "python3"
  },
  "language_info": {
   "codemirror_mode": {
    "name": "ipython",
    "version": 3
   },
   "file_extension": ".py",
   "mimetype": "text/x-python",
   "name": "python",
   "nbconvert_exporter": "python",
   "pygments_lexer": "ipython3",
   "version": "3.9.5"
  },
  "orig_nbformat": 4
 },
 "nbformat": 4,
 "nbformat_minor": 2
}
