{
 "cells": [
  {
   "cell_type": "markdown",
   "metadata": {},
   "source": [
    "# Atividade 2\n",
    "## Revisão de probabilidade"
   ]
  },
  {
   "cell_type": "code",
   "execution_count": 1,
   "metadata": {},
   "outputs": [],
   "source": [
    "# Imports\n",
    "from IPython.display import display, Markdown\n",
    "from matplotlib_venn import venn3\n",
    "\n",
    "import numpy as np\n",
    "import scipy.integrate as integrate\n",
    "import scipy.optimize as optimize\n",
    "import scipy.stats as scipy_stats\n",
    "import statsmodels.api as sm\n",
    "import pandas as pd\n",
    "import matplotlib.pyplot as plt\n",
    "\n",
    "import statistics\n",
    "import math\n",
    "import utils"
   ]
  },
  {
   "cell_type": "markdown",
   "metadata": {
    "tags": []
   },
   "source": [
    "---\n",
    "### 1. Os diâmetros de oito mancais selecionados ao acaso são os seguintes (em mm):\n",
    "    50,001 50,002 49,998 50,006 50,005 49,996 50,003 50,004\n",
    "\n",
    "a.  Calcule a média amostral. <br>\n",
    "b.  Calcule o desvio-padrão amostral."
   ]
  },
  {
   "cell_type": "code",
   "execution_count": 24,
   "metadata": {},
   "outputs": [
    {
     "data": {
      "text/markdown": [
       "a. Média amostral é 50.0019 <br>b. Desvio-padrão amostral é 0.0034"
      ],
      "text/plain": [
       "<IPython.core.display.Markdown object>"
      ]
     },
     "execution_count": 25,
     "metadata": {},
     "output_type": "execute_result"
    }
   ],
   "source": [
    "diametros_mancais = [50.001, 50.002, 49.998, 50.006, 50.005, 49.996, 50.003, 50.004]\n",
    "media = statistics.mean(diametros_mancais)\n",
    "desvio_padrao = statistics.stdev(diametros_mancais)\n",
    "\n",
    "Markdown(\n",
    "    f'a. Média amostral é {media:.4f} <br>'\n",
    "    f'b. Desvio-padrão amostral é {desvio_padrao:.4f}'\n",
    "    )"
   ]
  },
  {
   "cell_type": "markdown",
   "metadata": {},
   "source": [
    "---\n",
    "### 2. O tempo de vida até falhar em horas de um componente eletrônico sujeito a um teste de durabilidade acelerado é mostrado abaixo para uma amostra com tamanho n = 40. Para acelerar a falha no teste, as unidades experimentais são testadas sob uma temperatura elevada.\n",
    "        127 125 131 124 129 121 142 151 160 125\n",
    "        124 123 120 119 128 133 137 124 142 123\n",
    "        121 136 140 137 125 124 128 129 130 122\n",
    "        118 131 125 133 141 125 140 132 129 126\n",
    "a. Calcule a média amostral e o desvio-padrão.\n",
    "b. Construa o histograma.\n",
    "c. Ache a mediana e os quartis. "
   ]
  },
  {
   "cell_type": "code",
   "execution_count": 3,
   "metadata": {},
   "outputs": [
    {
     "data": {
      "image/png": "[encoded data removed]",
      "text/plain": [
       "<Figure size 432x288 with 1 Axes>"
      ]
     },
     "metadata": {
      "needs_background": "light"
     },
     "output_type": "display_data"
    }
   ],
   "source": [
    "tempos_de_vida = utils.ler_quadro_txt_como_serie(\"datasets/Atividade2-Exercicio2.txt\")\n",
    "media = tempos_de_vida.mean()\n",
    "desvio_padrao = tempos_de_vida.std()\n",
    "\n",
    "Markdown(\n",
    "    f'a. A média amostral é {media:.2f} horas e o desvio padrão é {desvio_padrao:.2f} horas <br>'\n",
    "    f'b. Histograma: <br>'\n",
    ")\n",
    "tempos_de_vida.plot.hist(ec=\"black\");"
   ]
  },
  {
   "cell_type": "code",
   "execution_count": 4,
   "metadata": {},
   "outputs": [
    {
     "data": {
      "text/plain": [
       "0.25    124.00\n",
       "0.50    128.00\n",
       "0.75    133.75\n",
       "dtype: float64"
      ]
     },
     "execution_count": 4,
     "metadata": {},
     "output_type": "execute_result"
    }
   ],
   "source": [
    "quartis = tempos_de_vida.quantile([.25, .5, .75])\n",
    "Markdown(f'c. Quartis são:')\n",
    "quartis"
   ]
  },
  {
   "cell_type": "markdown",
   "metadata": {},
   "source": [
    "---\n",
    "\n",
    "### 3) Os dados abaixo são leituras do rendimento de um processo químico em dias sucessivos (leia da esquerda para a direita). Faça o histograma dos dados, comente o aspecto do histograma e verifique se o histograma lembra alguma distribuição de probabilidade conhecida.\n",
    "    94,1 87,3 94,1 92,4 84,6 85,4 93,2 84,1 92,1 90,6\n",
    "    83,6 86,6 90,6 90,1 96,4 89,1 85,4 91,7 91,4 95,2\n",
    "    88,2 88,8 89,7 87,5 88,2 86,1 86,4 86,4 87,6 84,2\n",
    "    86,1 94,3 85,0 85,1 85,1 85,1 95,1 93,2 84,9 84,0\n",
    "    89,6 90,5 90,0 86,7 87,3 93,7 90,0 95,6 92,4 83,0\n",
    "    89,6 87,7 90,1 88,3 87,3 95,3 90,3 90,6 94,3 84,1\n",
    "    86,6 94,1 93,1 89,4 97,3 83,7 91,2 97,8 94,6 88,6\n",
    "    96,8 82,9 86,1 93,1 96,3 84,1 94,4 87,3 90,4 86,4\n",
    "    94,7 82,6 96,1 86,4 89,1 87,6 91,1 83,1 98,0 84,5\n"
   ]
  },
  {
   "cell_type": "code",
   "execution_count": 5,
   "metadata": {},
   "outputs": [
    {
     "data": {
      "image/png": "[encoded data removed]",
      "text/plain": [
       "<Figure size 432x288 with 1 Axes>"
      ]
     },
     "metadata": {
      "needs_background": "light"
     },
     "output_type": "display_data"
    }
   ],
   "source": [
    "rendimentos_series = utils.ler_quadro_txt_como_serie(\"datasets/Atividade2-Exercicio3.txt\")\n",
    "hist = rendimentos_series.plot.hist(ec='black')\n"
   ]
  },
  {
   "cell_type": "markdown",
   "metadata": {},
   "source": [
    "---\n",
    "### 4) Considere o rendimento do processo químico do exercício anterior. Calcule a média amostral e o desvio padrão."
   ]
  },
  {
   "cell_type": "code",
   "execution_count": 6,
   "metadata": {},
   "outputs": [
    {
     "data": {
      "text/markdown": [
       "A média é 89.48 e o desvio padrão é 4.16"
      ],
      "text/plain": [
       "<IPython.core.display.Markdown object>"
      ]
     },
     "execution_count": 6,
     "metadata": {},
     "output_type": "execute_result"
    }
   ],
   "source": [
    "media = rendimentos_series.mean()\n",
    "desvio_padrao = rendimentos_series.std()\n",
    "\n",
    "Markdown(f'A média é {media:.2f} e o desvio padrão é {desvio_padrao:.2f}')"
   ]
  },
  {
   "cell_type": "markdown",
   "metadata": {},
   "source": [
    "---\n",
    "### 5) Suponha que dois dados não-viciados são lançados e uma variável aleatória observada, digamos X, que corresponde a soma das duas faces superiores. Descreva o espaço amostral do experimento e determine a função de probabilidade da v.a. X."
   ]
  },
  {
   "cell_type": "code",
   "execution_count": 21,
   "metadata": {},
   "outputs": [
    {
     "data": {
      "text/markdown": [
       "O espaço amostral é: <br>\\Omega=\\{(1,1)\n",
       "(1,2)\n",
       "(1,3)\n",
       "(1,4)\n",
       "(1,5)\n",
       "(1,6)\n",
       "(2,1)\n",
       "(2,2)\n",
       "(2,3)\n",
       "(2,4)\n",
       "(2,5)\n",
       "(2,6)\n",
       "(3,1)\n",
       "(3,2)\n",
       "(3,3)\n",
       "(3,4)\n",
       "(3,5)\n",
       "(3,6)\n",
       "(4,1)\n",
       "(4,2)\n",
       "(4,3)\n",
       "(4,4)\n",
       "(4,5)\n",
       "(4,6)\n",
       "(5,1)\n",
       "(5,2)\n",
       "(5,3)\n",
       "(5,4)\n",
       "(5,5)\n",
       "(5,6)\n",
       "(6,1)\n",
       "(6,2)\n",
       "(6,3)\n",
       "(6,4)\n",
       "(6,5)\n",
       "(6,6)\\}"
      ],
      "text/plain": [
       "<IPython.core.display.Markdown object>"
      ]
     },
     "execution_count": 21,
     "metadata": {},
     "output_type": "execute_result"
    }
   ],
   "source": [
    "faces_dado = range(1,7)\n",
    "dadoA = pd.DataFrame({\"a\": faces_dado, 'key': 1})\n",
    "dadoB = pd.DataFrame({\"b\": faces_dado, 'key': 1})\n",
    "combinacoes = pd.merge(dadoA, dadoB, on=\"key\").drop(columns='key')\n",
    "combinacoes[\"a,b\"] = \"(\" + combinacoes.a.astype(\"str\") + \",\" + combinacoes.b.astype(\"str\") + \")\"\n",
    "combinacoes[\"soma\"] = combinacoes.a + combinacoes.b\n",
    "\n",
    "Markdown(\n",
    "    f'O espaço amostral é: <br>'\n",
    "    f'\\Omega=\\{{{combinacoes[\"a,b\"].to_string(index=False)}\\}}'\n",
    ")\n"
   ]
  },
  {
   "cell_type": "code",
   "execution_count": 8,
   "metadata": {},
   "outputs": [
    {
     "data": {
      "text/html": [
       "<div>\n",
       "<style scoped>\n",
       "    .dataframe tbody tr th:only-of-type {\n",
       "        vertical-align: middle;\n",
       "    }\n",
       "\n",
       "    .dataframe tbody tr th {\n",
       "        vertical-align: top;\n",
       "    }\n",
       "\n",
       "    .dataframe thead th {\n",
       "        text-align: right;\n",
       "    }\n",
       "</style>\n",
       "<table border=\"1\" class=\"dataframe\">\n",
       "  <thead>\n",
       "    <tr style=\"text-align: right;\">\n",
       "      <th></th>\n",
       "      <th>X=x</th>\n",
       "      <th>P(X=x)</th>\n",
       "      <th>P(X&lt;=x)</th>\n",
       "    </tr>\n",
       "    <tr>\n",
       "      <th>soma</th>\n",
       "      <th></th>\n",
       "      <th></th>\n",
       "      <th></th>\n",
       "    </tr>\n",
       "  </thead>\n",
       "  <tbody>\n",
       "    <tr>\n",
       "      <th>2</th>\n",
       "      <td>2</td>\n",
       "      <td>0.027778</td>\n",
       "      <td>0.027778</td>\n",
       "    </tr>\n",
       "    <tr>\n",
       "      <th>3</th>\n",
       "      <td>3</td>\n",
       "      <td>0.055556</td>\n",
       "      <td>0.083333</td>\n",
       "    </tr>\n",
       "    <tr>\n",
       "      <th>4</th>\n",
       "      <td>4</td>\n",
       "      <td>0.083333</td>\n",
       "      <td>0.166667</td>\n",
       "    </tr>\n",
       "    <tr>\n",
       "      <th>5</th>\n",
       "      <td>5</td>\n",
       "      <td>0.111111</td>\n",
       "      <td>0.277778</td>\n",
       "    </tr>\n",
       "    <tr>\n",
       "      <th>6</th>\n",
       "      <td>6</td>\n",
       "      <td>0.138889</td>\n",
       "      <td>0.416667</td>\n",
       "    </tr>\n",
       "    <tr>\n",
       "      <th>7</th>\n",
       "      <td>7</td>\n",
       "      <td>0.166667</td>\n",
       "      <td>0.583333</td>\n",
       "    </tr>\n",
       "    <tr>\n",
       "      <th>8</th>\n",
       "      <td>8</td>\n",
       "      <td>0.138889</td>\n",
       "      <td>0.722222</td>\n",
       "    </tr>\n",
       "    <tr>\n",
       "      <th>9</th>\n",
       "      <td>9</td>\n",
       "      <td>0.111111</td>\n",
       "      <td>0.833333</td>\n",
       "    </tr>\n",
       "    <tr>\n",
       "      <th>10</th>\n",
       "      <td>10</td>\n",
       "      <td>0.083333</td>\n",
       "      <td>0.916667</td>\n",
       "    </tr>\n",
       "    <tr>\n",
       "      <th>11</th>\n",
       "      <td>11</td>\n",
       "      <td>0.055556</td>\n",
       "      <td>0.972222</td>\n",
       "    </tr>\n",
       "    <tr>\n",
       "      <th>12</th>\n",
       "      <td>12</td>\n",
       "      <td>0.027778</td>\n",
       "      <td>1.000000</td>\n",
       "    </tr>\n",
       "  </tbody>\n",
       "</table>\n",
       "</div>"
      ],
      "text/plain": [
       "      X=x    P(X=x)   P(X<=x)\n",
       "soma                         \n",
       "2       2  0.027778  0.027778\n",
       "3       3  0.055556  0.083333\n",
       "4       4  0.083333  0.166667\n",
       "5       5  0.111111  0.277778\n",
       "6       6  0.138889  0.416667\n",
       "7       7  0.166667  0.583333\n",
       "8       8  0.138889  0.722222\n",
       "9       9  0.111111  0.833333\n",
       "10     10  0.083333  0.916667\n",
       "11     11  0.055556  0.972222\n",
       "12     12  0.027778  1.000000"
      ]
     },
     "execution_count": 8,
     "metadata": {},
     "output_type": "execute_result"
    }
   ],
   "source": [
    "quantidade_combinacoes = len(combinacoes)\n",
    "possiveis_somas = combinacoes[\"soma\"].unique()\n",
    "quantidades_somas = combinacoes.groupby(\"soma\").count()\n",
    "distribuicao = pd.DataFrame({\"X=x\": possiveis_somas, \"P(X=x)\": quantidades_somas[\"a,b\"] / quantidade_combinacoes})\n",
    "distribuicao[\"P(X<=x)\"] = distribuicao[\"P(X=x)\"].cumsum()\n",
    "\n",
    "distribuicao"
   ]
  },
  {
   "cell_type": "markdown",
   "metadata": {},
   "source": [
    "---\n",
    "### 6) Ache a média e a variância da v.a. do exercício anterior."
   ]
  },
  {
   "cell_type": "code",
   "execution_count": 9,
   "metadata": {},
   "outputs": [
    {
     "data": {
      "text/markdown": [
       "A média é 7.00 e a variância é 5.83"
      ],
      "text/plain": [
       "<IPython.core.display.Markdown object>"
      ]
     },
     "execution_count": 9,
     "metadata": {},
     "output_type": "execute_result"
    }
   ],
   "source": [
    "media = sum(distribuicao[\"X=x\"] * distribuicao[\"P(X=x)\"])\n",
    "variancia = sum( ((distribuicao[\"X=x\"] ** 2) * distribuicao[\"P(X=x)\"]) ) - (media ** 2)\n",
    "\n",
    "Markdown(f'A média é {media:.2f} e a variância é {variancia:.2f}')"
   ]
  },
  {
   "cell_type": "markdown",
   "metadata": {},
   "source": [
    "---\n",
    "### 7) Calculadoras eletrônicas são classificadas ao final de um trabalho de inspeção. Três tipos de não conformidade podem ocorrer nas calculadoras: crítica, maior e menor. A experiência tem indicado que os defeitos ocorrem da maneira seguinte:\n",
    "\n",
    "![Quadro](imagens/Atividade2-Exercicio7.png)\n",
    "\n",
    "a. Qual a porcentagem da produção que estão de acordo com as especificações de projeto? <br>\n",
    "b. Calculadoras que tem defeito crítico ou defeito crítico e outro tipo de defeito devem ser jogados fora. Qual a porcentagem da produção jogada fora? <br>\n",
    "c. Calculadoras com defeito maior ou menor ou ambos devem ser consertados. Qual a porcentagem da produção sujeita a retrabalho?"
   ]
  },
  {
   "cell_type": "code",
   "execution_count": 10,
   "metadata": {},
   "outputs": [
    {
     "data": {
      "image/png": "[encoded data removed]",
      "text/plain": [
       "<Figure size 432x288 with 1 Axes>"
      ]
     },
     "metadata": {},
     "output_type": "display_data"
    }
   ],
   "source": [
    "defeitos = {\n",
    "    'criticos': .015,\n",
    "    'maiores': .01,\n",
    "    'menores': .02,\n",
    "    'criticos_maiores': .002,\n",
    "    'criticos_menores': .008,\n",
    "    'maiores_menores': .005,\n",
    "    'criticos_maiores_criticos_menores_maiores_menores': .001\n",
    "}\n",
    "\n",
    "def diff_defeito_areas_sobrepostas(defeitos, chave):\n",
    "    diff = 0\n",
    "    for k in defeitos.keys():\n",
    "        if k == chave: diff += defeitos[chave]\n",
    "        elif chave in k: diff -= diff_defeito_areas_sobrepostas(defeitos, k)\n",
    "    return round(diff, 3)\n",
    "\n",
    "defeitos_conjunto = (diff_defeito_areas_sobrepostas(defeitos, 'criticos'),\n",
    "        diff_defeito_areas_sobrepostas(defeitos, 'maiores'),\n",
    "        diff_defeito_areas_sobrepostas(defeitos, 'criticos_maiores'),\n",
    "        diff_defeito_areas_sobrepostas(defeitos, 'menores'),\n",
    "        diff_defeito_areas_sobrepostas(defeitos, 'criticos_menores'),\n",
    "        diff_defeito_areas_sobrepostas(defeitos, 'maiores_menores'),\n",
    "        diff_defeito_areas_sobrepostas(defeitos, 'criticos_maiores_criticos_menores_maiores_menores'))\n",
    "\n",
    "v = venn3(subsets = defeitos_conjunto, set_labels = ('Críticos', 'Maiores', 'Menores'))"
   ]
  },
  {
   "cell_type": "code",
   "execution_count": 11,
   "metadata": {},
   "outputs": [
    {
     "data": {
      "text/markdown": [
       "a. População sem defeito é de 96.90% <br>b. Produção descartada por defeitos críticos é de 1.50% <br>c. Produão que deve ser retrabalhada é de 1.60%"
      ],
      "text/plain": [
       "<IPython.core.display.Markdown object>"
      ]
     },
     "execution_count": 11,
     "metadata": {},
     "output_type": "execute_result"
    }
   ],
   "source": [
    "sem_defeito = (1 - sum(list(defeitos_conjunto))) * 100\n",
    "com_defeito_critico = defeitos['criticos'] * 100\n",
    "com_defeitos_maiores_ou_menores = (diff_defeito_areas_sobrepostas(defeitos, 'maiores') +\n",
    "                                  diff_defeito_areas_sobrepostas(defeitos, 'menores') +\n",
    "                                  diff_defeito_areas_sobrepostas(defeitos, 'maiores_menores')) * 100\n",
    "\n",
    "Markdown(\n",
    "    f'a. População sem defeito é de {sem_defeito:.2f}% <br>'\n",
    "    f'b. Produção descartada por defeitos críticos é de {com_defeito_critico:.2f}% <br>'\n",
    "    f'c. Produão que deve ser retrabalhada é de {com_defeitos_maiores_ou_menores:.2f}%'\n",
    ")"
   ]
  },
  {
   "cell_type": "markdown",
   "metadata": {},
   "source": [
    "---\n",
    "### 8) A distribuição de probabilidade da v.a. contínua X tem a seguinte função densidade de probabilidade $$f_X (x) = k\\exp(-kx) , 0 \\le x \\le \\infty$$Ache a valor da constante k e também a média e a variância de X.\n",
    "\n",
    "Como trata-se de uma função densidade de probabilidade, temos: $$\\int_{0}^{b} k\\exp(-kx) dx = 1 $$"
   ]
  },
  {
   "cell_type": "code",
   "execution_count": 12,
   "metadata": {},
   "outputs": [
    {
     "data": {
      "text/markdown": [
       "Portanto, k = 1, logo, a V.A. é: $$Exp(\\lambda=1)$$Logo, média = variância = 1"
      ],
      "text/plain": [
       "<IPython.core.display.Markdown object>"
      ]
     },
     "execution_count": 12,
     "metadata": {},
     "output_type": "execute_result"
    }
   ],
   "source": [
    "exp_integration = integrate.quad(lambda x: np.exp(-x), 0, np.inf)\n",
    "k = round(exp_integration[0] - exp_integration[1])\n",
    "Markdown(\n",
    "    f'Portanto, k = {k}, logo, a V.A. é: $$Exp(\\lambda=1)$$'\n",
    "    f'Logo, média = variância = {k}'\n",
    ")"
   ]
  },
  {
   "cell_type": "markdown",
   "metadata": {},
   "source": [
    "---\n",
    "### 9. A v.a. X assume os valores 1, 2, ou 3 com probabilidades (1+3k)/3, (1+2k)/3 e (0,5+5k)/3, respectivamente.\n",
    "a. Determine o valor adequado de k. <br>\n",
    "b. Determine a média e a variância de X. <br>\n",
    "c. Determine a função distribuição acumulada de X."
   ]
  },
  {
   "cell_type": "code",
   "execution_count": 13,
   "metadata": {},
   "outputs": [
    {
     "data": {
      "text/html": [
       "<div>\n",
       "<style scoped>\n",
       "    .dataframe tbody tr th:only-of-type {\n",
       "        vertical-align: middle;\n",
       "    }\n",
       "\n",
       "    .dataframe tbody tr th {\n",
       "        vertical-align: top;\n",
       "    }\n",
       "\n",
       "    .dataframe thead th {\n",
       "        text-align: right;\n",
       "    }\n",
       "</style>\n",
       "<table border=\"1\" class=\"dataframe\">\n",
       "  <thead>\n",
       "    <tr style=\"text-align: right;\">\n",
       "      <th></th>\n",
       "      <th>P(X=x)</th>\n",
       "      <th>P(X&lt;=x)</th>\n",
       "    </tr>\n",
       "  </thead>\n",
       "  <tbody>\n",
       "    <tr>\n",
       "      <th>1</th>\n",
       "      <td>[0.3833333333333333]</td>\n",
       "      <td>[0.3833333333333333]</td>\n",
       "    </tr>\n",
       "    <tr>\n",
       "      <th>2</th>\n",
       "      <td>[0.36666666666666664]</td>\n",
       "      <td>[0.75]</td>\n",
       "    </tr>\n",
       "    <tr>\n",
       "      <th>3</th>\n",
       "      <td>[0.24999999999999997]</td>\n",
       "      <td>[1.0]</td>\n",
       "    </tr>\n",
       "  </tbody>\n",
       "</table>\n",
       "</div>"
      ],
      "text/plain": [
       "                  P(X=x)               P(X<=x)\n",
       "1   [0.3833333333333333]  [0.3833333333333333]\n",
       "2  [0.36666666666666664]                [0.75]\n",
       "3  [0.24999999999999997]                 [1.0]"
      ]
     },
     "execution_count": 13,
     "metadata": {},
     "output_type": "execute_result"
    }
   ],
   "source": [
    "x = [1, 2, 3]\n",
    "px1 = lambda k: (1 + 3*k)/3\n",
    "px2 = lambda k: (1 + 2*k)/3\n",
    "px3 = lambda k: (.5 + 5*k)/3\n",
    "chute_inicial_para_k = 1\n",
    "\n",
    "k = optimize.root(lambda k: px1(k) + px2(k) + px3(k) - 1, chute_inicial_para_k)['x']\n",
    "tabela_dist = pd.DataFrame(\n",
    "    data= {\"P(X=x)\": [px1(k), px2(k), px3(k)],\n",
    "           \"P(X<=x)\": [px1(k), px1(k) + px2(k), px1(k) + px2(k) + px3(k)]},\n",
    "    index= x)\n",
    "media = sum(tabela_dist[\"P(X=x)\"] * tabela_dist.index)\n",
    "variancia = sum(tabela_dist[\"P(X=x)\"] * (tabela_dist.index ** 2)) - (media ** 2)\n",
    "\n",
    "Markdown(\n",
    "    f'a. K = {k.item():.3f} <br>'\n",
    "    f'b. Média = {media.item():.3f}; Variância = {variancia.item():.3f} <br>'\n",
    "    f'c. Função distribuição acumulada P(X<=x):')\n",
    "\n",
    "tabela_dist"
   ]
  },
  {
   "cell_type": "markdown",
   "metadata": {},
   "source": [
    "---\n",
    "### 10. A distribuição de probabilidade de uma v.a. discreta é: $$p_{x}(x) = kr^x , 0 \\le r \\le 1 $$ Ache o valor adequado de k sabendo-se que o contradomínio de x é 0,1,2,...\n",
    "\n",
    "Como trate-se de uma V.A., temos: $$ \\sum_{n=0}^{\\infty} kr^x = 1 $$\n",
    "\n",
    "Desmembrando o somatório, temos: $$ k (r^0 + r^1 + r^2 + ...) = 1 $$\n",
    "\n",
    "Dado 0<r<1, temos: $$ k ( \\frac{1}{(1 - r)}) = 1 $$\n",
    "\n",
    "Logo, $$ k = (1 - r) $$"
   ]
  },
  {
   "cell_type": "markdown",
   "metadata": {},
   "source": [
    "---\n",
    "### 11) Uma fábrica de calculadoras eletrônicas oferece garantia de um ano. Se a calculadora falha por qualquer razão neste período, ela é substituída. O tempo de falha é modelado pela seguinte distribuição de probabilidade $$ f_{X}(x) = 0,125e^{-0,125x} \\therefore Exp(\\lambda= 0,125)$$\n",
    "\n",
    "a. Qual a porcentagem de calculadoras que falham no período da garantia? <br>\n",
    "b. O custo de fabricação da calculadora é \\$50 e o lucro é de \\$25. Qual é o efeito da garantia de substituição sobre o lucro?"
   ]
  },
  {
   "cell_type": "code",
   "execution_count": 14,
   "metadata": {},
   "outputs": [
    {
     "data": {
      "text/markdown": [
       "a. O % de falhas na garantia é igual a 11.75% <br>b. O efeito da garantia sobre o lucro é de $5.88"
      ],
      "text/plain": [
       "<IPython.core.display.Markdown object>"
      ]
     },
     "execution_count": 14,
     "metadata": {},
     "output_type": "execute_result"
    }
   ],
   "source": [
    "garantia = 1\n",
    "custo = 50\n",
    "lucro = 25\n",
    "exp_lambda = .125\n",
    "percentual_falhas = scipy_stats.expon.cdf(garantia, scale=1/exp_lambda) * 100\n",
    "abatimento_lucro_falhas = (lucro * percentual_falhas)/custo\n",
    "\n",
    "Markdown(\n",
    "    f'a. O % de falhas na garantia é igual a {percentual_falhas:.2f}% <br>'\n",
    "    f'b. O efeito da garantia sobre o lucro é de ${abatimento_lucro_falhas:.2f}'\n",
    ")"
   ]
  },
  {
   "cell_type": "markdown",
   "metadata": {},
   "source": [
    "---\n",
    "### 12. A variabilidade do volume engarrafado de uma bebida está sendo analisada. Uma amostra com tamanho n= 10 foi tomada do processo. Os volumes medidos e os resultados são os seguintes, na unidade adequada:\n",
    "    10,05 10,03 10,02 10,04 10,05 10,01 10,02 10,02 10,03 10,01\n",
    "### Descreva a amostra."
   ]
  },
  {
   "cell_type": "code",
   "execution_count": 15,
   "metadata": {},
   "outputs": [
    {
     "data": {
      "text/plain": [
       "count    10.000000\n",
       "mean     10.028000\n",
       "std       0.014757\n",
       "min      10.010000\n",
       "25%      10.020000\n",
       "50%      10.025000\n",
       "75%      10.037500\n",
       "max      10.050000\n",
       "dtype: float64"
      ]
     },
     "execution_count": 15,
     "metadata": {},
     "output_type": "execute_result"
    }
   ],
   "source": [
    "amostra = utils.ler_quadro_txt_como_serie(\"datasets\\Atividade2-Exercicio12.txt\")\n",
    "amostra.describe()"
   ]
  },
  {
   "cell_type": "markdown",
   "metadata": {},
   "source": [
    "---\n",
    "\n",
    "### 13. Seja a v.a. X que representa o número de itens defeituosos presentes em uma amostra de tamanho n=10, tomada de um lote que possui 100 itens, inclusive 5 defeituosos. A amostra é tomada sem reposição. Calcule a probabilidade de aparecer na amostra no máximo 1 dos defeituosos."
   ]
  },
  {
   "cell_type": "code",
   "execution_count": 16,
   "metadata": {},
   "outputs": [
    {
     "data": {
      "text/markdown": [
       "A probabilidade de aparecer no máximo 1 dos defeituosos é de 91.39%"
      ],
      "text/plain": [
       "<IPython.core.display.Markdown object>"
      ]
     },
     "metadata": {},
     "output_type": "display_data"
    }
   ],
   "source": [
    "n= 10\n",
    "p= 5/100\n",
    "max_defeituosos = 1\n",
    "prob_max_defeituosos = scipy_stats.binom.cdf(max_defeituosos, n, p)\n",
    "\n",
    "display(Markdown(f'A probabilidade de aparecer no máximo {max_defeituosos} dos defeituosos é de {(prob_max_defeituosos * 100):.2f}%'))"
   ]
  },
  {
   "cell_type": "markdown",
   "metadata": {},
   "source": [
    "---\n",
    "### 14. Em um processo de produção de tecido aparecem determinado defeito com uma média de 4 defeitos por unidade de comprimento. Calcule probabilidade de em uma unidade de comprimento selecionada ao caso ocorrer no máximo 2 defeitos."
   ]
  },
  {
   "cell_type": "code",
   "execution_count": 17,
   "metadata": {},
   "outputs": [
    {
     "data": {
      "text/markdown": [
       " A probabilidade de ocorrem no máximo 2 defeitos é de 23.81%"
      ],
      "text/plain": [
       "<IPython.core.display.Markdown object>"
      ]
     },
     "metadata": {},
     "output_type": "display_data"
    }
   ],
   "source": [
    "defeitos_por_unidade = 4\n",
    "max_defeitos = 2\n",
    "prob_max_defeitos = scipy_stats.poisson.cdf(max_defeitos, defeitos_por_unidade)\n",
    "\n",
    "display(Markdown(f' A probabilidade de ocorrem no máximo 2 defeitos é de {(prob_max_defeitos * 100):.2f}%'))"
   ]
  },
  {
   "cell_type": "markdown",
   "metadata": {},
   "source": [
    "---\n",
    "### 15. A resistência a tração é uma característica muito importante do papel usada para fazer sacolas para carregar mantimentos. Supondo que a v.a. X represente esta força e que ela tem uma distribuição N(40, 4) para determinado tipo de papel e que a alça dessa sacola requer que a força de resistência seja de pelo menos 35 unidades, calcule a probabilidade de que uma sacola produzida com este papel atinja ou exceda a especificação."
   ]
  },
  {
   "cell_type": "code",
   "execution_count": 18,
   "metadata": {},
   "outputs": [
    {
     "data": {
      "text/markdown": [
       "A probabilidade de atingir ou exceder a especificação é de 99.38%"
      ],
      "text/plain": [
       "<IPython.core.display.Markdown object>"
      ]
     },
     "execution_count": 18,
     "metadata": {},
     "output_type": "execute_result"
    }
   ],
   "source": [
    "media = 40\n",
    "variancia = 4\n",
    "spec = 35\n",
    "prob_atinja_ou_exceda_spec = 1 - scipy_stats.norm.cdf(spec, media, math.sqrt(variancia))\n",
    "\n",
    "Markdown(f'A probabilidade de atingir ou exceder a especificação é de {(prob_atinja_ou_exceda_spec * 100):.2f}%')"
   ]
  },
  {
   "cell_type": "markdown",
   "metadata": {},
   "source": [
    "---\n",
    "### 16. O diâmetro do pino de metal usado em uma unidade de \"disk-drive\" é normalmente distribuída com média de 0,2508 e desvio-padrão de 0,0005 unidades. A especificação de projeto do pino estabeleceu que o diâmetro deve ficar entre 0,2500 e 0,0015 unidades. Determine a fração de defeituosos produzidos de acordo com a especificação."
   ]
  },
  {
   "cell_type": "code",
   "execution_count": null,
   "metadata": {},
   "outputs": [],
   "source": [
    "media = .2508\n",
    "desvio_padrao = .0005\n",
    "spec = .25\n",
    "limite_spec = .0015\n",
    "distribuicao = scipy_stats.norm(media, desvio_padrao)\n",
    "\n",
    "prob_fora_spec = 1 - (distribuicao.cdf(spec + limite_spec) - distribuicao.cdf(spec - limite_spec))\n",
    "Markdown(f'A fracao de defeituosos é {prob_fora_spec:.4f}')"
   ]
  }
 ],
 "metadata": {
  "interpreter": {
   "hash": "a9c895529685f6a4dcda43bbbf9124848711d691a289e9363bf3fb81023d30d2"
  },
  "kernelspec": {
   "display_name": "Python 3 (ipykernel)",
   "language": "python",
   "name": "python3"
  },
  "language_info": {
   "codemirror_mode": {
    "name": "ipython",
    "version": 3
   },
   "file_extension": ".py",
   "mimetype": "text/x-python",
   "name": "python",
   "nbconvert_exporter": "python",
   "pygments_lexer": "ipython3",
   "version": "3.9.5"
  }
 },
 "nbformat": 4,
 "nbformat_minor": 4
}
