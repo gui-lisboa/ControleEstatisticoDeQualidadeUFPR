{
 "cells": [
  {
   "cell_type": "markdown",
   "metadata": {},
   "source": [
    "# Gala dataset"
   ]
  },
  {
   "cell_type": "markdown",
   "metadata": {},
   "source": [
    "## Importando os dados"
   ]
  },
  {
   "cell_type": "code",
   "execution_count": 6,
   "metadata": {},
   "outputs": [
    {
     "data": {
      "text/html": [
       "<div>\n",
       "<style scoped>\n",
       "    .dataframe tbody tr th:only-of-type {\n",
       "        vertical-align: middle;\n",
       "    }\n",
       "\n",
       "    .dataframe tbody tr th {\n",
       "        vertical-align: top;\n",
       "    }\n",
       "\n",
       "    .dataframe thead th {\n",
       "        text-align: right;\n",
       "    }\n",
       "</style>\n",
       "<table border=\"1\" class=\"dataframe\">\n",
       "  <thead>\n",
       "    <tr style=\"text-align: right;\">\n",
       "      <th></th>\n",
       "      <th>Island</th>\n",
       "      <th>Species</th>\n",
       "      <th>Endemics</th>\n",
       "      <th>Area</th>\n",
       "      <th>Elevation</th>\n",
       "      <th>Nearest</th>\n",
       "      <th>Scruz</th>\n",
       "      <th>Adjacent</th>\n",
       "    </tr>\n",
       "  </thead>\n",
       "  <tbody>\n",
       "    <tr>\n",
       "      <th>0</th>\n",
       "      <td>Baltra</td>\n",
       "      <td>58</td>\n",
       "      <td>23</td>\n",
       "      <td>25.09</td>\n",
       "      <td>346</td>\n",
       "      <td>0.6</td>\n",
       "      <td>0.6</td>\n",
       "      <td>1.84</td>\n",
       "    </tr>\n",
       "    <tr>\n",
       "      <th>1</th>\n",
       "      <td>Bartolome</td>\n",
       "      <td>31</td>\n",
       "      <td>21</td>\n",
       "      <td>1.24</td>\n",
       "      <td>109</td>\n",
       "      <td>0.6</td>\n",
       "      <td>26.3</td>\n",
       "      <td>572.33</td>\n",
       "    </tr>\n",
       "    <tr>\n",
       "      <th>2</th>\n",
       "      <td>Caldwell</td>\n",
       "      <td>3</td>\n",
       "      <td>3</td>\n",
       "      <td>0.21</td>\n",
       "      <td>114</td>\n",
       "      <td>2.8</td>\n",
       "      <td>58.7</td>\n",
       "      <td>0.78</td>\n",
       "    </tr>\n",
       "    <tr>\n",
       "      <th>3</th>\n",
       "      <td>Champion</td>\n",
       "      <td>25</td>\n",
       "      <td>9</td>\n",
       "      <td>0.10</td>\n",
       "      <td>46</td>\n",
       "      <td>1.9</td>\n",
       "      <td>47.4</td>\n",
       "      <td>0.18</td>\n",
       "    </tr>\n",
       "    <tr>\n",
       "      <th>4</th>\n",
       "      <td>Coamano</td>\n",
       "      <td>2</td>\n",
       "      <td>1</td>\n",
       "      <td>0.05</td>\n",
       "      <td>77</td>\n",
       "      <td>1.9</td>\n",
       "      <td>1.9</td>\n",
       "      <td>903.82</td>\n",
       "    </tr>\n",
       "  </tbody>\n",
       "</table>\n",
       "</div>"
      ],
      "text/plain": [
       "      Island  Species  Endemics   Area  Elevation  Nearest  Scruz  Adjacent\n",
       "0     Baltra       58        23  25.09        346      0.6    0.6      1.84\n",
       "1  Bartolome       31        21   1.24        109      0.6   26.3    572.33\n",
       "2   Caldwell        3         3   0.21        114      2.8   58.7      0.78\n",
       "3   Champion       25         9   0.10         46      1.9   47.4      0.18\n",
       "4    Coamano        2         1   0.05         77      1.9    1.9    903.82"
      ]
     },
     "execution_count": 6,
     "metadata": {},
     "output_type": "execute_result"
    }
   ],
   "source": [
    "import pandas as pd\n",
    "\n",
    "\n",
    "dados = pd.read_table('./datasets/gala.txt', comment=\"#\")\n",
    "dados.Island = dados.Island.astype(pd.CategoricalDtype())\n",
    "\n",
    "dados.head()"
   ]
  },
  {
   "cell_type": "markdown",
   "metadata": {},
   "source": [
    "## Ajustando modelo Poisson com offset"
   ]
  },
  {
   "cell_type": "code",
   "execution_count": 7,
   "metadata": {},
   "outputs": [
    {
     "data": {
      "text/html": [
       "<table class=\"simpletable\">\n",
       "<caption>Generalized Linear Model Regression Results</caption>\n",
       "<tr>\n",
       "  <th>Dep. Variable:</th>        <td>Species</td>     <th>  No. Observations:  </th>  <td>    30</td> \n",
       "</tr>\n",
       "<tr>\n",
       "  <th>Model:</th>                  <td>GLM</td>       <th>  Df Residuals:      </th>  <td>    24</td> \n",
       "</tr>\n",
       "<tr>\n",
       "  <th>Model Family:</th>         <td>Poisson</td>     <th>  Df Model:          </th>  <td>     5</td> \n",
       "</tr>\n",
       "<tr>\n",
       "  <th>Link Function:</th>          <td>Log</td>       <th>  Scale:             </th> <td>  1.0000</td>\n",
       "</tr>\n",
       "<tr>\n",
       "  <th>Method:</th>                <td>IRLS</td>       <th>  Log-Likelihood:    </th> <td> -808.82</td>\n",
       "</tr>\n",
       "<tr>\n",
       "  <th>Date:</th>            <td>Thu, 10 Nov 2022</td> <th>  Deviance:          </th> <td>  1456.8</td>\n",
       "</tr>\n",
       "<tr>\n",
       "  <th>Time:</th>                <td>21:43:29</td>     <th>  Pearson chi2:      </th> <td>3.59e+03</td>\n",
       "</tr>\n",
       "<tr>\n",
       "  <th>No. Iterations:</th>          <td>7</td>        <th>  Pseudo R-squ. (CS):</th>  <td> 1.000</td> \n",
       "</tr>\n",
       "<tr>\n",
       "  <th>Covariance Type:</th>     <td>nonrobust</td>    <th>                     </th>     <td> </td>   \n",
       "</tr>\n",
       "</table>\n",
       "<table class=\"simpletable\">\n",
       "<tr>\n",
       "          <td></td>            <th>coef</th>     <th>std err</th>      <th>z</th>      <th>P>|z|</th>  <th>[0.025</th>    <th>0.975]</th>  \n",
       "</tr>\n",
       "<tr>\n",
       "  <th>Intercept</th>        <td>    2.7204</td> <td>    0.075</td> <td>   36.116</td> <td> 0.000</td> <td>    2.573</td> <td>    2.868</td>\n",
       "</tr>\n",
       "<tr>\n",
       "  <th>Endemics</th>         <td>   -0.0175</td> <td>    0.002</td> <td>  -11.161</td> <td> 0.000</td> <td>   -0.021</td> <td>   -0.014</td>\n",
       "</tr>\n",
       "<tr>\n",
       "  <th>Elevation</th>        <td>   -0.0020</td> <td>    0.000</td> <td>  -17.512</td> <td> 0.000</td> <td>   -0.002</td> <td>   -0.002</td>\n",
       "</tr>\n",
       "<tr>\n",
       "  <th>Nearest</th>          <td>   -0.0161</td> <td>    0.002</td> <td>  -10.460</td> <td> 0.000</td> <td>   -0.019</td> <td>   -0.013</td>\n",
       "</tr>\n",
       "<tr>\n",
       "  <th>Scruz</th>            <td>   -0.0045</td> <td>    0.001</td> <td>   -5.775</td> <td> 0.000</td> <td>   -0.006</td> <td>   -0.003</td>\n",
       "</tr>\n",
       "<tr>\n",
       "  <th>np.log(Adjacent)</th> <td>   -0.0479</td> <td>    0.012</td> <td>   -3.855</td> <td> 0.000</td> <td>   -0.072</td> <td>   -0.024</td>\n",
       "</tr>\n",
       "</table>"
      ],
      "text/plain": [
       "<class 'statsmodels.iolib.summary.Summary'>\n",
       "\"\"\"\n",
       "                 Generalized Linear Model Regression Results                  \n",
       "==============================================================================\n",
       "Dep. Variable:                Species   No. Observations:                   30\n",
       "Model:                            GLM   Df Residuals:                       24\n",
       "Model Family:                 Poisson   Df Model:                            5\n",
       "Link Function:                    Log   Scale:                          1.0000\n",
       "Method:                          IRLS   Log-Likelihood:                -808.82\n",
       "Date:                Thu, 10 Nov 2022   Deviance:                       1456.8\n",
       "Time:                        21:43:29   Pearson chi2:                 3.59e+03\n",
       "No. Iterations:                     7   Pseudo R-squ. (CS):              1.000\n",
       "Covariance Type:            nonrobust                                         \n",
       "====================================================================================\n",
       "                       coef    std err          z      P>|z|      [0.025      0.975]\n",
       "------------------------------------------------------------------------------------\n",
       "Intercept            2.7204      0.075     36.116      0.000       2.573       2.868\n",
       "Endemics            -0.0175      0.002    -11.161      0.000      -0.021      -0.014\n",
       "Elevation           -0.0020      0.000    -17.512      0.000      -0.002      -0.002\n",
       "Nearest             -0.0161      0.002    -10.460      0.000      -0.019      -0.013\n",
       "Scruz               -0.0045      0.001     -5.775      0.000      -0.006      -0.003\n",
       "np.log(Adjacent)    -0.0479      0.012     -3.855      0.000      -0.072      -0.024\n",
       "====================================================================================\n",
       "\"\"\""
      ]
     },
     "execution_count": 7,
     "metadata": {},
     "output_type": "execute_result"
    }
   ],
   "source": [
    "import numpy as np\n",
    "import statsmodels.api as sm\n",
    "import statsmodels.formula.api as smf\n",
    "from statsmodels.genmod.generalized_linear_model import GLMResults\n",
    "\n",
    "offset = np.log(dados.Area)\n",
    "formula = \"Species ~ Endemics + Elevation + Nearest + Scruz + np.log(Adjacent)\"\n",
    "\n",
    "modelo = smf.glm(\n",
    "    formula,\n",
    "    data=dados,\n",
    "    family=sm.families.Poisson(),\n",
    "    offset=offset,\n",
    ")\n",
    "\n",
    "ajuste: GLMResults = modelo.fit()\n",
    "\n",
    "ajuste.summary()"
   ]
  },
  {
   "cell_type": "markdown",
   "metadata": {},
   "source": [
    "## Análise dos resíduos"
   ]
  },
  {
   "cell_type": "code",
   "execution_count": 15,
   "metadata": {},
   "outputs": [
    {
     "data": {
      "text/plain": [
       "(30, 99)"
      ]
     },
     "execution_count": 15,
     "metadata": {},
     "output_type": "execute_result"
    }
   ],
   "source": [
    "residuos_originais = ajuste.resid_pearson.sort_values()\n",
    "k_repeticoes = 99\n",
    "\n",
    "matriz_residuos = np.ndarray(shape=(len(residuos_originais), k_repeticoes))\n",
    "\n",
    "for k in range(k_repeticoes):\n",
    "    y_preditos = ajuste.predict(dados)\n",
    "    dados_simulados = dados.copy(deep=True)\n",
    "    dados_simulados.Species = y_preditos\n",
    "\n",
    "    ajuste_simuladas: GLMResults = smf.glm(\n",
    "        formula,\n",
    "        data=dados_simulados,\n",
    "        family=sm.families.Poisson(),\n",
    "        offset=offset,\n",
    "    ).fit()\n",
    "\n",
    "    matriz_residuos[:,k] = ajuste.resid_pearson.sort_values()\n",
    "\n",
    "matriz_residuos.shape"
   ]
  },
  {
   "cell_type": "code",
   "execution_count": 38,
   "metadata": {},
   "outputs": [
    {
     "data": {
      "text/plain": [
       "-11.974594722065893"
      ]
     },
     "execution_count": 38,
     "metadata": {},
     "output_type": "execute_result"
    }
   ],
   "source": [
    "limite_inferior = np.quantile(matriz_residuos, .025)\n",
    "limite_superior = np.quantile(matriz_residuos, .975)\n",
    "limite_inferior"
   ]
  },
  {
   "cell_type": "code",
   "execution_count": null,
   "metadata": {},
   "outputs": [],
   "source": []
  }
 ],
 "metadata": {
  "kernelspec": {
   "display_name": "Python 3.10.6 ('venv': venv)",
   "language": "python",
   "name": "python3"
  },
  "language_info": {
   "codemirror_mode": {
    "name": "ipython",
    "version": 3
   },
   "file_extension": ".py",
   "mimetype": "text/x-python",
   "name": "python",
   "nbconvert_exporter": "python",
   "pygments_lexer": "ipython3",
   "version": "3.10.6"
  },
  "orig_nbformat": 4,
  "vscode": {
   "interpreter": {
    "hash": "e223704966a4bc8cb9d2ce4935cbcfcd7bcb00b5cf6d71d65040fd88614c9b9d"
   }
  }
 },
 "nbformat": 4,
 "nbformat_minor": 2
}
