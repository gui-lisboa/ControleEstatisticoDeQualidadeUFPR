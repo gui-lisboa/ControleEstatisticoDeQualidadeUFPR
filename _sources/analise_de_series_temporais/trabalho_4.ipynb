{
 "cells": [
  {
   "attachments": {},
   "cell_type": "markdown",
   "metadata": {},
   "source": [
    "# Trabalho No. 4\n",
    "\n",
    "- Aluno: Guilherme Lisboa de Oliveira (GRR20170414)"
   ]
  },
  {
   "attachments": {},
   "cell_type": "markdown",
   "metadata": {},
   "source": [
    "```{admonition} Questões\n",
    "\n",
    "O arquivo de dados http://leg.ufpr.br/~lucambio/CE017/20222S/paralytic-polio.csv contém informações anuais do número de casos e do número de mortes relatadas por poliomielite paralítica, nos Estados Unidos entre 1910 e 2019 com as seguintes variáveis:\n",
    "\n",
    "**Entity** assume somente o valor United States\n",
    "\n",
    "**Code** sempre USA\n",
    "\n",
    "**Year** ano de informação, entre 1910 e 2019\n",
    "\n",
    "**Cases** número de casos registrados\n",
    "\n",
    "**Deaths** número de mortes anuais registradas por poliomielite\n",
    "\n",
    "Analise o número de mortes relatadas por poliomielite paralítica, nos Estados Unidos, segundo o número de casos registrados.\n",
    "```"
   ]
  },
  {
   "cell_type": "code",
   "execution_count": 1,
   "metadata": {},
   "outputs": [],
   "source": [
    "import warnings\n",
    "warnings.filterwarnings('ignore')\n",
    "\n",
    "from matplotlib import pyplot as plt\n",
    "import seaborn as sns\n",
    "sns.set_theme(style=\"darkgrid\")\n",
    "\n",
    "import pandas as pd\n",
    "import numpy as np\n",
    "import statsmodels.api as sm\n",
    "import statsmodels.formula.api as smf"
   ]
  },
  {
   "attachments": {},
   "cell_type": "markdown",
   "metadata": {},
   "source": [
    "Carregando os dados:"
   ]
  },
  {
   "cell_type": "code",
   "execution_count": 2,
   "metadata": {},
   "outputs": [
    {
     "data": {
      "text/html": [
       "<div>\n",
       "<style scoped>\n",
       "    .dataframe tbody tr th:only-of-type {\n",
       "        vertical-align: middle;\n",
       "    }\n",
       "\n",
       "    .dataframe tbody tr th {\n",
       "        vertical-align: top;\n",
       "    }\n",
       "\n",
       "    .dataframe thead th {\n",
       "        text-align: right;\n",
       "    }\n",
       "</style>\n",
       "<table border=\"1\" class=\"dataframe\">\n",
       "  <thead>\n",
       "    <tr style=\"text-align: right;\">\n",
       "      <th></th>\n",
       "      <th>Entity</th>\n",
       "      <th>Code</th>\n",
       "      <th>Cases</th>\n",
       "      <th>Deaths</th>\n",
       "    </tr>\n",
       "    <tr>\n",
       "      <th>Year</th>\n",
       "      <th></th>\n",
       "      <th></th>\n",
       "      <th></th>\n",
       "      <th></th>\n",
       "    </tr>\n",
       "  </thead>\n",
       "  <tbody>\n",
       "    <tr>\n",
       "      <th>1910-01-01</th>\n",
       "      <td>United States</td>\n",
       "      <td>USA</td>\n",
       "      <td>5861</td>\n",
       "      <td>950.0</td>\n",
       "    </tr>\n",
       "    <tr>\n",
       "      <th>1911-01-01</th>\n",
       "      <td>United States</td>\n",
       "      <td>USA</td>\n",
       "      <td>1931</td>\n",
       "      <td>440.0</td>\n",
       "    </tr>\n",
       "    <tr>\n",
       "      <th>1913-01-01</th>\n",
       "      <td>United States</td>\n",
       "      <td>USA</td>\n",
       "      <td>1934</td>\n",
       "      <td>421.0</td>\n",
       "    </tr>\n",
       "    <tr>\n",
       "      <th>1914-01-01</th>\n",
       "      <td>United States</td>\n",
       "      <td>USA</td>\n",
       "      <td>1220</td>\n",
       "      <td>329.0</td>\n",
       "    </tr>\n",
       "    <tr>\n",
       "      <th>1915-01-01</th>\n",
       "      <td>United States</td>\n",
       "      <td>USA</td>\n",
       "      <td>1634</td>\n",
       "      <td>691.0</td>\n",
       "    </tr>\n",
       "    <tr>\n",
       "      <th>...</th>\n",
       "      <td>...</td>\n",
       "      <td>...</td>\n",
       "      <td>...</td>\n",
       "      <td>...</td>\n",
       "    </tr>\n",
       "    <tr>\n",
       "      <th>2015-01-01</th>\n",
       "      <td>United States</td>\n",
       "      <td>USA</td>\n",
       "      <td>0</td>\n",
       "      <td>0.0</td>\n",
       "    </tr>\n",
       "    <tr>\n",
       "      <th>2016-01-01</th>\n",
       "      <td>United States</td>\n",
       "      <td>USA</td>\n",
       "      <td>0</td>\n",
       "      <td>0.0</td>\n",
       "    </tr>\n",
       "    <tr>\n",
       "      <th>2017-01-01</th>\n",
       "      <td>United States</td>\n",
       "      <td>USA</td>\n",
       "      <td>0</td>\n",
       "      <td>0.0</td>\n",
       "    </tr>\n",
       "    <tr>\n",
       "      <th>2018-01-01</th>\n",
       "      <td>United States</td>\n",
       "      <td>USA</td>\n",
       "      <td>0</td>\n",
       "      <td>0.0</td>\n",
       "    </tr>\n",
       "    <tr>\n",
       "      <th>2019-01-01</th>\n",
       "      <td>United States</td>\n",
       "      <td>USA</td>\n",
       "      <td>0</td>\n",
       "      <td>0.0</td>\n",
       "    </tr>\n",
       "  </tbody>\n",
       "</table>\n",
       "<p>109 rows × 4 columns</p>\n",
       "</div>"
      ],
      "text/plain": [
       "                   Entity Code  Cases  Deaths\n",
       "Year                                         \n",
       "1910-01-01  United States  USA   5861   950.0\n",
       "1911-01-01  United States  USA   1931   440.0\n",
       "1913-01-01  United States  USA   1934   421.0\n",
       "1914-01-01  United States  USA   1220   329.0\n",
       "1915-01-01  United States  USA   1634   691.0\n",
       "...                   ...  ...    ...     ...\n",
       "2015-01-01  United States  USA      0     0.0\n",
       "2016-01-01  United States  USA      0     0.0\n",
       "2017-01-01  United States  USA      0     0.0\n",
       "2018-01-01  United States  USA      0     0.0\n",
       "2019-01-01  United States  USA      0     0.0\n",
       "\n",
       "[109 rows x 4 columns]"
      ]
     },
     "execution_count": 2,
     "metadata": {},
     "output_type": "execute_result"
    }
   ],
   "source": [
    "dados = pd.read_csv('./dados/paralytic-polio.csv', index_col='Year')\n",
    "dados.index = pd.to_datetime(dados.index, format='%Y')\n",
    "dados.index\n",
    "dados"
   ]
  },
  {
   "attachments": {},
   "cell_type": "markdown",
   "metadata": {},
   "source": [
    "Analisando tipos de variáveis:"
   ]
  },
  {
   "cell_type": "code",
   "execution_count": 3,
   "metadata": {},
   "outputs": [
    {
     "name": "stdout",
     "output_type": "stream",
     "text": [
      "<class 'pandas.core.frame.DataFrame'>\n",
      "DatetimeIndex: 109 entries, 1910-01-01 to 2019-01-01\n",
      "Data columns (total 4 columns):\n",
      " #   Column  Non-Null Count  Dtype  \n",
      "---  ------  --------------  -----  \n",
      " 0   Entity  109 non-null    object \n",
      " 1   Code    109 non-null    object \n",
      " 2   Cases   109 non-null    int64  \n",
      " 3   Deaths  104 non-null    float64\n",
      "dtypes: float64(1), int64(1), object(2)\n",
      "memory usage: 4.3+ KB\n"
     ]
    }
   ],
   "source": [
    "dados.info()"
   ]
  },
  {
   "attachments": {},
   "cell_type": "markdown",
   "metadata": {},
   "source": [
    "Nota-se que **Deaths** contém dados faltantes e está definida como *float*. Como há poucas entradas, descartamos os dados faltantes e convertemos para *int*:"
   ]
  },
  {
   "cell_type": "code",
   "execution_count": 4,
   "metadata": {},
   "outputs": [
    {
     "name": "stdout",
     "output_type": "stream",
     "text": [
      "<class 'pandas.core.frame.DataFrame'>\n",
      "DatetimeIndex: 104 entries, 1910-01-01 to 2019-01-01\n",
      "Data columns (total 4 columns):\n",
      " #   Column  Non-Null Count  Dtype \n",
      "---  ------  --------------  ----- \n",
      " 0   Entity  104 non-null    object\n",
      " 1   Code    104 non-null    object\n",
      " 2   Cases   104 non-null    int64 \n",
      " 3   Deaths  104 non-null    int16 \n",
      "dtypes: int16(1), int64(1), object(2)\n",
      "memory usage: 3.5+ KB\n"
     ]
    }
   ],
   "source": [
    "dados = dados.dropna()\n",
    "dados.Deaths = pd.to_numeric(dados.Deaths, downcast='integer')\n",
    "\n",
    "dados.info()"
   ]
  },
  {
   "cell_type": "code",
   "execution_count": 5,
   "metadata": {},
   "outputs": [
    {
     "data": {
      "text/plain": [
       "Entity     1\n",
       "Code       1\n",
       "Cases     73\n",
       "Deaths    64\n",
       "dtype: int64"
      ]
     },
     "execution_count": 5,
     "metadata": {},
     "output_type": "execute_result"
    }
   ],
   "source": [
    "dados.nunique()"
   ]
  },
  {
   "attachments": {},
   "cell_type": "markdown",
   "metadata": {},
   "source": [
    "Vemos que **Entity** possui apenas \"United States\" como valor e **Code** também apenas \"USA\". Assim, descartamos estas variáveis:"
   ]
  },
  {
   "cell_type": "code",
   "execution_count": 6,
   "metadata": {},
   "outputs": [
    {
     "data": {
      "text/html": [
       "<div>\n",
       "<style scoped>\n",
       "    .dataframe tbody tr th:only-of-type {\n",
       "        vertical-align: middle;\n",
       "    }\n",
       "\n",
       "    .dataframe tbody tr th {\n",
       "        vertical-align: top;\n",
       "    }\n",
       "\n",
       "    .dataframe thead th {\n",
       "        text-align: right;\n",
       "    }\n",
       "</style>\n",
       "<table border=\"1\" class=\"dataframe\">\n",
       "  <thead>\n",
       "    <tr style=\"text-align: right;\">\n",
       "      <th></th>\n",
       "      <th>Cases</th>\n",
       "      <th>Deaths</th>\n",
       "    </tr>\n",
       "    <tr>\n",
       "      <th>Year</th>\n",
       "      <th></th>\n",
       "      <th></th>\n",
       "    </tr>\n",
       "  </thead>\n",
       "  <tbody>\n",
       "    <tr>\n",
       "      <th>1910-01-01</th>\n",
       "      <td>5861</td>\n",
       "      <td>950</td>\n",
       "    </tr>\n",
       "    <tr>\n",
       "      <th>1911-01-01</th>\n",
       "      <td>1931</td>\n",
       "      <td>440</td>\n",
       "    </tr>\n",
       "    <tr>\n",
       "      <th>1913-01-01</th>\n",
       "      <td>1934</td>\n",
       "      <td>421</td>\n",
       "    </tr>\n",
       "    <tr>\n",
       "      <th>1914-01-01</th>\n",
       "      <td>1220</td>\n",
       "      <td>329</td>\n",
       "    </tr>\n",
       "    <tr>\n",
       "      <th>1915-01-01</th>\n",
       "      <td>1634</td>\n",
       "      <td>691</td>\n",
       "    </tr>\n",
       "    <tr>\n",
       "      <th>...</th>\n",
       "      <td>...</td>\n",
       "      <td>...</td>\n",
       "    </tr>\n",
       "    <tr>\n",
       "      <th>2015-01-01</th>\n",
       "      <td>0</td>\n",
       "      <td>0</td>\n",
       "    </tr>\n",
       "    <tr>\n",
       "      <th>2016-01-01</th>\n",
       "      <td>0</td>\n",
       "      <td>0</td>\n",
       "    </tr>\n",
       "    <tr>\n",
       "      <th>2017-01-01</th>\n",
       "      <td>0</td>\n",
       "      <td>0</td>\n",
       "    </tr>\n",
       "    <tr>\n",
       "      <th>2018-01-01</th>\n",
       "      <td>0</td>\n",
       "      <td>0</td>\n",
       "    </tr>\n",
       "    <tr>\n",
       "      <th>2019-01-01</th>\n",
       "      <td>0</td>\n",
       "      <td>0</td>\n",
       "    </tr>\n",
       "  </tbody>\n",
       "</table>\n",
       "<p>104 rows × 2 columns</p>\n",
       "</div>"
      ],
      "text/plain": [
       "            Cases  Deaths\n",
       "Year                     \n",
       "1910-01-01   5861     950\n",
       "1911-01-01   1931     440\n",
       "1913-01-01   1934     421\n",
       "1914-01-01   1220     329\n",
       "1915-01-01   1634     691\n",
       "...           ...     ...\n",
       "2015-01-01      0       0\n",
       "2016-01-01      0       0\n",
       "2017-01-01      0       0\n",
       "2018-01-01      0       0\n",
       "2019-01-01      0       0\n",
       "\n",
       "[104 rows x 2 columns]"
      ]
     },
     "execution_count": 6,
     "metadata": {},
     "output_type": "execute_result"
    }
   ],
   "source": [
    "dados = dados.drop(['Entity', 'Code'], axis=1)\n",
    "dados"
   ]
  },
  {
   "attachments": {},
   "cell_type": "markdown",
   "metadata": {},
   "source": [
    "Para evitar problemas de ajuste, removemos os anos poucos casos:"
   ]
  },
  {
   "cell_type": "code",
   "execution_count": 7,
   "metadata": {},
   "outputs": [],
   "source": [
    "número_mínimo_de_casos = 10\n",
    "dados = dados[dados.Cases > número_mínimo_de_casos]"
   ]
  },
  {
   "attachments": {},
   "cell_type": "markdown",
   "metadata": {},
   "source": [
    "Para facilitar a vizualização da relação entre as variáveis restantes, plotamos **Cases** e **Deaths** ao longo da série:"
   ]
  },
  {
   "cell_type": "code",
   "execution_count": 8,
   "metadata": {},
   "outputs": [
    {
     "data": {
      "image/png": "[encoded data removed]",
      "text/plain": [
       "<Figure size 1440x576 with 1 Axes>"
      ]
     },
     "metadata": {},
     "output_type": "display_data"
    }
   ],
   "source": [
    "plt.figure(figsize=(20, 8))\n",
    "sns.lineplot(data=dados[['Cases', 'Deaths']]);"
   ]
  },
  {
   "attachments": {},
   "cell_type": "markdown",
   "metadata": {},
   "source": [
    "Verificamos a auto-correlação da variável de interesse **Deaths**:"
   ]
  },
  {
   "cell_type": "code",
   "execution_count": 9,
   "metadata": {},
   "outputs": [
    {
     "data": {
      "image/png": "[encoded data removed]",
      "text/plain": [
       "<Figure size 432x288 with 1 Axes>"
      ]
     },
     "metadata": {},
     "output_type": "display_data"
    }
   ],
   "source": [
    "sm.graphics.tsa.plot_acf(dados.Deaths, lags=20);"
   ]
  },
  {
   "attachments": {},
   "cell_type": "markdown",
   "metadata": {},
   "source": [
    "Para mitigiar a auto-correlação, adicionamos variáveis de *lag*:"
   ]
  },
  {
   "cell_type": "code",
   "execution_count": 10,
   "metadata": {},
   "outputs": [
    {
     "data": {
      "text/html": [
       "<div>\n",
       "<style scoped>\n",
       "    .dataframe tbody tr th:only-of-type {\n",
       "        vertical-align: middle;\n",
       "    }\n",
       "\n",
       "    .dataframe tbody tr th {\n",
       "        vertical-align: top;\n",
       "    }\n",
       "\n",
       "    .dataframe thead th {\n",
       "        text-align: right;\n",
       "    }\n",
       "</style>\n",
       "<table border=\"1\" class=\"dataframe\">\n",
       "  <thead>\n",
       "    <tr style=\"text-align: right;\">\n",
       "      <th></th>\n",
       "      <th>Cases</th>\n",
       "      <th>Deaths</th>\n",
       "      <th>deaths_lag1</th>\n",
       "      <th>deaths_lag2</th>\n",
       "      <th>deaths_lag3</th>\n",
       "      <th>deaths_lag4</th>\n",
       "    </tr>\n",
       "    <tr>\n",
       "      <th>Year</th>\n",
       "      <th></th>\n",
       "      <th></th>\n",
       "      <th></th>\n",
       "      <th></th>\n",
       "      <th></th>\n",
       "      <th></th>\n",
       "    </tr>\n",
       "  </thead>\n",
       "  <tbody>\n",
       "    <tr>\n",
       "      <th>1910-01-01</th>\n",
       "      <td>5861</td>\n",
       "      <td>950</td>\n",
       "      <td>NaN</td>\n",
       "      <td>NaN</td>\n",
       "      <td>NaN</td>\n",
       "      <td>NaN</td>\n",
       "    </tr>\n",
       "    <tr>\n",
       "      <th>1911-01-01</th>\n",
       "      <td>1931</td>\n",
       "      <td>440</td>\n",
       "      <td>6.856462</td>\n",
       "      <td>NaN</td>\n",
       "      <td>NaN</td>\n",
       "      <td>NaN</td>\n",
       "    </tr>\n",
       "    <tr>\n",
       "      <th>1913-01-01</th>\n",
       "      <td>1934</td>\n",
       "      <td>421</td>\n",
       "      <td>6.086775</td>\n",
       "      <td>6.856462</td>\n",
       "      <td>NaN</td>\n",
       "      <td>NaN</td>\n",
       "    </tr>\n",
       "    <tr>\n",
       "      <th>1914-01-01</th>\n",
       "      <td>1220</td>\n",
       "      <td>329</td>\n",
       "      <td>6.042633</td>\n",
       "      <td>6.086775</td>\n",
       "      <td>6.856462</td>\n",
       "      <td>NaN</td>\n",
       "    </tr>\n",
       "    <tr>\n",
       "      <th>1915-01-01</th>\n",
       "      <td>1634</td>\n",
       "      <td>691</td>\n",
       "      <td>5.796058</td>\n",
       "      <td>6.042633</td>\n",
       "      <td>6.086775</td>\n",
       "      <td>6.856462</td>\n",
       "    </tr>\n",
       "    <tr>\n",
       "      <th>1916-01-01</th>\n",
       "      <td>27363</td>\n",
       "      <td>7130</td>\n",
       "      <td>6.538140</td>\n",
       "      <td>5.796058</td>\n",
       "      <td>6.042633</td>\n",
       "      <td>6.086775</td>\n",
       "    </tr>\n",
       "    <tr>\n",
       "      <th>1917-01-01</th>\n",
       "      <td>4082</td>\n",
       "      <td>1182</td>\n",
       "      <td>8.872067</td>\n",
       "      <td>6.538140</td>\n",
       "      <td>5.796058</td>\n",
       "      <td>6.042633</td>\n",
       "    </tr>\n",
       "    <tr>\n",
       "      <th>1918-01-01</th>\n",
       "      <td>2493</td>\n",
       "      <td>960</td>\n",
       "      <td>7.074963</td>\n",
       "      <td>8.872067</td>\n",
       "      <td>6.538140</td>\n",
       "      <td>5.796058</td>\n",
       "    </tr>\n",
       "    <tr>\n",
       "      <th>1919-01-01</th>\n",
       "      <td>1932</td>\n",
       "      <td>747</td>\n",
       "      <td>6.866933</td>\n",
       "      <td>7.074963</td>\n",
       "      <td>8.872067</td>\n",
       "      <td>6.538140</td>\n",
       "    </tr>\n",
       "    <tr>\n",
       "      <th>1920-01-01</th>\n",
       "      <td>2325</td>\n",
       "      <td>769</td>\n",
       "      <td>6.616065</td>\n",
       "      <td>6.866933</td>\n",
       "      <td>7.074963</td>\n",
       "      <td>8.872067</td>\n",
       "    </tr>\n",
       "  </tbody>\n",
       "</table>\n",
       "</div>"
      ],
      "text/plain": [
       "            Cases  Deaths  deaths_lag1  deaths_lag2  deaths_lag3  deaths_lag4\n",
       "Year                                                                         \n",
       "1910-01-01   5861     950          NaN          NaN          NaN          NaN\n",
       "1911-01-01   1931     440     6.856462          NaN          NaN          NaN\n",
       "1913-01-01   1934     421     6.086775     6.856462          NaN          NaN\n",
       "1914-01-01   1220     329     6.042633     6.086775     6.856462          NaN\n",
       "1915-01-01   1634     691     5.796058     6.042633     6.086775     6.856462\n",
       "1916-01-01  27363    7130     6.538140     5.796058     6.042633     6.086775\n",
       "1917-01-01   4082    1182     8.872067     6.538140     5.796058     6.042633\n",
       "1918-01-01   2493     960     7.074963     8.872067     6.538140     5.796058\n",
       "1919-01-01   1932     747     6.866933     7.074963     8.872067     6.538140\n",
       "1920-01-01   2325     769     6.616065     6.866933     7.074963     8.872067"
      ]
     },
     "execution_count": 10,
     "metadata": {},
     "output_type": "execute_result"
    }
   ],
   "source": [
    "lags = 4\n",
    "\n",
    "for lag in range(1, lags+1):\n",
    "    dados[f'deaths_lag{lag}'] = np.maximum(0,np.log(dados.Deaths.shift(lag)))\n",
    "\n",
    "dados.head(10)"
   ]
  },
  {
   "attachments": {},
   "cell_type": "markdown",
   "metadata": {},
   "source": [
    "Então, removemos as primeiras linhas até a primeira observação com lags completos:"
   ]
  },
  {
   "cell_type": "code",
   "execution_count": 11,
   "metadata": {},
   "outputs": [],
   "source": [
    "dados = dados.dropna()"
   ]
  },
  {
   "attachments": {},
   "cell_type": "markdown",
   "metadata": {},
   "source": [
    "Para melhorar o modelo, adicionamos informação externa sobre o início da vacinação contra polio nos Estados Unidos. Segundo o Centro de Controle de Doenças (CDC), a vacinação começou em 1955 (https://www.cdc.gov/polio/what-is-polio/polio-us.html). Adicionando uma variável indicativa de vacina disponível, temos:"
   ]
  },
  {
   "cell_type": "code",
   "execution_count": 12,
   "metadata": {},
   "outputs": [],
   "source": [
    "máscara_vacina = (dados.index > '1955-01-01')\n",
    "dados['Vacina'] = np.where(máscara_vacina, True, False)"
   ]
  },
  {
   "attachments": {},
   "cell_type": "markdown",
   "metadata": {},
   "source": [
    "Também adicionamos uma variável que indica o período de estabilidade de poucos casos:"
   ]
  },
  {
   "cell_type": "code",
   "execution_count": 13,
   "metadata": {},
   "outputs": [],
   "source": [
    "máscara_estabilidade = (dados.index > '1965-01-01')\n",
    "dados['Estabilidade'] = np.where(máscara_estabilidade, True, False)"
   ]
  },
  {
   "cell_type": "markdown",
   "metadata": {},
   "source": [
    "Ajustando um modelo Poisson, temos:"
   ]
  },
  {
   "cell_type": "code",
   "execution_count": 14,
   "metadata": {},
   "outputs": [
    {
     "data": {
      "text/html": [
       "<table class=\"simpletable\">\n",
       "<caption>Generalized Linear Model Regression Results</caption>\n",
       "<tr>\n",
       "  <th>Dep. Variable:</th>        <td>Deaths</td>      <th>  No. Observations:  </th>  <td>    61</td> \n",
       "</tr>\n",
       "<tr>\n",
       "  <th>Model:</th>                  <td>GLM</td>       <th>  Df Residuals:      </th>  <td>    54</td> \n",
       "</tr>\n",
       "<tr>\n",
       "  <th>Model Family:</th>         <td>Poisson</td>     <th>  Df Model:          </th>  <td>     6</td> \n",
       "</tr>\n",
       "<tr>\n",
       "  <th>Link Function:</th>          <td>Log</td>       <th>  Scale:             </th> <td>  1.0000</td>\n",
       "</tr>\n",
       "<tr>\n",
       "  <th>Method:</th>                <td>IRLS</td>       <th>  Log-Likelihood:    </th> <td> -7996.2</td>\n",
       "</tr>\n",
       "<tr>\n",
       "  <th>Date:</th>            <td>Sun, 19 Feb 2023</td> <th>  Deviance:          </th> <td>  15530.</td>\n",
       "</tr>\n",
       "<tr>\n",
       "  <th>Time:</th>                <td>16:42:04</td>     <th>  Pearson chi2:      </th> <td>2.08e+04</td>\n",
       "</tr>\n",
       "<tr>\n",
       "  <th>No. Iterations:</th>          <td>8</td>        <th>  Pseudo R-squ. (CS):</th>  <td> 1.000</td> \n",
       "</tr>\n",
       "<tr>\n",
       "  <th>Covariance Type:</th>     <td>nonrobust</td>    <th>                     </th>     <td> </td>   \n",
       "</tr>\n",
       "</table>\n",
       "<table class=\"simpletable\">\n",
       "<tr>\n",
       "            <td></td>              <th>coef</th>     <th>std err</th>      <th>z</th>      <th>P>|z|</th>  <th>[0.025</th>    <th>0.975]</th>  \n",
       "</tr>\n",
       "<tr>\n",
       "  <th>Intercept</th>            <td>    5.1185</td> <td>    0.065</td> <td>   78.591</td> <td> 0.000</td> <td>    4.991</td> <td>    5.246</td>\n",
       "</tr>\n",
       "<tr>\n",
       "  <th>Vacina[T.True]</th>       <td>   -1.4684</td> <td>    0.026</td> <td>  -55.866</td> <td> 0.000</td> <td>   -1.520</td> <td>   -1.417</td>\n",
       "</tr>\n",
       "<tr>\n",
       "  <th>Estabilidade[T.True]</th> <td>   -1.9336</td> <td>    0.093</td> <td>  -20.754</td> <td> 0.000</td> <td>   -2.116</td> <td>   -1.751</td>\n",
       "</tr>\n",
       "<tr>\n",
       "  <th>deaths_lag1</th>          <td>   -0.2514</td> <td>    0.009</td> <td>  -28.771</td> <td> 0.000</td> <td>   -0.268</td> <td>   -0.234</td>\n",
       "</tr>\n",
       "<tr>\n",
       "  <th>deaths_lag2</th>          <td>   -0.2323</td> <td>    0.008</td> <td>  -29.154</td> <td> 0.000</td> <td>   -0.248</td> <td>   -0.217</td>\n",
       "</tr>\n",
       "<tr>\n",
       "  <th>deaths_lag3</th>          <td>   -0.3275</td> <td>    0.009</td> <td>  -37.714</td> <td> 0.000</td> <td>   -0.345</td> <td>   -0.310</td>\n",
       "</tr>\n",
       "<tr>\n",
       "  <th>deaths_lag4</th>          <td>   -0.2345</td> <td>    0.009</td> <td>  -25.407</td> <td> 0.000</td> <td>   -0.253</td> <td>   -0.216</td>\n",
       "</tr>\n",
       "</table>"
      ],
      "text/plain": [
       "<class 'statsmodels.iolib.summary.Summary'>\n",
       "\"\"\"\n",
       "                 Generalized Linear Model Regression Results                  \n",
       "==============================================================================\n",
       "Dep. Variable:                 Deaths   No. Observations:                   61\n",
       "Model:                            GLM   Df Residuals:                       54\n",
       "Model Family:                 Poisson   Df Model:                            6\n",
       "Link Function:                    Log   Scale:                          1.0000\n",
       "Method:                          IRLS   Log-Likelihood:                -7996.2\n",
       "Date:                Sun, 19 Feb 2023   Deviance:                       15530.\n",
       "Time:                        16:42:04   Pearson chi2:                 2.08e+04\n",
       "No. Iterations:                     8   Pseudo R-squ. (CS):              1.000\n",
       "Covariance Type:            nonrobust                                         \n",
       "========================================================================================\n",
       "                           coef    std err          z      P>|z|      [0.025      0.975]\n",
       "----------------------------------------------------------------------------------------\n",
       "Intercept                5.1185      0.065     78.591      0.000       4.991       5.246\n",
       "Vacina[T.True]          -1.4684      0.026    -55.866      0.000      -1.520      -1.417\n",
       "Estabilidade[T.True]    -1.9336      0.093    -20.754      0.000      -2.116      -1.751\n",
       "deaths_lag1             -0.2514      0.009    -28.771      0.000      -0.268      -0.234\n",
       "deaths_lag2             -0.2323      0.008    -29.154      0.000      -0.248      -0.217\n",
       "deaths_lag3             -0.3275      0.009    -37.714      0.000      -0.345      -0.310\n",
       "deaths_lag4             -0.2345      0.009    -25.407      0.000      -0.253      -0.216\n",
       "========================================================================================\n",
       "\"\"\""
      ]
     },
     "execution_count": 14,
     "metadata": {},
     "output_type": "execute_result"
    }
   ],
   "source": [
    "offset = np.log(dados.Cases)\n",
    "\n",
    "modelo = smf.glm(\n",
    "    \"Deaths ~ Vacina + Estabilidade + deaths_lag1 + deaths_lag2 + deaths_lag3 + deaths_lag4\",\n",
    "    data=dados,\n",
    "    family=sm.families.Poisson(),\n",
    "    offset=offset,\n",
    ")\n",
    "\n",
    "ajuste = modelo.fit()\n",
    "\n",
    "ajuste.summary()"
   ]
  },
  {
   "attachments": {},
   "cell_type": "markdown",
   "metadata": {},
   "source": [
    "Verificando a capacidade predicitva, temos:"
   ]
  },
  {
   "cell_type": "code",
   "execution_count": 15,
   "metadata": {},
   "outputs": [
    {
     "data": {
      "text/html": [
       "<div>\n",
       "<style scoped>\n",
       "    .dataframe tbody tr th:only-of-type {\n",
       "        vertical-align: middle;\n",
       "    }\n",
       "\n",
       "    .dataframe tbody tr th {\n",
       "        vertical-align: top;\n",
       "    }\n",
       "\n",
       "    .dataframe thead th {\n",
       "        text-align: right;\n",
       "    }\n",
       "</style>\n",
       "<table border=\"1\" class=\"dataframe\">\n",
       "  <thead>\n",
       "    <tr style=\"text-align: right;\">\n",
       "      <th></th>\n",
       "      <th>Cases</th>\n",
       "      <th>Deaths</th>\n",
       "      <th>Predição Estimada</th>\n",
       "    </tr>\n",
       "    <tr>\n",
       "      <th>Year</th>\n",
       "      <th></th>\n",
       "      <th></th>\n",
       "      <th></th>\n",
       "    </tr>\n",
       "  </thead>\n",
       "  <tbody>\n",
       "    <tr>\n",
       "      <th>1915-01-01</th>\n",
       "      <td>1634</td>\n",
       "      <td>691</td>\n",
       "      <td>427</td>\n",
       "    </tr>\n",
       "    <tr>\n",
       "      <th>1916-01-01</th>\n",
       "      <td>27363</td>\n",
       "      <td>7130</td>\n",
       "      <td>7628</td>\n",
       "    </tr>\n",
       "    <tr>\n",
       "      <th>1917-01-01</th>\n",
       "      <td>4082</td>\n",
       "      <td>1182</td>\n",
       "      <td>584</td>\n",
       "    </tr>\n",
       "    <tr>\n",
       "      <th>1918-01-01</th>\n",
       "      <td>2493</td>\n",
       "      <td>960</td>\n",
       "      <td>271</td>\n",
       "    </tr>\n",
       "    <tr>\n",
       "      <th>1919-01-01</th>\n",
       "      <td>1932</td>\n",
       "      <td>747</td>\n",
       "      <td>131</td>\n",
       "    </tr>\n",
       "    <tr>\n",
       "      <th>...</th>\n",
       "      <td>...</td>\n",
       "      <td>...</td>\n",
       "      <td>...</td>\n",
       "    </tr>\n",
       "    <tr>\n",
       "      <th>1976-01-01</th>\n",
       "      <td>14</td>\n",
       "      <td>16</td>\n",
       "      <td>10</td>\n",
       "    </tr>\n",
       "    <tr>\n",
       "      <th>1977-01-01</th>\n",
       "      <td>18</td>\n",
       "      <td>16</td>\n",
       "      <td>10</td>\n",
       "    </tr>\n",
       "    <tr>\n",
       "      <th>1978-01-01</th>\n",
       "      <td>15</td>\n",
       "      <td>13</td>\n",
       "      <td>9</td>\n",
       "    </tr>\n",
       "    <tr>\n",
       "      <th>1979-01-01</th>\n",
       "      <td>34</td>\n",
       "      <td>4</td>\n",
       "      <td>18</td>\n",
       "    </tr>\n",
       "    <tr>\n",
       "      <th>1983-01-01</th>\n",
       "      <td>15</td>\n",
       "      <td>3</td>\n",
       "      <td>7</td>\n",
       "    </tr>\n",
       "  </tbody>\n",
       "</table>\n",
       "<p>61 rows × 3 columns</p>\n",
       "</div>"
      ],
      "text/plain": [
       "            Cases  Deaths  Predição Estimada\n",
       "Year                                        \n",
       "1915-01-01   1634     691                427\n",
       "1916-01-01  27363    7130               7628\n",
       "1917-01-01   4082    1182                584\n",
       "1918-01-01   2493     960                271\n",
       "1919-01-01   1932     747                131\n",
       "...           ...     ...                ...\n",
       "1976-01-01     14      16                 10\n",
       "1977-01-01     18      16                 10\n",
       "1978-01-01     15      13                  9\n",
       "1979-01-01     34       4                 18\n",
       "1983-01-01     15       3                  7\n",
       "\n",
       "[61 rows x 3 columns]"
      ]
     },
     "execution_count": 15,
     "metadata": {},
     "output_type": "execute_result"
    }
   ],
   "source": [
    "predicoes = ajuste.get_prediction(exog=dados[['Vacina', 'Estabilidade', 'deaths_lag1', 'deaths_lag2', 'deaths_lag3', 'deaths_lag4']], offset=offset)\n",
    "\n",
    "resultados = dados.join(predicoes.summary_frame()).iloc[:, np.r_[0:2,8]]\n",
    "resultados['mean'] = resultados['mean'].round().astype(int)\n",
    "resultados.rename(columns={'mean': 'Predição Estimada'}, inplace=True)\n",
    "\n",
    "\n",
    "resultados"
   ]
  },
  {
   "cell_type": "code",
   "execution_count": 16,
   "metadata": {},
   "outputs": [
    {
     "data": {
      "image/png": "[encoded data removed]",
      "text/plain": [
       "<Figure size 1152x576 with 1 Axes>"
      ]
     },
     "metadata": {},
     "output_type": "display_data"
    }
   ],
   "source": [
    "resultados.plot(figsize=(16,8));"
   ]
  }
 ],
 "metadata": {
  "kernelspec": {
   "display_name": "venv",
   "language": "python",
   "name": "python3"
  },
  "language_info": {
   "codemirror_mode": {
    "name": "ipython",
    "version": 3
   },
   "file_extension": ".py",
   "mimetype": "text/x-python",
   "name": "python",
   "nbconvert_exporter": "python",
   "pygments_lexer": "ipython3",
   "version": "3.10.6"
  },
  "orig_nbformat": 4,
  "vscode": {
   "interpreter": {
    "hash": "e223704966a4bc8cb9d2ce4935cbcfcd7bcb00b5cf6d71d65040fd88614c9b9d"
   }
  }
 },
 "nbformat": 4,
 "nbformat_minor": 2
}
