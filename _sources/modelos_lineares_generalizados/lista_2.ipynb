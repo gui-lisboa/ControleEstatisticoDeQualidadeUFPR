{
 "cells": [
  {
   "cell_type": "markdown",
   "metadata": {},
   "source": [
    "# Trabalho No. 2\n",
    "\n",
    "- Aluno: Guilherme Lisboa de Oliveira (GRR20170414)"
   ]
  },
  {
   "cell_type": "code",
   "execution_count": 1147,
   "metadata": {},
   "outputs": [],
   "source": [
    "import warnings\n",
    "warnings.filterwarnings('ignore')"
   ]
  },
  {
   "cell_type": "markdown",
   "metadata": {},
   "source": [
    "```{admonition} Questão 1\n",
    "\n",
    "Considere as regressções de $Y$ sobre $x$ para os dados abaixo, especificadas por $E(Y) = \\beta_0x$ e $E(Y) = \\beta_1x + \\beta_2x^2$.\n",
    "Demonstre que $\\beta_0 = 3.077$, $\\beta_1 = 2.406$ e $\\beta_2 = 0.138$. Qual desses modelos seria o preferido?\n",
    "\n",
    "\n",
    "| y   |  5  |  7  |  7  |  10 |  16 |  20 |\n",
    "|:---:|:---:|:---:|:---:|:---:|:---:|:---:|\n",
    "|  x  |  1  |  2  |  3  |  4  |  5  |  6  |\n",
    "\n",
    "```"
   ]
  },
  {
   "cell_type": "markdown",
   "metadata": {},
   "source": [
    "Aplicando os dados a um dataframe, temos:"
   ]
  },
  {
   "cell_type": "code",
   "execution_count": 1148,
   "metadata": {},
   "outputs": [],
   "source": [
    "import numpy as np\n",
    "import pandas as pd\n",
    "\n",
    "q1_dados = pd.DataFrame({\"x\": np.arange(1, 7), \"y\": [5, 7, 7, 10, 16, 20]})"
   ]
  },
  {
   "cell_type": "markdown",
   "metadata": {},
   "source": [
    "Estimando $\\hat{\\beta} = (X^{T} X)^{-1} X^{T} Y$, temos:\n",
    "\n",
    "Modelo $E(Y) = \\beta_0x$:"
   ]
  },
  {
   "cell_type": "code",
   "execution_count": 1149,
   "metadata": {},
   "outputs": [
    {
     "data": {
      "text/latex": [
       "\\beta_0 = 3.077"
      ],
      "text/plain": [
       "<IPython.core.display.Latex object>"
      ]
     },
     "execution_count": 1149,
     "metadata": {},
     "output_type": "execute_result"
    }
   ],
   "source": [
    "from IPython.display import Latex\n",
    "\n",
    "Y = q1_dados.y\n",
    "X = np.vstack(q1_dados.x)\n",
    "\n",
    "beta0_estimado = np.linalg.inv(X.T.dot(X)).dot(X.T).dot(Y)\n",
    "\n",
    "Latex(f'\\\\beta_0 = {beta0_estimado[0]:.3f}')"
   ]
  },
  {
   "cell_type": "markdown",
   "metadata": {},
   "source": [
    "Modelo $E(Y) = \\beta_1x + \\beta_2x^2$:"
   ]
  },
  {
   "cell_type": "code",
   "execution_count": 1150,
   "metadata": {},
   "outputs": [
    {
     "data": {
      "text/latex": [
       "\\beta_1 = 2.406 \\\\ \\beta_2 = 0.138"
      ],
      "text/plain": [
       "<IPython.core.display.Latex object>"
      ]
     },
     "execution_count": 1150,
     "metadata": {},
     "output_type": "execute_result"
    }
   ],
   "source": [
    "X = np.column_stack([q1_dados.x, np.square(q1_dados.x)])\n",
    "\n",
    "beta1_beta2_estimados = np.linalg.inv(X.T.dot(X)).dot(X.T).dot(Y)\n",
    "\n",
    "Latex(\n",
    "    f\"\\\\beta_1 = {beta1_beta2_estimados[0]:.3f} \\\\\\\\ \"\n",
    "    + f\"\\\\beta_2 = {beta1_beta2_estimados[1]:.3f}\"\n",
    ")\n"
   ]
  },
  {
   "cell_type": "markdown",
   "metadata": {},
   "source": [
    "Para seleção de qual modelo é melhor, utilizamos o Critério de Informação Akaike (AIC)."
   ]
  },
  {
   "cell_type": "code",
   "execution_count": 1151,
   "metadata": {},
   "outputs": [
    {
     "data": {
      "text/latex": [
       "AIC = 27.436709543206938"
      ],
      "text/plain": [
       "<IPython.core.display.Latex object>"
      ]
     },
     "execution_count": 1151,
     "metadata": {},
     "output_type": "execute_result"
    }
   ],
   "source": [
    "import statsmodels.formula.api as smf\n",
    "\n",
    "modelo_b0 = smf.ols('y ~ 0 + x', q1_dados)\n",
    "fit_modelo_b0 = modelo_b0.fit()\n",
    "\n",
    "aic_modelo_b0 = fit_modelo_b0.info_criteria(crit=\"aic\", dk_params=1)\n",
    "\n",
    "Latex(f\"AIC = {aic_modelo_b0}\")"
   ]
  },
  {
   "cell_type": "code",
   "execution_count": 1152,
   "metadata": {},
   "outputs": [
    {
     "data": {
      "text/latex": [
       "AIC = 28.45314964342071"
      ],
      "text/plain": [
       "<IPython.core.display.Latex object>"
      ]
     },
     "execution_count": 1152,
     "metadata": {},
     "output_type": "execute_result"
    }
   ],
   "source": [
    "modelo_b1_b2 = smf.ols('y ~ 0 + x + np.square(x)', q1_dados)\n",
    "fit_modelo_b1_b2 = modelo_b1_b2.fit()\n",
    "\n",
    "aic_modelo_b1_b2 = fit_modelo_b1_b2.info_criteria(crit=\"aic\", dk_params=1)\n",
    "\n",
    "Latex(f\"AIC = {aic_modelo_b1_b2}\")"
   ]
  },
  {
   "cell_type": "markdown",
   "metadata": {},
   "source": [
    "Como o AIC do modelo apenas com $\\beta_0$ é menor, este modelo deve ser o preferido."
   ]
  },
  {
   "cell_type": "markdown",
   "metadata": {},
   "source": [
    "```{admonition} Questão 2\n",
    "\n",
    "O conjunto de dados abaixo corresponde à produção anual de milho $Y$ em Kg/ha e a quantidade de chuva $x$ em mm, durante 7 anos em um determinado município.\n",
    "\n",
    "\n",
    "|  y  |   1295  |   1304  |   1300  |   1428  |  1456   |  1603   |  1535   |\n",
    "|:---:|:-------:|:-------:|:-------:|:-------:|:-------:|:-------:|:-------:|\n",
    "|  x  | 1094.10 | 1180.15 | 1137.30 | 1714.80 | 1289.50 | 1401.50 | 1640.40 |\n",
    "\n",
    "**a)** Ajustar um modelo de regressão linear $Y = \\beta_0 + \\beta_1x + \\epsilon$ aos dados encontrar as estimativas de $\\beta_0$, $\\beta_1$, encontrar os correspondentes desvios padrões dos coeficientes estimados assim como $s^2$ e $R^2$.\n",
    "\n",
    "**b)** Calcular os resíduos ($r_i$) para cada observação. Verificar se há pontos aberrantes. Fazer os gráficos de $r_i$ contra $\\hat{\\mu_i}$ e $r_i$ contra $i$. Nota-se alguma tendência sistemática nesse gráficos?\n",
    "\n",
    "**c)** Sugerir um novo modelo com base nos gráficos. Obter as estimativas correspondentes. Compare o $s^2$ e $R^2$, se procedente, desse novo modelo com aqueles do modelo adequado em (a).\n",
    "\n",
    "**d)** Suponha que num determinado ano choveu 1250mm. Calcular um intervalo de 95% para a produção de milho nesse ano utilizando, respectivamente, os modelos ajustados em (a) e (b). Comparar os intervalos obtidos.\n",
    "\n",
    "```"
   ]
  },
  {
   "cell_type": "markdown",
   "metadata": {},
   "source": [
    "Aplicando os dados a um dataframe, temos:"
   ]
  },
  {
   "cell_type": "code",
   "execution_count": 1153,
   "metadata": {},
   "outputs": [],
   "source": [
    "q2_dados = pd.DataFrame(\n",
    "    {\n",
    "        \"x\": [1094.1, 1180.15, 1137.3, 1714.8, 1289.5, 1401.5, 1640.4],\n",
    "        \"y\": [1295, 1304, 1300, 1428, 1456, 1603, 1535],\n",
    "    }\n",
    ")\n"
   ]
  },
  {
   "cell_type": "markdown",
   "metadata": {},
   "source": [
    "**a)** Ajustado a um modelo linear $Y = \\beta_0 + \\beta_1x + \\epsilon$, temos a seguinte tabela com os coeficientes e seus EP, além de $R^2$ do modelo:"
   ]
  },
  {
   "cell_type": "code",
   "execution_count": 1154,
   "metadata": {},
   "outputs": [
    {
     "data": {
      "text/html": [
       "<table class=\"simpletable\">\n",
       "<caption>OLS Regression Results</caption>\n",
       "<tr>\n",
       "  <th>Dep. Variable:</th>            <td>y</td>        <th>  R-squared:         </th> <td>   0.439</td>\n",
       "</tr>\n",
       "<tr>\n",
       "  <th>Model:</th>                   <td>OLS</td>       <th>  Adj. R-squared:    </th> <td>   0.327</td>\n",
       "</tr>\n",
       "<tr>\n",
       "  <th>Method:</th>             <td>Least Squares</td>  <th>  F-statistic:       </th> <td>   3.912</td>\n",
       "</tr>\n",
       "<tr>\n",
       "  <th>Date:</th>             <td>Mon, 04 Apr 2022</td> <th>  Prob (F-statistic):</th>  <td> 0.105</td> \n",
       "</tr>\n",
       "<tr>\n",
       "  <th>Time:</th>                 <td>22:51:54</td>     <th>  Log-Likelihood:    </th> <td> -41.084</td>\n",
       "</tr>\n",
       "<tr>\n",
       "  <th>No. Observations:</th>      <td>     7</td>      <th>  AIC:               </th> <td>   86.17</td>\n",
       "</tr>\n",
       "<tr>\n",
       "  <th>Df Residuals:</th>          <td>     5</td>      <th>  BIC:               </th> <td>   86.06</td>\n",
       "</tr>\n",
       "<tr>\n",
       "  <th>Df Model:</th>              <td>     1</td>      <th>                     </th>     <td> </td>   \n",
       "</tr>\n",
       "<tr>\n",
       "  <th>Covariance Type:</th>      <td>nonrobust</td>    <th>                     </th>     <td> </td>   \n",
       "</tr>\n",
       "</table>\n",
       "<table class=\"simpletable\">\n",
       "<tr>\n",
       "      <td></td>         <th>coef</th>     <th>std err</th>      <th>t</th>      <th>P>|t|</th>  <th>[0.025</th>    <th>0.975]</th>  \n",
       "</tr>\n",
       "<tr>\n",
       "  <th>Intercept</th> <td>  968.0350</td> <td>  230.348</td> <td>    4.202</td> <td> 0.008</td> <td>  375.906</td> <td> 1560.164</td>\n",
       "</tr>\n",
       "<tr>\n",
       "  <th>x</th>         <td>    0.3325</td> <td>    0.168</td> <td>    1.978</td> <td> 0.105</td> <td>   -0.100</td> <td>    0.765</td>\n",
       "</tr>\n",
       "</table>\n",
       "<table class=\"simpletable\">\n",
       "<tr>\n",
       "  <th>Omnibus:</th>       <td>   nan</td> <th>  Durbin-Watson:     </th> <td>   1.307</td>\n",
       "</tr>\n",
       "<tr>\n",
       "  <th>Prob(Omnibus):</th> <td>   nan</td> <th>  Jarque-Bera (JB):  </th> <td>   0.726</td>\n",
       "</tr>\n",
       "<tr>\n",
       "  <th>Skew:</th>          <td> 0.767</td> <th>  Prob(JB):          </th> <td>   0.696</td>\n",
       "</tr>\n",
       "<tr>\n",
       "  <th>Kurtosis:</th>      <td> 2.633</td> <th>  Cond. No.          </th> <td>8.24e+03</td>\n",
       "</tr>\n",
       "</table><br/><br/>Notes:<br/>[1] Standard Errors assume that the covariance matrix of the errors is correctly specified.<br/>[2] The condition number is large, 8.24e+03. This might indicate that there are<br/>strong multicollinearity or other numerical problems."
      ],
      "text/plain": [
       "<class 'statsmodels.iolib.summary.Summary'>\n",
       "\"\"\"\n",
       "                            OLS Regression Results                            \n",
       "==============================================================================\n",
       "Dep. Variable:                      y   R-squared:                       0.439\n",
       "Model:                            OLS   Adj. R-squared:                  0.327\n",
       "Method:                 Least Squares   F-statistic:                     3.912\n",
       "Date:                Mon, 04 Apr 2022   Prob (F-statistic):              0.105\n",
       "Time:                        22:51:54   Log-Likelihood:                -41.084\n",
       "No. Observations:                   7   AIC:                             86.17\n",
       "Df Residuals:                       5   BIC:                             86.06\n",
       "Df Model:                           1                                         \n",
       "Covariance Type:            nonrobust                                         \n",
       "==============================================================================\n",
       "                 coef    std err          t      P>|t|      [0.025      0.975]\n",
       "------------------------------------------------------------------------------\n",
       "Intercept    968.0350    230.348      4.202      0.008     375.906    1560.164\n",
       "x              0.3325      0.168      1.978      0.105      -0.100       0.765\n",
       "==============================================================================\n",
       "Omnibus:                          nan   Durbin-Watson:                   1.307\n",
       "Prob(Omnibus):                    nan   Jarque-Bera (JB):                0.726\n",
       "Skew:                           0.767   Prob(JB):                        0.696\n",
       "Kurtosis:                       2.633   Cond. No.                     8.24e+03\n",
       "==============================================================================\n",
       "\n",
       "Notes:\n",
       "[1] Standard Errors assume that the covariance matrix of the errors is correctly specified.\n",
       "[2] The condition number is large, 8.24e+03. This might indicate that there are\n",
       "strong multicollinearity or other numerical problems.\n",
       "\"\"\""
      ]
     },
     "execution_count": 1154,
     "metadata": {},
     "output_type": "execute_result"
    }
   ],
   "source": [
    "q2_modelo_linear = smf.ols('y ~ x', q2_dados)\n",
    "q2_fit_modelo_linear = q2_modelo_linear.fit()\n",
    "\n",
    "q2_fit_modelo_linear.summary()"
   ]
  },
  {
   "cell_type": "markdown",
   "metadata": {},
   "source": [
    "**b)** Retirando os valores do modelo ajustado, podemos expandir o dataframe com os valores ajustados e resíduos:"
   ]
  },
  {
   "cell_type": "code",
   "execution_count": 1155,
   "metadata": {},
   "outputs": [
    {
     "data": {
      "text/html": [
       "<div>\n",
       "<style scoped>\n",
       "    .dataframe tbody tr th:only-of-type {\n",
       "        vertical-align: middle;\n",
       "    }\n",
       "\n",
       "    .dataframe tbody tr th {\n",
       "        vertical-align: top;\n",
       "    }\n",
       "\n",
       "    .dataframe thead th {\n",
       "        text-align: right;\n",
       "    }\n",
       "</style>\n",
       "<table border=\"1\" class=\"dataframe\">\n",
       "  <thead>\n",
       "    <tr style=\"text-align: right;\">\n",
       "      <th></th>\n",
       "      <th>x</th>\n",
       "      <th>y</th>\n",
       "      <th>valores ajustados</th>\n",
       "      <th>residuos</th>\n",
       "    </tr>\n",
       "  </thead>\n",
       "  <tbody>\n",
       "    <tr>\n",
       "      <th>0</th>\n",
       "      <td>1094.10</td>\n",
       "      <td>1295</td>\n",
       "      <td>1331.829403</td>\n",
       "      <td>-36.829403</td>\n",
       "    </tr>\n",
       "    <tr>\n",
       "      <th>1</th>\n",
       "      <td>1180.15</td>\n",
       "      <td>1304</td>\n",
       "      <td>1360.441509</td>\n",
       "      <td>-56.441509</td>\n",
       "    </tr>\n",
       "    <tr>\n",
       "      <th>2</th>\n",
       "      <td>1137.30</td>\n",
       "      <td>1300</td>\n",
       "      <td>1346.193644</td>\n",
       "      <td>-46.193644</td>\n",
       "    </tr>\n",
       "    <tr>\n",
       "      <th>3</th>\n",
       "      <td>1714.80</td>\n",
       "      <td>1428</td>\n",
       "      <td>1538.215622</td>\n",
       "      <td>-110.215622</td>\n",
       "    </tr>\n",
       "    <tr>\n",
       "      <th>4</th>\n",
       "      <td>1289.50</td>\n",
       "      <td>1456</td>\n",
       "      <td>1396.800995</td>\n",
       "      <td>59.199005</td>\n",
       "    </tr>\n",
       "    <tr>\n",
       "      <th>5</th>\n",
       "      <td>1401.50</td>\n",
       "      <td>1603</td>\n",
       "      <td>1434.041621</td>\n",
       "      <td>168.958379</td>\n",
       "    </tr>\n",
       "    <tr>\n",
       "      <th>6</th>\n",
       "      <td>1640.40</td>\n",
       "      <td>1535</td>\n",
       "      <td>1513.477206</td>\n",
       "      <td>21.522794</td>\n",
       "    </tr>\n",
       "  </tbody>\n",
       "</table>\n",
       "</div>"
      ],
      "text/plain": [
       "         x     y  valores ajustados    residuos\n",
       "0  1094.10  1295        1331.829403  -36.829403\n",
       "1  1180.15  1304        1360.441509  -56.441509\n",
       "2  1137.30  1300        1346.193644  -46.193644\n",
       "3  1714.80  1428        1538.215622 -110.215622\n",
       "4  1289.50  1456        1396.800995   59.199005\n",
       "5  1401.50  1603        1434.041621  168.958379\n",
       "6  1640.40  1535        1513.477206   21.522794"
      ]
     },
     "execution_count": 1155,
     "metadata": {},
     "output_type": "execute_result"
    }
   ],
   "source": [
    "q2_dados['valores ajustados'] = q2_fit_modelo_linear.fittedvalues\n",
    "q2_dados['residuos'] = q2_fit_modelo_linear.resid\n",
    "\n",
    "q2_dados"
   ]
  },
  {
   "cell_type": "markdown",
   "metadata": {},
   "source": [
    "Assim, temos o gráfico $r_i$ contra $\\hat{\\mu_i}$:"
   ]
  },
  {
   "cell_type": "code",
   "execution_count": 1156,
   "metadata": {},
   "outputs": [
    {
     "data": {
      "image/png": "[encoded data removed]",
      "text/plain": [
       "<Figure size 432x288 with 1 Axes>"
      ]
     },
     "metadata": {
      "needs_background": "light"
     },
     "output_type": "display_data"
    }
   ],
   "source": [
    "q2_dados.plot(kind=\"scatter\", x='valores ajustados', y='residuos');"
   ]
  },
  {
   "cell_type": "markdown",
   "metadata": {},
   "source": [
    "E o gráfico $r_i$ contra $i$:"
   ]
  },
  {
   "cell_type": "code",
   "execution_count": 1157,
   "metadata": {},
   "outputs": [
    {
     "data": {
      "image/png": "[encoded data removed]",
      "text/plain": [
       "<Figure size 432x288 with 1 Axes>"
      ]
     },
     "metadata": {
      "needs_background": "light"
     },
     "output_type": "display_data"
    }
   ],
   "source": [
    "q2_dados.reset_index().plot(kind=\"scatter\", x='index', y='residuos');"
   ]
  },
  {
   "cell_type": "markdown",
   "metadata": {},
   "source": [
    "**c)** Analisando o gráfico $r_i$ contra $\\hat{\\mu_i}$, observamos que os resíduos parecem ter um comportamento quadrático (ligando os pontos forma uma parábola com concavidade para baixo), assim, criando um modelo $E(Y) =\\beta_0 + \\beta_1x + \\beta_2x^2$, temos:"
   ]
  },
  {
   "cell_type": "code",
   "execution_count": 1158,
   "metadata": {},
   "outputs": [
    {
     "data": {
      "text/html": [
       "<table class=\"simpletable\">\n",
       "<caption>OLS Regression Results</caption>\n",
       "<tr>\n",
       "  <th>Dep. Variable:</th>            <td>y</td>        <th>  R-squared:         </th> <td>   0.872</td>\n",
       "</tr>\n",
       "<tr>\n",
       "  <th>Model:</th>                   <td>OLS</td>       <th>  Adj. R-squared:    </th> <td>   0.808</td>\n",
       "</tr>\n",
       "<tr>\n",
       "  <th>Method:</th>             <td>Least Squares</td>  <th>  F-statistic:       </th> <td>   13.63</td>\n",
       "</tr>\n",
       "<tr>\n",
       "  <th>Date:</th>             <td>Mon, 04 Apr 2022</td> <th>  Prob (F-statistic):</th>  <td>0.0164</td> \n",
       "</tr>\n",
       "<tr>\n",
       "  <th>Time:</th>                 <td>22:51:54</td>     <th>  Log-Likelihood:    </th> <td> -35.910</td>\n",
       "</tr>\n",
       "<tr>\n",
       "  <th>No. Observations:</th>      <td>     7</td>      <th>  AIC:               </th> <td>   77.82</td>\n",
       "</tr>\n",
       "<tr>\n",
       "  <th>Df Residuals:</th>          <td>     4</td>      <th>  BIC:               </th> <td>   77.66</td>\n",
       "</tr>\n",
       "<tr>\n",
       "  <th>Df Model:</th>              <td>     2</td>      <th>                     </th>     <td> </td>   \n",
       "</tr>\n",
       "<tr>\n",
       "  <th>Covariance Type:</th>      <td>nonrobust</td>    <th>                     </th>     <td> </td>   \n",
       "</tr>\n",
       "</table>\n",
       "<table class=\"simpletable\">\n",
       "<tr>\n",
       "        <td></td>          <th>coef</th>     <th>std err</th>      <th>t</th>      <th>P>|t|</th>  <th>[0.025</th>    <th>0.975]</th>  \n",
       "</tr>\n",
       "<tr>\n",
       "  <th>Intercept</th>    <td>-3194.8739</td> <td> 1137.943</td> <td>   -2.808</td> <td> 0.048</td> <td>-6354.310</td> <td>  -35.438</td>\n",
       "</tr>\n",
       "<tr>\n",
       "  <th>x</th>            <td>    6.4199</td> <td>    1.657</td> <td>    3.875</td> <td> 0.018</td> <td>    1.820</td> <td>   11.020</td>\n",
       "</tr>\n",
       "<tr>\n",
       "  <th>np.square(x)</th> <td>   -0.0022</td> <td>    0.001</td> <td>   -3.680</td> <td> 0.021</td> <td>   -0.004</td> <td>   -0.001</td>\n",
       "</tr>\n",
       "</table>\n",
       "<table class=\"simpletable\">\n",
       "<tr>\n",
       "  <th>Omnibus:</th>       <td>   nan</td> <th>  Durbin-Watson:     </th> <td>   2.147</td>\n",
       "</tr>\n",
       "<tr>\n",
       "  <th>Prob(Omnibus):</th> <td>   nan</td> <th>  Jarque-Bera (JB):  </th> <td>   0.453</td>\n",
       "</tr>\n",
       "<tr>\n",
       "  <th>Skew:</th>          <td>-0.000</td> <th>  Prob(JB):          </th> <td>   0.797</td>\n",
       "</tr>\n",
       "<tr>\n",
       "  <th>Kurtosis:</th>      <td> 1.753</td> <th>  Cond. No.          </th> <td>1.10e+08</td>\n",
       "</tr>\n",
       "</table><br/><br/>Notes:<br/>[1] Standard Errors assume that the covariance matrix of the errors is correctly specified.<br/>[2] The condition number is large, 1.1e+08. This might indicate that there are<br/>strong multicollinearity or other numerical problems."
      ],
      "text/plain": [
       "<class 'statsmodels.iolib.summary.Summary'>\n",
       "\"\"\"\n",
       "                            OLS Regression Results                            \n",
       "==============================================================================\n",
       "Dep. Variable:                      y   R-squared:                       0.872\n",
       "Model:                            OLS   Adj. R-squared:                  0.808\n",
       "Method:                 Least Squares   F-statistic:                     13.63\n",
       "Date:                Mon, 04 Apr 2022   Prob (F-statistic):             0.0164\n",
       "Time:                        22:51:54   Log-Likelihood:                -35.910\n",
       "No. Observations:                   7   AIC:                             77.82\n",
       "Df Residuals:                       4   BIC:                             77.66\n",
       "Df Model:                           2                                         \n",
       "Covariance Type:            nonrobust                                         \n",
       "================================================================================\n",
       "                   coef    std err          t      P>|t|      [0.025      0.975]\n",
       "--------------------------------------------------------------------------------\n",
       "Intercept    -3194.8739   1137.943     -2.808      0.048   -6354.310     -35.438\n",
       "x                6.4199      1.657      3.875      0.018       1.820      11.020\n",
       "np.square(x)    -0.0022      0.001     -3.680      0.021      -0.004      -0.001\n",
       "==============================================================================\n",
       "Omnibus:                          nan   Durbin-Watson:                   2.147\n",
       "Prob(Omnibus):                    nan   Jarque-Bera (JB):                0.453\n",
       "Skew:                          -0.000   Prob(JB):                        0.797\n",
       "Kurtosis:                       1.753   Cond. No.                     1.10e+08\n",
       "==============================================================================\n",
       "\n",
       "Notes:\n",
       "[1] Standard Errors assume that the covariance matrix of the errors is correctly specified.\n",
       "[2] The condition number is large, 1.1e+08. This might indicate that there are\n",
       "strong multicollinearity or other numerical problems.\n",
       "\"\"\""
      ]
     },
     "execution_count": 1158,
     "metadata": {},
     "output_type": "execute_result"
    }
   ],
   "source": [
    "q2_fit_modelo_quadratico = smf.ols('y ~ x + np.square(x)', q2_dados).fit()\n",
    "q2_fit_modelo_quadratico.summary()"
   ]
  },
  {
   "cell_type": "markdown",
   "metadata": {},
   "source": [
    "Assim, temos um $R^2$ muito melhor e um AIC menor."
   ]
  },
  {
   "cell_type": "markdown",
   "metadata": {},
   "source": [
    "**d)** Seja $x = 1250$, aplicamos este valor nos depois modelos:"
   ]
  },
  {
   "cell_type": "code",
   "execution_count": 1159,
   "metadata": {},
   "outputs": [
    {
     "data": {
      "text/html": [
       "<div>\n",
       "<style scoped>\n",
       "    .dataframe tbody tr th:only-of-type {\n",
       "        vertical-align: middle;\n",
       "    }\n",
       "\n",
       "    .dataframe tbody tr th {\n",
       "        vertical-align: top;\n",
       "    }\n",
       "\n",
       "    .dataframe thead th {\n",
       "        text-align: right;\n",
       "    }\n",
       "</style>\n",
       "<table border=\"1\" class=\"dataframe\">\n",
       "  <thead>\n",
       "    <tr style=\"text-align: right;\">\n",
       "      <th></th>\n",
       "      <th>mean</th>\n",
       "      <th>mean_se</th>\n",
       "      <th>mean_ci_lower</th>\n",
       "      <th>mean_ci_upper</th>\n",
       "      <th>obs_ci_lower</th>\n",
       "      <th>obs_ci_upper</th>\n",
       "    </tr>\n",
       "  </thead>\n",
       "  <tbody>\n",
       "    <tr>\n",
       "      <th>0</th>\n",
       "      <td>1383.667024</td>\n",
       "      <td>41.901352</td>\n",
       "      <td>1275.95617</td>\n",
       "      <td>1491.377879</td>\n",
       "      <td>1101.800204</td>\n",
       "      <td>1665.533844</td>\n",
       "    </tr>\n",
       "  </tbody>\n",
       "</table>\n",
       "</div>"
      ],
      "text/plain": [
       "          mean    mean_se  mean_ci_lower  mean_ci_upper  obs_ci_lower  \\\n",
       "0  1383.667024  41.901352     1275.95617    1491.377879   1101.800204   \n",
       "\n",
       "   obs_ci_upper  \n",
       "0   1665.533844  "
      ]
     },
     "execution_count": 1159,
     "metadata": {},
     "output_type": "execute_result"
    }
   ],
   "source": [
    "x_proposto = 1250\n",
    "y_predito_modelo_linear = q2_fit_modelo_linear.get_prediction(exog=dict(x=x_proposto))\n",
    "\n",
    "y_predito_modelo_linear.summary_frame()\n"
   ]
  },
  {
   "cell_type": "code",
   "execution_count": 1160,
   "metadata": {},
   "outputs": [
    {
     "data": {
      "text/html": [
       "<div>\n",
       "<style scoped>\n",
       "    .dataframe tbody tr th:only-of-type {\n",
       "        vertical-align: middle;\n",
       "    }\n",
       "\n",
       "    .dataframe tbody tr th {\n",
       "        vertical-align: top;\n",
       "    }\n",
       "\n",
       "    .dataframe thead th {\n",
       "        text-align: right;\n",
       "    }\n",
       "</style>\n",
       "<table border=\"1\" class=\"dataframe\">\n",
       "  <thead>\n",
       "    <tr style=\"text-align: right;\">\n",
       "      <th></th>\n",
       "      <th>mean</th>\n",
       "      <th>mean_se</th>\n",
       "      <th>mean_ci_lower</th>\n",
       "      <th>mean_ci_upper</th>\n",
       "      <th>obs_ci_lower</th>\n",
       "      <th>obs_ci_upper</th>\n",
       "    </tr>\n",
       "  </thead>\n",
       "  <tbody>\n",
       "    <tr>\n",
       "      <th>0</th>\n",
       "      <td>1449.470161</td>\n",
       "      <td>28.639638</td>\n",
       "      <td>1369.953778</td>\n",
       "      <td>1528.986544</td>\n",
       "      <td>1279.517415</td>\n",
       "      <td>1619.422907</td>\n",
       "    </tr>\n",
       "  </tbody>\n",
       "</table>\n",
       "</div>"
      ],
      "text/plain": [
       "          mean    mean_se  mean_ci_lower  mean_ci_upper  obs_ci_lower  \\\n",
       "0  1449.470161  28.639638    1369.953778    1528.986544   1279.517415   \n",
       "\n",
       "   obs_ci_upper  \n",
       "0   1619.422907  "
      ]
     },
     "execution_count": 1160,
     "metadata": {},
     "output_type": "execute_result"
    }
   ],
   "source": [
    "y_predito_modelo_quadratico = q2_fit_modelo_quadratico.get_prediction(\n",
    "    exog=dict(x=x_proposto)\n",
    ")\n",
    "\n",
    "y_predito_modelo_quadratico.summary_frame()\n"
   ]
  },
  {
   "cell_type": "markdown",
   "metadata": {},
   "source": [
    "Comparando os intervalos, vemos que os modelos apresentaram intervalos que se quase se sobrepõem. Nota-se entretanto que o modelo quadrático apresentou um erro padrão menor."
   ]
  },
  {
   "cell_type": "markdown",
   "metadata": {},
   "source": [
    "```{admonition} Questão 3\n",
    "\n",
    "Os dados da Tabela foram obtidos como parte de um experimento para determinar os efeitos da temperatura e do tempo de armazenamento na perda de ácido ascórbico em feijão-vagem. Os grãos foram todos colhidos em condições uniformes numa Estação Agrícola antes das oito horas da manhã. Eles foram preparados e congelados antes do meio-dia do mesmo dia. Três pacotes foram atribuídos aleatoriamente a cada combinação de temperatura em graus Fahrenheit (oF) e tempo de armazenamento, em semanas. A soma das três determinações de ácido ascórbico é mostrada na Tabela.\n",
    "\n",
    "| Temperatura oF |  2  |  4  |  6  |  8  | Total |\n",
    "|:--------------:|:---:|:---:|:---:|:---:|:-----:|\n",
    "| 0              |  45 |  47 |  46 |  46 | 184   |\n",
    "| 10             |  45 |  43 |  41 |  37 | 166   |\n",
    "| 20             |  34 |  28 |  21 |  16 |  99   |\n",
    "| Total          | 124 | 118 | 108 |  99 | 449   |\n",
    "\n",
    "\n",
    "Suponha, para o propósito de construção do modelo, que a concentração de ácido ascórbico decaia exponencialmente rápido, com uma taxa de decaimento que depende da temperatura. Em outras palavras, para uma dada temperatura de armazenamento T, a concentração esperada após o tempo t (medida em semanas) é $\\mu = E(T) = exp(\\alpha - \\beta_Tt)$ \n",
    "\n",
    "A concentração inicial, $exp(\\alpha)$, é assumida neste modelo como independente da temperatura de armazenamento. Expresse a teoria acima como um modelo linear generalizado, tratando a temperatura como um fator e o tempo de armazenamento como uma variável.\n",
    "\n",
    "O modelo acima é incomum porque contém uma interação entre o tempo e a temperatura, mas nenhum efeito principal da temperatura. Por design, as concentrações são iguais no tempo zero.\n",
    "\n",
    "Estime os tempos necessários em cada uma das três temperaturas para que a concentração\n",
    "de ácido ascórbico seja reduzida a 50% de seu valor original. Considere cuidadosamente como você pode construir intervalos de confiança para esta meia-vida.\n",
    "\n",
    "```"
   ]
  },
  {
   "cell_type": "code",
   "execution_count": 1161,
   "metadata": {},
   "outputs": [
    {
     "data": {
      "text/plain": [
       "0     45\n",
       "1     45\n",
       "2     34\n",
       "3     47\n",
       "4     43\n",
       "5     28\n",
       "6     46\n",
       "7     41\n",
       "8     21\n",
       "9     46\n",
       "10    37\n",
       "11    16\n",
       "Name: acido, dtype: int64"
      ]
     },
     "execution_count": 1161,
     "metadata": {},
     "output_type": "execute_result"
    }
   ],
   "source": [
    "q3_dados = pd.DataFrame(\n",
    "    {\n",
    "        \"semanas\": np.repeat([2, 4, 6, 8], 3),\n",
    "        \"temperatura\": np.tile([0, 10, 20], 4),\n",
    "        \"acido\": [45, 45, 34, 47, 43, 28, 46, 41, 21, 46, 37, 16],\n",
    "    }\n",
    ")\n",
    "\n",
    "q3_dados['acido']"
   ]
  },
  {
   "cell_type": "code",
   "execution_count": 1162,
   "metadata": {},
   "outputs": [
    {
     "data": {
      "text/html": [
       "<table class=\"simpletable\">\n",
       "<tr>\n",
       "        <td>Model:</td>               <td>GLM</td>            <td>AIC:</td>         <td>37.1235</td> \n",
       "</tr>\n",
       "<tr>\n",
       "    <td>Link Function:</td>           <td>log</td>            <td>BIC:</td>        <td>-19.8791</td> \n",
       "</tr>\n",
       "<tr>\n",
       "  <td>Dependent Variable:</td>       <td>acido</td>      <td>Log-Likelihood:</td>   <td>-14.562</td> \n",
       "</tr>\n",
       "<tr>\n",
       "         <td>Date:</td>        <td>2022-04-04 22:51</td>    <td>LL-Null:</td>       <td>-959.71</td> \n",
       "</tr>\n",
       "<tr>\n",
       "   <td>No. Observations:</td>         <td>12</td>           <td>Deviance:</td>    <td>0.00016432</td>\n",
       "</tr>\n",
       "<tr>\n",
       "       <td>Df Model:</td>              <td>3</td>         <td>Pearson chi2:</td>   <td>0.000162</td> \n",
       "</tr>\n",
       "<tr>\n",
       "     <td>Df Residuals:</td>            <td>8</td>            <td>Scale:</td>      <td>2.0230e-05</td>\n",
       "</tr>\n",
       "<tr>\n",
       "        <td>Method:</td>             <td>IRLS</td>              <td></td>              <td></td>     \n",
       "</tr>\n",
       "</table>\n",
       "<table class=\"simpletable\">\n",
       "<tr>\n",
       "               <td></td>               <th>Coef.</th>  <th>Std.Err.</th>     <th>z</th>     <th>P>|z|</th> <th>[0.025</th>  <th>0.975]</th> \n",
       "</tr>\n",
       "<tr>\n",
       "  <th>Intercept</th>                  <td>3.8372</td>   <td>0.0196</td>  <td>195.4629</td> <td>0.0000</td> <td>3.7987</td>  <td>3.8757</td> \n",
       "</tr>\n",
       "<tr>\n",
       "  <th>semanas:C(temperatura)[0]</th>  <td>-0.0011</td>  <td>0.0043</td>   <td>-0.2479</td> <td>0.8042</td> <td>-0.0095</td> <td>0.0074</td> \n",
       "</tr>\n",
       "<tr>\n",
       "  <th>semanas:C(temperatura)[10]</th> <td>-0.0244</td>  <td>0.0041</td>   <td>-5.9208</td> <td>0.0000</td> <td>-0.0325</td> <td>-0.0163</td>\n",
       "</tr>\n",
       "<tr>\n",
       "  <th>semanas:C(temperatura)[20]</th> <td>-0.1326</td>  <td>0.0035</td>  <td>-37.7597</td> <td>0.0000</td> <td>-0.1395</td> <td>-0.1257</td>\n",
       "</tr>\n",
       "</table>"
      ],
      "text/plain": [
       "<class 'statsmodels.iolib.summary2.Summary'>\n",
       "\"\"\"\n",
       "                     Results: Generalized linear model\n",
       "===========================================================================\n",
       "Model:                  GLM                  AIC:                37.1235   \n",
       "Link Function:          log                  BIC:                -19.8791  \n",
       "Dependent Variable:     acido                Log-Likelihood:     -14.562   \n",
       "Date:                   2022-04-04 22:51     LL-Null:            -959.71   \n",
       "No. Observations:       12                   Deviance:           0.00016432\n",
       "Df Model:               3                    Pearson chi2:       0.000162  \n",
       "Df Residuals:           8                    Scale:              2.0230e-05\n",
       "Method:                 IRLS                                               \n",
       "---------------------------------------------------------------------------\n",
       "                            Coef.  Std.Err.    z     P>|z|   [0.025  0.975]\n",
       "---------------------------------------------------------------------------\n",
       "Intercept                   3.8372   0.0196 195.4629 0.0000  3.7987  3.8757\n",
       "semanas:C(temperatura)[0]  -0.0011   0.0043  -0.2479 0.8042 -0.0095  0.0074\n",
       "semanas:C(temperatura)[10] -0.0244   0.0041  -5.9208 0.0000 -0.0325 -0.0163\n",
       "semanas:C(temperatura)[20] -0.1326   0.0035 -37.7597 0.0000 -0.1395 -0.1257\n",
       "===========================================================================\n",
       "\n",
       "\"\"\""
      ]
     },
     "execution_count": 1162,
     "metadata": {},
     "output_type": "execute_result"
    }
   ],
   "source": [
    "import statsmodels.api as sm\n",
    "\n",
    "fn_ligacao_log = sm.families.links.log()\n",
    "\n",
    "q3_modelo_inv_gaussiana = smf.glm(\n",
    "    \"acido ~ semanas:C(temperatura)\",\n",
    "    q3_dados,\n",
    "    family=sm.families.InverseGaussian(fn_ligacao_log),\n",
    ")\n",
    "\n",
    "q3_modelo_binomial = smf.glm(\n",
    "    \"acido ~ 1 + semanas:C(temperatura)\",\n",
    "    q3_dados,\n",
    "    family=sm.families.Binomial(fn_ligacao_log),\n",
    ")\n",
    "\n",
    "q3_ajuste_inv_gaussiana = q3_modelo_inv_gaussiana.fit()\n",
    "\n",
    "q3_ajuste_inv_gaussiana.summary2()"
   ]
  },
  {
   "cell_type": "code",
   "execution_count": 1163,
   "metadata": {},
   "outputs": [
    {
     "data": {
      "text/html": [
       "<table class=\"simpletable\">\n",
       "<tr>\n",
       "        <td>Model:</td>               <td>GLM</td>            <td>AIC:</td>           <td>nan</td>   \n",
       "</tr>\n",
       "<tr>\n",
       "    <td>Link Function:</td>           <td>log</td>            <td>BIC:</td>        <td>-19.8856</td> \n",
       "</tr>\n",
       "<tr>\n",
       "  <td>Dependent Variable:</td>       <td>acido</td>      <td>Log-Likelihood:</td>     <td>nan</td>   \n",
       "</tr>\n",
       "<tr>\n",
       "         <td>Date:</td>        <td>2022-04-04 22:51</td>    <td>LL-Null:</td>         <td>nan</td>   \n",
       "</tr>\n",
       "<tr>\n",
       "   <td>No. Observations:</td>         <td>12</td>           <td>Deviance:</td>    <td>-0.0063473</td>\n",
       "</tr>\n",
       "<tr>\n",
       "       <td>Df Model:</td>              <td>3</td>         <td>Pearson chi2:</td>   <td>4.05e+16</td> \n",
       "</tr>\n",
       "<tr>\n",
       "     <td>Df Residuals:</td>            <td>8</td>            <td>Scale:</td>        <td>1.0000</td>  \n",
       "</tr>\n",
       "<tr>\n",
       "        <td>Method:</td>             <td>IRLS</td>              <td></td>              <td></td>     \n",
       "</tr>\n",
       "</table>\n",
       "<table class=\"simpletable\">\n",
       "<tr>\n",
       "               <td></td>               <th>Coef.</th>  <th>Std.Err.</th>         <th>z</th>         <th>P>|z|</th> <th>[0.025</th>  <th>0.975]</th> \n",
       "</tr>\n",
       "<tr>\n",
       "  <th>Intercept</th>                  <td>3.8354</td>   <td>0.0000</td>  <td>14639431613.3852</td> <td>0.0000</td> <td>3.8354</td>  <td>3.8354</td> \n",
       "</tr>\n",
       "<tr>\n",
       "  <th>semanas:C(temperatura)[0]</th>  <td>-0.0008</td>  <td>0.0000</td>   <td>-14628269.8340</td>  <td>0.0000</td> <td>-0.0008</td> <td>-0.0008</td>\n",
       "</tr>\n",
       "<tr>\n",
       "  <th>semanas:C(temperatura)[10]</th> <td>-0.0236</td>  <td>0.0000</td>   <td>-416471753.1812</td> <td>0.0000</td> <td>-0.0236</td> <td>-0.0236</td>\n",
       "</tr>\n",
       "<tr>\n",
       "  <th>semanas:C(temperatura)[20]</th> <td>-0.1330</td>  <td>0.0000</td>  <td>-1536468093.6481</td> <td>0.0000</td> <td>-0.1330</td> <td>-0.1330</td>\n",
       "</tr>\n",
       "</table>"
      ],
      "text/plain": [
       "<class 'statsmodels.iolib.summary2.Summary'>\n",
       "\"\"\"\n",
       "                         Results: Generalized linear model\n",
       "===================================================================================\n",
       "Model:                      GLM                    AIC:                  nan       \n",
       "Link Function:              log                    BIC:                  -19.8856  \n",
       "Dependent Variable:         acido                  Log-Likelihood:       nan       \n",
       "Date:                       2022-04-04 22:51       LL-Null:              nan       \n",
       "No. Observations:           12                     Deviance:             -0.0063473\n",
       "Df Model:                   3                      Pearson chi2:         4.05e+16  \n",
       "Df Residuals:               8                      Scale:                1.0000    \n",
       "Method:                     IRLS                                                   \n",
       "-----------------------------------------------------------------------------------\n",
       "                            Coef.  Std.Err.        z         P>|z|   [0.025  0.975]\n",
       "-----------------------------------------------------------------------------------\n",
       "Intercept                   3.8354   0.0000 14639431613.3852 0.0000  3.8354  3.8354\n",
       "semanas:C(temperatura)[0]  -0.0008   0.0000   -14628269.8340 0.0000 -0.0008 -0.0008\n",
       "semanas:C(temperatura)[10] -0.0236   0.0000  -416471753.1812 0.0000 -0.0236 -0.0236\n",
       "semanas:C(temperatura)[20] -0.1330   0.0000 -1536468093.6481 0.0000 -0.1330 -0.1330\n",
       "===================================================================================\n",
       "\n",
       "\"\"\""
      ]
     },
     "execution_count": 1163,
     "metadata": {},
     "output_type": "execute_result"
    }
   ],
   "source": [
    "q3_ajuste_binomial = q3_modelo_binomial.fit()\n",
    "q3_ajuste_binomial.summary2()"
   ]
  },
  {
   "cell_type": "markdown",
   "metadata": {},
   "source": [
    "Considerando o bom AIC e menor deviance, o modelo escolhido é o modelo utilizando InverseGaussian"
   ]
  },
  {
   "cell_type": "code",
   "execution_count": 1164,
   "metadata": {},
   "outputs": [
    {
     "data": {
      "text/html": [
       "<div>\n",
       "<style scoped>\n",
       "    .dataframe tbody tr th:only-of-type {\n",
       "        vertical-align: middle;\n",
       "    }\n",
       "\n",
       "    .dataframe tbody tr th {\n",
       "        vertical-align: top;\n",
       "    }\n",
       "\n",
       "    .dataframe thead th {\n",
       "        text-align: right;\n",
       "    }\n",
       "</style>\n",
       "<table border=\"1\" class=\"dataframe\">\n",
       "  <thead>\n",
       "    <tr style=\"text-align: right;\">\n",
       "      <th></th>\n",
       "      <th>semanas</th>\n",
       "      <th>temperatura</th>\n",
       "      <th>acido</th>\n",
       "      <th>valores ajustados</th>\n",
       "      <th>residuos</th>\n",
       "    </tr>\n",
       "  </thead>\n",
       "  <tbody>\n",
       "    <tr>\n",
       "      <th>0</th>\n",
       "      <td>2</td>\n",
       "      <td>0</td>\n",
       "      <td>45</td>\n",
       "      <td>46.297081</td>\n",
       "      <td>-1.297081</td>\n",
       "    </tr>\n",
       "    <tr>\n",
       "      <th>1</th>\n",
       "      <td>2</td>\n",
       "      <td>10</td>\n",
       "      <td>45</td>\n",
       "      <td>44.184238</td>\n",
       "      <td>0.815762</td>\n",
       "    </tr>\n",
       "    <tr>\n",
       "      <th>2</th>\n",
       "      <td>2</td>\n",
       "      <td>20</td>\n",
       "      <td>34</td>\n",
       "      <td>35.590208</td>\n",
       "      <td>-1.590208</td>\n",
       "    </tr>\n",
       "    <tr>\n",
       "      <th>3</th>\n",
       "      <td>4</td>\n",
       "      <td>0</td>\n",
       "      <td>47</td>\n",
       "      <td>46.198591</td>\n",
       "      <td>0.801409</td>\n",
       "    </tr>\n",
       "    <tr>\n",
       "      <th>4</th>\n",
       "      <td>4</td>\n",
       "      <td>10</td>\n",
       "      <td>43</td>\n",
       "      <td>42.078112</td>\n",
       "      <td>0.921888</td>\n",
       "    </tr>\n",
       "    <tr>\n",
       "      <th>5</th>\n",
       "      <td>4</td>\n",
       "      <td>20</td>\n",
       "      <td>28</td>\n",
       "      <td>27.301252</td>\n",
       "      <td>0.698748</td>\n",
       "    </tr>\n",
       "    <tr>\n",
       "      <th>6</th>\n",
       "      <td>6</td>\n",
       "      <td>0</td>\n",
       "      <td>46</td>\n",
       "      <td>46.100311</td>\n",
       "      <td>-0.100311</td>\n",
       "    </tr>\n",
       "    <tr>\n",
       "      <th>7</th>\n",
       "      <td>6</td>\n",
       "      <td>10</td>\n",
       "      <td>41</td>\n",
       "      <td>40.072379</td>\n",
       "      <td>0.927621</td>\n",
       "    </tr>\n",
       "    <tr>\n",
       "      <th>8</th>\n",
       "      <td>6</td>\n",
       "      <td>20</td>\n",
       "      <td>21</td>\n",
       "      <td>20.942793</td>\n",
       "      <td>0.057207</td>\n",
       "    </tr>\n",
       "    <tr>\n",
       "      <th>9</th>\n",
       "      <td>8</td>\n",
       "      <td>0</td>\n",
       "      <td>46</td>\n",
       "      <td>46.002239</td>\n",
       "      <td>-0.002239</td>\n",
       "    </tr>\n",
       "    <tr>\n",
       "      <th>10</th>\n",
       "      <td>8</td>\n",
       "      <td>10</td>\n",
       "      <td>37</td>\n",
       "      <td>38.162253</td>\n",
       "      <td>-1.162253</td>\n",
       "    </tr>\n",
       "    <tr>\n",
       "      <th>11</th>\n",
       "      <td>8</td>\n",
       "      <td>20</td>\n",
       "      <td>16</td>\n",
       "      <td>16.065219</td>\n",
       "      <td>-0.065219</td>\n",
       "    </tr>\n",
       "  </tbody>\n",
       "</table>\n",
       "</div>"
      ],
      "text/plain": [
       "    semanas  temperatura  acido  valores ajustados  residuos\n",
       "0         2            0     45          46.297081 -1.297081\n",
       "1         2           10     45          44.184238  0.815762\n",
       "2         2           20     34          35.590208 -1.590208\n",
       "3         4            0     47          46.198591  0.801409\n",
       "4         4           10     43          42.078112  0.921888\n",
       "5         4           20     28          27.301252  0.698748\n",
       "6         6            0     46          46.100311 -0.100311\n",
       "7         6           10     41          40.072379  0.927621\n",
       "8         6           20     21          20.942793  0.057207\n",
       "9         8            0     46          46.002239 -0.002239\n",
       "10        8           10     37          38.162253 -1.162253\n",
       "11        8           20     16          16.065219 -0.065219"
      ]
     },
     "execution_count": 1164,
     "metadata": {},
     "output_type": "execute_result"
    }
   ],
   "source": [
    "q3_ajuste = q3_ajuste_inv_gaussiana\n",
    "q3_dados['valores ajustados'] = q3_ajuste.fittedvalues\n",
    "q3_dados['residuos'] = q3_ajuste.resid_response\n",
    "\n",
    "q3_dados"
   ]
  },
  {
   "cell_type": "code",
   "execution_count": 1165,
   "metadata": {},
   "outputs": [
    {
     "data": {
      "text/html": [
       "<div>\n",
       "<style scoped>\n",
       "    .dataframe tbody tr th:only-of-type {\n",
       "        vertical-align: middle;\n",
       "    }\n",
       "\n",
       "    .dataframe tbody tr th {\n",
       "        vertical-align: top;\n",
       "    }\n",
       "\n",
       "    .dataframe thead th {\n",
       "        text-align: right;\n",
       "    }\n",
       "</style>\n",
       "<table border=\"1\" class=\"dataframe\">\n",
       "  <thead>\n",
       "    <tr style=\"text-align: right;\">\n",
       "      <th></th>\n",
       "      <th>mean</th>\n",
       "      <th>mean_se</th>\n",
       "      <th>mean_ci_lower</th>\n",
       "      <th>mean_ci_upper</th>\n",
       "    </tr>\n",
       "  </thead>\n",
       "  <tbody>\n",
       "    <tr>\n",
       "      <th>0</th>\n",
       "      <td>50.0</td>\n",
       "      <td>15.852209</td>\n",
       "      <td>26.859722</td>\n",
       "      <td>93.076169</td>\n",
       "    </tr>\n",
       "  </tbody>\n",
       "</table>\n",
       "</div>"
      ],
      "text/plain": [
       "   mean    mean_se  mean_ci_lower  mean_ci_upper\n",
       "0  50.0  15.852209      26.859722      93.076169"
      ]
     },
     "execution_count": 1165,
     "metadata": {},
     "output_type": "execute_result"
    }
   ],
   "source": [
    "ic_50_temp_0 = q3_ajuste.get_prediction(exog=dict(semanas=-70.2611, temperatura=0))\n",
    "ic_50_temp_0.summary_frame()"
   ]
  },
  {
   "cell_type": "code",
   "execution_count": 1166,
   "metadata": {},
   "outputs": [
    {
     "data": {
      "text/html": [
       "<div>\n",
       "<style scoped>\n",
       "    .dataframe tbody tr th:only-of-type {\n",
       "        vertical-align: middle;\n",
       "    }\n",
       "\n",
       "    .dataframe tbody tr th {\n",
       "        vertical-align: top;\n",
       "    }\n",
       "\n",
       "    .dataframe thead th {\n",
       "        text-align: right;\n",
       "    }\n",
       "</style>\n",
       "<table border=\"1\" class=\"dataframe\">\n",
       "  <thead>\n",
       "    <tr style=\"text-align: right;\">\n",
       "      <th></th>\n",
       "      <th>mean</th>\n",
       "      <th>mean_se</th>\n",
       "      <th>mean_ci_lower</th>\n",
       "      <th>mean_ci_upper</th>\n",
       "    </tr>\n",
       "  </thead>\n",
       "  <tbody>\n",
       "    <tr>\n",
       "      <th>0</th>\n",
       "      <td>50.0</td>\n",
       "      <td>1.526768</td>\n",
       "      <td>47.095375</td>\n",
       "      <td>53.083769</td>\n",
       "    </tr>\n",
       "  </tbody>\n",
       "</table>\n",
       "</div>"
      ],
      "text/plain": [
       "   mean   mean_se  mean_ci_lower  mean_ci_upper\n",
       "0  50.0  1.526768      47.095375      53.083769"
      ]
     },
     "execution_count": 1166,
     "metadata": {},
     "output_type": "execute_result"
    }
   ],
   "source": [
    "ic_50_temp_10 = q3_ajuste.get_prediction(exog=dict(semanas=-3.06363, temperatura=10))\n",
    "ic_50_temp_10.summary_frame()"
   ]
  },
  {
   "cell_type": "code",
   "execution_count": 1167,
   "metadata": {},
   "outputs": [
    {
     "data": {
      "text/html": [
       "<div>\n",
       "<style scoped>\n",
       "    .dataframe tbody tr th:only-of-type {\n",
       "        vertical-align: middle;\n",
       "    }\n",
       "\n",
       "    .dataframe tbody tr th {\n",
       "        vertical-align: top;\n",
       "    }\n",
       "\n",
       "    .dataframe thead th {\n",
       "        text-align: right;\n",
       "    }\n",
       "</style>\n",
       "<table border=\"1\" class=\"dataframe\">\n",
       "  <thead>\n",
       "    <tr style=\"text-align: right;\">\n",
       "      <th></th>\n",
       "      <th>mean</th>\n",
       "      <th>mean_se</th>\n",
       "      <th>mean_ci_lower</th>\n",
       "      <th>mean_ci_upper</th>\n",
       "    </tr>\n",
       "  </thead>\n",
       "  <tbody>\n",
       "    <tr>\n",
       "      <th>0</th>\n",
       "      <td>50.0</td>\n",
       "      <td>1.068176</td>\n",
       "      <td>47.94964</td>\n",
       "      <td>52.138034</td>\n",
       "    </tr>\n",
       "  </tbody>\n",
       "</table>\n",
       "</div>"
      ],
      "text/plain": [
       "   mean   mean_se  mean_ci_lower  mean_ci_upper\n",
       "0  50.0  1.068176       47.94964      52.138034"
      ]
     },
     "execution_count": 1167,
     "metadata": {},
     "output_type": "execute_result"
    }
   ],
   "source": [
    "ic_50_temp_20 = q3_ajuste.get_prediction(exog=dict(semanas=-0.5643437, temperatura=20))\n",
    "ic_50_temp_20.summary_frame()"
   ]
  }
 ],
 "metadata": {
  "interpreter": {
   "hash": "72b0bf3133a604a4d451aee3766310d35bbeb619e39a38225d6544be89c49642"
  },
  "kernelspec": {
   "display_name": "Python 3.10.2 ('venv': venv)",
   "language": "python",
   "name": "python3"
  },
  "language_info": {
   "codemirror_mode": {
    "name": "ipython",
    "version": 3
   },
   "file_extension": ".py",
   "mimetype": "text/x-python",
   "name": "python",
   "nbconvert_exporter": "python",
   "pygments_lexer": "ipython3",
   "version": "3.10.2"
  },
  "orig_nbformat": 4
 },
 "nbformat": 4,
 "nbformat_minor": 2
}
