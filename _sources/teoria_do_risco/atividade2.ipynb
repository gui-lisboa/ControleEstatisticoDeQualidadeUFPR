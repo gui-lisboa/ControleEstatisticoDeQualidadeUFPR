{
 "cells": [
  {
   "cell_type": "markdown",
   "metadata": {},
   "source": [
    "# Atividade 2\n",
    "\n",
    "```{admonition} Prazo\n",
    "\n",
    "A lista é individual e deverá ser entregue até o dia 29/11/21, em editor de texto. Os trabalhos deverão ser entregues em ary.sabbag@ufpr.br\n",
    "```"
   ]
  },
  {
   "cell_type": "markdown",
   "metadata": {},
   "source": [
    "## **I-** Considere que se deseja estabelecer a tarifa de um plano de seguros que cobre consultas médicas. O número de consultas médicas de cada segurado por ano segue uma distribuição de Poisson com parâmetro 3 e o custo de cada consulta é igual a R$ 100,00. O plano de seguro está sendo prospectado para uma carteira com 10.000 segurados. No estabelecimento do prêmio tem-se como condição uma probabilidade de ruína igual a 0,025 e os carregamentos comerciais dados por:\n",
    "\n",
    "Despesa administrativa – 10%;\n",
    "\n",
    "Comissão de corretagem - 20%\n",
    "\n",
    "Margem de lucro – 10%.\n",
    "\n",
    "Com base nestas informações resolva as questões abaixo:"
   ]
  },
  {
   "cell_type": "code",
   "execution_count": 28,
   "metadata": {},
   "outputs": [],
   "source": [
    "# Dados retirados do enunciado\n",
    "parametro_poisson = 3\n",
    "custo_consulta = 100\n",
    "numero_segurados = 10000\n",
    "prob_ruina = .025\n",
    "despesas_administrativas = .1\n",
    "comissao_corretagem = .2\n",
    "margem_lucro = .1"
   ]
  },
  {
   "cell_type": "markdown",
   "metadata": {},
   "source": [
    "### 1. Determine o número esperado de consultas por ano na carteira\n",
    "\n",
    "O número de consultas $Y$ por ano na carteira é dado pela soma das consultas dos segurados $X_{i}$:\n",
    "\n",
    "$$\n",
    "Y = \\sum^{N}_{i=1} X_{i}\n",
    "$$\n",
    "\n",
    "Como $X_{i}$ segue uma Poisson($\\theta$), Y segue uma Poisson($N\\theta$). Logo, $E[Y] = N\\theta$:"
   ]
  },
  {
   "cell_type": "code",
   "execution_count": 29,
   "metadata": {},
   "outputs": [
    {
     "data": {
      "text/latex": [
       "E[Y] = 30000"
      ],
      "text/plain": [
       "<IPython.core.display.Latex object>"
      ]
     },
     "metadata": {},
     "output_type": "display_data"
    }
   ],
   "source": [
    "from IPython.display import display, Latex\n",
    "\n",
    "esperanca_Y = numero_segurados * parametro_poisson\n",
    "\n",
    "display(Latex(f'E[Y] = {esperanca_Y}'))"
   ]
  },
  {
   "cell_type": "markdown",
   "metadata": {},
   "source": [
    "### 2. Qual a probabilidade de um segurado ter nenhuma consulta no período de 1 ano\n",
    "\n",
    "A probabilidade de um segurado não ter nenhuma consulta é dado por $P[X=0]$ onde X segue uma distribuição Poisson(3)"
   ]
  },
  {
   "cell_type": "code",
   "execution_count": 30,
   "metadata": {},
   "outputs": [
    {
     "data": {
      "text/latex": [
       "P[X=0] = 0.049787068367863944"
      ],
      "text/plain": [
       "<IPython.core.display.Latex object>"
      ]
     },
     "metadata": {},
     "output_type": "display_data"
    }
   ],
   "source": [
    "from scipy import stats\n",
    "\n",
    "prob_segurado_zero_consultas = stats.poisson.pmf(0, parametro_poisson)\n",
    "\n",
    "display(Latex(f'P[X=0] = {prob_segurado_zero_consultas}'))"
   ]
  },
  {
   "cell_type": "markdown",
   "metadata": {},
   "source": [
    "### 3. Qual o número esperado de segurados com nenhuma consulta no período de 1 ano\n",
    "\n",
    "Como mostrado no ítem 1, o número esperado de consultas é o resultado do produto entre o número de segurados (N) e o valor esperado de $X_{i}$. Utilizando a probabilidade de P[X=0] do ítem 2, temos que o número esperado de segurados com nenhuma consulta é dado $N*P[X=0]$:"
   ]
  },
  {
   "cell_type": "code",
   "execution_count": 31,
   "metadata": {},
   "outputs": [
    {
     "data": {
      "text/latex": [
       "Y_{X_{i} = 0} = 497.87068367863947"
      ],
      "text/plain": [
       "<IPython.core.display.Latex object>"
      ]
     },
     "metadata": {},
     "output_type": "display_data"
    }
   ],
   "source": [
    "numero_segurados_zero_consultas = numero_segurados * prob_segurado_zero_consultas\n",
    "\n",
    "display(Latex(f'Y_{{X_{{i}} = 0}} = {numero_segurados_zero_consultas}'))"
   ]
  },
  {
   "cell_type": "markdown",
   "metadata": {},
   "source": [
    "### 4. Qual o prêmio de risco da carteira?\n",
    "\n",
    "O prêmio de risco P da carteira é dado por:\n",
    "\n",
    "$$\n",
    "P = E[cX_{1} + cX_{2} + cX_{3} ... cX_{N}] = cE[Y] = cN\\theta\n",
    "$$"
   ]
  },
  {
   "cell_type": "code",
   "execution_count": 32,
   "metadata": {},
   "outputs": [
    {
     "data": {
      "text/latex": [
       "P = R\\$ 3000000"
      ],
      "text/plain": [
       "<IPython.core.display.Latex object>"
      ]
     },
     "metadata": {},
     "output_type": "display_data"
    }
   ],
   "source": [
    "premio_de_risco = custo_consulta * numero_segurados * parametro_poisson\n",
    "\n",
    "display(Latex(f'P = R\\$ {premio_de_risco}'))"
   ]
  },
  {
   "cell_type": "markdown",
   "metadata": {},
   "source": [
    "### 5. Considerando a probabilidade de ruína adotada qual o prêmio de puro da carteira, dado que não se use capital de garantia?\n",
    "\n",
    "O prêmio puro PP da carteira é dado por:\n",
    "\n",
    "$$\n",
    "PP = (1 + \\lambda)P\n",
    "$$\n",
    "\n",
    "O prêmio de risco P é conhecido (ítem 4) e a carga de segurança $\\lambda$ pode ser encontrada uma vez que sabemos probabilidade de ruína adotada e definido capital de garantia igual a zero.\n",
    "\n",
    "Utilizando o Teorema Central do Limite, temos:\n",
    "\n",
    "$$\n",
    "\\lambda = \\frac{-\\frac{U_{o}}{c} + Z_{\\epsilon}\\sqrt{N\\theta}}{N\\theta}\n",
    "$$"
   ]
  },
  {
   "cell_type": "code",
   "execution_count": 33,
   "metadata": {},
   "outputs": [
    {
     "data": {
      "text/latex": [
       "\\lambda = 0.011315857340761718"
      ],
      "text/plain": [
       "<IPython.core.display.Latex object>"
      ]
     },
     "metadata": {},
     "output_type": "display_data"
    }
   ],
   "source": [
    "import numpy as np\n",
    "\n",
    "Z_prob_ruina = stats.norm.ppf(1 - prob_ruina)\n",
    "capital_garantia = 0\n",
    "n_theta = numero_segurados * parametro_poisson\n",
    "\n",
    "carga_seguranca = (-capital_garantia/custo_consulta + Z_prob_ruina*(np.sqrt(n_theta)) )/ n_theta\n",
    "\n",
    "display(Latex(f'\\lambda = {carga_seguranca}'))"
   ]
  },
  {
   "cell_type": "markdown",
   "metadata": {},
   "source": [
    "Com a carga de segurança definida, podemos calcular o prêmio puro PP:"
   ]
  },
  {
   "cell_type": "code",
   "execution_count": 34,
   "metadata": {},
   "outputs": [
    {
     "data": {
      "text/latex": [
       "PP = R\\$ 3033947.57"
      ],
      "text/plain": [
       "<IPython.core.display.Latex object>"
      ]
     },
     "metadata": {},
     "output_type": "display_data"
    }
   ],
   "source": [
    "premio_puro = (1 + carga_seguranca)*premio_de_risco\n",
    "\n",
    "display(Latex(f'PP = R\\$ {premio_puro:.2f}'))"
   ]
  },
  {
   "cell_type": "markdown",
   "metadata": {},
   "source": [
    "### 6. Determine o prêmio comercial individual mensal\n",
    "\n",
    "Seja o prêmio comercial PC dado por:\n",
    "\n",
    "$$\n",
    "PC = \\frac{PP}{1-(DA + CC + L)}\n",
    "$$\n",
    "\n",
    "Temos que o prêmio comercial individual $PC_{i}$ é dado por:\n",
    "\n",
    "$$\n",
    "PC_{i} = PC/N\n",
    "$$\n",
    "\n",
    "Como os prêmios até aqui foram calculados para o período de 1 ano, o prêmio comercial individual mensal $PC_{i_{mensal}}$ é dado por:\n",
    "\n",
    "$$\n",
    "PC_{i_{mensal}} = PC_{i}/12\n",
    "$$"
   ]
  },
  {
   "cell_type": "code",
   "execution_count": 35,
   "metadata": {},
   "outputs": [
    {
     "data": {
      "text/latex": [
       "PC_{i_{mensal}} = R\\$ 42.14"
      ],
      "text/plain": [
       "<IPython.core.display.Latex object>"
      ]
     },
     "metadata": {},
     "output_type": "display_data"
    }
   ],
   "source": [
    "premio_comercial = premio_puro / (1 - (despesas_administrativas + comissao_corretagem + margem_lucro))\n",
    "\n",
    "premio_comercial_individual = premio_comercial / numero_segurados\n",
    "\n",
    "premio_comercial_individual_mensal = premio_comercial_individual / 12\n",
    "\n",
    "display(Latex(f'PC_{{i_{{mensal}}}} = R\\$ {premio_comercial_individual_mensal:.2f}'))"
   ]
  },
  {
   "cell_type": "markdown",
   "metadata": {},
   "source": [
    "### 7. Mantendo a probabilidade de ruína adotada, se for cobrado um prêmio comercial individual mensal igual a R$ 38,00 qual deve ser o capital de garantia a ser adotado?\n",
    "\n",
    "Revertendo os passos dos ítens anteriores, partindo do $PC_{i_{mensal}}$ do ítem 6 até a equação da carga de segurança $\\lambda$ do ítem 5, temos:\n",
    "\n",
    "$$\n",
    "PC_{i} = 12PC_{i_{mensal}} \\\\\n",
    "PC = NPC_{i} \\\\\n",
    "PP = (1 - (DA + CC + L))PC \\\\\n",
    "\\lambda = \\frac{PP - P}{P} \\\\\n",
    "U_{o} = c(Z_{\\epsilon}\\sqrt{N\\theta} - \\lambda N\\theta)\n",
    "$$"
   ]
  },
  {
   "cell_type": "code",
   "execution_count": 36,
   "metadata": {},
   "outputs": [
    {
     "data": {
      "text/latex": [
       "U_{o} = R\\$ 297947.57"
      ],
      "text/plain": [
       "<IPython.core.display.Latex object>"
      ]
     },
     "metadata": {},
     "output_type": "display_data"
    }
   ],
   "source": [
    "premio_comercial_individual_mensal = 38\n",
    "\n",
    "premio_comercial_individual = premio_comercial_individual_mensal * 12\n",
    "\n",
    "premio_comercial = premio_comercial_individual * numero_segurados\n",
    "\n",
    "premio_puro = (1 - (despesas_administrativas + comissao_corretagem + margem_lucro)) * premio_comercial\n",
    "\n",
    "carga_seguranca = (premio_puro - premio_de_risco)/premio_de_risco\n",
    "\n",
    "capital_garantia = custo_consulta * (Z_prob_ruina * np.sqrt(n_theta) - carga_seguranca * n_theta)\n",
    "\n",
    "display(Latex(f'U_{{o}} = R\\$ {capital_garantia:.2f}'))"
   ]
  },
  {
   "cell_type": "markdown",
   "metadata": {},
   "source": [
    "### 8. Se for adotado um capital de garantia igual a R\\$ 250.000,00 e se for cobrado um prêmio comercial individual mensal igual a R\\$ 38,00 qual será a probabilidade de ruína que a seguradora estará incorrendo?\n",
    "\n",
    "Utilizando o resultado do ítem anterior que também teve como base um $PC_{i_{mensal}} = R\\$ 38,00$ e aplicando o capital de garantia de R\\$ 250.000,00, descobrimos o valor de $Z_{\\epsilon}$:\n",
    "\n",
    "$$\n",
    "Z_{\\epsilon} = \\frac{\\frac{U_{o}}{c} + \\lambda N\\theta}{\\sqrt{N\\theta}}\n",
    "$$"
   ]
  },
  {
   "cell_type": "code",
   "execution_count": 37,
   "metadata": {},
   "outputs": [
    {
     "data": {
      "text/latex": [
       "Z_{\\epsilon} = 0.8082903768654761"
      ],
      "text/plain": [
       "<IPython.core.display.Latex object>"
      ]
     },
     "metadata": {},
     "output_type": "display_data"
    }
   ],
   "source": [
    "capital_garantia = 250000\n",
    "\n",
    "Z_prob_ruina = abs(((capital_garantia/custo_consulta) + carga_seguranca*n_theta)/np.sqrt(n_theta))\n",
    "\n",
    "display(Latex(f'Z_{{\\epsilon}} = {Z_prob_ruina}'))"
   ]
  },
  {
   "cell_type": "markdown",
   "metadata": {},
   "source": [
    "Econtrado o $Z_{\\epsilon}$, podemos consultar qual a probabilidade de $P[Z \\gt z_{\\epsilon}]$ correspondente:"
   ]
  },
  {
   "cell_type": "code",
   "execution_count": 38,
   "metadata": {},
   "outputs": [
    {
     "data": {
      "text/latex": [
       "\\epsilon = 0.20946172047319145"
      ],
      "text/plain": [
       "<IPython.core.display.Latex object>"
      ]
     },
     "metadata": {},
     "output_type": "display_data"
    }
   ],
   "source": [
    "prob_ruina = 1 - stats.norm.cdf(Z_prob_ruina)\n",
    "\n",
    "display(Latex(f'\\epsilon = {prob_ruina}'))"
   ]
  },
  {
   "cell_type": "markdown",
   "metadata": {},
   "source": [
    "### 9. Se for adotado um capital de garantia igual a R\\$ 250.000,00 e se for cobrado um prêmio comercial individual mensal igual a R\\$ 38,00 qual deverá ser a comissão de corretagem a ser adotada se for desejada a probabilidade de ruína de 0,025?\n",
    "\n",
    "Para encontrar a comissão de corretagem CC, devemos primeiramente recalcular a carga de segurança a fim de encontrar o novo prêmio puro que por sua vez, nos permitirá calcular o novo prêmio comercial:\n",
    "\n",
    "$$\n",
    "\\lambda = \\frac{-\\frac{U_{o}}{c} + Z_{\\epsilon}\\sqrt{N\\theta}}{N\\theta}\n",
    "$$"
   ]
  },
  {
   "cell_type": "code",
   "execution_count": 39,
   "metadata": {},
   "outputs": [
    {
     "data": {
      "text/latex": [
       "\\lambda = -0.07201747599257162"
      ],
      "text/plain": [
       "<IPython.core.display.Latex object>"
      ]
     },
     "metadata": {},
     "output_type": "display_data"
    }
   ],
   "source": [
    "prob_ruina = .025\n",
    "capital_garantia = 250000\n",
    "\n",
    "Z_prob_ruina = stats.norm.ppf(1 - prob_ruina)\n",
    "n_theta = numero_segurados * parametro_poisson\n",
    "\n",
    "carga_seguranca = (-capital_garantia/custo_consulta + Z_prob_ruina*(np.sqrt(n_theta)) )/ n_theta\n",
    "\n",
    "display(Latex(f'\\lambda = {carga_seguranca}'))"
   ]
  },
  {
   "cell_type": "markdown",
   "metadata": {},
   "source": [
    "Aplicando a carga de segurança, temos:"
   ]
  },
  {
   "cell_type": "code",
   "execution_count": 40,
   "metadata": {},
   "outputs": [
    {
     "data": {
      "text/latex": [
       "PP = R\\$ 2783947.5720222853"
      ],
      "text/plain": [
       "<IPython.core.display.Latex object>"
      ]
     },
     "metadata": {},
     "output_type": "display_data"
    }
   ],
   "source": [
    "premio_puro = (1 + carga_seguranca)*premio_de_risco\n",
    "\n",
    "display(Latex(f'PP = R\\$ {premio_puro}'))"
   ]
  },
  {
   "cell_type": "markdown",
   "metadata": {},
   "source": [
    "Já o prêmio comercial $PC$ para um $PC_{i_{mensal}} = R\\$38,00$ temos do ítem 7:"
   ]
  },
  {
   "cell_type": "code",
   "execution_count": 41,
   "metadata": {},
   "outputs": [
    {
     "data": {
      "text/latex": [
       "PC = R\\$ 4560000"
      ],
      "text/plain": [
       "<IPython.core.display.Latex object>"
      ]
     },
     "metadata": {},
     "output_type": "display_data"
    }
   ],
   "source": [
    "premio_comercial_individual_mensal = 38\n",
    "premio_comercial_individual = premio_comercial_individual_mensal * 12\n",
    "premio_comercial = premio_comercial_individual * numero_segurados\n",
    "\n",
    "display(Latex(f'PC = R\\$ {premio_comercial}'))"
   ]
  },
  {
   "cell_type": "markdown",
   "metadata": {},
   "source": [
    "Logo, isolando a comissão de corretagem na fórmula do PC, temos:\n",
    "\n",
    "$$\n",
    "CC = 1 - DA - L - \\frac{PP}{PC}\n",
    "$$"
   ]
  },
  {
   "cell_type": "code",
   "execution_count": 42,
   "metadata": {},
   "outputs": [
    {
     "data": {
      "text/latex": [
       "CC = 0.1895"
      ],
      "text/plain": [
       "<IPython.core.display.Latex object>"
      ]
     },
     "metadata": {},
     "output_type": "display_data"
    }
   ],
   "source": [
    "comissao_corretagem = 1 - despesas_administrativas - margem_lucro - premio_puro/premio_comercial\n",
    "\n",
    "display(Latex(f'CC = {comissao_corretagem:.4f}'))"
   ]
  },
  {
   "cell_type": "markdown",
   "metadata": {},
   "source": [
    "## **II-** Considere uma carteira composta por 4000 segurados, onde cada um tem um veículo cujo valor corresponde a R$ 20.000,00. O contrato feito entre o segurado e a seguradora declara que só é coberto o evento de perda total. Sabe-se que a probabilidade de um veículo ter sinistro de perda total no período de um ano é igual a 0,02. A seguradora admite uma probabilidade de ruína igual a 0,05 e adota como carregamento para despesas administrativas, comissão de corretagem e margem de lucro, respectivamente os percentuais de 15%, 20% e 10%. O período do contrato de seguro é de um ano. Com base nestas informações responda as questões abaixo:"
   ]
  },
  {
   "cell_type": "code",
   "execution_count": 43,
   "metadata": {},
   "outputs": [],
   "source": [
    "numero_segurados = 4000\n",
    "custo_perda_total = 20000\n",
    "prob_sinistro = .02\n",
    "prob_ruina = .05\n",
    "despesas_administrativas = .15\n",
    "comissao_corretagem = .20\n",
    "margem_lucro = .1"
   ]
  },
  {
   "cell_type": "markdown",
   "metadata": {},
   "source": [
    "### a. Qual o prêmio de risco (P) da carteira no período de um ano?\n",
    "\n",
    "A probabilidade de sinistro de cada segurado $X_{i}$ segue uma Bernoulli(p), assim a soma das $N$ probabilidades individuais de seguro $Y$ segue uma Binomial(N, p), logo: \n",
    "\n",
    "$$\n",
    "P = E[cX_{1} + cX_{2} + ... + cX_{n}] = cE[Y] = cNp\n",
    "$$"
   ]
  },
  {
   "cell_type": "code",
   "execution_count": 44,
   "metadata": {},
   "outputs": [
    {
     "data": {
      "text/latex": [
       "P = R\\$ 1600000.00"
      ],
      "text/plain": [
       "<IPython.core.display.Latex object>"
      ]
     },
     "metadata": {},
     "output_type": "display_data"
    }
   ],
   "source": [
    "premio_de_risco = custo_perda_total * numero_segurados * prob_sinistro\n",
    "\n",
    "display(Latex(f'P = R\\$ {premio_de_risco:.2f}'))"
   ]
  },
  {
   "cell_type": "markdown",
   "metadata": {},
   "source": [
    "### b. Com a probabilidade de ruína adotada qual o prêmio puro a ser praticado (PP)?\n",
    "\n",
    "Assim como na questão 1 ítem 5, o prêmio puro PP da carteira é dado por:\n",
    "\n",
    "$$\n",
    "PP = (1 + \\lambda)P\n",
    "$$\n",
    "\n",
    "O prêmio de risco P é conhecido do ítem anterior e a carga de segurança $\\lambda$ pode ser encontrada uma vez que sabemos probabilidade de ruína adotada. Como o capital de garantia não foi revelado até aqui, segue que $U_{o} = 0$\n",
    "\n",
    "Utilizando o Teorema Central do Limite para isolar $\\lambda$ no cálculo da probabilidade de ruína $P[U_{t} \\lt 0] = \\epsilon$, temos:\n",
    "\n",
    "$$\n",
    "\\lambda = \\frac{-\\frac{U_{o}}{c} + Z_{\\epsilon}\\sqrt{Np(1-p)}}{Np}\n",
    "$$"
   ]
  },
  {
   "cell_type": "code",
   "execution_count": 45,
   "metadata": {},
   "outputs": [
    {
     "data": {
      "text/latex": [
       "\\lambda = 0.18205193575644507"
      ],
      "text/plain": [
       "<IPython.core.display.Latex object>"
      ]
     },
     "metadata": {},
     "output_type": "display_data"
    }
   ],
   "source": [
    "Z_prob_ruina = stats.norm.ppf(1 - prob_ruina)\n",
    "capital_garantia = 0\n",
    "n_p = numero_segurados * prob_sinistro\n",
    "\n",
    "carga_seguranca = (-capital_garantia/custo_perda_total + Z_prob_ruina*(np.sqrt(n_p*(1-prob_sinistro))) )/ n_p\n",
    "\n",
    "display(Latex(f'\\lambda = {carga_seguranca}'))"
   ]
  },
  {
   "cell_type": "markdown",
   "metadata": {},
   "source": [
    "Logo, calculando o PP temos:"
   ]
  },
  {
   "cell_type": "code",
   "execution_count": 46,
   "metadata": {},
   "outputs": [
    {
     "data": {
      "text/latex": [
       "P = R\\$ 1891283.10"
      ],
      "text/plain": [
       "<IPython.core.display.Latex object>"
      ]
     },
     "metadata": {},
     "output_type": "display_data"
    }
   ],
   "source": [
    "premio_puro = (1 + carga_seguranca) * premio_de_risco\n",
    "\n",
    "display(Latex(f'P = R\\$ {premio_puro:.2f}'))"
   ]
  },
  {
   "cell_type": "markdown",
   "metadata": {},
   "source": [
    "### c. Se for adotado um carregamento de segurança igual a 0,07 (7%) qual o prêmio puro praticado e qual a probabilidade de ruína associada a esta prática?\n",
    "\n",
    "Seja o prêmio puro PP dado por:\n",
    "\n",
    "$$\n",
    "PP = (1 + \\lambda)P\n",
    "$$\n",
    "\n",
    "Temos:"
   ]
  },
  {
   "cell_type": "code",
   "execution_count": 47,
   "metadata": {},
   "outputs": [
    {
     "data": {
      "text/latex": [
       "P = R\\$ 1712000.00"
      ],
      "text/plain": [
       "<IPython.core.display.Latex object>"
      ]
     },
     "metadata": {},
     "output_type": "display_data"
    }
   ],
   "source": [
    "carga_seguranca = .07\n",
    "premio_puro = (1 + carga_seguranca) * premio_de_risco\n",
    "\n",
    "display(Latex(f'P = R\\$ {premio_puro:.2f}'))"
   ]
  },
  {
   "cell_type": "markdown",
   "metadata": {},
   "source": [
    "Isolando $Z_{\\epsilon}$, temos:\n",
    "\n",
    "$$\n",
    "Z_{\\epsilon} = \\frac{\\frac{U_{o}}{c} + \\lambda Np}{\\sqrt{Np(1-p)}}\n",
    "$$"
   ]
  },
  {
   "cell_type": "code",
   "execution_count": 48,
   "metadata": {},
   "outputs": [
    {
     "data": {
      "text/latex": [
       "Z_{\\epsilon} = 0.6324555320336759"
      ],
      "text/plain": [
       "<IPython.core.display.Latex object>"
      ]
     },
     "metadata": {},
     "output_type": "display_data"
    }
   ],
   "source": [
    "Z_prob_ruina = abs(((capital_garantia/custo_perda_total) + carga_seguranca*n_p)/np.sqrt(n_p*(1-prob_sinistro)))\n",
    "\n",
    "display(Latex(f'Z_{{\\epsilon}} = {Z_prob_ruina}'))"
   ]
  },
  {
   "cell_type": "markdown",
   "metadata": {},
   "source": [
    "Econtrado o $Z_{\\epsilon}$, podemos consultar qual a probabilidade de $P[Z \\gt z_{\\epsilon}]$ correspondente:"
   ]
  },
  {
   "cell_type": "code",
   "execution_count": 49,
   "metadata": {},
   "outputs": [
    {
     "data": {
      "text/latex": [
       "\\epsilon = 0.26354462843276905"
      ],
      "text/plain": [
       "<IPython.core.display.Latex object>"
      ]
     },
     "metadata": {},
     "output_type": "display_data"
    }
   ],
   "source": [
    "prob_ruina = 1 - stats.norm.cdf(Z_prob_ruina)\n",
    "\n",
    "display(Latex(f'\\epsilon = {prob_ruina}'))"
   ]
  },
  {
   "cell_type": "markdown",
   "metadata": {},
   "source": [
    "### d. Com a prática do carregamento de segurança de 7% qual deverá ser o capital de garantia ($U_{0}$) a ser adotado de forma que se mantenha a probabilidade de ruína igual a 0,05?\n",
    "\n",
    "$$\n",
    "U_{0} = c(Z_{\\epsilon}\\sqrt{Np(1-p)} - \\lambda Np)\n",
    "$$"
   ]
  },
  {
   "cell_type": "code",
   "execution_count": 50,
   "metadata": {},
   "outputs": [
    {
     "data": {
      "text/latex": [
       "U_{0} = R\\$ 179283.10"
      ],
      "text/plain": [
       "<IPython.core.display.Latex object>"
      ]
     },
     "metadata": {},
     "output_type": "display_data"
    }
   ],
   "source": [
    "prob_ruina = .05\n",
    "Z_prob_ruina = stats.norm.ppf(1 - prob_ruina)\n",
    "\n",
    "capital_garantia = custo_perda_total * (Z_prob_ruina * np.sqrt(n_p*(1-prob_sinistro)) - carga_seguranca * n_p)\n",
    "\n",
    "display(Latex(f'U_{{0}} = R\\$ {capital_garantia:.2f}'))"
   ]
  },
  {
   "cell_type": "markdown",
   "metadata": {},
   "source": [
    "### e. Com as condições definidas anteriormente, qual o prêmio comercial (PC) praticado na carteira como um todo?\n",
    "\n",
    "Com as condições definidas anteriormente (carga de segurança = 7%), temos que o prêmio comercial PC é dado por:\n",
    "\n",
    "$$\n",
    "PC = \\frac{PP}{1-(DA + CC + L)}\n",
    "$$\n",
    "\n",
    "Temos que o prêmio comercial individual $PC_{i}$ é dado por:\n",
    "\n",
    "$$\n",
    "PC_{i} = PC/N\n",
    "$$\n",
    "\n",
    "Como os prêmios até aqui foram calculados para o período de 1 ano, o prêmio comercial individual mensal $PC_{i_{mensal}}$ é dado por:\n",
    "\n",
    "$$\n",
    "PC_{i_{mensal}} = PC_{i}/12\n",
    "$$"
   ]
  },
  {
   "cell_type": "code",
   "execution_count": 51,
   "metadata": {},
   "outputs": [
    {
     "data": {
      "text/latex": [
       "PC = R\\$ 3112727.27"
      ],
      "text/plain": [
       "<IPython.core.display.Latex object>"
      ]
     },
     "metadata": {},
     "output_type": "display_data"
    }
   ],
   "source": [
    "carga_seguranca = .07\n",
    "premio_puro = (1 + carga_seguranca) * premio_de_risco\n",
    "\n",
    "premio_comercial = premio_puro / (1 - (despesas_administrativas + comissao_corretagem + margem_lucro))\n",
    "\n",
    "display(Latex(f'PC = R\\$ {premio_comercial:.2f}'))"
   ]
  },
  {
   "cell_type": "markdown",
   "metadata": {},
   "source": [
    "### f. Adotando-se um parcelamento em 12 vezes sem juros, qual será o prêmio comercial individual por parcela?\n",
    "\n",
    "Inicialmente, calculamos o prêmio comercial individual $PC_{i}$:\n",
    "\n",
    "$$\n",
    "PC_{i} = PC/N\n",
    "$$\n",
    "\n",
    "Assim, temos que em um cenário de parcelamento em 12 vezes, o valor da parcela será dado por:\n",
    "\n",
    "$$\n",
    "PC_{i_{parcela}} = PC_{i}/12\n",
    "$$"
   ]
  },
  {
   "cell_type": "code",
   "execution_count": 52,
   "metadata": {},
   "outputs": [
    {
     "data": {
      "text/latex": [
       "PC_{i_{parcela}} = R\\$ 64.85"
      ],
      "text/plain": [
       "<IPython.core.display.Latex object>"
      ]
     },
     "metadata": {},
     "output_type": "display_data"
    }
   ],
   "source": [
    "premio_comercial_individual = premio_comercial / numero_segurados\n",
    "\n",
    "premio_comercial_individual_parcela = premio_comercial_individual / 12\n",
    "\n",
    "display(Latex(f'PC_{{i_{{parcela}}}} = R\\$ {premio_comercial_individual_parcela:.2f}'))"
   ]
  },
  {
   "cell_type": "markdown",
   "metadata": {},
   "source": [
    "### g. Se a área comercial desejar praticar um prêmio individual por parcela igual a R\\$ 60,00, em vez de um carregamento de margem de lucro igual a 10%, qual deverá ser o carregamento de margem de lucro a ser adotado?\n",
    "\n",
    "Definindo o prêmio comercial individual por parcela em R\\$ 60,00, calculamos o prêmio comercial como:\n",
    "\n",
    "$$\n",
    "PC = N(12PC_{i_{parcela}})\n",
    "$$"
   ]
  },
  {
   "cell_type": "code",
   "execution_count": 53,
   "metadata": {},
   "outputs": [
    {
     "data": {
      "text/latex": [
       "PC = R\\$ 2880000.00"
      ],
      "text/plain": [
       "<IPython.core.display.Latex object>"
      ]
     },
     "metadata": {},
     "output_type": "display_data"
    }
   ],
   "source": [
    "premio_comercial_individual_parcela = 60\n",
    "premio_comercial = numero_segurados * 12 * premio_comercial_individual_parcela\n",
    "\n",
    "display(Latex(f'PC = R\\$ {premio_comercial:.2f}'))"
   ]
  },
  {
   "cell_type": "markdown",
   "metadata": {},
   "source": [
    "Para manter a equação equilibrada sem alterar o prêmio puro, isolamos a margem de lucro L da equação do ítem E:\n",
    "\n",
    "$$\n",
    "L = 1 - DA - CC - \\frac{PP}{PC}\n",
    "$$"
   ]
  },
  {
   "cell_type": "code",
   "execution_count": 54,
   "metadata": {},
   "outputs": [
    {
     "data": {
      "text/latex": [
       "L = 0.0556"
      ],
      "text/plain": [
       "<IPython.core.display.Latex object>"
      ]
     },
     "metadata": {},
     "output_type": "display_data"
    }
   ],
   "source": [
    "margem_lucro = 1 - despesas_administrativas - comissao_corretagem - premio_puro/premio_comercial\n",
    "\n",
    "display(Latex(f'L = {margem_lucro:.4f}'))"
   ]
  },
  {
   "cell_type": "markdown",
   "metadata": {},
   "source": [
    "### h. Para qual tamanho de carteira poderíamos manter o prêmio comercial individual por parcela igual a R$ 60,00, adotando uma probabilidade de ruína igual a 0,05, uma margem de lucro igual a 10%, uma comissão de corretagem igual a 20% e uma despesa administrativa igual a 15%, sem a adoção de capital de garantia?\n",
    "\n",
    "Seja o prêmio de risco $P = cNp$ e o prêmio puro $PP = (1 + \\lambda)P = (1 + \\lambda)cNp$, temos o prêmio comercial PC dado por:\n",
    "\n",
    "$$\n",
    "PC = \\frac{(1 + \\lambda) cNp}{1- (DA + CC + L)}\n",
    "$$\n",
    "\n",
    "Assim, utilizando o PC calculado do ítem G e os valores para DA + CC + L, além dos já conhecidos custo e probabilidade de sinistro, podemos isolar o número de segurados N:\n",
    "\n",
    "$$\n",
    "N = \\frac{PC(1 - (DA + CC + L))}{(1 + \\lambda)cp}\n",
    "$$"
   ]
  },
  {
   "cell_type": "code",
   "execution_count": 57,
   "metadata": {},
   "outputs": [
    {
     "data": {
      "text/latex": [
       "N = 3701"
      ],
      "text/plain": [
       "<IPython.core.display.Latex object>"
      ]
     },
     "metadata": {},
     "output_type": "display_data"
    }
   ],
   "source": [
    "margem_lucro = .1\n",
    "comissao_corretagem = .2\n",
    "despesas_administrativas = .15\n",
    "carga_seguranca = .07\n",
    "\n",
    "numero_segurados = premio_comercial * (1 - (despesas_administrativas + comissao_corretagem + margem_lucro)) / ((1 + carga_seguranca) * custo_perda_total * prob_sinistro)\n",
    "numero_segurados = round(numero_segurados)\n",
    "\n",
    "display(Latex(f'N = {numero_segurados}'))"
   ]
  },
  {
   "cell_type": "markdown",
   "metadata": {},
   "source": [
    "### i. Com o capital de garantia adotado na questão d) qual será a probabilidade de lucro com a subscrição? "
   ]
  },
  {
   "cell_type": "markdown",
   "metadata": {},
   "source": [
    "Para que a carteira tenha lucro, é preciso encontrar o valor do PC sem a variável que representa o lucro seja maior que 0:\n",
    "\n",
    "$$\n",
    "L = 1 - DA - CC - \\frac{PP}{PC} \\rightarrow 1 - DA - CC - \\frac{PP}{PC} \\gt 0\n",
    "$$"
   ]
  }
 ],
 "metadata": {
  "interpreter": {
   "hash": "611588c76f6fd03b6401d3250cf98333a32fd2da6383086543225bae3e7bd090"
  },
  "kernelspec": {
   "display_name": "Python 3.9.5 64-bit",
   "language": "python",
   "name": "python3"
  },
  "language_info": {
   "codemirror_mode": {
    "name": "ipython",
    "version": 3
   },
   "file_extension": ".py",
   "mimetype": "text/x-python",
   "name": "python",
   "nbconvert_exporter": "python",
   "pygments_lexer": "ipython3",
   "version": "3.9.5"
  },
  "orig_nbformat": 4
 },
 "nbformat": 4,
 "nbformat_minor": 2
}
