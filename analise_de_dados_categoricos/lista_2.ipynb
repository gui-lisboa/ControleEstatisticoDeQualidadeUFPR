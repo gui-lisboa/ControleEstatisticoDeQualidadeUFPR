{
 "cells": [
  {
   "cell_type": "markdown",
   "metadata": {},
   "source": [
    "# 2º Lista de Exercícios\n",
    "\n",
    "- Disciplina: Análise de Dados Categóricos\n",
    "- Professora: Nívea da Silva Matuda Machado\n",
    "- Aluno: Guilherme Lisboa de Oliveira (GRR20170414)\n"
   ]
  },
  {
   "cell_type": "markdown",
   "metadata": {},
   "source": [
    "```{admonition} Questão 1\n",
    "\n",
    "A Tabela 1 apresenta um estudo que coletou dados de 300 alunos sobre o desempenho na disciplina de Matemática (baixo, médio e alto) e sobre a participação dos pais (ativa e fraca) nas atividades extra-aulas promovidas pela escola.\n",
    "\n",
    "![Tabela 1.10](./imagens/lista_2_tabela_1.PNG)\n",
    "\n",
    "a. Usando frequência relativa para estimar probabilidade, estime a probabilidade dos alunos, que possuem pais ativamente participantes, não apresentarem baixo desempenho? Qual é a probabilidade estimada dos alunos apresentarem alto desempenho em matemática sendo que os pais quase não participam das atividades extracurriculares? Comente os resultados.\n",
    "\n",
    "b. Qual estatística pode ser usada com mais eficácia neste tipo de tabela para testar a inexistência de associação? Porque? Realize o teste e tire uma conclusão;\n",
    "\n",
    "c. Complete o texto abaixo:\n",
    "\n",
    "Os valores totais, das colunas e das linhas, são chamados de totais _______________. Quando os ____________________________ e _________________________ variam livremente, o teste de associação é chamado de independência, e quando um dos conjuntos, linha ou coluna é fixado pelo pesquisador então é chamado de teste de _______________. A escolha de qual total fixar vai depender do _________________. Neste exemplo da área de educação, observemos que é muito mais fácil fixar o número de alunos em cada categoria da variável ___________________________________, do que fixar pela variável ________________________, que a princípio, deverá tornar mais complexa a realização do estudo devido à dificuldade de obter este tipo de informação.\n",
    "\n",
    "```"
   ]
  },
  {
   "cell_type": "markdown",
   "metadata": {},
   "source": [
    "**a.**"
   ]
  },
  {
   "cell_type": "code",
   "execution_count": 2,
   "metadata": {},
   "outputs": [
    {
     "data": {
      "text/html": [
       "<div>\n",
       "<style scoped>\n",
       "    .dataframe tbody tr th:only-of-type {\n",
       "        vertical-align: middle;\n",
       "    }\n",
       "\n",
       "    .dataframe tbody tr th {\n",
       "        vertical-align: top;\n",
       "    }\n",
       "\n",
       "    .dataframe thead th {\n",
       "        text-align: right;\n",
       "    }\n",
       "</style>\n",
       "<table border=\"1\" class=\"dataframe\">\n",
       "  <thead>\n",
       "    <tr style=\"text-align: right;\">\n",
       "      <th></th>\n",
       "      <th>Participação dos Pais</th>\n",
       "      <th>Desempenho Baixo</th>\n",
       "      <th>Desempenho Médio</th>\n",
       "      <th>Desempenho Alto</th>\n",
       "    </tr>\n",
       "  </thead>\n",
       "  <tbody>\n",
       "    <tr>\n",
       "      <th>0</th>\n",
       "      <td>Ativa</td>\n",
       "      <td>5</td>\n",
       "      <td>25</td>\n",
       "      <td>70</td>\n",
       "    </tr>\n",
       "    <tr>\n",
       "      <th>1</th>\n",
       "      <td>Fraca</td>\n",
       "      <td>95</td>\n",
       "      <td>75</td>\n",
       "      <td>30</td>\n",
       "    </tr>\n",
       "  </tbody>\n",
       "</table>\n",
       "</div>"
      ],
      "text/plain": [
       "  Participação dos Pais  Desempenho Baixo  Desempenho Médio  Desempenho Alto\n",
       "0                 Ativa                 5                25               70\n",
       "1                 Fraca                95                75               30"
      ]
     },
     "execution_count": 2,
     "metadata": {},
     "output_type": "execute_result"
    }
   ],
   "source": [
    "import pandas as pd\n",
    "import statsmodels.api as sm\n",
    "\n",
    "\n",
    "tabela_1 = pd.DataFrame({\n",
    "    'Participação dos Pais': ['Ativa', 'Fraca'],\n",
    "    'Desempenho Baixo': [5, 95],\n",
    "    'Desempenho Médio': [25, 75],\n",
    "    'Desempenho Alto': [70, 30]\n",
    "})\n",
    "\n",
    "tabela_1"
   ]
  },
  {
   "cell_type": "markdown",
   "metadata": {},
   "source": [
    "Probabilidade de alunos não apresentarem desempenho baixo com pais ativamente participantes:"
   ]
  },
  {
   "cell_type": "code",
   "execution_count": 21,
   "metadata": {},
   "outputs": [
    {
     "data": {
      "text/plain": [
       "0.95"
      ]
     },
     "execution_count": 21,
     "metadata": {},
     "output_type": "execute_result"
    }
   ],
   "source": [
    "linha_pais_participativos = tabela_1.iloc[0, 1:4]\n",
    "prob_relativa = linha_pais_participativos[1:3].sum() / linha_pais_participativos.sum()\n",
    "\n",
    "prob_relativa\n"
   ]
  },
  {
   "cell_type": "markdown",
   "metadata": {},
   "source": [
    "Probabilidade de alunos apresentarem alto desempenho sendo que os pais não participam das atividades:"
   ]
  },
  {
   "cell_type": "code",
   "execution_count": 23,
   "metadata": {},
   "outputs": [
    {
     "data": {
      "text/plain": [
       "0.15"
      ]
     },
     "execution_count": 23,
     "metadata": {},
     "output_type": "execute_result"
    }
   ],
   "source": [
    "linha_pais_nao_participativos = tabela_1.iloc[1, 1:4]\n",
    "prob_relativa = linha_pais_nao_participativos[2].sum() / linha_pais_nao_participativos.sum()\n",
    "\n",
    "prob_relativa"
   ]
  },
  {
   "cell_type": "markdown",
   "metadata": {},
   "source": [
    "Os resultados indicam que a participação dos pais é um fator que aumenta o desempenho dos alunos de matemática"
   ]
  },
  {
   "cell_type": "markdown",
   "metadata": {},
   "source": [
    "**c.** Os valores totais, das colunas e das linhas, são chamados de totais marginais. Quando os totais marginais-linha e totais marginais-coluna variam livremente, o teste de associação é chamado de independência, e quando um dos conjuntos, linha ou coluna é fixado pelo pesquisador então é chamado de teste de homogeneidade. A escolha de qual total fixar vai depender do delineamento. Neste exemplo da área de educação, observemos que é muito mais fácil fixar o número de alunos em cada categoria da variável resposta, do que fixar pela variável explicativa, que a princípio, deverá tornar mais complexa a realização do estudo devido à dificuldade de obter este tipo de informação."
   ]
  },
  {
   "cell_type": "markdown",
   "metadata": {},
   "source": [
    "```{admonition} Questão 2\n",
    "\n",
    "A regressão logística tem como objetivo descrever a relação entre uma variável resposta (dicotômica ou politômica) e um conjunto de variáveis explicativas, mediante um modelo que tenha bom ajuste, seja plausível e obedeça ao princípio da parcimônia. Na análise estratificada tem-se também o propósito de descrever a relação entre as variáveis, mas as relações não são efetuadas simultaneamente, pois somente é possível obter a estimativa do OR para um único fator de cada vez, mantendo fixo o conjunto das demais variáveis explicativas. Abaixo segue um quadro comparando as duas estratégias de análise.\n",
    "\n",
    "\n",
    "| **Regressão Logística**                             | **Análise Estratificada**                                |\n",
    "| --------------------------------------------------- | -------------------------------------------------------- |\n",
    "| Controla grande número de variáveis simultaneamente | Simplicidade de execução, com facilidade de entendimento da análise pelo pesquisador |\n",
    "| É a técnica estatística apropriada quando a variável resposta é dicotômica ou politômica | Dificuldade aumenta quando cresce o número de variáveis |\n",
    "| Barreira entre o pesquisador e a análise | Menor poder para exploração das variáveis |\n",
    "\n",
    "As Tabelas 2 e 3 refere-se a um estudo caso-controle sobre câncer de esôfago. Foram comparados 85 casos de câncer de esôfago com 292 controles hospitalares, classificados segundo sexo biológico, idade e os hábitos de beber e fumar, entre outros.\n",
    "\n",
    "a. Em cada tabela apresentada, identifique a variável explicativa, a variável resposta e a variável usada para dividir os dados em estratos;\n",
    "\n",
    "b. Calcule, com base nas Tabelas 2 e 3, os valores estimados da OR ponderada de Mante-Haenszel (ORMH). Estes são significativos? Há confundimento ou efeito modificador?\n",
    "\n",
    "c. Descreva como seria o formato da planilha de dados para que o pacote estatístico utilizado possa lê-lo corretamente e ajustar um modelo de regressão logística adequado para estes dados.\n",
    "\n",
    "d. Apresente uma lista dos possíveis modelos de regressão logística com e sem interação.\n",
    "\n",
    "![Tabela 1.10](./imagens/lista_2_tabelas_2e3.PNG)\n",
    "\n",
    "```"
   ]
  },
  {
   "cell_type": "markdown",
   "metadata": {},
   "source": [
    "**a.**\n",
    "\n",
    "-   Tabela 2:\n",
    "    -   Variável resposta: incidência de câncer de esôfago\n",
    "    -   Variável explicativa: hábito de beber\n",
    "    -   Variável estratificadora: hábito de fumar\n",
    "-   Tabela 3:\n",
    "    -   Variável resposta: incidência de câncer de esôfago\n",
    "    -   Variável explicativa: hábito de beber\n",
    "    -   Variável estratificadora: sexo biológico"
   ]
  },
  {
   "cell_type": "markdown",
   "metadata": {},
   "source": [
    "**b.** Valores $OR$ ponderado dados por Pooled Odds e $OR_{MH}$ dados por Test of OR=1."
   ]
  },
  {
   "cell_type": "code",
   "execution_count": 3,
   "metadata": {},
   "outputs": [
    {
     "data": {
      "text/html": [
       "<div>\n",
       "<style scoped>\n",
       "    .dataframe tbody tr th:only-of-type {\n",
       "        vertical-align: middle;\n",
       "    }\n",
       "\n",
       "    .dataframe tbody tr th {\n",
       "        vertical-align: top;\n",
       "    }\n",
       "\n",
       "    .dataframe thead th {\n",
       "        text-align: right;\n",
       "    }\n",
       "</style>\n",
       "<table border=\"1\" class=\"dataframe\">\n",
       "  <thead>\n",
       "    <tr style=\"text-align: right;\">\n",
       "      <th></th>\n",
       "      <th>Estratos</th>\n",
       "      <th>Fatores</th>\n",
       "      <th>Casos</th>\n",
       "      <th>Controles</th>\n",
       "    </tr>\n",
       "  </thead>\n",
       "  <tbody>\n",
       "    <tr>\n",
       "      <th>0</th>\n",
       "      <td>Não Fumante</td>\n",
       "      <td>Bebe</td>\n",
       "      <td>1</td>\n",
       "      <td>32</td>\n",
       "    </tr>\n",
       "    <tr>\n",
       "      <th>1</th>\n",
       "      <td>Não Fumante</td>\n",
       "      <td>Não Bebe</td>\n",
       "      <td>5</td>\n",
       "      <td>86</td>\n",
       "    </tr>\n",
       "    <tr>\n",
       "      <th>2</th>\n",
       "      <td>Fumante</td>\n",
       "      <td>Bebe</td>\n",
       "      <td>74</td>\n",
       "      <td>120</td>\n",
       "    </tr>\n",
       "    <tr>\n",
       "      <th>3</th>\n",
       "      <td>Fumante</td>\n",
       "      <td>Não Bebe</td>\n",
       "      <td>5</td>\n",
       "      <td>54</td>\n",
       "    </tr>\n",
       "  </tbody>\n",
       "</table>\n",
       "</div>"
      ],
      "text/plain": [
       "      Estratos   Fatores  Casos  Controles\n",
       "0  Não Fumante      Bebe      1         32\n",
       "1  Não Fumante  Não Bebe      5         86\n",
       "2      Fumante      Bebe     74        120\n",
       "3      Fumante  Não Bebe      5         54"
      ]
     },
     "execution_count": 3,
     "metadata": {},
     "output_type": "execute_result"
    }
   ],
   "source": [
    "import pandas as pd\n",
    "import statsmodels.api as sm\n",
    "\n",
    "\n",
    "tabela_2 = pd.DataFrame({\n",
    "    'Estratos': ['Não Fumante', 'Não Fumante', 'Fumante', 'Fumante'],\n",
    "    'Fatores': ['Bebe', 'Não Bebe', 'Bebe', 'Não Bebe'],\n",
    "    'Casos': [1, 5, 74, 5],\n",
    "    'Controles': [32, 86, 120, 54]\n",
    "})\n",
    "\n",
    "tabela_2"
   ]
  },
  {
   "cell_type": "code",
   "execution_count": 4,
   "metadata": {},
   "outputs": [
    {
     "data": {
      "text/html": [
       "<table class=\"simpletable\">\n",
       "<tr>\n",
       "          <td></td>          <th>Estimate</th>    <th>LCB</th>    <th>UCB</th> \n",
       "</tr>\n",
       "<tr>\n",
       "  <th>Pooled odds</th>           <td>4.503</td>   <td>2.069</td> <td>9.799</td>\n",
       "</tr>\n",
       "<tr>\n",
       "  <th>Pooled log odds</th>       <td>1.505</td>   <td>0.727</td> <td>2.282</td>\n",
       "</tr>\n",
       "<tr>\n",
       "  <th>Pooled risk ratio</th>     <td>3.483</td>        <td></td>      <td></td>\n",
       "</tr>\n",
       "<tr>\n",
       "  <th></th>                           <td></td>        <td></td>      <td></td>\n",
       "</tr>\n",
       "<tr>\n",
       "          <td></td>         <th>Statistic</th> <th>P-value</th> <th></th>\n",
       "</tr>\n",
       "<tr>\n",
       "  <th>Test of OR=1</th>        <td>15.123</td>   <td>0.000</td> <td></td>\n",
       "</tr>\n",
       "<tr>\n",
       "  <th>Test constant OR</th>     <td>5.621</td>   <td>0.018</td> <td></td>\n",
       "</tr>\n",
       "<tr>\n",
       "          <td></td>          <th></th>   <th></th> <th></th>\n",
       "</tr>\n",
       "<tr>\n",
       "  <th>Number of tables</th>   <td>2</td> <td></td> <td></td>\n",
       "</tr>\n",
       "<tr>\n",
       "  <th>Min n</th>            <td>124</td> <td></td> <td></td>\n",
       "</tr>\n",
       "<tr>\n",
       "  <th>Max n</th>            <td>253</td> <td></td> <td></td>\n",
       "</tr>\n",
       "<tr>\n",
       "  <th>Avg n</th>            <td>188</td> <td></td> <td></td>\n",
       "</tr>\n",
       "<tr>\n",
       "  <th>Total n</th>          <td>377</td> <td></td> <td></td>\n",
       "</tr>\n",
       "</table>"
      ],
      "text/plain": [
       "<class 'statsmodels.iolib.table.SimpleTable'>"
      ]
     },
     "execution_count": 4,
     "metadata": {},
     "output_type": "execute_result"
    }
   ],
   "source": [
    "nao_fumantes = tabela_2.loc[tabela_2.Estratos == 'Não Fumante'].iloc[:, 2:4].to_numpy()\n",
    "fumantes = tabela_2.loc[tabela_2.Estratos == 'Fumante'].iloc[:, 2:4].to_numpy()\n",
    "tabela_2_estratificada = sm.stats.StratifiedTable([nao_fumantes, fumantes])\n",
    "\n",
    "tabela_2_estratificada.summary()"
   ]
  },
  {
   "cell_type": "code",
   "execution_count": 5,
   "metadata": {},
   "outputs": [
    {
     "data": {
      "text/html": [
       "<div>\n",
       "<style scoped>\n",
       "    .dataframe tbody tr th:only-of-type {\n",
       "        vertical-align: middle;\n",
       "    }\n",
       "\n",
       "    .dataframe tbody tr th {\n",
       "        vertical-align: top;\n",
       "    }\n",
       "\n",
       "    .dataframe thead th {\n",
       "        text-align: right;\n",
       "    }\n",
       "</style>\n",
       "<table border=\"1\" class=\"dataframe\">\n",
       "  <thead>\n",
       "    <tr style=\"text-align: right;\">\n",
       "      <th></th>\n",
       "      <th>Estratos</th>\n",
       "      <th>Fatores</th>\n",
       "      <th>Casos</th>\n",
       "      <th>Controles</th>\n",
       "    </tr>\n",
       "  </thead>\n",
       "  <tbody>\n",
       "    <tr>\n",
       "      <th>0</th>\n",
       "      <td>Feminino</td>\n",
       "      <td>Bebe</td>\n",
       "      <td>8</td>\n",
       "      <td>35</td>\n",
       "    </tr>\n",
       "    <tr>\n",
       "      <th>1</th>\n",
       "      <td>Feminino</td>\n",
       "      <td>Não Bebe</td>\n",
       "      <td>8</td>\n",
       "      <td>94</td>\n",
       "    </tr>\n",
       "    <tr>\n",
       "      <th>2</th>\n",
       "      <td>Masculino</td>\n",
       "      <td>Bebe</td>\n",
       "      <td>67</td>\n",
       "      <td>117</td>\n",
       "    </tr>\n",
       "    <tr>\n",
       "      <th>3</th>\n",
       "      <td>Masculino</td>\n",
       "      <td>Não Bebe</td>\n",
       "      <td>2</td>\n",
       "      <td>46</td>\n",
       "    </tr>\n",
       "  </tbody>\n",
       "</table>\n",
       "</div>"
      ],
      "text/plain": [
       "    Estratos   Fatores  Casos  Controles\n",
       "0   Feminino      Bebe      8         35\n",
       "1   Feminino  Não Bebe      8         94\n",
       "2  Masculino      Bebe     67        117\n",
       "3  Masculino  Não Bebe      2         46"
      ]
     },
     "execution_count": 5,
     "metadata": {},
     "output_type": "execute_result"
    }
   ],
   "source": [
    "tabela_3 = pd.DataFrame({\n",
    "    'Estratos': ['Feminino', 'Feminino', 'Masculino', 'Masculino'],\n",
    "    'Fatores': ['Bebe', 'Não Bebe', 'Bebe', 'Não Bebe'],\n",
    "    'Casos': [8, 8, 67, 2],\n",
    "    'Controles': [35, 94, 117, 46]\n",
    "})\n",
    "\n",
    "tabela_3"
   ]
  },
  {
   "cell_type": "code",
   "execution_count": 6,
   "metadata": {},
   "outputs": [
    {
     "data": {
      "text/html": [
       "<table class=\"simpletable\">\n",
       "<tr>\n",
       "          <td></td>          <th>Estimate</th>    <th>LCB</th>     <th>UCB</th> \n",
       "</tr>\n",
       "<tr>\n",
       "  <th>Pooled odds</th>           <td>6.283</td>   <td>2.788</td> <td>14.159</td>\n",
       "</tr>\n",
       "<tr>\n",
       "  <th>Pooled log odds</th>       <td>1.838</td>   <td>1.025</td>  <td>2.650</td>\n",
       "</tr>\n",
       "<tr>\n",
       "  <th>Pooled risk ratio</th>     <td>4.923</td>        <td></td>       <td></td>\n",
       "</tr>\n",
       "<tr>\n",
       "  <th></th>                           <td></td>        <td></td>       <td></td>\n",
       "</tr>\n",
       "<tr>\n",
       "          <td></td>         <th>Statistic</th> <th>P-value</th> <th></th>\n",
       "</tr>\n",
       "<tr>\n",
       "  <th>Test of OR=1</th>        <td>21.970</td>   <td>0.000</td> <td></td>\n",
       "</tr>\n",
       "<tr>\n",
       "  <th>Test constant OR</th>     <td>3.647</td>   <td>0.056</td> <td></td>\n",
       "</tr>\n",
       "<tr>\n",
       "          <td></td>          <th></th>   <th></th> <th></th>\n",
       "</tr>\n",
       "<tr>\n",
       "  <th>Number of tables</th>   <td>2</td> <td></td> <td></td>\n",
       "</tr>\n",
       "<tr>\n",
       "  <th>Min n</th>            <td>145</td> <td></td> <td></td>\n",
       "</tr>\n",
       "<tr>\n",
       "  <th>Max n</th>            <td>232</td> <td></td> <td></td>\n",
       "</tr>\n",
       "<tr>\n",
       "  <th>Avg n</th>            <td>188</td> <td></td> <td></td>\n",
       "</tr>\n",
       "<tr>\n",
       "  <th>Total n</th>          <td>377</td> <td></td> <td></td>\n",
       "</tr>\n",
       "</table>"
      ],
      "text/plain": [
       "<class 'statsmodels.iolib.table.SimpleTable'>"
      ]
     },
     "execution_count": 6,
     "metadata": {},
     "output_type": "execute_result"
    }
   ],
   "source": [
    "femininos = tabela_3.loc[tabela_3.Estratos == 'Feminino'].iloc[:, 2:4].to_numpy()\n",
    "masculinos = tabela_3.loc[tabela_3.Estratos == 'Masculino'].iloc[:, 2:4].to_numpy()\n",
    "tabela_3_estratificada = sm.stats.StratifiedTable([femininos, masculinos])\n",
    "\n",
    "tabela_3_estratificada.summary()"
   ]
  },
  {
   "cell_type": "markdown",
   "metadata": {},
   "source": [
    "**c.** O formato ideal para ajustar um modelo logístico seriam tabelas com total observado linhas e 3 colunas: uma para definir o estrado da observação, outra para o fator e uma terceira também dicotômica onde 1 significa Caso e 0 Controle."
   ]
  },
  {
   "cell_type": "markdown",
   "metadata": {},
   "source": [
    "**d.** \n",
    "\n",
    "-   Sem interação: Caso ~ estrato + fator\n",
    "-   Com interação: Caso ~ estrato:fator"
   ]
  },
  {
   "cell_type": "markdown",
   "metadata": {},
   "source": [
    "```{admonition} Questão 3\n",
    "\n",
    "O que mede a estatística Kappa? É possível obter valores negativos como resultado para esta estatística? Se sim, quando isso ocorre?\n",
    "\n",
    "```"
   ]
  },
  {
   "cell_type": "markdown",
   "metadata": {},
   "source": [
    "A estatística Kappa é uma medida de concordância proposta por Cohen (1960) e é definida por:\n",
    "\n",
    "$$\n",
    "    \\kappa = \\frac{\\Pi_0 - \\Pi_e}{1 - \\Pi_e}\n",
    "$$\n",
    "\n",
    "Sendo a probabilidade de concordância dada por $\\Pi_0 = \\sum_{i = 1}^{s}p_{ii}$ e a probabilidade de concordância sob $H_0: p_{ij} = (p_i+)(p_+j)$ (hipótese de independência das duas classificações) dada por $\\Pi_e = \\sum_{i = 1}^{s}(p_{i+})(p_{+i})$.\n",
    "\n",
    "$\\kappa$ assumirá o valor 1 quando exisitr concordância perfeita entre os avaliadores e 0 quando a concordância for a proposta sob $H_0$. Valores negativos para $\\kappa$ são possíveis quando há discordância acentuada entre os valores. Valores sugeridos por Landis e Koch (1977) tem a seguinte interpetração:\n",
    "\n",
    "-   $\\leq$ 0: sem concordância;\n",
    "-   0,01 a 0,20: muito fraca;\n",
    "-   0,21 a 0,40: fraca;\n",
    "-   0,41 a 0,60: moderada;\n",
    "-   0,61 a 0,80: substancial;\n",
    "-   0,81 a 1: excelente."
   ]
  },
  {
   "cell_type": "markdown",
   "metadata": {},
   "source": [
    "```{admonition} Questão 4\n",
    "\n",
    "O arquivo dados_ex3 contem informações de 100 homens hospitalizados, quanto à idade (0, se $\\leq$ 55 anos; 1, se >55 anos) e quanto à evidência de terem tido sinais de doença coronária, denotada por CHD (sim=1; não=0).\n",
    "\n",
    "a. Organize os dados em uma tabela de contingência 2 x 2;\n",
    "\n",
    "b. Parte do output computacional com os resultados da análise por regressão logística destes dados (SE = erro padrão) é apresentada a seguir. Escreva o modelo de regressão logística, considerando CHD como variável resposta e a idade como fator de exposição\n",
    "\n",
    "|           | b      | SE    |\n",
    "| ---       | ---    | ---   |\n",
    "| constante | -0.841 | 0.255 |\n",
    "| Idade     | 2.094  | 0.529 |\n",
    "\n",
    "```\n"
   ]
  },
  {
   "cell_type": "markdown",
   "metadata": {},
   "source": [
    "**a.**"
   ]
  },
  {
   "cell_type": "code",
   "execution_count": 7,
   "metadata": {},
   "outputs": [
    {
     "data": {
      "text/html": [
       "<div>\n",
       "<style scoped>\n",
       "    .dataframe tbody tr th:only-of-type {\n",
       "        vertical-align: middle;\n",
       "    }\n",
       "\n",
       "    .dataframe tbody tr th {\n",
       "        vertical-align: top;\n",
       "    }\n",
       "\n",
       "    .dataframe thead th {\n",
       "        text-align: right;\n",
       "    }\n",
       "</style>\n",
       "<table border=\"1\" class=\"dataframe\">\n",
       "  <thead>\n",
       "    <tr style=\"text-align: right;\">\n",
       "      <th>CHD</th>\n",
       "      <th>0</th>\n",
       "      <th>1</th>\n",
       "    </tr>\n",
       "    <tr>\n",
       "      <th>idade</th>\n",
       "      <th></th>\n",
       "      <th></th>\n",
       "    </tr>\n",
       "  </thead>\n",
       "  <tbody>\n",
       "    <tr>\n",
       "      <th>0</th>\n",
       "      <td>51</td>\n",
       "      <td>22</td>\n",
       "    </tr>\n",
       "    <tr>\n",
       "      <th>1</th>\n",
       "      <td>6</td>\n",
       "      <td>21</td>\n",
       "    </tr>\n",
       "  </tbody>\n",
       "</table>\n",
       "</div>"
      ],
      "text/plain": [
       "CHD     0   1\n",
       "idade        \n",
       "0      51  22\n",
       "1       6  21"
      ]
     },
     "execution_count": 7,
     "metadata": {},
     "output_type": "execute_result"
    }
   ],
   "source": [
    "import pandas as pd\n",
    "\n",
    "dados = pd.read_table('./dados/dados_ex3.csv')\n",
    "tabela_contingencia = pd.crosstab(dados.idade, dados.CHD)\n",
    "\n",
    "tabela_contingencia"
   ]
  },
  {
   "cell_type": "markdown",
   "metadata": {},
   "source": [
    "**b.**"
   ]
  },
  {
   "cell_type": "code",
   "execution_count": 8,
   "metadata": {},
   "outputs": [
    {
     "data": {
      "text/html": [
       "<table class=\"simpletable\">\n",
       "<caption>Generalized Linear Model Regression Results</caption>\n",
       "<tr>\n",
       "  <th>Dep. Variable:</th>          <td>CHD</td>       <th>  No. Observations:  </th>  <td>   100</td> \n",
       "</tr>\n",
       "<tr>\n",
       "  <th>Model:</th>                  <td>GLM</td>       <th>  Df Residuals:      </th>  <td>    98</td> \n",
       "</tr>\n",
       "<tr>\n",
       "  <th>Model Family:</th>        <td>Binomial</td>     <th>  Df Model:          </th>  <td>     1</td> \n",
       "</tr>\n",
       "<tr>\n",
       "  <th>Link Function:</th>         <td>Logit</td>      <th>  Scale:             </th> <td>  1.0000</td>\n",
       "</tr>\n",
       "<tr>\n",
       "  <th>Method:</th>                <td>IRLS</td>       <th>  Log-Likelihood:    </th> <td> -58.980</td>\n",
       "</tr>\n",
       "<tr>\n",
       "  <th>Date:</th>            <td>Sat, 07 May 2022</td> <th>  Deviance:          </th> <td>  117.96</td>\n",
       "</tr>\n",
       "<tr>\n",
       "  <th>Time:</th>                <td>17:24:55</td>     <th>  Pearson chi2:      </th>  <td>  100.</td> \n",
       "</tr>\n",
       "<tr>\n",
       "  <th>No. Iterations:</th>          <td>4</td>        <th>  Pseudo R-squ. (CS):</th>  <td>0.1706</td> \n",
       "</tr>\n",
       "<tr>\n",
       "  <th>Covariance Type:</th>     <td>nonrobust</td>    <th>                     </th>     <td> </td>   \n",
       "</tr>\n",
       "</table>\n",
       "<table class=\"simpletable\">\n",
       "<tr>\n",
       "      <td></td>         <th>coef</th>     <th>std err</th>      <th>z</th>      <th>P>|z|</th>  <th>[0.025</th>    <th>0.975]</th>  \n",
       "</tr>\n",
       "<tr>\n",
       "  <th>Intercept</th> <td>   -0.8408</td> <td>    0.255</td> <td>   -3.296</td> <td> 0.001</td> <td>   -1.341</td> <td>   -0.341</td>\n",
       "</tr>\n",
       "<tr>\n",
       "  <th>idade</th>     <td>    2.0935</td> <td>    0.529</td> <td>    3.961</td> <td> 0.000</td> <td>    1.058</td> <td>    3.129</td>\n",
       "</tr>\n",
       "</table>"
      ],
      "text/plain": [
       "<class 'statsmodels.iolib.summary.Summary'>\n",
       "\"\"\"\n",
       "                 Generalized Linear Model Regression Results                  \n",
       "==============================================================================\n",
       "Dep. Variable:                    CHD   No. Observations:                  100\n",
       "Model:                            GLM   Df Residuals:                       98\n",
       "Model Family:                Binomial   Df Model:                            1\n",
       "Link Function:                  Logit   Scale:                          1.0000\n",
       "Method:                          IRLS   Log-Likelihood:                -58.980\n",
       "Date:                Sat, 07 May 2022   Deviance:                       117.96\n",
       "Time:                        17:24:55   Pearson chi2:                     100.\n",
       "No. Iterations:                     4   Pseudo R-squ. (CS):             0.1706\n",
       "Covariance Type:            nonrobust                                         \n",
       "==============================================================================\n",
       "                 coef    std err          z      P>|z|      [0.025      0.975]\n",
       "------------------------------------------------------------------------------\n",
       "Intercept     -0.8408      0.255     -3.296      0.001      -1.341      -0.341\n",
       "idade          2.0935      0.529      3.961      0.000       1.058       3.129\n",
       "==============================================================================\n",
       "\"\"\""
      ]
     },
     "execution_count": 8,
     "metadata": {},
     "output_type": "execute_result"
    }
   ],
   "source": [
    "import statsmodels.api as sm\n",
    "import statsmodels.formula.api as smf\n",
    "\n",
    "modelo_idade = smf.glm(\n",
    "    \"CHD ~ idade\",\n",
    "    data=dados,\n",
    "    family=sm.families.Binomial(),\n",
    ")\n",
    "\n",
    "fit_modelo_idade = modelo_idade.fit()\n",
    "\n",
    "fit_modelo_idade.summary()"
   ]
  }
 ],
 "metadata": {
  "interpreter": {
   "hash": "e223704966a4bc8cb9d2ce4935cbcfcd7bcb00b5cf6d71d65040fd88614c9b9d"
  },
  "kernelspec": {
   "display_name": "Python 3.10.2 ('venv': venv)",
   "language": "python",
   "name": "python3"
  },
  "language_info": {
   "codemirror_mode": {
    "name": "ipython",
    "version": 3
   },
   "file_extension": ".py",
   "mimetype": "text/x-python",
   "name": "python",
   "nbconvert_exporter": "python",
   "pygments_lexer": "ipython3",
   "version": "3.10.2"
  },
  "orig_nbformat": 4
 },
 "nbformat": 4,
 "nbformat_minor": 2
}
