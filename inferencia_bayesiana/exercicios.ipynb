{
 "cells": [
  {
   "attachments": {},
   "cell_type": "markdown",
   "metadata": {},
   "source": [
    "# Exercícios"
   ]
  },
  {
   "attachments": {},
   "cell_type": "markdown",
   "metadata": {},
   "source": [
    "## Ex 1\n",
    "\n",
    "\n",
    "$X_n$ amostras Poisson($\\theta$)."
   ]
  },
  {
   "attachments": {},
   "cell_type": "markdown",
   "metadata": {},
   "source": [
    "### a. Priori Jeffreys, obter posteriori de $\\theta$\n",
    "\n",
    "A priori de Jeffreys é dada por $p(\\theta) = \\sqrt{I_F(\\theta)}$, onde $I_F(\\theta) = - E[\\frac{\\partial^2 log f(\\mathbf{x} | \\theta)}{\\partial^2 \\theta} | \\theta]$.\n",
    "\n",
    "Desenvolvendo $f(\\mathbf{x} | \\theta) \\sim Poisson(\\theta)$ temos:\n",
    "\n",
    "$$\n",
    "f(\\mathbf{x} | \\theta) = \\prod_{i=1}^{n} \\frac{\\theta^{x_i} e^{-\\theta}}{x_i !} = \\theta^{\\sum_{i=1}^{n} x_i} e^{-n \\theta} \\prod_{i=1}^{n} \\frac{1}{x_i !}\n",
    "$$\n",
    "\n",
    "Aplicando o log, temos:\n",
    "\n",
    "$$\n",
    "log f(\\mathbf{x} | \\theta) = log \\theta^{x_i} + log e^{-n \\theta} + log \\prod_{i=1}^{n} \\frac{1}{x_i !} = \\sum_{i=1}^{n} x_i log \\theta -n\\theta - log \\sum_{i=1}^{n} \\frac{1}{x_i !}\n",
    "$$\n",
    "\n",
    "Derivando duas vezes em relação a $\\theta$, temos:\n",
    "\n",
    "$$\n",
    "\\frac{\\partial log f(\\mathbf{x} | \\theta)}{\\partial \\theta} = \\frac{\\sum_{i=1}^{n} x_i}{\\theta} - n \\\\\n",
    "\n",
    "\\frac{\\partial^2 log f(\\mathbf{x} | \\theta)}{\\partial^2 \\theta} = - \\frac{\\sum_{i=1}^{n} x_i}{\\theta^2}\n",
    "$$\n",
    "\n",
    "Portanto, temos que a $E[\\frac{\\partial^2 log f(\\mathbf{x} | \\theta)}{\\partial^2 \\theta} | \\theta]$ é dada por:\n",
    "\n",
    "$$\n",
    "E[\\frac{\\partial^2 log f(\\mathbf{x} | \\theta)}{\\partial^2 \\theta} | \\theta] = E[- \\frac{\\sum_{i=1}^{n} x_i}{\\theta^2} | \\theta] = - \\frac{n\\theta}{\\theta^2} = - \\frac{n}{\\theta}\n",
    "$$\n",
    "\n",
    "Logo, a informação de Fisher $I_F(\\theta)$ é dada por:\n",
    "\n",
    "$$\n",
    "I_F(\\theta) = - E[\\frac{\\partial^2 log f(\\mathbf{x} | \\theta)}{\\partial^2 \\theta} | \\theta] = \\frac{n}{\\theta}\n",
    "$$\n",
    "\n",
    "Assim, temos que a $p(\\theta)$, com a indicadora de $\\theta > 0$ é definida como:\n",
    "\n",
    "$$\n",
    "p(\\theta) = \\sqrt{I_F(\\theta)} = \\sqrt{\\frac{n}{\\theta}} \\propto \\sqrt{\\frac{1}{\\theta}} = \\theta^{-\\frac{1}{2}} I_{\\theta > 0}\n",
    "$$\n",
    "\n",
    "Uma vez que temos $p(\\theta)$, obtemos a posteriori de $\\theta$ usando a expressão:\n",
    "\n",
    "$$\n",
    "p(\\theta | \\mathbf{x}) = f(\\mathbf{x} | \\theta) p(\\theta) = (\\prod_{i=1}^{n} \\frac{\\theta^{x_i} e^{-\\theta}}{x_i !}) \\theta^{-\\frac{1}{2}} = \\theta^{\\sum_{i=1}^{n} x_i - \\frac{1}{2}} e^{-n \\theta} I_{\\theta > 0}\n",
    "$$\n",
    "\n",
    "É conveniente ajustar $p(\\theta | \\mathbf{x})$ à uma distribuição conhecida. Somando -1 + 1 ao expoente o termo $ \\theta^{\\sum_{i=1}^{n} x_i - \\frac{1}{2}}$, temos o núcleo de uma Gamma($\\alpha, \\beta$)\n",
    "\n",
    "$$\n",
    "p(\\theta | \\mathbf{x}) = \\theta^{\\sum_{i=1}^{n} x_i - \\frac{1}{2} -1 +1} e^{-n \\theta} = \\theta^{\\sum_{i=1}^{n} x_i + \\frac{1}{2} -1} e^{-n \\theta} \\sim Gamma(\\sum_{i=1}^{n} x_i + \\frac{1}{2}, n)\n",
    "$$"
   ]
  },
  {
   "attachments": {},
   "cell_type": "markdown",
   "metadata": {},
   "source": [
    "### b. média, variância, mediana e moda a posteriori de $\\theta$\n",
    "\n",
    "Como $p(\\theta | \\mathbf{x}) \\sim Gamma(\\sum_{i=1}^{n} x_i + \\frac{1}{2}, n)$, temos:\n",
    "\n",
    "$$\n",
    "média_{\\theta} = \\frac{\\alpha}{\\beta} = \\frac{\\sum_{i=1}^{n} x_i + \\frac{1}{2}}{n} = \\bar{x} + \\frac{1}{2n} \\\\\n",
    "\n",
    "variância_{\\theta} = \\frac{\\alpha}{\\beta^2} = \\frac{\\sum_{i=1}^{n} x_i + \\frac{1}{2}}{n^2} \\\\\n",
    "\n",
    "moda_{\\theta} =\n",
    "\\begin{cases}\n",
    "    \\frac{\\alpha - 1}{\\beta} = \\frac{\\sum_{i=1}^{n} x_i + \\frac{1}{2} - 1}{n} = \\frac{\\sum_{i=1}^{n} x_i - \\frac{1}{2}}{n} = \\bar{x} - \\frac{1}{2n},& \\text{se } \\alpha \\geq 1 \\\\\n",
    "    0,& \\text{se } \\alpha < 1\n",
    "\\end{cases}\n",
    "$$"
   ]
  },
  {
   "attachments": {},
   "cell_type": "markdown",
   "metadata": {},
   "source": [
    "### c. Demonstrar que preditiva a priori de $X$ é uma Binomial Negativa\n",
    "\n",
    "Seja $p(x_{novo} | \\mathbf{x_{observado}}) = \\int_{-\\infty}^{\\infty} f(x_{novo} | \\theta) . p(\\theta | \\mathbf{x_{observado}}) d\\theta$ e $\\theta \\geq 0$, temos:\n",
    "\n",
    "$$\n",
    "p(x_{novo} | \\mathbf{x_{observado}}) = \\int_{0}^{\\infty} \\frac{\\theta^{x_{novo}} e^{-\\theta}}{x_{novo} !} \\frac{\\beta^{\\alpha} \\theta^{\\alpha - 1} e^{- \\beta \\theta}}{\\Gamma(\\alpha)} d\\theta\n",
    "$$\n",
    "\n",
    "Movendo as constantes para fora da integral e somando os expoentes de mesma base, temos:\n",
    "\n",
    "$$\n",
    "p(x_{novo} | \\mathbf{x_{observado}}) = \\frac{\\beta^{\\alpha}}{x_{novo} ! \\Gamma(\\alpha)} \\int_{0}^{\\infty} \\theta^{x_{novo} + \\alpha - 1} e^{-(\\beta + 1)\\theta} d\\theta\n",
    "$$\n",
    "\n",
    "Pela dificuldade da integral e tendo em vista o objetivo de demonstrar que a distribuição segue uma binomial negativa, multiplicamos a integral por:\n",
    "\n",
    "$$\n",
    "p(x_{novo} | \\mathbf{x_{observado}}) = \\frac{\\beta^{\\alpha}}{x_{novo} ! \\Gamma(\\alpha)} \\int_{0}^{\\infty} \\theta^{x_{novo} + \\alpha - 1} e^{-(\\beta + 1)\\theta} [\\frac{(\\beta + 1)^{x_{novo} + \\alpha} \\Gamma(x_{novo} + \\alpha) }{(\\beta + 1)^{x_{novo} + \\alpha} \\Gamma(x_{novo} + \\alpha) }] d\\theta \n",
    "$$\n",
    "\n",
    "Reorganizando os termos, temos:\n",
    "\n",
    "$$\n",
    "p(x_{novo} | \\mathbf{x_{observado}}) = \\frac{\\beta^{\\alpha}}{x_{novo} ! \\Gamma(\\alpha)} \\frac{\\Gamma(x_{novo} + \\alpha)}{(\\beta + 1)^{x_{novo} + \\alpha}} \\int_{0}^{\\infty} \\frac{\\theta^{x_{novo} + \\alpha - 1} e^{-(\\beta + 1)\\theta} (\\beta + 1)^{x_{novo} + \\alpha}}{\\Gamma(x_{novo} + \\alpha)} d \\theta\n",
    "$$\n",
    "\n",
    "Nota-se que a integral acima é a função densidade acumulada de uma Gamma($x_{novo} + \\alpha$,$\\beta + 1$), logo a integração é igual a 1. Portanto:\n",
    "\n",
    "$$\n",
    "p(x_{novo} | \\mathbf{x_{observado}}) = \\frac{\\beta^{\\alpha}}{x_{novo} ! \\Gamma(\\alpha)} \\frac{\\Gamma(x_{novo} + \\alpha)}{(\\beta + 1)^{x_{novo} + \\alpha}}\n",
    "$$\n",
    "\n",
    "Reorganizando os termos como o núcleo de uma Binomial Negativa e sabendo que para positivos inteiros $\\Gamma(\\alpha) = (\\alpha - 1)!$ temos:\n",
    "\n",
    "$$\n",
    "p(x_{novo} | \\mathbf{x_{observado}}) = \\frac{\\beta^{\\alpha} (x_{novo} + \\alpha - 1)!}{(x_{novo})! (\\alpha - 1)! (\\beta + 1)^{x_{novo} + \\alpha}}\n",
    "$$\n",
    "\n",
    "Reescrevendo como combinatório e separando a soma do expoentes de $(\\beta + 1)$, temos:\n",
    "\n",
    "$$\n",
    "p(x_{novo} | \\mathbf{x_{observado}}) = \\binom{x_{novo} + \\alpha - 1}{\\alpha} \\frac{\\beta^{\\alpha}}{(\\beta + 1)^{x_{novo}} (\\beta + 1)^{\\alpha}} = \\binom{x_{novo} + \\alpha - 1}{\\alpha} (\\frac{\\beta}{\\beta + 1})^{\\alpha} (\\frac{1}{\\beta + 1})^{x_{novo}}\n",
    "$$\n",
    "\n",
    "Do item **a**, temos que $\\alpha = \\sum_{i=1}^{n} x_i + \\frac{1}{2}$ e $\\beta = n$, assim, substituindo novamente na expressão acima, temos:\n",
    "\n",
    "$$\n",
    "p(x_{novo} | \\mathbf{x_{observado}}) =  \\binom{x_{novo} + \\sum_{i=1}^{n} x_i + \\frac{1}{2} - 1}{\\sum_{i=1}^{n} x_i + \\frac{1}{2}} (\\frac{n}{n + 1})^{\\sum_{i=1}^{n} x_i + \\frac{1}{2}} (\\frac{1}{n + 1})^{x_{novo}}\n",
    "$$\n",
    "\n",
    "Enfim, temos que:\n",
    "\n",
    "$$\n",
    "p(x_{novo} | \\mathbf{x_{observado}}) = \\binom{x_{novo} + \\sum_{i=1}^{n} x_i + \\frac{1}{2} - 1}{\\sum_{i=1}^{n} x_i + \\frac{1}{2}} (1 - \\frac{1}{n + 1})^{\\sum_{i=1}^{n} x_i + \\frac{1}{2}} (\\frac{1}{n + 1})^{x_{novo}} \\sim NB(\\sum_{i=1}^{n} x_i + \\frac{1}{2}, \\frac{1}{n + 1})\n",
    "$$"
   ]
  },
  {
   "attachments": {},
   "cell_type": "markdown",
   "metadata": {},
   "source": [
    "## Ex 2\n",
    "\n",
    "a. \n",
    "\n",
    "$$\n",
    "L(\\theta, a) = \n",
    "\\begin{cases}\n",
    "    (a - \\theta),& \\text{se }  a > \\theta \\\\\n",
    "    3(\\theta - a),& \\text{se } a < \\theta \\\\ \n",
    "\\end{cases}\n",
    "$$\n",
    "\n",
    "b. Como $\\theta$ é escalar e contínuo e a função de perda é linear, temos a seguinte configuração:\n",
    "\n",
    "$$\n",
    "L(\\theta, a) = \n",
    "\\begin{cases}\n",
    "    c_1(a - \\theta),& \\text{se }  a > \\theta \\\\\n",
    "    c_2(\\theta - a),& \\text{se } a < \\theta \\\\ \n",
    "\\end{cases}\n",
    "$$\n",
    "\n",
    "Onde $c_1 = 1$ e $c_2 = 3$. Assim, a função encontrada é uma função de perda de quantil e portanto:\n",
    "\n",
    "$$\n",
    "P(\\theta \\leq \\theta^*) = \\frac{c_1}{c_1 + c_2} = \\frac{1}{1 + 3} = \\frac{1}{4}\n",
    "$$\n",
    "\n",
    "\n",
    "\n"
   ]
  },
  {
   "attachments": {},
   "cell_type": "markdown",
   "metadata": {},
   "source": [
    "## Ex 3"
   ]
  },
  {
   "attachments": {},
   "cell_type": "markdown",
   "metadata": {},
   "source": [
    "Sejam $X_1, X_2,... X_n$ amostras independentes do modelo: $f(x | \\theta) = \\theta Normal(x | 2,1) + (1 - \\theta) Normal(x | 5,1), \\theta \\in (0,1)$.\n",
    "\n",
    "a. Gerar amostras de tamhno $n=1000$ considerando $\\theta = 0.7$. Fazer histograma com $breaks = sqrt(1000)$"
   ]
  },
  {
   "cell_type": "code",
   "execution_count": 105,
   "metadata": {},
   "outputs": [
    {
     "data": {
      "image/png": "[encoded data removed]",
      "text/plain": [
       "<Figure size 432x288 with 1 Axes>"
      ]
     },
     "metadata": {},
     "output_type": "display_data"
    }
   ],
   "source": [
    "from scipy.stats.distributions import norm as normal, bernoulli\n",
    "from numpy import ndarray, sqrt\n",
    "import seaborn as sns\n",
    "sns.set_theme(style=\"darkgrid\")\n",
    "\n",
    "\n",
    "n: int = 1000\n",
    "theta: float = 0.7\n",
    "\n",
    "def modelo(theta: float, numero_amostras: int = 1) -> ndarray:\n",
    "    indicadora_theta: int = bernoulli(theta).rvs(numero_amostras)\n",
    "    return indicadora_theta * normal(2, 1).rvs(numero_amostras) + (1 - indicadora_theta) * normal(5, 1).rvs(numero_amostras)\n",
    "\n",
    "amostras_modelo: ndarray = modelo(theta, n)\n",
    "\n",
    "sns.histplot(amostras_modelo, bins=int(sqrt(n)));"
   ]
  },
  {
   "attachments": {},
   "cell_type": "markdown",
   "metadata": {},
   "source": [
    "b. Ajuste um algoritmo de Metropolis-Hastings para obter uma amostra de distribuição a posteriori de $\\theta$ considerando uma distribuição a priori Uniforme(0,1) para $\\theta$. Considere uma taxa de aceitação entre 25% e 45%."
   ]
  },
  {
   "attachments": {},
   "cell_type": "markdown",
   "metadata": {},
   "source": [
    "Posteriori = Priori x Verossimilhança\n",
    "\n",
    "$p(\\theta | y) = P(\\theta) P(y | \\theta) = Uniforme(0,1) f(x | \\theta)$\n",
    "\n",
    "$r(\\theta_{novo}, \\theta_{t-1}) = \\frac{p(\\theta_{novo} | y}{p(\\theta_{t-1} | y}$\n",
    "\n"
   ]
  },
  {
   "cell_type": "code",
   "execution_count": 106,
   "metadata": {},
   "outputs": [
    {
     "data": {
      "image/png": "[encoded data removed]",
      "text/plain": [
       "<Figure size 432x288 with 1 Axes>"
      ]
     },
     "metadata": {},
     "output_type": "display_data"
    }
   ],
   "source": [
    "from numpy import array, exp, log, prod, zeros\n",
    "from scipy.stats.distributions import uniform\n",
    "\n",
    "iterações: int = 10000\n",
    "uniforme = uniform(0,1)\n",
    "\n",
    "def log_densidade_modelo(x: ndarray, theta: float) -> ndarray:\n",
    "    entradas = log(theta * normal(2, 1).pdf(x) + (1 - theta) * normal(5, 1).pdf(x))\n",
    "    return sum(entradas)\n",
    "\n",
    "def razao_thetas(x: ndarray, theta_novo: float, theta_anterior: float) -> float:\n",
    "    p_theta_novo_x = uniforme.logpdf(theta_novo) + log_densidade_modelo(x, theta_novo)\n",
    "    p_theta_anterior_x = uniforme.logpdf(theta_anterior) + log_densidade_modelo(x, theta_anterior)\n",
    "    return exp(p_theta_novo_x - p_theta_anterior_x)\n",
    "\n",
    "def aceitação(razão: float) -> float:\n",
    "    if razão >= 1:\n",
    "        return True\n",
    "    \n",
    "    return (uniforme.rvs(1) < razão)\n",
    "\n",
    "def metropolis_hastings(numero_iterações: int, amostras: ndarray) -> ndarray:\n",
    "    theta_anterior = 0.5\n",
    "    amostra_posteriori = []\n",
    "    \n",
    "    for i in range(0, numero_iterações):\n",
    "\n",
    "        theta_novo = normal.rvs(theta_anterior, scale=1, size=1)[0]\n",
    "        if theta_novo < 0 or theta_novo > 1:\n",
    "            amostra_posteriori.append(theta_anterior)\n",
    "            continue\n",
    "        \n",
    "        razão = razao_thetas(amostras, theta_novo, theta_anterior)\n",
    "        if aceitação(razão):\n",
    "            amostra_posteriori.append(theta_novo)\n",
    "            theta_anterior = theta_novo\n",
    "        else:\n",
    "            amostra_posteriori.append(theta_anterior)\n",
    "    \n",
    "    return array(amostra_posteriori).ravel()\n",
    "\n",
    "\n",
    "posteriori_theta = metropolis_hastings(iterações, amostras_modelo)\n",
    "sns.histplot(data=posteriori_theta);"
   ]
  },
  {
   "cell_type": "code",
   "execution_count": 107,
   "metadata": {},
   "outputs": [
    {
     "data": {
      "image/png": "[encoded data removed]",
      "text/plain": [
       "<Figure size 432x288 with 1 Axes>"
      ]
     },
     "metadata": {},
     "output_type": "display_data"
    }
   ],
   "source": [
    "sns.lineplot(data=posteriori_theta[100:]);"
   ]
  },
  {
   "attachments": {},
   "cell_type": "markdown",
   "metadata": {},
   "source": [
    "c. Perdas quadráticas e absolutas"
   ]
  },
  {
   "cell_type": "code",
   "execution_count": 108,
   "metadata": {},
   "outputs": [
    {
     "data": {
      "text/plain": [
       "0.0005345309707162186"
      ]
     },
     "execution_count": 108,
     "metadata": {},
     "output_type": "execute_result"
    }
   ],
   "source": [
    "from numpy import repeat\n",
    "from sklearn.metrics import mean_squared_error, mean_absolute_error\n",
    "\n",
    "\n",
    "amostra_theta = posteriori_theta[100:] # remove burnin\n",
    "repetições_theta_verdadeiro = repeat(theta, len(amostra_theta))\n",
    "\n",
    "perdas_quadráticas = mean_squared_error(repetições_theta_verdadeiro, amostra_theta)\n",
    "\n",
    "perdas_quadráticas"
   ]
  },
  {
   "cell_type": "code",
   "execution_count": 109,
   "metadata": {},
   "outputs": [
    {
     "data": {
      "text/plain": [
       "0.019627990792330775"
      ]
     },
     "execution_count": 109,
     "metadata": {},
     "output_type": "execute_result"
    }
   ],
   "source": [
    "perdas_absolutas = mean_absolute_error(repetições_theta_verdadeiro, amostra_theta)\n",
    "\n",
    "perdas_absolutas"
   ]
  }
 ],
 "metadata": {
  "kernelspec": {
   "display_name": "Python 3.10.6 ('venv': venv)",
   "language": "python",
   "name": "python3"
  },
  "language_info": {
   "codemirror_mode": {
    "name": "ipython",
    "version": 3
   },
   "file_extension": ".py",
   "mimetype": "text/x-python",
   "name": "python",
   "nbconvert_exporter": "python",
   "pygments_lexer": "ipython3",
   "version": "3.10.6"
  },
  "orig_nbformat": 4,
  "vscode": {
   "interpreter": {
    "hash": "e223704966a4bc8cb9d2ce4935cbcfcd7bcb00b5cf6d71d65040fd88614c9b9d"
   }
  }
 },
 "nbformat": 4,
 "nbformat_minor": 2
}
