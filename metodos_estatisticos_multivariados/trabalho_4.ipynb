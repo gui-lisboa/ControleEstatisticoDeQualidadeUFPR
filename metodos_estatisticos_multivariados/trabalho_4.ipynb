{
 "cells": [
  {
   "cell_type": "markdown",
   "metadata": {},
   "source": [
    "# Trabalho No. 4\n",
    "\n",
    "- Aluno: Guilherme Lisboa de Oliveira (GRR20170414)"
   ]
  },
  {
   "cell_type": "markdown",
   "metadata": {},
   "source": [
    "```{admonition} Questões\n",
    "\n",
    "Escrever um relatório com as respostas das questões.\n",
    "\n",
    "```"
   ]
  },
  {
   "cell_type": "markdown",
   "metadata": {},
   "source": [
    "A análise discriminante é um problema de classificação, onde dois ou mais grupos ou agrupamentos ou populações são conhecidos a priori e uma ou mais novas observações são classificadas em uma das populações conhecidas com base nas características medidas.\n",
    "\n",
    "Dados de Insetos. Os dados foram coletados em duas espécies de insetos do gênero Chaetocnema, (a) concinna e (b) heikertlingeri. Variável **V1**.\n",
    "\n",
    "Três variáveis foram medidas em cada inseto:\n",
    "\n",
    "- **V2** largura da 1ª articulação do tarso (pernas)\n",
    "- **V3** largura da 2ª articulação do tarso\n",
    "- **V4** largura do edeago (órgão reprodutor)\n",
    "\n",
    "Nosso objetivo é obter uma regra de classificação para identificar as espécies de insetos com base nessas três variáveis. Um entomologista pode identificar essas duas espécies intimamente relacionadas, mas as diferenças são tão sutis que é preciso ter uma experiência considerável para poder dizer a diferença. Se uma regra de classificação puder ser desenvolvida, essa pode ser uma maneira mais precisa de ajudar a diferenciar essas duas espécies diferentes."
   ]
  },
  {
   "cell_type": "markdown",
   "metadata": {},
   "source": [
    "Importando os dados e definindo a coluna **V1** como categórica, temos:"
   ]
  },
  {
   "cell_type": "code",
   "execution_count": 206,
   "metadata": {},
   "outputs": [
    {
     "data": {
      "text/html": [
       "<div>\n",
       "<style scoped>\n",
       "    .dataframe tbody tr th:only-of-type {\n",
       "        vertical-align: middle;\n",
       "    }\n",
       "\n",
       "    .dataframe tbody tr th {\n",
       "        vertical-align: top;\n",
       "    }\n",
       "\n",
       "    .dataframe thead th {\n",
       "        text-align: right;\n",
       "    }\n",
       "</style>\n",
       "<table border=\"1\" class=\"dataframe\">\n",
       "  <thead>\n",
       "    <tr style=\"text-align: right;\">\n",
       "      <th></th>\n",
       "      <th>V1</th>\n",
       "      <th>V2</th>\n",
       "      <th>V3</th>\n",
       "      <th>V4</th>\n",
       "    </tr>\n",
       "  </thead>\n",
       "  <tbody>\n",
       "    <tr>\n",
       "      <th>7</th>\n",
       "      <td>a</td>\n",
       "      <td>188</td>\n",
       "      <td>134</td>\n",
       "      <td>54</td>\n",
       "    </tr>\n",
       "    <tr>\n",
       "      <th>16</th>\n",
       "      <td>b</td>\n",
       "      <td>211</td>\n",
       "      <td>118</td>\n",
       "      <td>51</td>\n",
       "    </tr>\n",
       "    <tr>\n",
       "      <th>11</th>\n",
       "      <td>b</td>\n",
       "      <td>186</td>\n",
       "      <td>107</td>\n",
       "      <td>49</td>\n",
       "    </tr>\n",
       "    <tr>\n",
       "      <th>12</th>\n",
       "      <td>b</td>\n",
       "      <td>211</td>\n",
       "      <td>122</td>\n",
       "      <td>49</td>\n",
       "    </tr>\n",
       "    <tr>\n",
       "      <th>17</th>\n",
       "      <td>b</td>\n",
       "      <td>217</td>\n",
       "      <td>122</td>\n",
       "      <td>49</td>\n",
       "    </tr>\n",
       "  </tbody>\n",
       "</table>\n",
       "</div>"
      ],
      "text/plain": [
       "   V1   V2   V3  V4\n",
       "7   a  188  134  54\n",
       "16  b  211  118  51\n",
       "11  b  186  107  49\n",
       "12  b  211  122  49\n",
       "17  b  217  122  49"
      ]
     },
     "execution_count": 206,
     "metadata": {},
     "output_type": "execute_result"
    }
   ],
   "source": [
    "import pandas as pd\n",
    "\n",
    "insetos = pd.read_table('./dados/insects.txt', sep=\" \")\n",
    "insetos.V1 = insetos.V1.astype('category')\n",
    "\n",
    "insetos.sample(5)"
   ]
  },
  {
   "cell_type": "markdown",
   "metadata": {},
   "source": [
    "Construindo o modelo, temos:"
   ]
  },
  {
   "cell_type": "code",
   "execution_count": 207,
   "metadata": {},
   "outputs": [],
   "source": [
    "from sklearn.discriminant_analysis import LinearDiscriminantAnalysis\n",
    "\n",
    "modelo = LinearDiscriminantAnalysis()\n",
    "\n",
    "X = insetos.iloc[:,1:4]\n",
    "ajuste = modelo.fit_transform(X=X, y=insetos.V1)"
   ]
  },
  {
   "cell_type": "markdown",
   "metadata": {},
   "source": [
    "Avaliando a acurácia do modelo:"
   ]
  },
  {
   "cell_type": "code",
   "execution_count": 208,
   "metadata": {},
   "outputs": [
    {
     "data": {
      "text/plain": [
       "0.91"
      ]
     },
     "execution_count": 208,
     "metadata": {},
     "output_type": "execute_result"
    }
   ],
   "source": [
    "import numpy as np\n",
    "from sklearn.model_selection import RepeatedStratifiedKFold\n",
    "from sklearn.model_selection import cross_val_score\n",
    "\n",
    "validação_cruzada = RepeatedStratifiedKFold()\n",
    "\n",
    "scores = cross_val_score(modelo, X, insetos.V1, scoring='accuracy', cv=validação_cruzada, n_jobs=-1)\n",
    "np.mean(scores)"
   ]
  },
  {
   "cell_type": "markdown",
   "metadata": {},
   "source": [
    "A análise de correlação canônica é um método para explorar as relações entre dois conjuntos multivariados de variáveis (vetores), todos medidos no mesmo indivíduo.\n",
    "\n",
    "Considere um grupo de representantes de vendas, no qual registramos várias variáveis de desempenho de vendas juntamente com várias medidas de aptidão intelectual e criativa. Podemos querer explorar as relações entre as variáveis de desempenho de vendas e as variáveis de aptidão.\n",
    "\n",
    "Uma abordagem para estudar as relações entre os dois conjuntos de variáveis é usar a análise de correlação canônica que descreve a relação entre o primeiro conjunto de variáveis e o segundo conjunto de variáveis. Não pensamos necessariamente em um conjunto de variáveis como independente e o outro como dependente, embora essa possa ser uma outra abordagem.\n",
    "\n",
    "Os dados neste caso vêm de uma empresa que pesquisou uma amostra aleatória de (n = 50) de seus funcionários na tentativa de determinar quais fatores influenciam o desempenho de vendas. Duas coleções de variáveis foram medidas:\n",
    "\n",
    "Performance de vendas:\n",
    "\n",
    "- **V1** crescimento das vendas\n",
    "- **V2** rentabilidade das vendas\n",
    "- **V3** vendas de novas contas\n",
    "\n",
    "Pontuações de testes como medida de inteligência:\n",
    "\n",
    "- **V4** criatividade\n",
    "- **V5** raciocínio mecânico\n",
    "- **V6** raciocínio abstrato\n",
    "- **V7** matemática\n",
    "\n",
    "Existem (p = 3) variáveis no primeiro grupo relacionadas ao desempenho de vendas e (q = 4) variáveis no segundo grupo relacionadas aos resultados dos testes."
   ]
  },
  {
   "cell_type": "code",
   "execution_count": 209,
   "metadata": {},
   "outputs": [
    {
     "data": {
      "text/html": [
       "<div>\n",
       "<style scoped>\n",
       "    .dataframe tbody tr th:only-of-type {\n",
       "        vertical-align: middle;\n",
       "    }\n",
       "\n",
       "    .dataframe tbody tr th {\n",
       "        vertical-align: top;\n",
       "    }\n",
       "\n",
       "    .dataframe thead th {\n",
       "        text-align: right;\n",
       "    }\n",
       "</style>\n",
       "<table border=\"1\" class=\"dataframe\">\n",
       "  <thead>\n",
       "    <tr style=\"text-align: right;\">\n",
       "      <th></th>\n",
       "      <th>V1</th>\n",
       "      <th>V2</th>\n",
       "      <th>V3</th>\n",
       "      <th>V4</th>\n",
       "      <th>V5</th>\n",
       "      <th>V6</th>\n",
       "      <th>V7</th>\n",
       "    </tr>\n",
       "  </thead>\n",
       "  <tbody>\n",
       "    <tr>\n",
       "      <th>22</th>\n",
       "      <td>99.3</td>\n",
       "      <td>115.0</td>\n",
       "      <td>104.3</td>\n",
       "      <td>5</td>\n",
       "      <td>11</td>\n",
       "      <td>11</td>\n",
       "      <td>42</td>\n",
       "    </tr>\n",
       "    <tr>\n",
       "      <th>39</th>\n",
       "      <td>108.3</td>\n",
       "      <td>122.3</td>\n",
       "      <td>108.5</td>\n",
       "      <td>15</td>\n",
       "      <td>19</td>\n",
       "      <td>12</td>\n",
       "      <td>41</td>\n",
       "    </tr>\n",
       "    <tr>\n",
       "      <th>15</th>\n",
       "      <td>100.0</td>\n",
       "      <td>107.0</td>\n",
       "      <td>102.8</td>\n",
       "      <td>13</td>\n",
       "      <td>10</td>\n",
       "      <td>8</td>\n",
       "      <td>34</td>\n",
       "    </tr>\n",
       "    <tr>\n",
       "      <th>7</th>\n",
       "      <td>95.5</td>\n",
       "      <td>99.5</td>\n",
       "      <td>99.0</td>\n",
       "      <td>9</td>\n",
       "      <td>12</td>\n",
       "      <td>9</td>\n",
       "      <td>25</td>\n",
       "    </tr>\n",
       "    <tr>\n",
       "      <th>27</th>\n",
       "      <td>106.8</td>\n",
       "      <td>118.0</td>\n",
       "      <td>107.3</td>\n",
       "      <td>14</td>\n",
       "      <td>16</td>\n",
       "      <td>12</td>\n",
       "      <td>39</td>\n",
       "    </tr>\n",
       "  </tbody>\n",
       "</table>\n",
       "</div>"
      ],
      "text/plain": [
       "       V1     V2     V3  V4  V5  V6  V7\n",
       "22   99.3  115.0  104.3   5  11  11  42\n",
       "39  108.3  122.3  108.5  15  19  12  41\n",
       "15  100.0  107.0  102.8  13  10   8  34\n",
       "7    95.5   99.5   99.0   9  12   9  25\n",
       "27  106.8  118.0  107.3  14  16  12  39"
      ]
     },
     "execution_count": 209,
     "metadata": {},
     "output_type": "execute_result"
    }
   ],
   "source": [
    "import pandas as pd\n",
    "\n",
    "vendas = pd.read_table('./dados/sales.txt', sep=\" \")\n",
    "\n",
    "vendas.sample(5)"
   ]
  },
  {
   "cell_type": "code",
   "execution_count": 210,
   "metadata": {},
   "outputs": [
    {
     "data": {
      "text/plain": [
       "CCA()"
      ]
     },
     "execution_count": 210,
     "metadata": {},
     "output_type": "execute_result"
    }
   ],
   "source": [
    "from sklearn.cross_decomposition import CCA\n",
    "\n",
    "colunas_performance = ['V1', 'V2', 'V3']\n",
    "colunas_testes = ['V4', 'V5', 'V6', 'V7']\n",
    "\n",
    "X = vendas[colunas_testes]\n",
    "Y = vendas[colunas_performance]\n",
    "\n",
    "modelo = CCA()\n",
    "modelo.fit(X, Y)"
   ]
  }
 ],
 "metadata": {
  "kernelspec": {
   "display_name": "Python 3.10.6 ('venv': venv)",
   "language": "python",
   "name": "python3"
  },
  "language_info": {
   "codemirror_mode": {
    "name": "ipython",
    "version": 3
   },
   "file_extension": ".py",
   "mimetype": "text/x-python",
   "name": "python",
   "nbconvert_exporter": "python",
   "pygments_lexer": "ipython3",
   "version": "3.10.6"
  },
  "orig_nbformat": 4,
  "vscode": {
   "interpreter": {
    "hash": "e223704966a4bc8cb9d2ce4935cbcfcd7bcb00b5cf6d71d65040fd88614c9b9d"
   }
  }
 },
 "nbformat": 4,
 "nbformat_minor": 2
}
